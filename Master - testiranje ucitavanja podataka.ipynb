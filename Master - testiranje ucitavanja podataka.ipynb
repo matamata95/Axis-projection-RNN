{
 "cells": [
  {
   "cell_type": "code",
   "execution_count": 1,
   "id": "6db05d81",
   "metadata": {},
   "outputs": [],
   "source": [
    "from sklearn import model_selection\n",
    "from sklearn import preprocessing\n",
    "from sklearn import linear_model\n",
    "from sklearn import metrics"
   ]
  },
  {
   "cell_type": "code",
   "execution_count": 2,
   "id": "6ebe99d5",
   "metadata": {},
   "outputs": [
    {
     "name": "stdout",
     "output_type": "stream",
     "text": [
      "WARNING:tensorflow:From D:\\Users\\mata2\\anaconda3\\Lib\\site-packages\\keras\\src\\losses.py:2976: The name tf.losses.sparse_softmax_cross_entropy is deprecated. Please use tf.compat.v1.losses.sparse_softmax_cross_entropy instead.\n",
      "\n"
     ]
    }
   ],
   "source": [
    "import numpy as np\n",
    "import pandas as pd\n",
    "from sklearn.model_selection import train_test_split\n",
    "from tensorflow.keras.models import Sequential\n",
    "from tensorflow.keras.layers import Dense, SimpleRNN, RNN, LSTM, GRU, SpatialDropout1D"
   ]
  },
  {
   "cell_type": "code",
   "execution_count": 3,
   "id": "1c44c91f",
   "metadata": {},
   "outputs": [],
   "source": [
    "import re\n",
    "import math\n",
    "from sklearn.metrics import mean_squared_error\n",
    "from sklearn.preprocessing import MinMaxScaler"
   ]
  },
  {
   "cell_type": "code",
   "execution_count": 4,
   "id": "75f0be5b",
   "metadata": {},
   "outputs": [],
   "source": [
    "import matplotlib.pyplot as plt"
   ]
  },
  {
   "cell_type": "code",
   "execution_count": 5,
   "id": "21dc6da8",
   "metadata": {},
   "outputs": [],
   "source": [
    "import os, os.path, sys"
   ]
  },
  {
   "cell_type": "markdown",
   "id": "3566cc9d",
   "metadata": {},
   "source": [
    "Pravljenje Srednje vrednosti svih putanja. Napravljena je putanja ka direktorijumu koji sadrzi podatke za X-osu bez desinhronizacije, gde je potom iterirano kroz direktorijum i pokupljene su sve informacije iz adekvatnih txt fajlova"
   ]
  },
  {
   "cell_type": "code",
   "execution_count": 6,
   "id": "f8d678cf",
   "metadata": {},
   "outputs": [],
   "source": [
    "path = r\"podaci\\0k\\X\""
   ]
  },
  {
   "cell_type": "code",
   "execution_count": 7,
   "id": "43cd7520",
   "metadata": {},
   "outputs": [],
   "source": [
    "dir = os.listdir(path)"
   ]
  },
  {
   "cell_type": "code",
   "execution_count": 8,
   "id": "a7b60643",
   "metadata": {},
   "outputs": [],
   "source": [
    "# Inicijalizacija liste koja ce da sadrzi srednje vrednosti putanja\n",
    "x_koord_average = [0 for i in range(61000)]\n",
    "\n",
    "#iteriramo kroz sve fajlove u direktorijumu\n",
    "for file in dir:\n",
    "    #pravimo putanju za sve fajlove\n",
    "    new_path = path + '\\\\' + file\n",
    "    f = open(new_path, 'r', encoding='utf-8')\n",
    "    temp_koordinate = f.readlines()\n",
    "    f.close()\n",
    "    \n",
    "    #cuvamo prvih 61000 podataka\n",
    "    temp_x_koord = temp_koordinate[0:61000]\n",
    "    \n",
    "    #skidamo \\n new linove\n",
    "    for i in range(len(temp_x_koord)):\n",
    "        temp_x_koord[i] = temp_x_koord[i].strip('\\n')\n",
    "    \n",
    "    #prebacujemo elemente liste u int\n",
    "    temp_x_koord = [int(x) for x in temp_x_koord]\n",
    "    \n",
    "    #vrsimo po-kordinatno sumiranje elemenata listi\n",
    "    for i in range(len(temp_x_koord)):\n",
    "        x_koord_average[i] = x_koord_average[i] + temp_x_koord[i]        "
   ]
  },
  {
   "cell_type": "markdown",
   "id": "49734c8c",
   "metadata": {},
   "source": [
    "Napravljena je lista sumiranih svih putanja po X-osi, koju potom delimo sa brojem putanja"
   ]
  },
  {
   "cell_type": "code",
   "execution_count": 24,
   "id": "5b4085b1",
   "metadata": {},
   "outputs": [],
   "source": [
    "divisor = len(dir)\n",
    "x_koord_average = [round(x/divisor) for x in x_koord_average]"
   ]
  },
  {
   "cell_type": "markdown",
   "id": "76e4ae0b",
   "metadata": {},
   "source": [
    "Napravljen je pandas DataFrame gde su atributi zasebno pokrenute putanje, dok ce ciljna promenljiva da bude srednja vrednost svih putanja"
   ]
  },
  {
   "cell_type": "code",
   "execution_count": 10,
   "id": "88795fa1",
   "metadata": {},
   "outputs": [],
   "source": [
    "file_names = []\n",
    "for file in dir:\n",
    "    file_names.append(file)"
   ]
  },
  {
   "cell_type": "code",
   "execution_count": 109,
   "id": "aa1b4401",
   "metadata": {},
   "outputs": [],
   "source": [
    "main_df = pd.DataFrame()\n",
    "for file in file_names:\n",
    "    new_path = path + '\\\\' + file\n",
    "    main_df[file] = pd.read_csv(new_path,names = ['X osa'])"
   ]
  },
  {
   "cell_type": "code",
   "execution_count": 89,
   "id": "eed700d6",
   "metadata": {},
   "outputs": [],
   "source": [
    "df = pd.read_fwf(r\"podaci\\0k\\X\\x-0k_v1.txt\",names = ['X osa'])"
   ]
  },
  {
   "cell_type": "code",
   "execution_count": 91,
   "id": "2492ab85",
   "metadata": {},
   "outputs": [
    {
     "data": {
      "text/plain": [
       "8520"
      ]
     },
     "execution_count": 91,
     "metadata": {},
     "output_type": "execute_result"
    }
   ],
   "source": [
    "df['X osa'][6499]"
   ]
  },
  {
   "cell_type": "code",
   "execution_count": 107,
   "id": "af336772",
   "metadata": {},
   "outputs": [],
   "source": [
    "df = pd.read_csv(r\"test podataka.txt\",names = ['X osa'])"
   ]
  },
  {
   "cell_type": "code",
   "execution_count": 108,
   "id": "26ade16f",
   "metadata": {},
   "outputs": [
    {
     "data": {
      "text/plain": [
       "902222"
      ]
     },
     "execution_count": 108,
     "metadata": {},
     "output_type": "execute_result"
    }
   ],
   "source": [
    "df['X osa'][20000]"
   ]
  },
  {
   "cell_type": "code",
   "execution_count": 21,
   "id": "e4ffb661",
   "metadata": {},
   "outputs": [],
   "source": [
    "main_df = main_df[0:61000]"
   ]
  },
  {
   "cell_type": "code",
   "execution_count": 14,
   "id": "3fe99599",
   "metadata": {},
   "outputs": [],
   "source": [
    "#main_df = main_df.astype('int')"
   ]
  },
  {
   "cell_type": "code",
   "execution_count": 110,
   "id": "504c8342",
   "metadata": {},
   "outputs": [
    {
     "data": {
      "text/html": [
       "<div>\n",
       "<style scoped>\n",
       "    .dataframe tbody tr th:only-of-type {\n",
       "        vertical-align: middle;\n",
       "    }\n",
       "\n",
       "    .dataframe tbody tr th {\n",
       "        vertical-align: top;\n",
       "    }\n",
       "\n",
       "    .dataframe thead th {\n",
       "        text-align: right;\n",
       "    }\n",
       "</style>\n",
       "<table border=\"1\" class=\"dataframe\">\n",
       "  <thead>\n",
       "    <tr style=\"text-align: right;\">\n",
       "      <th></th>\n",
       "      <th>x-0k_v1.txt</th>\n",
       "      <th>x-0k_v10.txt</th>\n",
       "      <th>x-0k_v11.txt</th>\n",
       "      <th>x-0k_v12.txt</th>\n",
       "      <th>x-0k_v13.txt</th>\n",
       "      <th>x-0k_v14.txt</th>\n",
       "      <th>x-0k_v15.txt</th>\n",
       "      <th>x-0k_v16.txt</th>\n",
       "      <th>x-0k_v17.txt</th>\n",
       "      <th>x-0k_v18.txt</th>\n",
       "      <th>...</th>\n",
       "      <th>x-0k_v28.txt</th>\n",
       "      <th>x-0k_v29.txt</th>\n",
       "      <th>x-0k_v3.txt</th>\n",
       "      <th>x-0k_v30.txt</th>\n",
       "      <th>x-0k_v4.txt</th>\n",
       "      <th>x-0k_v5.txt</th>\n",
       "      <th>x-0k_v6.txt</th>\n",
       "      <th>x-0k_v7.txt</th>\n",
       "      <th>x-0k_v8.txt</th>\n",
       "      <th>x-0k_v9.txt</th>\n",
       "    </tr>\n",
       "  </thead>\n",
       "  <tbody>\n",
       "    <tr>\n",
       "      <th>0</th>\n",
       "      <td>0</td>\n",
       "      <td>0.0</td>\n",
       "      <td>0</td>\n",
       "      <td>0.0</td>\n",
       "      <td>-1</td>\n",
       "      <td>-1.0</td>\n",
       "      <td>0.0</td>\n",
       "      <td>0.0</td>\n",
       "      <td>0</td>\n",
       "      <td>0</td>\n",
       "      <td>...</td>\n",
       "      <td>0</td>\n",
       "      <td>0</td>\n",
       "      <td>0</td>\n",
       "      <td>0</td>\n",
       "      <td>0</td>\n",
       "      <td>0.0</td>\n",
       "      <td>0.0</td>\n",
       "      <td>0.0</td>\n",
       "      <td>0.0</td>\n",
       "      <td>0</td>\n",
       "    </tr>\n",
       "    <tr>\n",
       "      <th>1</th>\n",
       "      <td>0</td>\n",
       "      <td>0.0</td>\n",
       "      <td>0</td>\n",
       "      <td>0.0</td>\n",
       "      <td>-1</td>\n",
       "      <td>-1.0</td>\n",
       "      <td>0.0</td>\n",
       "      <td>0.0</td>\n",
       "      <td>0</td>\n",
       "      <td>0</td>\n",
       "      <td>...</td>\n",
       "      <td>0</td>\n",
       "      <td>0</td>\n",
       "      <td>0</td>\n",
       "      <td>0</td>\n",
       "      <td>0</td>\n",
       "      <td>0.0</td>\n",
       "      <td>0.0</td>\n",
       "      <td>0.0</td>\n",
       "      <td>0.0</td>\n",
       "      <td>0</td>\n",
       "    </tr>\n",
       "    <tr>\n",
       "      <th>2</th>\n",
       "      <td>0</td>\n",
       "      <td>0.0</td>\n",
       "      <td>0</td>\n",
       "      <td>0.0</td>\n",
       "      <td>-1</td>\n",
       "      <td>-1.0</td>\n",
       "      <td>0.0</td>\n",
       "      <td>0.0</td>\n",
       "      <td>0</td>\n",
       "      <td>0</td>\n",
       "      <td>...</td>\n",
       "      <td>0</td>\n",
       "      <td>0</td>\n",
       "      <td>1</td>\n",
       "      <td>1</td>\n",
       "      <td>0</td>\n",
       "      <td>0.0</td>\n",
       "      <td>1.0</td>\n",
       "      <td>0.0</td>\n",
       "      <td>1.0</td>\n",
       "      <td>0</td>\n",
       "    </tr>\n",
       "    <tr>\n",
       "      <th>3</th>\n",
       "      <td>2</td>\n",
       "      <td>2.0</td>\n",
       "      <td>0</td>\n",
       "      <td>2.0</td>\n",
       "      <td>1</td>\n",
       "      <td>1.0</td>\n",
       "      <td>1.0</td>\n",
       "      <td>2.0</td>\n",
       "      <td>1</td>\n",
       "      <td>1</td>\n",
       "      <td>...</td>\n",
       "      <td>2</td>\n",
       "      <td>2</td>\n",
       "      <td>5</td>\n",
       "      <td>5</td>\n",
       "      <td>1</td>\n",
       "      <td>1.0</td>\n",
       "      <td>5.0</td>\n",
       "      <td>1.0</td>\n",
       "      <td>5.0</td>\n",
       "      <td>4</td>\n",
       "    </tr>\n",
       "    <tr>\n",
       "      <th>4</th>\n",
       "      <td>5</td>\n",
       "      <td>5.0</td>\n",
       "      <td>2</td>\n",
       "      <td>5.0</td>\n",
       "      <td>6</td>\n",
       "      <td>5.0</td>\n",
       "      <td>5.0</td>\n",
       "      <td>6.0</td>\n",
       "      <td>5</td>\n",
       "      <td>5</td>\n",
       "      <td>...</td>\n",
       "      <td>5</td>\n",
       "      <td>4</td>\n",
       "      <td>11</td>\n",
       "      <td>11</td>\n",
       "      <td>4</td>\n",
       "      <td>4.0</td>\n",
       "      <td>11.0</td>\n",
       "      <td>4.0</td>\n",
       "      <td>11.0</td>\n",
       "      <td>11</td>\n",
       "    </tr>\n",
       "  </tbody>\n",
       "</table>\n",
       "<p>5 rows × 30 columns</p>\n",
       "</div>"
      ],
      "text/plain": [
       "   x-0k_v1.txt  x-0k_v10.txt  x-0k_v11.txt  x-0k_v12.txt  x-0k_v13.txt  \\\n",
       "0            0           0.0             0           0.0            -1   \n",
       "1            0           0.0             0           0.0            -1   \n",
       "2            0           0.0             0           0.0            -1   \n",
       "3            2           2.0             0           2.0             1   \n",
       "4            5           5.0             2           5.0             6   \n",
       "\n",
       "   x-0k_v14.txt  x-0k_v15.txt  x-0k_v16.txt  x-0k_v17.txt  x-0k_v18.txt  ...  \\\n",
       "0          -1.0           0.0           0.0             0             0  ...   \n",
       "1          -1.0           0.0           0.0             0             0  ...   \n",
       "2          -1.0           0.0           0.0             0             0  ...   \n",
       "3           1.0           1.0           2.0             1             1  ...   \n",
       "4           5.0           5.0           6.0             5             5  ...   \n",
       "\n",
       "   x-0k_v28.txt  x-0k_v29.txt  x-0k_v3.txt  x-0k_v30.txt  x-0k_v4.txt  \\\n",
       "0             0             0            0             0            0   \n",
       "1             0             0            0             0            0   \n",
       "2             0             0            1             1            0   \n",
       "3             2             2            5             5            1   \n",
       "4             5             4           11            11            4   \n",
       "\n",
       "   x-0k_v5.txt  x-0k_v6.txt  x-0k_v7.txt  x-0k_v8.txt  x-0k_v9.txt  \n",
       "0          0.0          0.0          0.0          0.0            0  \n",
       "1          0.0          0.0          0.0          0.0            0  \n",
       "2          0.0          1.0          0.0          1.0            0  \n",
       "3          1.0          5.0          1.0          5.0            4  \n",
       "4          4.0         11.0          4.0         11.0           11  \n",
       "\n",
       "[5 rows x 30 columns]"
      ]
     },
     "execution_count": 110,
     "metadata": {},
     "output_type": "execute_result"
    }
   ],
   "source": [
    "main_df.head()"
   ]
  },
  {
   "cell_type": "markdown",
   "id": "cd91fede",
   "metadata": {},
   "source": []
  },
  {
   "cell_type": "code",
   "execution_count": 111,
   "id": "4d27ce4a",
   "metadata": {},
   "outputs": [
    {
     "data": {
      "text/plain": [
       "99097"
      ]
     },
     "execution_count": 111,
     "metadata": {},
     "output_type": "execute_result"
    }
   ],
   "source": [
    "main_df['x-0k_v1.txt'][6777]"
   ]
  },
  {
   "cell_type": "code",
   "execution_count": null,
   "id": "22c0faef",
   "metadata": {},
   "outputs": [],
   "source": []
  },
  {
   "cell_type": "code",
   "execution_count": null,
   "id": "40a09ba9",
   "metadata": {},
   "outputs": [],
   "source": []
  },
  {
   "cell_type": "code",
   "execution_count": null,
   "id": "fa8a7012",
   "metadata": {},
   "outputs": [],
   "source": []
  },
  {
   "cell_type": "code",
   "execution_count": null,
   "id": "b7eacd92",
   "metadata": {},
   "outputs": [],
   "source": []
  },
  {
   "cell_type": "code",
   "execution_count": null,
   "id": "016dca24",
   "metadata": {},
   "outputs": [],
   "source": []
  },
  {
   "cell_type": "code",
   "execution_count": null,
   "id": "7b97638b",
   "metadata": {},
   "outputs": [],
   "source": []
  }
 ],
 "metadata": {
  "kernelspec": {
   "display_name": "Python 3 (ipykernel)",
   "language": "python",
   "name": "python3"
  },
  "language_info": {
   "codemirror_mode": {
    "name": "ipython",
    "version": 3
   },
   "file_extension": ".py",
   "mimetype": "text/x-python",
   "name": "python",
   "nbconvert_exporter": "python",
   "pygments_lexer": "ipython3",
   "version": "3.11.5"
  }
 },
 "nbformat": 4,
 "nbformat_minor": 5
}
