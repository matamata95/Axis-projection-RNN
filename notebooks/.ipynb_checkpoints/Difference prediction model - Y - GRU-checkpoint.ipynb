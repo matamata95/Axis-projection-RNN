{
 "cells": [
  {
   "cell_type": "code",
   "execution_count": 1,
   "id": "6ebe99d5",
   "metadata": {
    "executionInfo": {
     "elapsed": 6834,
     "status": "ok",
     "timestamp": 1710664771017,
     "user": {
      "displayName": "Matija Grulovic",
      "userId": "10099424245028057757"
     },
     "user_tz": -60
    },
    "id": "6ebe99d5"
   },
   "outputs": [
    {
     "name": "stdout",
     "output_type": "stream",
     "text": [
      "WARNING:tensorflow:From D:\\Users\\mata2\\anaconda3\\Lib\\site-packages\\keras\\src\\losses.py:2976: The name tf.losses.sparse_softmax_cross_entropy is deprecated. Please use tf.compat.v1.losses.sparse_softmax_cross_entropy instead.\n",
      "\n"
     ]
    }
   ],
   "source": [
    "import numpy as np\n",
    "import pandas as pd\n",
    "import keras\n",
    "import tensorflow as tf\n",
    "from sklearn import metrics\n",
    "from tensorflow.keras.models import Sequential\n",
    "from tensorflow.keras.models import Model\n",
    "from tensorflow.keras.layers import Dense, SimpleRNN, RNN, LSTM, GRU, SpatialDropout1D, Dropout"
   ]
  },
  {
   "cell_type": "code",
   "execution_count": 2,
   "id": "9156e9a2",
   "metadata": {},
   "outputs": [],
   "source": [
    "import matplotlib\n",
    "matplotlib.use('nbagg')\n",
    "import matplotlib.pyplot as plt\n",
    "%matplotlib tk"
   ]
  },
  {
   "cell_type": "code",
   "execution_count": 3,
   "id": "75f0be5b",
   "metadata": {
    "executionInfo": {
     "elapsed": 4,
     "status": "ok",
     "timestamp": 1710664771018,
     "user": {
      "displayName": "Matija Grulovic",
      "userId": "10099424245028057757"
     },
     "user_tz": -60
    },
    "id": "75f0be5b"
   },
   "outputs": [],
   "source": [
    "import os, os.path, sys"
   ]
  },
  {
   "cell_type": "code",
   "execution_count": 4,
   "id": "f8d678cf",
   "metadata": {
    "executionInfo": {
     "elapsed": 9,
     "status": "ok",
     "timestamp": 1710664812972,
     "user": {
      "displayName": "Matija Grulovic",
      "userId": "10099424245028057757"
     },
     "user_tz": -60
    },
    "id": "f8d678cf"
   },
   "outputs": [],
   "source": [
    "path = r\"C:\\Users\\mata2\\Desktop\\master\\podaci\\0k\\y\""
   ]
  },
  {
   "cell_type": "code",
   "execution_count": 5,
   "id": "43cd7520",
   "metadata": {
    "executionInfo": {
     "elapsed": 617,
     "status": "ok",
     "timestamp": 1710664813582,
     "user": {
      "displayName": "Matija Grulovic",
      "userId": "10099424245028057757"
     },
     "user_tz": -60
    },
    "id": "43cd7520"
   },
   "outputs": [],
   "source": [
    "dir = os.listdir(path)"
   ]
  },
  {
   "cell_type": "markdown",
   "id": "99adbe0c",
   "metadata": {},
   "source": [
    "Ucitavanje fajlova"
   ]
  },
  {
   "cell_type": "code",
   "execution_count": 6,
   "id": "88795fa1",
   "metadata": {
    "executionInfo": {
     "elapsed": 3,
     "status": "ok",
     "timestamp": 1710664816406,
     "user": {
      "displayName": "Matija Grulovic",
      "userId": "10099424245028057757"
     },
     "user_tz": -60
    },
    "id": "88795fa1"
   },
   "outputs": [],
   "source": [
    "file_names = []\n",
    "for file in dir:\n",
    "    file_names.append(file)"
   ]
  },
  {
   "cell_type": "code",
   "execution_count": 7,
   "id": "0fe53353",
   "metadata": {},
   "outputs": [],
   "source": [
    "percent_train = 0.8"
   ]
  },
  {
   "cell_type": "code",
   "execution_count": 8,
   "id": "02dbbaa6",
   "metadata": {},
   "outputs": [],
   "source": [
    "train_files_names = file_names[:int(percent_train*len(file_names))]\n",
    "test_file_names = file_names[int(percent_train*len(file_names))::]"
   ]
  },
  {
   "cell_type": "markdown",
   "id": "65b9580b",
   "metadata": {},
   "source": [
    "Ucitavanje zadate trajektorije"
   ]
  },
  {
   "cell_type": "code",
   "execution_count": 9,
   "id": "0ab0bc4a",
   "metadata": {},
   "outputs": [],
   "source": [
    "y_command = np.asarray(pd.read_csv(r\"C:\\Users\\mata2\\Desktop\\master\\podaci\\yCmd.txt\",header=None).astype('int'))"
   ]
  },
  {
   "cell_type": "markdown",
   "id": "1506d998",
   "metadata": {},
   "source": [
    "Konkatenacija fajlova koji se posle pravilno rasporedjuju na adekvatne train/test skupove"
   ]
  },
  {
   "cell_type": "code",
   "execution_count": 10,
   "id": "df895f0a",
   "metadata": {},
   "outputs": [],
   "source": [
    "train_ = np.concatenate([pd.read_csv(path + \"/\" + file, header=None)[:61000].astype('int')\n",
    "                              for file in train_files_names], axis=0)\n",
    "test_ = np.concatenate([pd.read_csv(path + \"/\" + file, header=None)[:61000].astype('int')\n",
    "                              for file in test_file_names], axis=0)"
   ]
  },
  {
   "cell_type": "markdown",
   "id": "3ab71351",
   "metadata": {},
   "source": [
    "Prethodno konkatenizovani podaci se adekvatno dele kako bi se izbeglo fiktivno stanje (stanje pri kraju rada i pocetku novog ako su konkatenizovani podaci)"
   ]
  },
  {
   "cell_type": "code",
   "execution_count": 11,
   "id": "9b22f963",
   "metadata": {},
   "outputs": [],
   "source": [
    "for j in range(len(train_files_names)):\n",
    "    exec(f\"razlika_trening_{j} = []\")\n",
    "    for i in range(61000):\n",
    "        exec(f\"razlika_trening_{j}.append(y_command[i] - train_[j*61000+i])\")\n",
    "    exec(f'razlika_trening_{j} = np.asarray(razlika_trening_{j})')        "
   ]
  },
  {
   "cell_type": "code",
   "execution_count": 13,
   "id": "fcadc02d",
   "metadata": {},
   "outputs": [],
   "source": [
    "for j in range(len(test_file_names)):\n",
    "    exec(f\"razlika_test_{j} = []\")\n",
    "    for i in range(61000):\n",
    "        exec(f\"razlika_test_{j}.append(y_command[i] - test_[j*61000+i])\")\n",
    "    exec(f'razlika_test_{j} = np.asarray(razlika_test_{j})')    "
   ]
  },
  {
   "cell_type": "markdown",
   "id": "04028a15",
   "metadata": {},
   "source": [
    "Funkcija koja deli podatke na \"sliding window\""
   ]
  },
  {
   "cell_type": "code",
   "execution_count": 12,
   "id": "03cf8cf6",
   "metadata": {
    "executionInfo": {
     "elapsed": 1,
     "status": "ok",
     "timestamp": 1710681491731,
     "user": {
      "displayName": "Matija Grulovic",
      "userId": "10099424245028057757"
     },
     "user_tz": -60
    },
    "id": "03cf8cf6"
   },
   "outputs": [],
   "source": [
    "def create_timeseries_split(data, time_steps):\n",
    "\n",
    "  # Get the number of samples in the data\n",
    "  num_samples = len(data) - time_steps\n",
    "\n",
    "  # Create empty arrays to store features and target values\n",
    "  x_train = np.zeros((num_samples, time_steps, 1))\n",
    "  y_train = np.zeros((num_samples, 1))\n",
    "\n",
    "  # Loop through the data and create features and target values\n",
    "  for i in range(num_samples):\n",
    "    # Extract a slice of data for the current feature\n",
    "    x_train[i] = data[i:i+time_steps, :]\n",
    "\n",
    "    # The target value is the next value after the feature\n",
    "    y_train[i] = data[i+time_steps, 0]\n",
    "\n",
    "  return x_train, y_train"
   ]
  },
  {
   "cell_type": "markdown",
   "id": "3abfa80b",
   "metadata": {},
   "source": [
    "Buffer"
   ]
  },
  {
   "cell_type": "code",
   "execution_count": 14,
   "id": "0a745ab2",
   "metadata": {
    "executionInfo": {
     "elapsed": 216,
     "status": "ok",
     "timestamp": 1710681509731,
     "user": {
      "displayName": "Matija Grulovic",
      "userId": "10099424245028057757"
     },
     "user_tz": -60
    },
    "id": "0a745ab2"
   },
   "outputs": [],
   "source": [
    "time_steps = 10"
   ]
  },
  {
   "cell_type": "markdown",
   "id": "f16a6cf6",
   "metadata": {},
   "source": [
    "Deljenje podataka na train i test skup"
   ]
  },
  {
   "cell_type": "code",
   "execution_count": 15,
   "id": "dba421d0",
   "metadata": {},
   "outputs": [],
   "source": [
    "for i in range(len(train_files_names)):\n",
    "    exec(f'train_X_{i}, train_y_{i} = create_timeseries_split(razlika_trening_{i}, time_steps)')\n",
    "\n",
    "for i in range(len(test_file_names)):\n",
    "    exec(f'test_X_{i}, test_y_{i} = create_timeseries_split(razlika_test_{i}, time_steps)')\n",
    "\n",
    "train_X = np.asarray(train_X_0)\n",
    "for i in range(1,len(train_files_names)):\n",
    "    exec(f'train_X = np.append(train_X, train_X_{i}, axis=0)')\n",
    "\n",
    "train_y = np.asarray(train_y_0)\n",
    "for i in range(1,len(train_files_names)):\n",
    "    exec(f'train_y = np.append(train_y, train_y_{i}, axis=0)')\n",
    "\n",
    "test_X = np.asarray(test_X_0)\n",
    "for i in range(1,len(test_file_names)):\n",
    "    exec(f'test_X = np.append(test_X, test_X_{i}, axis=0)')\n",
    "\n",
    "test_y = np.asarray(test_y_0)\n",
    "for i in range(1,len(test_file_names)):\n",
    "    exec(f'test_y = np.append(test_y, test_y_{i}, axis=0)')"
   ]
  },
  {
   "cell_type": "code",
   "execution_count": 16,
   "id": "bc7033aa",
   "metadata": {
    "executionInfo": {
     "elapsed": 2,
     "status": "ok",
     "timestamp": 1710681547336,
     "user": {
      "displayName": "Matija Grulovic",
      "userId": "10099424245028057757"
     },
     "user_tz": -60
    },
    "id": "bc7033aa"
   },
   "outputs": [],
   "source": [
    "input_shape = (time_steps,1)"
   ]
  },
  {
   "cell_type": "code",
   "execution_count": 24,
   "id": "vIDZZWZbk4T4",
   "metadata": {
    "executionInfo": {
     "elapsed": 571,
     "status": "ok",
     "timestamp": 1710681555340,
     "user": {
      "displayName": "Matija Grulovic",
      "userId": "10099424245028057757"
     },
     "user_tz": -60
    },
    "id": "vIDZZWZbk4T4"
   },
   "outputs": [
    {
     "name": "stdout",
     "output_type": "stream",
     "text": [
      "WARNING:tensorflow:From D:\\Users\\mata2\\anaconda3\\Lib\\site-packages\\keras\\src\\backend.py:873: The name tf.get_default_graph is deprecated. Please use tf.compat.v1.get_default_graph instead.\n",
      "\n"
     ]
    }
   ],
   "source": [
    "keras.utils.set_random_seed(7)\n",
    "optimizerMSE = keras.optimizers.Adam(learning_rate=0.0001)\n",
    "\n",
    "modelMSE = Sequential()\n",
    "modelMSE.add(GRU(units = 8, input_shape = input_shape, activation = keras.layers.LeakyReLU()))\n",
    "modelMSE.add(Dense(units = 8, activation=keras.layers.LeakyReLU()))\n",
    "modelMSE.add(Dense(units = 16, activation=keras.layers.LeakyReLU()))\n",
    "modelMSE.add(Dense(units = 1, activation=keras.layers.LeakyReLU(), bias_initializer='zeros', kernel_initializer='normal'))\n",
    "modelMSE.compile(loss='mean_squared_error', optimizer = optimizerMSE)"
   ]
  },
  {
   "cell_type": "code",
   "execution_count": 25,
   "id": "f8eb5379",
   "metadata": {
    "colab": {
     "base_uri": "https://localhost:8080/"
    },
    "executionInfo": {
     "elapsed": 15204601,
     "status": "ok",
     "timestamp": 1710696766831,
     "user": {
      "displayName": "Matija Grulovic",
      "userId": "10099424245028057757"
     },
     "user_tz": -60
    },
    "id": "f8eb5379",
    "outputId": "d127f087-79b0-4ce4-e88b-9525560cecba",
    "scrolled": true
   },
   "outputs": [
    {
     "name": "stdout",
     "output_type": "stream",
     "text": [
      "Epoch 1/100\n",
      "WARNING:tensorflow:From D:\\Users\\mata2\\anaconda3\\Lib\\site-packages\\keras\\src\\utils\\tf_utils.py:492: The name tf.ragged.RaggedTensorValue is deprecated. Please use tf.compat.v1.ragged.RaggedTensorValue instead.\n",
      "\n",
      "5718/5718 - 22s - loss: 22.1633 - 22s/epoch - 4ms/step\n",
      "Epoch 2/100\n",
      "5718/5718 - 19s - loss: 4.1340 - 19s/epoch - 3ms/step\n",
      "Epoch 3/100\n",
      "5718/5718 - 19s - loss: 2.8928 - 19s/epoch - 3ms/step\n",
      "Epoch 4/100\n",
      "5718/5718 - 19s - loss: 2.5046 - 19s/epoch - 3ms/step\n",
      "Epoch 5/100\n",
      "5718/5718 - 19s - loss: 2.3370 - 19s/epoch - 3ms/step\n",
      "Epoch 6/100\n",
      "5718/5718 - 18s - loss: 2.2315 - 18s/epoch - 3ms/step\n",
      "Epoch 7/100\n",
      "5718/5718 - 19s - loss: 2.1474 - 19s/epoch - 3ms/step\n",
      "Epoch 8/100\n",
      "5718/5718 - 20s - loss: 2.0741 - 20s/epoch - 3ms/step\n",
      "Epoch 9/100\n",
      "5718/5718 - 19s - loss: 2.0089 - 19s/epoch - 3ms/step\n",
      "Epoch 10/100\n",
      "5718/5718 - 19s - loss: 1.9547 - 19s/epoch - 3ms/step\n",
      "Epoch 11/100\n",
      "5718/5718 - 19s - loss: 1.9052 - 19s/epoch - 3ms/step\n",
      "Epoch 12/100\n",
      "5718/5718 - 19s - loss: 1.8652 - 19s/epoch - 3ms/step\n",
      "Epoch 13/100\n",
      "5718/5718 - 19s - loss: 1.8311 - 19s/epoch - 3ms/step\n",
      "Epoch 14/100\n",
      "5718/5718 - 19s - loss: 1.7989 - 19s/epoch - 3ms/step\n",
      "Epoch 15/100\n",
      "5718/5718 - 19s - loss: 1.7687 - 19s/epoch - 3ms/step\n",
      "Epoch 16/100\n",
      "5718/5718 - 19s - loss: 1.7419 - 19s/epoch - 3ms/step\n",
      "Epoch 17/100\n",
      "5718/5718 - 19s - loss: 1.7173 - 19s/epoch - 3ms/step\n",
      "Epoch 18/100\n",
      "5718/5718 - 18s - loss: 1.6903 - 18s/epoch - 3ms/step\n",
      "Epoch 19/100\n",
      "5718/5718 - 18s - loss: 1.6640 - 18s/epoch - 3ms/step\n",
      "Epoch 20/100\n",
      "5718/5718 - 19s - loss: 1.6399 - 19s/epoch - 3ms/step\n",
      "Epoch 21/100\n",
      "5718/5718 - 19s - loss: 1.6187 - 19s/epoch - 3ms/step\n",
      "Epoch 22/100\n",
      "5718/5718 - 19s - loss: 1.5992 - 19s/epoch - 3ms/step\n",
      "Epoch 23/100\n",
      "5718/5718 - 19s - loss: 1.5821 - 19s/epoch - 3ms/step\n",
      "Epoch 24/100\n",
      "5718/5718 - 20s - loss: 1.5664 - 20s/epoch - 3ms/step\n",
      "Epoch 25/100\n",
      "5718/5718 - 19s - loss: 1.5523 - 19s/epoch - 3ms/step\n",
      "Epoch 26/100\n",
      "5718/5718 - 19s - loss: 1.5397 - 19s/epoch - 3ms/step\n",
      "Epoch 27/100\n",
      "5718/5718 - 19s - loss: 1.5278 - 19s/epoch - 3ms/step\n",
      "Epoch 28/100\n",
      "5718/5718 - 19s - loss: 1.5166 - 19s/epoch - 3ms/step\n",
      "Epoch 29/100\n",
      "5718/5718 - 19s - loss: 1.5062 - 19s/epoch - 3ms/step\n",
      "Epoch 30/100\n",
      "5718/5718 - 19s - loss: 1.4958 - 19s/epoch - 3ms/step\n",
      "Epoch 31/100\n",
      "5718/5718 - 20s - loss: 1.4860 - 20s/epoch - 3ms/step\n",
      "Epoch 32/100\n",
      "5718/5718 - 18s - loss: 1.4764 - 18s/epoch - 3ms/step\n",
      "Epoch 33/100\n",
      "5718/5718 - 18s - loss: 1.4673 - 18s/epoch - 3ms/step\n",
      "Epoch 34/100\n",
      "5718/5718 - 19s - loss: 1.4585 - 19s/epoch - 3ms/step\n",
      "Epoch 35/100\n",
      "5718/5718 - 18s - loss: 1.4501 - 18s/epoch - 3ms/step\n",
      "Epoch 36/100\n",
      "5718/5718 - 19s - loss: 1.4416 - 19s/epoch - 3ms/step\n",
      "Epoch 37/100\n",
      "5718/5718 - 18s - loss: 1.4333 - 18s/epoch - 3ms/step\n",
      "Epoch 38/100\n",
      "5718/5718 - 19s - loss: 1.4259 - 19s/epoch - 3ms/step\n",
      "Epoch 39/100\n",
      "5718/5718 - 18s - loss: 1.4190 - 18s/epoch - 3ms/step\n",
      "Epoch 40/100\n",
      "5718/5718 - 18s - loss: 1.4129 - 18s/epoch - 3ms/step\n",
      "Epoch 41/100\n",
      "5718/5718 - 19s - loss: 1.4064 - 19s/epoch - 3ms/step\n",
      "Epoch 42/100\n",
      "5718/5718 - 19s - loss: 1.4010 - 19s/epoch - 3ms/step\n",
      "Epoch 43/100\n",
      "5718/5718 - 19s - loss: 1.3961 - 19s/epoch - 3ms/step\n",
      "Epoch 44/100\n",
      "5718/5718 - 19s - loss: 1.3912 - 19s/epoch - 3ms/step\n",
      "Epoch 45/100\n",
      "5718/5718 - 19s - loss: 1.3863 - 19s/epoch - 3ms/step\n",
      "Epoch 46/100\n",
      "5718/5718 - 19s - loss: 1.3818 - 19s/epoch - 3ms/step\n",
      "Epoch 47/100\n",
      "5718/5718 - 19s - loss: 1.3761 - 19s/epoch - 3ms/step\n",
      "Epoch 48/100\n",
      "5718/5718 - 19s - loss: 1.3708 - 19s/epoch - 3ms/step\n",
      "Epoch 49/100\n",
      "5718/5718 - 20s - loss: 1.3653 - 20s/epoch - 4ms/step\n",
      "Epoch 50/100\n",
      "5718/5718 - 22s - loss: 1.3598 - 22s/epoch - 4ms/step\n",
      "Epoch 51/100\n",
      "5718/5718 - 22s - loss: 1.3538 - 22s/epoch - 4ms/step\n",
      "Epoch 52/100\n",
      "5718/5718 - 20s - loss: 1.3483 - 20s/epoch - 4ms/step\n",
      "Epoch 53/100\n",
      "5718/5718 - 19s - loss: 1.3430 - 19s/epoch - 3ms/step\n",
      "Epoch 54/100\n",
      "5718/5718 - 19s - loss: 1.3386 - 19s/epoch - 3ms/step\n",
      "Epoch 55/100\n",
      "5718/5718 - 19s - loss: 1.3340 - 19s/epoch - 3ms/step\n",
      "Epoch 56/100\n",
      "5718/5718 - 22s - loss: 1.3301 - 22s/epoch - 4ms/step\n",
      "Epoch 57/100\n",
      "5718/5718 - 21s - loss: 1.3266 - 21s/epoch - 4ms/step\n",
      "Epoch 58/100\n",
      "5718/5718 - 21s - loss: 1.3233 - 21s/epoch - 4ms/step\n",
      "Epoch 59/100\n",
      "5718/5718 - 20s - loss: 1.3203 - 20s/epoch - 3ms/step\n",
      "Epoch 60/100\n",
      "5718/5718 - 22s - loss: 1.3172 - 22s/epoch - 4ms/step\n",
      "Epoch 61/100\n",
      "5718/5718 - 22s - loss: 1.3143 - 22s/epoch - 4ms/step\n",
      "Epoch 62/100\n",
      "5718/5718 - 22s - loss: 1.3110 - 22s/epoch - 4ms/step\n",
      "Epoch 63/100\n",
      "5718/5718 - 24s - loss: 1.3075 - 24s/epoch - 4ms/step\n",
      "Epoch 64/100\n",
      "5718/5718 - 24s - loss: 1.3040 - 24s/epoch - 4ms/step\n",
      "Epoch 65/100\n",
      "5718/5718 - 24s - loss: 1.3001 - 24s/epoch - 4ms/step\n",
      "Epoch 66/100\n",
      "5718/5718 - 25s - loss: 1.2968 - 25s/epoch - 4ms/step\n",
      "Epoch 67/100\n",
      "5718/5718 - 25s - loss: 1.2940 - 25s/epoch - 4ms/step\n",
      "Epoch 68/100\n",
      "5718/5718 - 25s - loss: 1.2910 - 25s/epoch - 4ms/step\n",
      "Epoch 69/100\n",
      "5718/5718 - 25s - loss: 1.2884 - 25s/epoch - 4ms/step\n",
      "Epoch 70/100\n",
      "5718/5718 - 25s - loss: 1.2854 - 25s/epoch - 4ms/step\n",
      "Epoch 71/100\n",
      "5718/5718 - 25s - loss: 1.2829 - 25s/epoch - 4ms/step\n",
      "Epoch 72/100\n",
      "5718/5718 - 24s - loss: 1.2802 - 24s/epoch - 4ms/step\n",
      "Epoch 73/100\n",
      "5718/5718 - 26s - loss: 1.2775 - 26s/epoch - 4ms/step\n",
      "Epoch 74/100\n",
      "5718/5718 - 28s - loss: 1.2750 - 28s/epoch - 5ms/step\n",
      "Epoch 75/100\n",
      "5718/5718 - 37s - loss: 1.2726 - 37s/epoch - 6ms/step\n",
      "Epoch 76/100\n",
      "5718/5718 - 35s - loss: 1.2701 - 35s/epoch - 6ms/step\n",
      "Epoch 77/100\n",
      "5718/5718 - 28s - loss: 1.2678 - 28s/epoch - 5ms/step\n",
      "Epoch 78/100\n",
      "5718/5718 - 26s - loss: 1.2652 - 26s/epoch - 5ms/step\n",
      "Epoch 79/100\n",
      "5718/5718 - 28s - loss: 1.2627 - 28s/epoch - 5ms/step\n",
      "Epoch 80/100\n",
      "5718/5718 - 28s - loss: 1.2604 - 28s/epoch - 5ms/step\n",
      "Epoch 81/100\n",
      "5718/5718 - 29s - loss: 1.2578 - 29s/epoch - 5ms/step\n",
      "Epoch 82/100\n",
      "5718/5718 - 28s - loss: 1.2558 - 28s/epoch - 5ms/step\n",
      "Epoch 83/100\n",
      "5718/5718 - 29s - loss: 1.2534 - 29s/epoch - 5ms/step\n",
      "Epoch 84/100\n",
      "5718/5718 - 32s - loss: 1.2516 - 32s/epoch - 6ms/step\n",
      "Epoch 85/100\n",
      "5718/5718 - 25s - loss: 1.2493 - 25s/epoch - 4ms/step\n",
      "Epoch 86/100\n",
      "5718/5718 - 27s - loss: 1.2473 - 27s/epoch - 5ms/step\n",
      "Epoch 87/100\n",
      "5718/5718 - 28s - loss: 1.2457 - 28s/epoch - 5ms/step\n",
      "Epoch 88/100\n",
      "5718/5718 - 28s - loss: 1.2438 - 28s/epoch - 5ms/step\n",
      "Epoch 89/100\n",
      "5718/5718 - 28s - loss: 1.2420 - 28s/epoch - 5ms/step\n",
      "Epoch 90/100\n",
      "5718/5718 - 28s - loss: 1.2404 - 28s/epoch - 5ms/step\n",
      "Epoch 91/100\n",
      "5718/5718 - 29s - loss: 1.2388 - 29s/epoch - 5ms/step\n",
      "Epoch 92/100\n",
      "5718/5718 - 31s - loss: 1.2374 - 31s/epoch - 5ms/step\n",
      "Epoch 93/100\n",
      "5718/5718 - 32s - loss: 1.2360 - 32s/epoch - 6ms/step\n",
      "Epoch 94/100\n",
      "5718/5718 - 28s - loss: 1.2345 - 28s/epoch - 5ms/step\n",
      "Epoch 95/100\n",
      "5718/5718 - 28s - loss: 1.2332 - 28s/epoch - 5ms/step\n",
      "Epoch 96/100\n",
      "5718/5718 - 28s - loss: 1.2318 - 28s/epoch - 5ms/step\n",
      "Epoch 97/100\n",
      "5718/5718 - 30s - loss: 1.2304 - 30s/epoch - 5ms/step\n",
      "Epoch 98/100\n",
      "5718/5718 - 28s - loss: 1.2291 - 28s/epoch - 5ms/step\n",
      "Epoch 99/100\n",
      "5718/5718 - 27s - loss: 1.2278 - 27s/epoch - 5ms/step\n",
      "Epoch 100/100\n",
      "5718/5718 - 28s - loss: 1.2262 - 28s/epoch - 5ms/step\n"
     ]
    }
   ],
   "source": [
    "historyMSE = modelMSE.fit(train_X, train_y, epochs=100, batch_size = 256, shuffle=False, verbose = 2)"
   ]
  },
  {
   "cell_type": "code",
   "execution_count": 26,
   "id": "71c1e0df",
   "metadata": {
    "colab": {
     "base_uri": "https://localhost:8080/"
    },
    "executionInfo": {
     "elapsed": 41500,
     "status": "ok",
     "timestamp": 1710679617560,
     "user": {
      "displayName": "Matija Grulovic",
      "userId": "10099424245028057757"
     },
     "user_tz": -60
    },
    "id": "71c1e0df",
    "outputId": "520d3e8b-9bb4-48f2-8a08-9779a27f0d0d",
    "scrolled": true
   },
   "outputs": [
    {
     "name": "stdout",
     "output_type": "stream",
     "text": [
      "11436/11436 [==============================] - 35s 3ms/step - loss: 1.2571\n"
     ]
    }
   ],
   "source": [
    "train_scores = modelMSE.evaluate(test_X, test_y)"
   ]
  },
  {
   "cell_type": "code",
   "execution_count": 21,
   "id": "510f09f5",
   "metadata": {
    "colab": {
     "base_uri": "https://localhost:8080/"
    },
    "executionInfo": {
     "elapsed": 183330,
     "status": "ok",
     "timestamp": 1710679800888,
     "user": {
      "displayName": "Matija Grulovic",
      "userId": "10099424245028057757"
     },
     "user_tz": -60
    },
    "id": "510f09f5",
    "outputId": "ad1db14d-a815-4530-dc97-1f8675e74b0f"
   },
   "outputs": [
    {
     "name": "stdout",
     "output_type": "stream",
     "text": [
      "11436/11436 [==============================] - 21s 2ms/step\n"
     ]
    }
   ],
   "source": [
    "#train_predict_MSE = modelMSE.predict(train_X)\n",
    "test_predict_MSE = modelMSE.predict(test_X)"
   ]
  },
  {
   "cell_type": "code",
   "execution_count": 32,
   "id": "3b980818",
   "metadata": {
    "scrolled": true
   },
   "outputs": [
    {
     "name": "stdout",
     "output_type": "stream",
     "text": [
      "Model: \"sequential\"\n",
      "_________________________________________________________________\n",
      " Layer (type)                Output Shape              Param #   \n",
      "=================================================================\n",
      " gru (GRU)                   (None, 8)                 264       \n",
      "                                                                 \n",
      " dense (Dense)               (None, 8)                 72        \n",
      "                                                                 \n",
      " dense_1 (Dense)             (None, 16)                144       \n",
      "                                                                 \n",
      " dense_2 (Dense)             (None, 1)                 17        \n",
      "                                                                 \n",
      "=================================================================\n",
      "Total params: 497 (1.94 KB)\n",
      "Trainable params: 497 (1.94 KB)\n",
      "Non-trainable params: 0 (0.00 Byte)\n",
      "_________________________________________________________________\n"
     ]
    }
   ],
   "source": [
    "modelMSE.summary()"
   ]
  },
  {
   "cell_type": "markdown",
   "id": "a265e8b2",
   "metadata": {},
   "source": [
    "Ucitavamo standardne devijacije i srednje vrednosti"
   ]
  },
  {
   "cell_type": "code",
   "execution_count": 17,
   "id": "0a64c969",
   "metadata": {},
   "outputs": [],
   "source": [
    "std_dev = []\n",
    "with open(r\"C:\\Users\\mata2\\Desktop\\master\\Axis-projection-RNN\\odstupanja\\0k Y\\Y_std_dev.txt\", 'r') as lines:\n",
    "    for line in lines:\n",
    "        std_dev.append(float(line.strip('\\n')))"
   ]
  },
  {
   "cell_type": "code",
   "execution_count": 18,
   "id": "f9dc7509",
   "metadata": {},
   "outputs": [],
   "source": [
    "sr_vrednost = []\n",
    "with open(r\"C:\\Users\\mata2\\Desktop\\master\\Axis-projection-RNN\\odstupanja\\0k Y\\Y_sr_vrednost.txt\", 'r') as lines:\n",
    "    for line in lines:\n",
    "        sr_vrednost.append(float(line.strip('\\n')))"
   ]
  },
  {
   "cell_type": "code",
   "execution_count": 29,
   "id": "fbd683a2",
   "metadata": {},
   "outputs": [
    {
     "data": {
      "text/plain": [
       "0.6589386238181123"
      ]
     },
     "execution_count": 29,
     "metadata": {},
     "output_type": "execute_result"
    }
   ],
   "source": [
    "mean_1std = 0\n",
    "for j in range(len(test_file_names)):\n",
    "    for i in range(int(len(test_predict_MSE)/len(test_file_names))):\n",
    "        if sr_vrednost[i+time_steps] - std_dev[i+time_steps] <= test_predict_MSE[int(len(test_predict_MSE)/len(test_file_names))*j + i] <= sr_vrednost[i+time_steps] + std_dev[i+time_steps]:\n",
    "            mean_1std += 1\n",
    "        #else:\n",
    "            #print(sr_vrednost[i+8], std_dev[i+8], test_predict_MSE[60992*j + i], 'index:',j*60992 + i)\n",
    "mean_1std/len(test_predict_MSE)"
   ]
  },
  {
   "cell_type": "raw",
   "id": "d6ba2f2c",
   "metadata": {},
   "source": [
    "MSE:\n",
    "0.6589386238181123"
   ]
  },
  {
   "cell_type": "markdown",
   "id": "4735a9a6",
   "metadata": {},
   "source": [
    "Mean 3 sigma"
   ]
  },
  {
   "cell_type": "code",
   "execution_count": 30,
   "id": "b1674839",
   "metadata": {},
   "outputs": [
    {
     "data": {
      "text/plain": [
       "0.9915395966551894"
      ]
     },
     "execution_count": 30,
     "metadata": {},
     "output_type": "execute_result"
    }
   ],
   "source": [
    "i = time_steps\n",
    "mean_3std = 0\n",
    "for j in range(len(test_predict_MSE)):\n",
    "    if i%61000 == 0:\n",
    "        i = time_steps\n",
    "    if sr_vrednost[i] - 3*std_dev[i] <= test_predict_MSE[j] <= sr_vrednost[i] + 3*std_dev[i]:\n",
    "            mean_3std += 1\n",
    "    i += 1\n",
    "mean_3std/len(test_predict_MSE)"
   ]
  },
  {
   "cell_type": "raw",
   "id": "8ad5c63e",
   "metadata": {},
   "source": [
    "0.9915395966551894"
   ]
  },
  {
   "cell_type": "markdown",
   "id": "8635dc16",
   "metadata": {},
   "source": [
    "pravljenje min/max razlika - posle se koriste za plotovanje"
   ]
  },
  {
   "cell_type": "code",
   "execution_count": 19,
   "id": "798a0090",
   "metadata": {},
   "outputs": [],
   "source": [
    "min_kord = [float('inf') for x in range(61000)]\n",
    "max_kord = [float('-inf') for x in range(61000)]\n",
    "\n",
    "for i in range(61000):    \n",
    "    for j in range(len(train_files_names)):\n",
    "        exec(f'current_file = razlika_trening_{j}')\n",
    "        if current_file[i][0] < min_kord[i]:\n",
    "            min_kord[i] = current_file[i][0]\n",
    "        if current_file[i][0] > max_kord[i]:\n",
    "            max_kord[i] = current_file[i][0]"
   ]
  },
  {
   "cell_type": "raw",
   "id": "98319d24",
   "metadata": {},
   "source": [
    "i = time_steps\n",
    "uspeli_minmax = 0\n",
    "for j in range(len(test_predict_MSE)):\n",
    "    if i%61000 == 0:\n",
    "        i = time_steps\n",
    "    if min_kord[i] <= (test_predict_MSE[j]) <= max_kord[i]:\n",
    "        uspeli_minmax += 1\n",
    "    i += 1\n",
    "uspeli_minmax/len(test_predict_MSE)"
   ]
  },
  {
   "cell_type": "raw",
   "id": "7069da69",
   "metadata": {},
   "source": [
    "0.907613269934962"
   ]
  },
  {
   "cell_type": "markdown",
   "id": "e9df74fb",
   "metadata": {},
   "source": [
    "cuvamo/ucitavamo model"
   ]
  },
  {
   "cell_type": "raw",
   "id": "8e992fbe",
   "metadata": {},
   "source": [
    "modelMSE.save(r\"C:\\Users\\mata2\\Desktop\\master\\Axis-projection-RNN\\modeli\\Difference predictions\\Y - GRU\")"
   ]
  },
  {
   "cell_type": "raw",
   "id": "ae819bf8",
   "metadata": {},
   "source": [
    "modelMSE = keras.saving.load_model(r\"C:\\Users\\mata2\\Desktop\\master\\Axis-projection-RNN\\modeli\\Difference predictions\\Y - GRU\")"
   ]
  },
  {
   "cell_type": "markdown",
   "id": "5fc4c13c",
   "metadata": {},
   "source": [
    "# NA TEST SKUPU - plotovi trajektorija"
   ]
  },
  {
   "cell_type": "markdown",
   "id": "1f6b0554",
   "metadata": {},
   "source": [
    "test_ = realizovana trajektorija\n",
    "\n",
    "test_predict_MSE = predvidjena RAZLIKA koordinata od y_command\n",
    "\n",
    "razlika_test_{} = realizovana RAZLIKA od test podataka od y_command - CELA TRAJEKTORIJA\n",
    "\n",
    "test_y_{} = REALIZOVANA y koordinata od razlika_test_{}\n",
    "\n",
    "Y_COMMAND - TEST_ = ODSTUPANJE/RAZLIKA_TEST_\n",
    "\n",
    "Y_COMMAND[TIME_STEPS] + test_predict_MSE[0] = PRVU KOORDINATU TRAJEKTORIJE PREDVIDJENE VREDNOSTI"
   ]
  },
  {
   "cell_type": "code",
   "execution_count": 23,
   "id": "073b1cce",
   "metadata": {},
   "outputs": [],
   "source": [
    "for j in range(len(test_file_names)):\n",
    "    exec(f'predvidjena_trajektorija_{j} = []')\n",
    "    for i in range(61000 - time_steps):\n",
    "        exec(f'predvidjena_trajektorija_{j}.append(y_command[i + time_steps] + test_predict_MSE[j*(61000-time_steps) + i])')"
   ]
  },
  {
   "cell_type": "code",
   "execution_count": 22,
   "id": "6eca3636",
   "metadata": {},
   "outputs": [],
   "source": [
    "for j in range(len(test_file_names)):\n",
    "    exec(f'realizovana_trajektorija_{j} = []')\n",
    "    for i in range(61000 - time_steps):\n",
    "        exec(f'realizovana_trajektorija_{j}.append(test_[j*61000 + i])')"
   ]
  },
  {
   "cell_type": "code",
   "execution_count": 24,
   "id": "d39d29e3",
   "metadata": {},
   "outputs": [],
   "source": [
    "command_length = len(y_command)"
   ]
  },
  {
   "cell_type": "code",
   "execution_count": 89,
   "id": "cacbd74e",
   "metadata": {},
   "outputs": [
    {
     "name": "stderr",
     "output_type": "stream",
     "text": [
      "C:\\Users\\mata2\\AppData\\Local\\Temp\\ipykernel_18184\\1933976141.py:18: UserWarning: The label '_HiddenLabel' of <matplotlib.lines.Line2D object at 0x00000232C35DEDD0> starts with '_'. It is thus excluded from the legend.\n",
      "  plt.legend([\"_HiddenLabel\",\"задата трајекторија\", \"предвиђена трајекторија 1\", \"реализована трајекторија 1\"])\n"
     ]
    }
   ],
   "source": [
    "plt.figure(figsize=(12,7))\n",
    "plt.subplot(211)\n",
    "plt.axvline(x = 4100, color = 'b', label = 'axvline - full height')\n",
    "plt.plot(y_command[time_steps::],'r')\n",
    "plt.plot(predvidjena_trajektorija_0,'b')\n",
    "plt.plot(realizovana_trajektorija_0[time_steps::], 'g')\n",
    "plt.xlabel('време (ms)', fontsize=12)\n",
    "plt.ylabel('растојање Y осе машине (μm)', fontsize=12)\n",
    "plt.show()\n",
    "\n",
    "plt.subplot(212)\n",
    "plt.axvline(x = 4100, color = 'b', label = 'axvline - full height')\n",
    "plt.plot(y_command[time_steps::],'r')\n",
    "plt.plot(predvidjena_trajektorija_0,'b')\n",
    "plt.plot(realizovana_trajektorija_0[time_steps::], 'g')\n",
    "plt.xlabel('време (ms)', fontsize=12)\n",
    "plt.ylabel('растојање Y осе машине (μm)', fontsize=12)\n",
    "plt.legend([\"_HiddenLabel\",\"задата трајекторија\", \"предвиђена трајекторија 1\", \"реализована трајекторија 1\"])\n",
    "plt.show()"
   ]
  },
  {
   "cell_type": "code",
   "execution_count": 90,
   "id": "911d58bb",
   "metadata": {},
   "outputs": [
    {
     "name": "stderr",
     "output_type": "stream",
     "text": [
      "C:\\Users\\mata2\\AppData\\Local\\Temp\\ipykernel_18184\\3260072544.py:18: UserWarning: The label '_HiddenLabel' of <matplotlib.lines.Line2D object at 0x00000232C66A3D90> starts with '_'. It is thus excluded from the legend.\n",
      "  plt.legend([\"_HiddenLabel\",\"задата трајекторија\", \"предвиђена трајекторија 2\", \"реализована трајекторија 2\"])\n"
     ]
    }
   ],
   "source": [
    "plt.figure(figsize=(12,7))\n",
    "plt.subplot(211)\n",
    "plt.axvline(x = 12690, color = 'b', label = 'axvline - full height')\n",
    "plt.plot(y_command[time_steps::],'r')\n",
    "plt.plot(predvidjena_trajektorija_1,'b')\n",
    "plt.plot(realizovana_trajektorija_1[time_steps::], 'g')\n",
    "plt.xlabel('време (ms)', fontsize=12)\n",
    "plt.ylabel('растојање Y осе машине (μm)', fontsize=12)\n",
    "plt.show()\n",
    "\n",
    "plt.subplot(212)\n",
    "plt.axvline(x = 12690, color = 'b', label = 'axvline - full height')\n",
    "plt.plot(y_command[time_steps::],'r')\n",
    "plt.plot(predvidjena_trajektorija_1,'b')\n",
    "plt.plot(realizovana_trajektorija_1[time_steps::], 'g')\n",
    "plt.xlabel('време (ms)', fontsize=12)\n",
    "plt.ylabel('растојање Y осе машине (μm)', fontsize=12)\n",
    "plt.legend([\"_HiddenLabel\",\"задата трајекторија\", \"предвиђена трајекторија 2\", \"реализована трајекторија 2\"])\n",
    "plt.show()"
   ]
  },
  {
   "cell_type": "raw",
   "id": "6a203f3f",
   "metadata": {},
   "source": []
  },
  {
   "cell_type": "code",
   "execution_count": 91,
   "id": "a94eddb0",
   "metadata": {},
   "outputs": [],
   "source": [
    "plt.figure(figsize=(12,7))\n",
    "plt.subplot(211)\n",
    "plt.axvline(x = 15000, color = 'b', label = 'axvline - full height')\n",
    "plt.plot(y_command[time_steps::],'r')\n",
    "plt.plot(predvidjena_trajektorija_2,'b')\n",
    "plt.plot(realizovana_trajektorija_2[time_steps::], 'g')\n",
    "plt.xlabel('време (ms)', fontsize=12)\n",
    "plt.ylabel('растојање Y осе машине (μm)', fontsize=12)\n",
    "plt.show()\n",
    "\n",
    "plt.subplot(212)\n",
    "plt.axvline(x = 15000, color = 'b', label = 'axvline - full height')\n",
    "plt.plot(y_command[time_steps::],'r')\n",
    "plt.plot(predvidjena_trajektorija_2,'b')\n",
    "plt.plot(realizovana_trajektorija_2[time_steps::], 'g')\n",
    "plt.xlabel('време (ms)', fontsize=12)\n",
    "plt.ylabel('растојање Y осе машине (μm)', fontsize=12)\n",
    "plt.legend([\"вертикална плава линија на индексу 15000\",\"задата трајекторија\", \"предвиђена трајекторија 3\", \"реализована трајекторија 3\"])\n",
    "plt.show()"
   ]
  },
  {
   "cell_type": "raw",
   "id": "a68cf7dd",
   "metadata": {},
   "source": []
  },
  {
   "cell_type": "code",
   "execution_count": 92,
   "id": "fb6a44c7",
   "metadata": {},
   "outputs": [
    {
     "name": "stderr",
     "output_type": "stream",
     "text": [
      "C:\\Users\\mata2\\AppData\\Local\\Temp\\ipykernel_18184\\1460834486.py:18: UserWarning: The label '_Hidden' of <matplotlib.lines.Line2D object at 0x00000232DE596550> starts with '_'. It is thus excluded from the legend.\n",
      "  plt.legend([\"_Hidden\",\"задата трајекторија\", \"предвиђена трајекторија 4\", \"реализована трајекторија 4\"])\n"
     ]
    }
   ],
   "source": [
    "plt.figure(figsize=(12,7))\n",
    "plt.subplot(211)\n",
    "plt.axvline(x = 34250, color = 'b', label = 'axvline - full height')\n",
    "plt.plot(y_command[time_steps::],'r')\n",
    "plt.plot(predvidjena_trajektorija_3,'b')\n",
    "plt.plot(realizovana_trajektorija_3[time_steps::], 'g')\n",
    "plt.xlabel('време (ms)', fontsize=12)\n",
    "plt.ylabel('растојање Y осе машине (μm)', fontsize=12)\n",
    "plt.show()\n",
    "\n",
    "plt.subplot(212)\n",
    "plt.axvline(x = 34250, color = 'b', label = 'axvline - full height')\n",
    "plt.plot(y_command[time_steps::],'r')\n",
    "plt.plot(predvidjena_trajektorija_3,'b')\n",
    "plt.plot(realizovana_trajektorija_3[time_steps::], 'g')\n",
    "plt.xlabel('време (ms)', fontsize=12)\n",
    "plt.ylabel('растојање Y осе машине (μm)', fontsize=12)\n",
    "plt.legend([\"_Hidden\",\"задата трајекторија\", \"предвиђена трајекторија 4\", \"реализована трајекторија 4\"])\n",
    "plt.show()"
   ]
  },
  {
   "cell_type": "code",
   "execution_count": 93,
   "id": "0880644d",
   "metadata": {},
   "outputs": [
    {
     "name": "stderr",
     "output_type": "stream",
     "text": [
      "C:\\Users\\mata2\\AppData\\Local\\Temp\\ipykernel_18184\\3836706913.py:18: UserWarning: The label '_Hidden' of <matplotlib.lines.Line2D object at 0x00000232C9F4F510> starts with '_'. It is thus excluded from the legend.\n",
      "  plt.legend([\"_Hidden\",\"задата трајекторија\", \"предвиђена трајекторија 5\", \"реализована трајекторија 5\"])\n"
     ]
    }
   ],
   "source": [
    "plt.figure(figsize=(12,7))\n",
    "plt.subplot(211)\n",
    "plt.axvline(x = 55900, color = 'b', label = 'axvline - full height')\n",
    "plt.plot(y_command[time_steps::],'r')\n",
    "plt.plot(predvidjena_trajektorija_4,'b')\n",
    "plt.plot(realizovana_trajektorija_4[time_steps::], 'g')\n",
    "plt.xlabel('време (ms)', fontsize=12)\n",
    "plt.ylabel('растојање Y осе машине (μm)', fontsize=12)\n",
    "plt.show()\n",
    "\n",
    "plt.subplot(212)\n",
    "plt.axvline(x = 55900, color = 'b', label = 'axvline - full height')\n",
    "plt.plot(y_command[time_steps::],'r')\n",
    "plt.plot(predvidjena_trajektorija_4,'b')\n",
    "plt.plot(realizovana_trajektorija_4[time_steps::], 'g')\n",
    "plt.xlabel('време (ms)', fontsize=12)\n",
    "plt.ylabel('растојање Y осе машине (μm)', fontsize=12)\n",
    "plt.legend([\"_Hidden\",\"задата трајекторија\", \"предвиђена трајекторија 5\", \"реализована трајекторија 5\"])\n",
    "plt.show()"
   ]
  },
  {
   "cell_type": "raw",
   "id": "ef85045d",
   "metadata": {},
   "source": []
  },
  {
   "cell_type": "code",
   "execution_count": 94,
   "id": "77f19d70",
   "metadata": {},
   "outputs": [
    {
     "name": "stderr",
     "output_type": "stream",
     "text": [
      "C:\\Users\\mata2\\AppData\\Local\\Temp\\ipykernel_18184\\81646673.py:18: UserWarning: The label '_Hidden' of <matplotlib.lines.Line2D object at 0x00000232D2034950> starts with '_'. It is thus excluded from the legend.\n",
      "  plt.legend([\"_Hidden\",\"задата трајекторија\", \"предвиђена трајекторија 6\", \"реализована трајекторија 6\"])\n"
     ]
    }
   ],
   "source": [
    "plt.figure(figsize=(12,7))\n",
    "plt.subplot(211)\n",
    "plt.axvline(x = 43150, color = 'b', label = 'axvline - full height')\n",
    "plt.plot(y_command[time_steps::],'r')\n",
    "plt.plot(predvidjena_trajektorija_5,'b')\n",
    "plt.plot(realizovana_trajektorija_5[time_steps::], 'g')\n",
    "plt.xlabel('време (ms)', fontsize=12)\n",
    "plt.ylabel('растојање Y осе машине (μm)', fontsize=12)\n",
    "plt.show()\n",
    "\n",
    "plt.subplot(212)\n",
    "plt.axvline(x = 43150, color = 'b', label = 'axvline - full height')\n",
    "plt.plot(y_command[time_steps::],'r')\n",
    "plt.plot(predvidjena_trajektorija_5,'b')\n",
    "plt.plot(realizovana_trajektorija_5[time_steps::], 'g')\n",
    "plt.xlabel('време (ms)', fontsize=12)\n",
    "plt.ylabel('растојање Y осе машине (μm)', fontsize=12)\n",
    "plt.legend([\"_Hidden\",\"задата трајекторија\", \"предвиђена трајекторија 6\", \"реализована трајекторија 6\"])\n",
    "plt.show()"
   ]
  },
  {
   "cell_type": "markdown",
   "id": "1caace99",
   "metadata": {},
   "source": [
    "# NA TEST SKUPU - 3 sigma (upadanje u pojas) plotovi"
   ]
  },
  {
   "cell_type": "code",
   "execution_count": 25,
   "id": "3c9a10c0",
   "metadata": {},
   "outputs": [],
   "source": [
    "tri_sigma_lower = []\n",
    "tri_sigma_upper = []\n",
    "\n",
    "for i in range(len(y_command)):\n",
    "    tri_sigma_lower.append(sr_vrednost[i] - 3*std_dev[i])\n",
    "    tri_sigma_upper.append(sr_vrednost[i] + 3*std_dev[i])"
   ]
  },
  {
   "cell_type": "code",
   "execution_count": 26,
   "id": "fc0a26db",
   "metadata": {},
   "outputs": [],
   "source": [
    "for j in range(len(test_file_names)):\n",
    "    exec(f'trajektorija_odstupanja_{j} = []')\n",
    "    for i in range(61000 - time_steps):\n",
    "        exec(f'trajektorija_odstupanja_{j}.append(test_predict_MSE[j*(61000-time_steps) + i])')"
   ]
  },
  {
   "cell_type": "code",
   "execution_count": 28,
   "id": "6a92a63d",
   "metadata": {},
   "outputs": [],
   "source": [
    "plt.figure(figsize=(11,7))\n",
    "plt.plot(tri_sigma_lower[time_steps:], color= 'b')\n",
    "plt.plot(tri_sigma_upper[time_steps:], color = 'r')\n",
    "plt.plot(trajektorija_odstupanja_0, color = 'g')\n",
    "plt.xlabel('време (ms)', fontsize=18)\n",
    "plt.ylabel('одступање (μm)', fontsize=18)\n",
    "plt.legend(['три сигма доња граница',\"три сигма горња граница\", \"одступање трајекторије 1\"],loc = 'best')\n",
    "plt.show()"
   ]
  },
  {
   "cell_type": "code",
   "execution_count": 30,
   "id": "848e9c4f",
   "metadata": {},
   "outputs": [
    {
     "name": "stdout",
     "output_type": "stream",
     "text": [
      "trajektorija  1  sadrzi  60600  tacaka , procenat tri sigma iznosi:  0.9934426229508196\n",
      "trajektorija  2  sadrzi  60386  tacaka , procenat tri sigma iznosi:  0.9899344262295082\n",
      "trajektorija  3  sadrzi  60178  tacaka , procenat tri sigma iznosi:  0.9865245901639345\n",
      "trajektorija  4  sadrzi  60453  tacaka , procenat tri sigma iznosi:  0.9910327868852459\n",
      "trajektorija  5  sadrzi  60667  tacaka , procenat tri sigma iznosi:  0.9945409836065574\n",
      "trajektorija  6  sadrzi  60560  tacaka , procenat tri sigma iznosi:  0.9927868852459016\n"
     ]
    }
   ],
   "source": [
    "trajektorija = 1\n",
    "i = time_steps\n",
    "mean_3std = 0\n",
    "for j in range(len(test_predict_MSE)):\n",
    "    if i%len(y_command) == 0:\n",
    "        print(\"trajektorija \",trajektorija, \" sadrzi \", mean_3std , \" tacaka\", \", procenat tri sigma iznosi: \",mean_3std/61000)\n",
    "        exec(f\"trajektorija_{trajektorija} = mean_3std\")\n",
    "        trajektorija += 1\n",
    "        mean_3std = 0\n",
    "        i = time_steps\n",
    "    if sr_vrednost[i] - 3*std_dev[i] <= test_predict_MSE[j] <= sr_vrednost[i] + 3*std_dev[i]:\n",
    "            mean_3std += 1\n",
    "    i += 1\n",
    "trajektorija_6 = mean_3std\n",
    "print(\"trajektorija \",trajektorija, \" sadrzi \", mean_3std , \" tacaka\", \", procenat tri sigma iznosi: \",mean_3std/61000)"
   ]
  },
  {
   "cell_type": "code",
   "execution_count": 31,
   "id": "c4815292",
   "metadata": {},
   "outputs": [],
   "source": [
    "plt.figure(figsize=(11,7))\n",
    "for i in range(len(trajektorija_odstupanja_0)):\n",
    "    if tri_sigma_lower[time_steps + i] <= trajektorija_odstupanja_0[i] <= tri_sigma_upper[time_steps + i]:\n",
    "        plt.plot(i, trajektorija_odstupanja_0[i], color='black', marker = 'o', markersize = 2)\n",
    "    else:\n",
    "        plt.plot(i, trajektorija_odstupanja_0[i], color='red', marker = 'o', markersize = 2)\n",
    "plt.title('Количина тачака која упада у три сигма појас износи: {}%'.format(round((trajektorija_1/61000)*100,2)) , fontsize=18)\n",
    "plt.xlabel('време (ms)', fontsize=18)\n",
    "plt.ylabel('одступање (μm)', fontsize=18)\n",
    "plt.show()"
   ]
  },
  {
   "cell_type": "code",
   "execution_count": null,
   "id": "85ded99d",
   "metadata": {},
   "outputs": [],
   "source": []
  },
  {
   "cell_type": "code",
   "execution_count": 32,
   "id": "8596dfca",
   "metadata": {},
   "outputs": [],
   "source": [
    "plt.figure(figsize=(11,7))\n",
    "for i in range(len(trajektorija_odstupanja_1)):\n",
    "    if tri_sigma_lower[time_steps + i] <= trajektorija_odstupanja_1[i] <= tri_sigma_upper[time_steps + i]:\n",
    "        plt.plot(i, trajektorija_odstupanja_1[i], color='black', marker = 'o', markersize = 2)\n",
    "    else:\n",
    "        plt.plot(i, trajektorija_odstupanja_1[i], color='red', marker = 'o', markersize = 2)\n",
    "plt.title('Количина тачака која упада у три сигма појас износи: {}%'.format(round((trajektorija_2/61000)*100,2)) , fontsize=18)\n",
    "plt.xlabel('време (ms)', fontsize=18)\n",
    "plt.ylabel('одступање (μm)', fontsize=18)\n",
    "plt.show()"
   ]
  },
  {
   "cell_type": "code",
   "execution_count": null,
   "id": "373c7cb5",
   "metadata": {},
   "outputs": [],
   "source": []
  },
  {
   "cell_type": "code",
   "execution_count": 33,
   "id": "b5ebf7f7",
   "metadata": {},
   "outputs": [],
   "source": [
    "plt.figure(figsize=(11,7))\n",
    "for i in range(len(trajektorija_odstupanja_2)):\n",
    "    if tri_sigma_lower[time_steps + i] <= trajektorija_odstupanja_2[i] <= tri_sigma_upper[time_steps + i]:\n",
    "        plt.plot(i, trajektorija_odstupanja_2[i], color='black', marker = 'o', markersize = 2)\n",
    "    else:\n",
    "        plt.plot(i, trajektorija_odstupanja_2[i], color='red', marker = 'o', markersize = 2)\n",
    "plt.title('Количина тачака која упада у три сигма појас износи: {}%'.format(round((trajektorija_3/61000)*100,2)) , fontsize=18)\n",
    "plt.xlabel('време (ms)', fontsize=18)\n",
    "plt.ylabel('одступање (μm)', fontsize=18)\n",
    "plt.show()"
   ]
  },
  {
   "cell_type": "code",
   "execution_count": null,
   "id": "7e4e4162",
   "metadata": {},
   "outputs": [],
   "source": []
  },
  {
   "cell_type": "code",
   "execution_count": 34,
   "id": "80b68e26",
   "metadata": {},
   "outputs": [],
   "source": [
    "plt.figure(figsize=(11,7))\n",
    "for i in range(len(trajektorija_odstupanja_3)):\n",
    "    if tri_sigma_lower[time_steps + i] <= trajektorija_odstupanja_3[i] <= tri_sigma_upper[time_steps + i]:\n",
    "        plt.plot(i, trajektorija_odstupanja_3[i], color='black', marker = 'o', markersize = 2)\n",
    "    else:\n",
    "        plt.plot(i, trajektorija_odstupanja_3[i], color='red', marker = 'o', markersize = 2)\n",
    "plt.title('Количина тачака која упада у три сигма појас износи: {}%'.format(round((trajektorija_4/61000)*100,2)) , fontsize=18)\n",
    "plt.xlabel('време (ms)', fontsize=18)\n",
    "plt.ylabel('одступање (μm)', fontsize=18)\n",
    "plt.show()"
   ]
  },
  {
   "cell_type": "code",
   "execution_count": null,
   "id": "723594ac",
   "metadata": {},
   "outputs": [],
   "source": []
  },
  {
   "cell_type": "code",
   "execution_count": 35,
   "id": "11c3e97a",
   "metadata": {},
   "outputs": [],
   "source": [
    "plt.figure(figsize=(11,7))\n",
    "for i in range(len(trajektorija_odstupanja_4)):\n",
    "    if tri_sigma_lower[time_steps + i] <= trajektorija_odstupanja_4[i] <= tri_sigma_upper[time_steps + i]:\n",
    "        plt.plot(i, trajektorija_odstupanja_4[i], color='black', marker = 'o', markersize = 2)\n",
    "    else:\n",
    "        plt.plot(i, trajektorija_odstupanja_4[i], color='red', marker = 'o', markersize = 2)\n",
    "plt.title('Количина тачака која упада у три сигма појас износи: {}%'.format(round((trajektorija_5/61000)*100,2)) , fontsize=18)\n",
    "plt.xlabel('време (ms)', fontsize=18)\n",
    "plt.ylabel('одступање (μm)', fontsize=18)\n",
    "plt.show()"
   ]
  },
  {
   "cell_type": "code",
   "execution_count": null,
   "id": "d829f029",
   "metadata": {},
   "outputs": [],
   "source": []
  },
  {
   "cell_type": "code",
   "execution_count": 36,
   "id": "b3c9b669",
   "metadata": {},
   "outputs": [],
   "source": [
    "plt.figure(figsize=(11,7))\n",
    "for i in range(len(trajektorija_odstupanja_5)):\n",
    "    if tri_sigma_lower[time_steps + i] <= trajektorija_odstupanja_5[i] <= tri_sigma_upper[time_steps + i]:\n",
    "        plt.plot(i, trajektorija_odstupanja_5[i], color='black', marker = 'o', markersize = 2)\n",
    "    else:\n",
    "        plt.plot(i, trajektorija_odstupanja_5[i], color='red', marker = 'o', markersize = 2)\n",
    "plt.title('Количина тачака која упада у три сигма појас износи: {}%'.format(round((trajektorija_6/61000)*100,2)) , fontsize=18)\n",
    "plt.xlabel('време (ms)', fontsize=18)\n",
    "plt.ylabel('одступање (μm)', fontsize=18)\n",
    "plt.show()"
   ]
  },
  {
   "cell_type": "markdown",
   "id": "2b21b42b",
   "metadata": {},
   "source": [
    "# NA TEST SKUPU - min/max plotovi"
   ]
  },
  {
   "cell_type": "markdown",
   "id": "6561826a",
   "metadata": {},
   "source": [
    "MIN MAX TRAJEKTORIJE"
   ]
  },
  {
   "cell_type": "code",
   "execution_count": 25,
   "id": "a9ff05d2",
   "metadata": {},
   "outputs": [],
   "source": [
    "min_trajektorija = []\n",
    "max_trajektorija = []\n",
    "for i in range(61000):\n",
    "    min_trajektorija.append(y_command[i] + min_kord[i])\n",
    "    max_trajektorija.append(y_command[i] + max_kord[i])"
   ]
  },
  {
   "cell_type": "code",
   "execution_count": 26,
   "id": "de6885d6",
   "metadata": {},
   "outputs": [
    {
     "name": "stdout",
     "output_type": "stream",
     "text": [
      "trajektorija  1  sadrzi  58125  tacaka , procenat tri sigma iznosi:  95.29 %\n",
      "trajektorija  2  sadrzi  51879  tacaka , procenat tri sigma iznosi:  85.05 %\n",
      "trajektorija  3  sadrzi  56354  tacaka , procenat tri sigma iznosi:  92.38 %\n",
      "trajektorija  4  sadrzi  57087  tacaka , procenat tri sigma iznosi:  93.59 %\n",
      "trajektorija  5  sadrzi  52260  tacaka , procenat tri sigma iznosi:  85.67 %\n",
      "trajektorija  6  sadrzi  56427  tacaka , procenat tri sigma iznosi:  92.5 %\n"
     ]
    }
   ],
   "source": [
    "trajektorija_koord = 1\n",
    "i = time_steps\n",
    "mean_3std_koord = 0\n",
    "for j in range(len(test_predict_MSE)):\n",
    "    if i%len(y_command) == 0:\n",
    "        print(\"trajektorija \",trajektorija_koord, \" sadrzi \", mean_3std_koord , \" tacaka\", \", procenat tri sigma iznosi: \",round(mean_3std_koord/61000*100,2), \"%\")\n",
    "        exec(f\"trajektorija_koord_{trajektorija_koord} = mean_3std_koord\")\n",
    "        trajektorija_koord += 1\n",
    "        mean_3std_koord = 0\n",
    "        i = time_steps\n",
    "    if min_kord[i] <= (test_predict_MSE[j]) <= max_kord[i]:\n",
    "            mean_3std_koord += 1\n",
    "    i += 1\n",
    "trajektorija_koord_6 = mean_3std_koord\n",
    "print(\"trajektorija \",trajektorija_koord, \" sadrzi \", mean_3std_koord , \" tacaka\", \", procenat tri sigma iznosi: \",round(mean_3std_koord/61000*100,2),\"%\")"
   ]
  },
  {
   "cell_type": "code",
   "execution_count": 41,
   "id": "e747dfe2",
   "metadata": {},
   "outputs": [],
   "source": [
    "i = time_steps\n",
    "plt.figure(figsize=(11,7))\n",
    "for j in range(len(predvidjena_trajektorija_0)):\n",
    "    if i%61000 == 0:\n",
    "        i = time_steps    \n",
    "    if min_trajektorija[i] <= predvidjena_trajektorija_0[j] <= max_trajektorija[i]:\n",
    "        plt.plot(i, predvidjena_trajektorija_0[j], color='black', marker='o', markersize=2)\n",
    "    else:\n",
    "        plt.plot(i, predvidjena_trajektorija_0[j], color='red',marker='o',markersize=2)\n",
    "    i += 1\n",
    "plt.xlabel('време (ms)', fontsize=12)\n",
    "plt.ylabel('растојање Y осе машине (μm)', fontsize=12)\n",
    "plt.title('Количина тачака која упада у мин макс појас износи: {}%'.format(round((trajektorija_koord_1/61000)*100,2)) , fontsize=18)\n",
    "plt.show()"
   ]
  },
  {
   "cell_type": "raw",
   "id": "793db515",
   "metadata": {},
   "source": []
  },
  {
   "cell_type": "code",
   "execution_count": 42,
   "id": "19226fdd",
   "metadata": {},
   "outputs": [],
   "source": [
    "i = time_steps\n",
    "plt.figure(figsize=(11,7))\n",
    "for j in range(len(predvidjena_trajektorija_1)):\n",
    "    if i%61000 == 0:\n",
    "        i = time_steps    \n",
    "    if min_trajektorija[i] <= predvidjena_trajektorija_1[j] <= max_trajektorija[i]:\n",
    "        plt.plot(i, predvidjena_trajektorija_1[j], color='black', marker='o', markersize=2)\n",
    "    else:\n",
    "        plt.plot(i, predvidjena_trajektorija_1[j], color='red',marker='o',markersize=2)\n",
    "    i += 1\n",
    "plt.xlabel('време (ms)', fontsize=12)\n",
    "plt.ylabel('растојање Y осе машине (μm)', fontsize=12)\n",
    "plt.title('Количина тачака која упада у мин макс појас износи: {}%'.format(round((trajektorija_koord_2/61000)*100,2)) , fontsize=18)\n",
    "plt.show()"
   ]
  },
  {
   "cell_type": "raw",
   "id": "dc549581",
   "metadata": {},
   "source": []
  },
  {
   "cell_type": "code",
   "execution_count": 43,
   "id": "27e63362",
   "metadata": {},
   "outputs": [],
   "source": [
    "i = time_steps\n",
    "plt.figure(figsize=(11,7))\n",
    "for j in range(len(predvidjena_trajektorija_2)):\n",
    "    if i%61000 == 0:\n",
    "        i = time_steps    \n",
    "    if min_trajektorija[i] <= predvidjena_trajektorija_2[j] <= max_trajektorija[i]:\n",
    "        plt.plot(i, predvidjena_trajektorija_2[j], color='black', marker='o', markersize=2)\n",
    "    else:\n",
    "        plt.plot(i, predvidjena_trajektorija_2[j], color='red',marker='o',markersize=2)\n",
    "    i += 1\n",
    "plt.xlabel('време (ms)', fontsize=12)\n",
    "plt.ylabel('растојање Y осе машине (μm)', fontsize=12)\n",
    "plt.title('Количина тачака која упада у мин макс појас износи: {}%'.format(round((trajektorija_koord_3/61000)*100,2)) , fontsize=18)\n",
    "plt.show()"
   ]
  },
  {
   "cell_type": "raw",
   "id": "484ad33c",
   "metadata": {},
   "source": []
  },
  {
   "cell_type": "code",
   "execution_count": 27,
   "id": "582aaa7e",
   "metadata": {},
   "outputs": [],
   "source": [
    "i = time_steps\n",
    "plt.figure(figsize=(11,7))\n",
    "for j in range(len(predvidjena_trajektorija_3)):\n",
    "    if i%61000 == 0:\n",
    "        i = time_steps    \n",
    "    if min_trajektorija[i] <= predvidjena_trajektorija_3[j] <= max_trajektorija[i]:\n",
    "        plt.plot(i, predvidjena_trajektorija_3[j], color='black', marker='o', markersize=2)\n",
    "    else:\n",
    "        plt.plot(i, predvidjena_trajektorija_3[j], color='red',marker='o',markersize=2)\n",
    "    i += 1\n",
    "plt.xlabel('време (ms)', fontsize=12)\n",
    "plt.ylabel('растојање Y осе машине (μm)', fontsize=12)\n",
    "plt.title('Количина тачака која упада у мин макс појас износи: {}%'.format(round((trajektorija_koord_4/61000)*100,2)) , fontsize=18)\n",
    "plt.show()"
   ]
  },
  {
   "cell_type": "raw",
   "id": "7e62f67e",
   "metadata": {},
   "source": []
  },
  {
   "cell_type": "code",
   "execution_count": 28,
   "id": "5b7ccf7c",
   "metadata": {},
   "outputs": [],
   "source": [
    "i = time_steps\n",
    "plt.figure(figsize=(11,7))\n",
    "for j in range(len(predvidjena_trajektorija_4)):\n",
    "    if i%61000 == 0:\n",
    "        i = time_steps    \n",
    "    if min_trajektorija[i] <= predvidjena_trajektorija_4[j] <= max_trajektorija[i]:\n",
    "        plt.plot(i, predvidjena_trajektorija_4[j], color='black', marker='o', markersize=2)\n",
    "    else:\n",
    "        plt.plot(i, predvidjena_trajektorija_4[j], color='red',marker='o',markersize=2)\n",
    "    i += 1\n",
    "plt.xlabel('време (ms)', fontsize=12)\n",
    "plt.ylabel('растојање Y осе машине (μm)', fontsize=12)\n",
    "plt.title('Количина тачака која упада у мин макс појас износи: {}%'.format(round((trajektorija_koord_5/61000)*100,2)) , fontsize=18)\n",
    "plt.show()"
   ]
  },
  {
   "cell_type": "raw",
   "id": "95afb320",
   "metadata": {},
   "source": []
  },
  {
   "cell_type": "code",
   "execution_count": 29,
   "id": "a8cf3e2d",
   "metadata": {},
   "outputs": [],
   "source": [
    "i = time_steps\n",
    "plt.figure(figsize=(11,7))\n",
    "for j in range(len(predvidjena_trajektorija_0)):\n",
    "    if i%61000 == 0:\n",
    "        i = time_steps    \n",
    "    if min_trajektorija[i] <= predvidjena_trajektorija_0[j] <= max_trajektorija[i]:\n",
    "        plt.plot(i, predvidjena_trajektorija_0[j], color='black', marker='o', markersize=2)\n",
    "    else:\n",
    "        plt.plot(i, predvidjena_trajektorija_0[j], color='red',marker='o',markersize=2)\n",
    "    i += 1\n",
    "plt.xlabel('време (ms)', fontsize=12)\n",
    "plt.ylabel('растојање Y осе машине (μm)', fontsize=12)\n",
    "plt.title('Количина тачака која упада у мин макс појас износи: {}%'.format(round((trajektorija_koord_6/61000)*100,2)) , fontsize=18)\n",
    "plt.show()"
   ]
  }
 ],
 "metadata": {
  "colab": {
   "provenance": []
  },
  "kernelspec": {
   "display_name": "Python 3 (ipykernel)",
   "language": "python",
   "name": "python3"
  },
  "language_info": {
   "codemirror_mode": {
    "name": "ipython",
    "version": 3
   },
   "file_extension": ".py",
   "mimetype": "text/x-python",
   "name": "python",
   "nbconvert_exporter": "python",
   "pygments_lexer": "ipython3",
   "version": "3.11.5"
  }
 },
 "nbformat": 4,
 "nbformat_minor": 5
}
