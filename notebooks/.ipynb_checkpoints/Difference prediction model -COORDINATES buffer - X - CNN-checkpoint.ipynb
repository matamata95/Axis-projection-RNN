{
 "cells": [
  {
   "cell_type": "code",
   "execution_count": 1,
   "id": "6ebe99d5",
   "metadata": {
    "executionInfo": {
     "elapsed": 6834,
     "status": "ok",
     "timestamp": 1710664771017,
     "user": {
      "displayName": "Matija Grulovic",
      "userId": "10099424245028057757"
     },
     "user_tz": -60
    },
    "id": "6ebe99d5"
   },
   "outputs": [
    {
     "name": "stdout",
     "output_type": "stream",
     "text": [
      "WARNING:tensorflow:From D:\\Users\\mata2\\anaconda3\\Lib\\site-packages\\keras\\src\\losses.py:2976: The name tf.losses.sparse_softmax_cross_entropy is deprecated. Please use tf.compat.v1.losses.sparse_softmax_cross_entropy instead.\n",
      "\n"
     ]
    }
   ],
   "source": [
    "import numpy as np\n",
    "import pandas as pd\n",
    "import keras\n",
    "import tensorflow as tf\n",
    "from sklearn import metrics\n",
    "from tensorflow.keras.models import Sequential\n",
    "from tensorflow.keras.models import Model\n",
    "from tensorflow.keras.layers import LeakyReLU, Input, Flatten, MaxPooling1D, Conv1D, MaxPool1D, GlobalMaxPool1D, Dense, AveragePooling1D, GlobalAveragePooling1D"
   ]
  },
  {
   "cell_type": "code",
   "execution_count": 2,
   "id": "9156e9a2",
   "metadata": {},
   "outputs": [],
   "source": [
    "import matplotlib\n",
    "matplotlib.use('nbagg')\n",
    "import matplotlib.pyplot as plt\n",
    "%matplotlib tk"
   ]
  },
  {
   "cell_type": "code",
   "execution_count": 3,
   "id": "75f0be5b",
   "metadata": {
    "executionInfo": {
     "elapsed": 4,
     "status": "ok",
     "timestamp": 1710664771018,
     "user": {
      "displayName": "Matija Grulovic",
      "userId": "10099424245028057757"
     },
     "user_tz": -60
    },
    "id": "75f0be5b"
   },
   "outputs": [],
   "source": [
    "import os, os.path, sys"
   ]
  },
  {
   "cell_type": "code",
   "execution_count": 4,
   "id": "f8d678cf",
   "metadata": {
    "executionInfo": {
     "elapsed": 9,
     "status": "ok",
     "timestamp": 1710664812972,
     "user": {
      "displayName": "Matija Grulovic",
      "userId": "10099424245028057757"
     },
     "user_tz": -60
    },
    "id": "f8d678cf"
   },
   "outputs": [],
   "source": [
    "path = r\"C:\\Users\\mata2\\Desktop\\master\\podaci\\0k\\X\""
   ]
  },
  {
   "cell_type": "code",
   "execution_count": 5,
   "id": "43cd7520",
   "metadata": {
    "executionInfo": {
     "elapsed": 617,
     "status": "ok",
     "timestamp": 1710664813582,
     "user": {
      "displayName": "Matija Grulovic",
      "userId": "10099424245028057757"
     },
     "user_tz": -60
    },
    "id": "43cd7520"
   },
   "outputs": [],
   "source": [
    "dir = os.listdir(path)"
   ]
  },
  {
   "cell_type": "markdown",
   "id": "44938455",
   "metadata": {},
   "source": [
    "Ucitavanje fajlova"
   ]
  },
  {
   "cell_type": "code",
   "execution_count": 6,
   "id": "88795fa1",
   "metadata": {
    "executionInfo": {
     "elapsed": 3,
     "status": "ok",
     "timestamp": 1710664816406,
     "user": {
      "displayName": "Matija Grulovic",
      "userId": "10099424245028057757"
     },
     "user_tz": -60
    },
    "id": "88795fa1"
   },
   "outputs": [],
   "source": [
    "file_names = []\n",
    "for file in dir:\n",
    "    file_names.append(file)"
   ]
  },
  {
   "cell_type": "code",
   "execution_count": 7,
   "id": "0fe53353",
   "metadata": {},
   "outputs": [],
   "source": [
    "percent_train = 0.8"
   ]
  },
  {
   "cell_type": "code",
   "execution_count": 8,
   "id": "02dbbaa6",
   "metadata": {},
   "outputs": [],
   "source": [
    "train_files_names = file_names[:int(percent_train*len(file_names))]\n",
    "test_file_names = file_names[int(percent_train*len(file_names))::]"
   ]
  },
  {
   "cell_type": "markdown",
   "id": "cf786828",
   "metadata": {},
   "source": [
    "Ucitavanje zadate trajektorije"
   ]
  },
  {
   "cell_type": "code",
   "execution_count": 9,
   "id": "0ab0bc4a",
   "metadata": {},
   "outputs": [],
   "source": [
    "x_command = np.asarray(pd.read_csv(r\"C:\\Users\\mata2\\Desktop\\master\\podaci\\xCmd.txt\",header=None).astype('int'))"
   ]
  },
  {
   "cell_type": "markdown",
   "id": "f89a2bad",
   "metadata": {},
   "source": [
    "Konkatenacija fajlova koji se posle pravilno rasporedjuju na adekvatne train/test skupove"
   ]
  },
  {
   "cell_type": "code",
   "execution_count": 10,
   "id": "df895f0a",
   "metadata": {},
   "outputs": [],
   "source": [
    "train_ = np.concatenate([pd.read_csv(path + \"/\" + file, header=None)[:61000].astype('int')\n",
    "                              for file in train_files_names], axis=0)\n",
    "test_ = np.concatenate([pd.read_csv(path + \"/\" + file, header=None)[:61000].astype('int')\n",
    "                              for file in test_file_names], axis=0)"
   ]
  },
  {
   "cell_type": "markdown",
   "id": "26336f39",
   "metadata": {},
   "source": [
    "Prethodno konkatenizovani podaci se adekvatno dele kako bi se izbeglo fiktivno stanje (stanje pri kraju rada i pocetku novog ako su konkatenizovani podaci)"
   ]
  },
  {
   "cell_type": "code",
   "execution_count": 11,
   "id": "9a5b830b",
   "metadata": {},
   "outputs": [],
   "source": [
    "for j in range(len(train_files_names)):\n",
    "    exec(f\"koord_trening_{j} = []\")\n",
    "    exec(f\"razlika_trening_{j} = []\")\n",
    "\n",
    "    for i in range(61000):\n",
    "        exec(f\"koord_trening_{j}.append(train_[j*61000+i])\")\n",
    "        exec(f\"razlika_trening_{j}.append(x_command[i] - train_[j*61000+i])\")\n",
    "    exec(f'koord_trening_{j} = np.asarray(koord_trening_{j})') \n",
    "    exec(f'razlika_trening_{j} = np.asarray(razlika_trening_{j})')  "
   ]
  },
  {
   "cell_type": "code",
   "execution_count": 12,
   "id": "6c8b351f",
   "metadata": {},
   "outputs": [],
   "source": [
    "for j in range(len(test_file_names)):\n",
    "    exec(f\"koord_test_{j} = []\")\n",
    "    exec(f\"razlika_test_{j} = []\")\n",
    "\n",
    "    for i in range(61000):\n",
    "        exec(f\"koord_test_{j}.append(test_[j*61000+i])\")\n",
    "        exec(f\"razlika_test_{j}.append(x_command[i] - test_[j*61000+i])\")\n",
    "    exec(f'koord_test_{j} = np.asarray(koord_test_{j})') \n",
    "    exec(f'razlika_test_{j} = np.asarray(razlika_test_{j})')  "
   ]
  },
  {
   "cell_type": "markdown",
   "id": "a1171a89",
   "metadata": {},
   "source": [
    "Funkcija koja deli podatke na \"sliding window\""
   ]
  },
  {
   "cell_type": "code",
   "execution_count": 13,
   "id": "03cf8cf6",
   "metadata": {
    "executionInfo": {
     "elapsed": 1,
     "status": "ok",
     "timestamp": 1710681491731,
     "user": {
      "displayName": "Matija Grulovic",
      "userId": "10099424245028057757"
     },
     "user_tz": -60
    },
    "id": "03cf8cf6"
   },
   "outputs": [],
   "source": [
    "def create_timeseries_split(data, time_steps):\n",
    "\n",
    "    # Get the number of samples in the data\n",
    "    num_samples = len(data) - time_steps\n",
    "\n",
    "    # Create empty arrays to store features and target values\n",
    "    x_train = np.zeros((num_samples, time_steps, 1))\n",
    "    y_train = np.zeros((num_samples, 1))\n",
    "\n",
    "    # Loop through the data and create features and target values\n",
    "    for i in range(num_samples):\n",
    "        # Extract a slice of data for the current feature\n",
    "        x_train[i] = data[i:i+time_steps, :]\n",
    "\n",
    "        # The target value is the next value after the feature\n",
    "        y_train[i] = data[i+time_steps, 0]\n",
    "\n",
    "    return x_train, y_train"
   ]
  },
  {
   "cell_type": "markdown",
   "id": "46b0df5c",
   "metadata": {},
   "source": [
    "Velicina buffera"
   ]
  },
  {
   "cell_type": "code",
   "execution_count": 14,
   "id": "0a745ab2",
   "metadata": {
    "executionInfo": {
     "elapsed": 216,
     "status": "ok",
     "timestamp": 1710681509731,
     "user": {
      "displayName": "Matija Grulovic",
      "userId": "10099424245028057757"
     },
     "user_tz": -60
    },
    "id": "0a745ab2"
   },
   "outputs": [],
   "source": [
    "time_steps = 8"
   ]
  },
  {
   "cell_type": "markdown",
   "id": "e5f849fe",
   "metadata": {},
   "source": [
    "Deljenje podataka na train i test skup"
   ]
  },
  {
   "cell_type": "code",
   "execution_count": 15,
   "id": "a28bc7eb",
   "metadata": {},
   "outputs": [],
   "source": [
    "for i in range(len(train_files_names)):\n",
    "    exec(f'train_koord_X_{i}, _ = create_timeseries_split(koord_trening_{i}, time_steps)')\n",
    "\n",
    "for i in range(len(train_files_names)):\n",
    "    exec(f'_, train_y_{i} = create_timeseries_split(razlika_trening_{i}, time_steps)')\n",
    "    \n",
    "for i in range(len(test_file_names)):\n",
    "    exec(f'test_koord_X_{i}, _ = create_timeseries_split(koord_test_{i}, time_steps)')\n",
    "\n",
    "for i in range(len(test_file_names)):\n",
    "    exec(f'_, test_y_{i} = create_timeseries_split(razlika_test_{i}, time_steps)')"
   ]
  },
  {
   "cell_type": "code",
   "execution_count": 17,
   "id": "fbd2c013",
   "metadata": {},
   "outputs": [],
   "source": [
    "train_X = np.asarray(train_koord_X_0)\n",
    "for i in range(1,len(train_files_names)):\n",
    "    exec(f'train_X = np.append(train_X, train_koord_X_{i}, axis=0)')"
   ]
  },
  {
   "cell_type": "code",
   "execution_count": 18,
   "id": "c2026ada",
   "metadata": {},
   "outputs": [],
   "source": [
    "train_y = np.asarray(train_y_0)\n",
    "for i in range(1,len(train_files_names)):\n",
    "    exec(f'train_y = np.append(train_y, train_y_{i}, axis=0)')"
   ]
  },
  {
   "cell_type": "code",
   "execution_count": 19,
   "id": "c15e3dc7",
   "metadata": {},
   "outputs": [],
   "source": [
    "test_X = np.asarray(test_koord_X_0)\n",
    "for i in range(1,len(test_file_names)):\n",
    "    exec(f'test_X = np.append(test_X, test_koord_X_{i}, axis=0)')"
   ]
  },
  {
   "cell_type": "code",
   "execution_count": 20,
   "id": "b87cce75",
   "metadata": {},
   "outputs": [],
   "source": [
    "test_y = np.asarray(test_y_0)\n",
    "for i in range(1,len(test_file_names)):\n",
    "    exec(f'test_y = np.append(test_y, test_y_{i}, axis=0)')"
   ]
  },
  {
   "cell_type": "code",
   "execution_count": 21,
   "id": "bc7033aa",
   "metadata": {
    "executionInfo": {
     "elapsed": 2,
     "status": "ok",
     "timestamp": 1710681547336,
     "user": {
      "displayName": "Matija Grulovic",
      "userId": "10099424245028057757"
     },
     "user_tz": -60
    },
    "id": "bc7033aa"
   },
   "outputs": [
    {
     "data": {
      "text/plain": [
       "(8, 1)"
      ]
     },
     "execution_count": 21,
     "metadata": {},
     "output_type": "execute_result"
    }
   ],
   "source": [
    "input_shape = (time_steps, 1)\n",
    "input_shape"
   ]
  },
  {
   "cell_type": "code",
   "execution_count": 22,
   "id": "b1d653db",
   "metadata": {},
   "outputs": [
    {
     "name": "stdout",
     "output_type": "stream",
     "text": [
      "WARNING:tensorflow:From D:\\Users\\mata2\\anaconda3\\Lib\\site-packages\\keras\\src\\backend.py:873: The name tf.get_default_graph is deprecated. Please use tf.compat.v1.get_default_graph instead.\n",
      "\n",
      "WARNING:tensorflow:From D:\\Users\\mata2\\anaconda3\\Lib\\site-packages\\keras\\src\\backend.py:6642: The name tf.nn.max_pool is deprecated. Please use tf.nn.max_pool2d instead.\n",
      "\n"
     ]
    }
   ],
   "source": [
    "keras.utils.set_random_seed(7)\n",
    "optimizerMSE = keras.optimizers.Adam(learning_rate=0.0001)\n",
    "\n",
    "modelMSE = Sequential()\n",
    "modelMSE.add(Input(shape=input_shape))\n",
    "modelMSE.add(Conv1D(filters=16, kernel_size=3,padding='same', activation=LeakyReLU()))\n",
    "modelMSE.add(MaxPooling1D(pool_size=3))\n",
    "modelMSE.add(Conv1D(filters=16, kernel_size=4,padding='same', activation=LeakyReLU()))\n",
    "modelMSE.add(Flatten())\n",
    "modelMSE.add(Dense(32, activation=LeakyReLU()))\n",
    "modelMSE.add(Dense(units = 1, activation=LeakyReLU()))\n",
    "modelMSE.compile(loss='mean_squared_error', optimizer = optimizerMSE)"
   ]
  },
  {
   "cell_type": "code",
   "execution_count": 23,
   "id": "f8eb5379",
   "metadata": {
    "colab": {
     "base_uri": "https://localhost:8080/"
    },
    "executionInfo": {
     "elapsed": 15204601,
     "status": "ok",
     "timestamp": 1710696766831,
     "user": {
      "displayName": "Matija Grulovic",
      "userId": "10099424245028057757"
     },
     "user_tz": -60
    },
    "id": "f8eb5379",
    "outputId": "d127f087-79b0-4ce4-e88b-9525560cecba",
    "scrolled": true
   },
   "outputs": [
    {
     "name": "stdout",
     "output_type": "stream",
     "text": [
      "Epoch 1/100\n",
      "WARNING:tensorflow:From D:\\Users\\mata2\\anaconda3\\Lib\\site-packages\\keras\\src\\utils\\tf_utils.py:492: The name tf.ragged.RaggedTensorValue is deprecated. Please use tf.compat.v1.ragged.RaggedTensorValue instead.\n",
      "\n",
      "5718/5718 - 13s - loss: 901.9597 - 13s/epoch - 2ms/step\n",
      "Epoch 2/100\n",
      "5718/5718 - 11s - loss: 804.9222 - 11s/epoch - 2ms/step\n",
      "Epoch 3/100\n",
      "5718/5718 - 11s - loss: 692.6068 - 11s/epoch - 2ms/step\n",
      "Epoch 4/100\n",
      "5718/5718 - 11s - loss: 613.9617 - 11s/epoch - 2ms/step\n",
      "Epoch 5/100\n",
      "5718/5718 - 11s - loss: 546.7724 - 11s/epoch - 2ms/step\n",
      "Epoch 6/100\n",
      "5718/5718 - 11s - loss: 552.6808 - 11s/epoch - 2ms/step\n",
      "Epoch 7/100\n",
      "5718/5718 - 11s - loss: 424.5292 - 11s/epoch - 2ms/step\n",
      "Epoch 8/100\n",
      "5718/5718 - 11s - loss: 342.7637 - 11s/epoch - 2ms/step\n",
      "Epoch 9/100\n",
      "5718/5718 - 11s - loss: 278.8777 - 11s/epoch - 2ms/step\n",
      "Epoch 10/100\n",
      "5718/5718 - 11s - loss: 274.5349 - 11s/epoch - 2ms/step\n",
      "Epoch 11/100\n",
      "5718/5718 - 11s - loss: 216.9657 - 11s/epoch - 2ms/step\n",
      "Epoch 12/100\n",
      "5718/5718 - 11s - loss: 202.4786 - 11s/epoch - 2ms/step\n",
      "Epoch 13/100\n",
      "5718/5718 - 11s - loss: 187.2737 - 11s/epoch - 2ms/step\n",
      "Epoch 14/100\n",
      "5718/5718 - 11s - loss: 155.9949 - 11s/epoch - 2ms/step\n",
      "Epoch 15/100\n",
      "5718/5718 - 11s - loss: 126.8882 - 11s/epoch - 2ms/step\n",
      "Epoch 16/100\n",
      "5718/5718 - 11s - loss: 102.0223 - 11s/epoch - 2ms/step\n",
      "Epoch 17/100\n",
      "5718/5718 - 11s - loss: 98.9094 - 11s/epoch - 2ms/step\n",
      "Epoch 18/100\n",
      "5718/5718 - 11s - loss: 89.9960 - 11s/epoch - 2ms/step\n",
      "Epoch 19/100\n",
      "5718/5718 - 11s - loss: 91.4331 - 11s/epoch - 2ms/step\n",
      "Epoch 20/100\n",
      "5718/5718 - 11s - loss: 82.2255 - 11s/epoch - 2ms/step\n",
      "Epoch 21/100\n",
      "5718/5718 - 11s - loss: 74.8466 - 11s/epoch - 2ms/step\n",
      "Epoch 22/100\n",
      "5718/5718 - 11s - loss: 68.5255 - 11s/epoch - 2ms/step\n",
      "Epoch 23/100\n",
      "5718/5718 - 11s - loss: 62.0540 - 11s/epoch - 2ms/step\n",
      "Epoch 24/100\n",
      "5718/5718 - 11s - loss: 64.1194 - 11s/epoch - 2ms/step\n",
      "Epoch 25/100\n",
      "5718/5718 - 11s - loss: 60.2322 - 11s/epoch - 2ms/step\n",
      "Epoch 26/100\n",
      "5718/5718 - 11s - loss: 59.2409 - 11s/epoch - 2ms/step\n",
      "Epoch 27/100\n",
      "5718/5718 - 11s - loss: 57.5895 - 11s/epoch - 2ms/step\n",
      "Epoch 28/100\n",
      "5718/5718 - 11s - loss: 54.4921 - 11s/epoch - 2ms/step\n",
      "Epoch 29/100\n",
      "5718/5718 - 11s - loss: 63.4419 - 11s/epoch - 2ms/step\n",
      "Epoch 30/100\n",
      "5718/5718 - 11s - loss: 57.1015 - 11s/epoch - 2ms/step\n",
      "Epoch 31/100\n",
      "5718/5718 - 11s - loss: 53.1866 - 11s/epoch - 2ms/step\n",
      "Epoch 32/100\n",
      "5718/5718 - 11s - loss: 51.1197 - 11s/epoch - 2ms/step\n",
      "Epoch 33/100\n",
      "5718/5718 - 11s - loss: 52.1107 - 11s/epoch - 2ms/step\n",
      "Epoch 34/100\n",
      "5718/5718 - 11s - loss: 54.1703 - 11s/epoch - 2ms/step\n",
      "Epoch 35/100\n",
      "5718/5718 - 11s - loss: 50.2695 - 11s/epoch - 2ms/step\n",
      "Epoch 36/100\n",
      "5718/5718 - 11s - loss: 47.5911 - 11s/epoch - 2ms/step\n",
      "Epoch 37/100\n",
      "5718/5718 - 11s - loss: 44.8992 - 11s/epoch - 2ms/step\n",
      "Epoch 38/100\n",
      "5718/5718 - 11s - loss: 46.5934 - 11s/epoch - 2ms/step\n",
      "Epoch 39/100\n",
      "5718/5718 - 11s - loss: 45.9859 - 11s/epoch - 2ms/step\n",
      "Epoch 40/100\n",
      "5718/5718 - 11s - loss: 46.2011 - 11s/epoch - 2ms/step\n",
      "Epoch 41/100\n",
      "5718/5718 - 11s - loss: 45.0605 - 11s/epoch - 2ms/step\n",
      "Epoch 42/100\n",
      "5718/5718 - 11s - loss: 42.4397 - 11s/epoch - 2ms/step\n",
      "Epoch 43/100\n",
      "5718/5718 - 11s - loss: 46.7314 - 11s/epoch - 2ms/step\n",
      "Epoch 44/100\n",
      "5718/5718 - 11s - loss: 43.3697 - 11s/epoch - 2ms/step\n",
      "Epoch 45/100\n",
      "5718/5718 - 11s - loss: 45.0160 - 11s/epoch - 2ms/step\n",
      "Epoch 46/100\n",
      "5718/5718 - 11s - loss: 43.0523 - 11s/epoch - 2ms/step\n",
      "Epoch 47/100\n",
      "5718/5718 - 11s - loss: 45.2626 - 11s/epoch - 2ms/step\n",
      "Epoch 48/100\n",
      "5718/5718 - 11s - loss: 42.3483 - 11s/epoch - 2ms/step\n",
      "Epoch 49/100\n",
      "5718/5718 - 11s - loss: 43.2617 - 11s/epoch - 2ms/step\n",
      "Epoch 50/100\n",
      "5718/5718 - 11s - loss: 41.7037 - 11s/epoch - 2ms/step\n",
      "Epoch 51/100\n",
      "5718/5718 - 11s - loss: 43.5955 - 11s/epoch - 2ms/step\n",
      "Epoch 52/100\n",
      "5718/5718 - 11s - loss: 42.9848 - 11s/epoch - 2ms/step\n",
      "Epoch 53/100\n",
      "5718/5718 - 11s - loss: 42.6097 - 11s/epoch - 2ms/step\n",
      "Epoch 54/100\n",
      "5718/5718 - 11s - loss: 41.5063 - 11s/epoch - 2ms/step\n",
      "Epoch 55/100\n",
      "5718/5718 - 11s - loss: 41.6952 - 11s/epoch - 2ms/step\n",
      "Epoch 56/100\n",
      "5718/5718 - 11s - loss: 41.0382 - 11s/epoch - 2ms/step\n",
      "Epoch 57/100\n",
      "5718/5718 - 11s - loss: 42.1777 - 11s/epoch - 2ms/step\n",
      "Epoch 58/100\n",
      "5718/5718 - 11s - loss: 42.0791 - 11s/epoch - 2ms/step\n",
      "Epoch 59/100\n",
      "5718/5718 - 11s - loss: 40.4607 - 11s/epoch - 2ms/step\n",
      "Epoch 60/100\n",
      "5718/5718 - 11s - loss: 42.5562 - 11s/epoch - 2ms/step\n",
      "Epoch 61/100\n",
      "5718/5718 - 11s - loss: 40.7879 - 11s/epoch - 2ms/step\n",
      "Epoch 62/100\n",
      "5718/5718 - 11s - loss: 41.1068 - 11s/epoch - 2ms/step\n",
      "Epoch 63/100\n",
      "5718/5718 - 11s - loss: 41.7861 - 11s/epoch - 2ms/step\n",
      "Epoch 64/100\n",
      "5718/5718 - 11s - loss: 39.5850 - 11s/epoch - 2ms/step\n",
      "Epoch 65/100\n",
      "5718/5718 - 11s - loss: 39.6761 - 11s/epoch - 2ms/step\n",
      "Epoch 66/100\n",
      "5718/5718 - 11s - loss: 40.5165 - 11s/epoch - 2ms/step\n",
      "Epoch 67/100\n",
      "5718/5718 - 11s - loss: 39.4351 - 11s/epoch - 2ms/step\n",
      "Epoch 68/100\n",
      "5718/5718 - 11s - loss: 40.2088 - 11s/epoch - 2ms/step\n",
      "Epoch 69/100\n",
      "5718/5718 - 11s - loss: 39.7387 - 11s/epoch - 2ms/step\n",
      "Epoch 70/100\n",
      "5718/5718 - 11s - loss: 39.2306 - 11s/epoch - 2ms/step\n",
      "Epoch 71/100\n",
      "5718/5718 - 11s - loss: 39.1794 - 11s/epoch - 2ms/step\n",
      "Epoch 72/100\n",
      "5718/5718 - 11s - loss: 40.2475 - 11s/epoch - 2ms/step\n",
      "Epoch 73/100\n",
      "5718/5718 - 11s - loss: 39.4808 - 11s/epoch - 2ms/step\n",
      "Epoch 74/100\n",
      "5718/5718 - 11s - loss: 40.1718 - 11s/epoch - 2ms/step\n",
      "Epoch 75/100\n",
      "5718/5718 - 11s - loss: 38.7966 - 11s/epoch - 2ms/step\n",
      "Epoch 76/100\n",
      "5718/5718 - 11s - loss: 39.7246 - 11s/epoch - 2ms/step\n",
      "Epoch 77/100\n",
      "5718/5718 - 11s - loss: 38.7219 - 11s/epoch - 2ms/step\n",
      "Epoch 78/100\n",
      "5718/5718 - 11s - loss: 38.5246 - 11s/epoch - 2ms/step\n",
      "Epoch 79/100\n",
      "5718/5718 - 11s - loss: 38.6124 - 11s/epoch - 2ms/step\n",
      "Epoch 80/100\n",
      "5718/5718 - 11s - loss: 39.0946 - 11s/epoch - 2ms/step\n",
      "Epoch 81/100\n",
      "5718/5718 - 11s - loss: 37.8133 - 11s/epoch - 2ms/step\n",
      "Epoch 82/100\n",
      "5718/5718 - 11s - loss: 38.7321 - 11s/epoch - 2ms/step\n",
      "Epoch 83/100\n",
      "5718/5718 - 11s - loss: 37.9924 - 11s/epoch - 2ms/step\n",
      "Epoch 84/100\n",
      "5718/5718 - 12s - loss: 39.0941 - 12s/epoch - 2ms/step\n",
      "Epoch 85/100\n",
      "5718/5718 - 11s - loss: 38.3296 - 11s/epoch - 2ms/step\n",
      "Epoch 86/100\n",
      "5718/5718 - 11s - loss: 38.5537 - 11s/epoch - 2ms/step\n",
      "Epoch 87/100\n",
      "5718/5718 - 12s - loss: 38.6365 - 12s/epoch - 2ms/step\n",
      "Epoch 88/100\n",
      "5718/5718 - 12s - loss: 38.3056 - 12s/epoch - 2ms/step\n",
      "Epoch 89/100\n",
      "5718/5718 - 12s - loss: 38.8228 - 12s/epoch - 2ms/step\n",
      "Epoch 90/100\n",
      "5718/5718 - 12s - loss: 37.6932 - 12s/epoch - 2ms/step\n",
      "Epoch 91/100\n",
      "5718/5718 - 12s - loss: 37.6125 - 12s/epoch - 2ms/step\n",
      "Epoch 92/100\n",
      "5718/5718 - 12s - loss: 38.0087 - 12s/epoch - 2ms/step\n",
      "Epoch 93/100\n",
      "5718/5718 - 12s - loss: 38.1505 - 12s/epoch - 2ms/step\n",
      "Epoch 94/100\n",
      "5718/5718 - 12s - loss: 37.4082 - 12s/epoch - 2ms/step\n",
      "Epoch 95/100\n",
      "5718/5718 - 11s - loss: 37.6918 - 11s/epoch - 2ms/step\n",
      "Epoch 96/100\n",
      "5718/5718 - 11s - loss: 37.9478 - 11s/epoch - 2ms/step\n",
      "Epoch 97/100\n",
      "5718/5718 - 12s - loss: 37.0434 - 12s/epoch - 2ms/step\n",
      "Epoch 98/100\n",
      "5718/5718 - 11s - loss: 37.5660 - 11s/epoch - 2ms/step\n",
      "Epoch 99/100\n",
      "5718/5718 - 12s - loss: 37.1303 - 12s/epoch - 2ms/step\n",
      "Epoch 100/100\n",
      "5718/5718 - 11s - loss: 37.0532 - 11s/epoch - 2ms/step\n"
     ]
    }
   ],
   "source": [
    "historyMSE = modelMSE.fit(train_X, train_y, epochs=100, batch_size = 256, shuffle=False, verbose = 2)"
   ]
  },
  {
   "cell_type": "code",
   "execution_count": 24,
   "id": "71c1e0df",
   "metadata": {
    "colab": {
     "base_uri": "https://localhost:8080/"
    },
    "executionInfo": {
     "elapsed": 41500,
     "status": "ok",
     "timestamp": 1710679617560,
     "user": {
      "displayName": "Matija Grulovic",
      "userId": "10099424245028057757"
     },
     "user_tz": -60
    },
    "id": "71c1e0df",
    "outputId": "520d3e8b-9bb4-48f2-8a08-9779a27f0d0d",
    "scrolled": false
   },
   "outputs": [
    {
     "name": "stdout",
     "output_type": "stream",
     "text": [
      "11436/11436 [==============================] - 14s 1ms/step - loss: 37.5629\n"
     ]
    }
   ],
   "source": [
    "train_scores = modelMSE.evaluate(test_X, test_y)"
   ]
  },
  {
   "cell_type": "code",
   "execution_count": 25,
   "id": "510f09f5",
   "metadata": {
    "colab": {
     "base_uri": "https://localhost:8080/"
    },
    "executionInfo": {
     "elapsed": 183330,
     "status": "ok",
     "timestamp": 1710679800888,
     "user": {
      "displayName": "Matija Grulovic",
      "userId": "10099424245028057757"
     },
     "user_tz": -60
    },
    "id": "510f09f5",
    "outputId": "ad1db14d-a815-4530-dc97-1f8675e74b0f"
   },
   "outputs": [
    {
     "name": "stdout",
     "output_type": "stream",
     "text": [
      "11436/11436 [==============================] - 14s 1ms/step\n"
     ]
    }
   ],
   "source": [
    "#train_predict_MSE = modelMSE.predict(train_X)\n",
    "test_predict_MSE = modelMSE.predict(test_X)"
   ]
  },
  {
   "cell_type": "code",
   "execution_count": 26,
   "id": "25bbc368",
   "metadata": {
    "scrolled": false
   },
   "outputs": [
    {
     "name": "stdout",
     "output_type": "stream",
     "text": [
      "Model: \"sequential\"\n",
      "_________________________________________________________________\n",
      " Layer (type)                Output Shape              Param #   \n",
      "=================================================================\n",
      " conv1d (Conv1D)             (None, 8, 16)             64        \n",
      "                                                                 \n",
      " max_pooling1d (MaxPooling1  (None, 2, 16)             0         \n",
      " D)                                                              \n",
      "                                                                 \n",
      " conv1d_1 (Conv1D)           (None, 2, 16)             1040      \n",
      "                                                                 \n",
      " flatten (Flatten)           (None, 32)                0         \n",
      "                                                                 \n",
      " dense (Dense)               (None, 32)                1056      \n",
      "                                                                 \n",
      " dense_1 (Dense)             (None, 1)                 33        \n",
      "                                                                 \n",
      "=================================================================\n",
      "Total params: 2193 (8.57 KB)\n",
      "Trainable params: 2193 (8.57 KB)\n",
      "Non-trainable params: 0 (0.00 Byte)\n",
      "_________________________________________________________________\n"
     ]
    }
   ],
   "source": [
    "modelMSE.summary()"
   ]
  },
  {
   "cell_type": "markdown",
   "id": "31265c0f",
   "metadata": {},
   "source": [
    "Ucitavamo standardne devijacije i srednje vrednosti"
   ]
  },
  {
   "cell_type": "code",
   "execution_count": 27,
   "id": "0a64c969",
   "metadata": {},
   "outputs": [],
   "source": [
    "std_dev = []\n",
    "with open(r\"C:\\Users\\mata2\\Desktop\\master\\Axis-projection-RNN\\odstupanja\\0k\\std_dev.txt\", 'r') as lines:\n",
    "    for line in lines:\n",
    "        std_dev.append(float(line.strip('\\n')))"
   ]
  },
  {
   "cell_type": "code",
   "execution_count": 28,
   "id": "f9dc7509",
   "metadata": {},
   "outputs": [],
   "source": [
    "sr_vrednost = []\n",
    "with open(r\"C:\\Users\\mata2\\Desktop\\master\\Axis-projection-RNN\\odstupanja\\0k\\sr_vrednost.txt\", 'r') as lines:\n",
    "    for line in lines:\n",
    "        sr_vrednost.append(float(line.strip('\\n')))"
   ]
  },
  {
   "cell_type": "markdown",
   "id": "8137f5cd",
   "metadata": {},
   "source": [
    "mean 3 sigma"
   ]
  },
  {
   "cell_type": "code",
   "execution_count": 29,
   "id": "bca1d441",
   "metadata": {},
   "outputs": [
    {
     "name": "stdout",
     "output_type": "stream",
     "text": [
      "350050 0.9565462137110878\n"
     ]
    }
   ],
   "source": [
    "i = time_steps\n",
    "mean_3std = 0\n",
    "for j in range(len(test_predict_MSE)):\n",
    "    if i%len(x_command) == 0:\n",
    "        i = time_steps\n",
    "    if sr_vrednost[i] - 3*std_dev[i] <= test_predict_MSE[j] <= sr_vrednost[i] + 3*std_dev[i]:\n",
    "            mean_3std += 1\n",
    "    i += 1\n",
    "print(mean_3std, mean_3std/len(test_predict_MSE))"
   ]
  },
  {
   "cell_type": "raw",
   "id": "8ad5c63e",
   "metadata": {},
   "source": [
    "350050 0.9565462137110878"
   ]
  },
  {
   "cell_type": "markdown",
   "id": "d64fd3d3",
   "metadata": {},
   "source": [
    "pravljenje min/max koord, posle se koriste za plot"
   ]
  },
  {
   "cell_type": "code",
   "execution_count": 36,
   "id": "9d489326",
   "metadata": {},
   "outputs": [],
   "source": [
    "min_kord = [float('inf') for x in range(61000)]\n",
    "max_kord = [float('-inf') for x in range(61000)]\n",
    "\n",
    "for i in range(len(x_command)):    \n",
    "    for j in range(len(train_files_names)):\n",
    "        exec(f'current_file = razlika_trening_{j}')\n",
    "        if current_file[i][0] < min_kord[i]:\n",
    "            min_kord[i] = current_file[i][0]\n",
    "        if current_file[i][0] > max_kord[i]:\n",
    "            max_kord[i] = current_file[i][0]"
   ]
  },
  {
   "cell_type": "markdown",
   "id": "52b817e2",
   "metadata": {},
   "source": [
    "min max pojas ZA KOORDINATE"
   ]
  },
  {
   "cell_type": "raw",
   "id": "40d42e9e",
   "metadata": {},
   "source": [
    "min_kord = [float('inf') for x in range(61000)]\n",
    "max_kord = [float('-inf') for x in range(61000)]\n",
    "\n",
    "for i in range(len(train_)):    \n",
    "    if train_[i] < min_kord[i%61000]:\n",
    "        min_kord[i%61000] = train_[i]\n",
    "    if train_[i] > max_kord[i%61000]:\n",
    "        max_kord[i%61000] = train_[i]"
   ]
  },
  {
   "cell_type": "markdown",
   "id": "4a14bf93",
   "metadata": {},
   "source": [
    "cuvamo/ucitavamo model"
   ]
  },
  {
   "cell_type": "raw",
   "id": "d8af157d",
   "metadata": {},
   "source": [
    "modelMSE.save(r\"C:\\Users\\mata2\\Desktop\\master\\Axis-projection-RNN\\modeli\\Difference predictions\\X - CNN - coordinates\")"
   ]
  },
  {
   "cell_type": "raw",
   "id": "e1062973",
   "metadata": {},
   "source": [
    "modelMSE = keras.saving.load_model(r\"C:\\Users\\mata2\\Desktop\\master\\Axis-projection-RNN\\modeli\\Difference predictions\\X - CNN - coordinates\")"
   ]
  },
  {
   "cell_type": "markdown",
   "id": "8f0c1587",
   "metadata": {},
   "source": [
    "# NA TEST SKUPU - plotovi trajektorija"
   ]
  },
  {
   "cell_type": "markdown",
   "id": "96d0cb2c",
   "metadata": {},
   "source": [
    "test_ = realizovana trajektorija\n",
    "\n",
    "test_predict_MSE = predvidjena RAZLIKA koordinata od x_command\n",
    "\n",
    "razlika_test_{} = realizovana RAZLIKA od test podataka od x_command - CELA TRAJEKTORIJA\n",
    "\n",
    "test_y_{} = REALIZOVANA y koordinata od razlika_test_{}"
   ]
  },
  {
   "cell_type": "markdown",
   "id": "c638ea40",
   "metadata": {},
   "source": [
    "X_COMMAND - TEST_ = ODSTUPANJE/RAZLIKA_TEST_\n",
    "\n",
    "X_COMMAND[TIME_STEPS] + test_predict_MSE[0] = PRVU KOORDINATU TRAJEKTORIJE PREDVIDJENE VREDNOSTI"
   ]
  },
  {
   "cell_type": "code",
   "execution_count": 33,
   "id": "c1027460",
   "metadata": {},
   "outputs": [],
   "source": [
    "command_length = len(x_command)"
   ]
  },
  {
   "cell_type": "code",
   "execution_count": 34,
   "id": "b5ecd7da",
   "metadata": {},
   "outputs": [],
   "source": [
    "for j in range(len(test_file_names)):\n",
    "    exec(f'predvidjena_trajektorija_{j} = []')\n",
    "    for i in range(61000 - time_steps):\n",
    "        exec(f'predvidjena_trajektorija_{j}.append(x_command[i + time_steps] + test_predict_MSE[j*(61000-time_steps) + i])')"
   ]
  },
  {
   "cell_type": "code",
   "execution_count": 35,
   "id": "822aebcc",
   "metadata": {},
   "outputs": [],
   "source": [
    "plt.figure(figsize=(12,7))\n",
    "plt.subplot(211)\n",
    "plt.axvline(x = 4800, color = 'b', label = 'axvline - full height')\n",
    "plt.plot(x_command[time_steps::],'r')\n",
    "plt.plot(predvidjena_trajektorija_0,'b')\n",
    "plt.plot(test_[time_steps:command_length], 'g')\n",
    "plt.show()\n",
    "\n",
    "plt.subplot(212)\n",
    "plt.axvline(x = 4800, color = 'b', label = 'axvline - full height')\n",
    "plt.plot(x_command[time_steps::],'r')\n",
    "plt.plot(predvidjena_trajektorija_0,'b')\n",
    "plt.plot(test_[time_steps:61000], 'g')\n",
    "plt.show()"
   ]
  },
  {
   "cell_type": "markdown",
   "id": "98b19774",
   "metadata": {},
   "source": []
  },
  {
   "cell_type": "markdown",
   "id": "6769fed2",
   "metadata": {},
   "source": [
    "# NA TEST SKUPU - min/max plotovi"
   ]
  },
  {
   "cell_type": "markdown",
   "id": "d7470507",
   "metadata": {},
   "source": [
    "MIN MAX TRAJEKTORIJE"
   ]
  },
  {
   "cell_type": "code",
   "execution_count": 52,
   "id": "63bfa16d",
   "metadata": {},
   "outputs": [],
   "source": [
    "min_trajektorija = [float('inf') for i in range(61000)]\n",
    "max_trajektorija = [float('-inf') for i in range(61000)]\n",
    "for j in range(len(train_files_names)):\n",
    "    for i in range(61000):\n",
    "        if train_[j*61000 + i] <= min_trajektorija[i]:\n",
    "            min_trajektorija[i] = train_[j*61000 + i]\n",
    "        if train_[j*61000 + i] >= max_trajektorija[i]:\n",
    "            max_trajektorija[i] = train_[j*61000 + i]\n",
    "    "
   ]
  },
  {
   "cell_type": "code",
   "execution_count": 56,
   "id": "a99d2c71",
   "metadata": {},
   "outputs": [],
   "source": [
    "i = time_steps\n",
    "plt.figure(figsize=(11,7))\n",
    "for j in range(len(predvidjena_trajektorija_0)):\n",
    "    if i%61000 == 0:\n",
    "        i = time_steps    \n",
    "    if min_trajektorija[i] <= predvidjena_trajektorija_0[j] <= max_trajektorija[i]:\n",
    "        plt.plot(i, predvidjena_trajektorija_0[j], color='black', marker='o', markersize=2)\n",
    "    else:\n",
    "        plt.plot(i, predvidjena_trajektorija_0[j], color='red',marker='o',markersize=2)\n",
    "    i += 1\n",
    "plt.plot(x_command, linewidth = 1)\n",
    "plt.show()"
   ]
  },
  {
   "cell_type": "code",
   "execution_count": 33,
   "id": "7e5b549d",
   "metadata": {},
   "outputs": [],
   "source": [
    "i = time_steps\n",
    "plt.figure(figsize=(12,7))\n",
    "plt.subplot(211)\n",
    "for j in range(len(predvidjena_trajektorija_0)):\n",
    "    if i%61000 == 0:\n",
    "        i = time_steps    \n",
    "    if min_trajektorija[i] <= predvidjena_trajektorija_0[j] <= max_trajektorija[i]:\n",
    "        plt.plot(i, predvidjena_trajektorija_0[j], color='black', marker='o', markersize=4)\n",
    "    else:\n",
    "        plt.plot(i, predvidjena_trajektorija_0[j], color='red',marker='o',markersize=4)\n",
    "    i += 1\n",
    "plt.plot(x_command, linewidth = 1)\n",
    "plt.axvline(x = 21150, color = 'b', label = 'axvline - full height')\n",
    "\n",
    "i = time_steps\n",
    "plt.subplot(212)\n",
    "for j in range(len(predvidjena_trajektorija_0)):\n",
    "    if i%61000 == 0:\n",
    "        i = time_steps    \n",
    "    if min_trajektorija[i] <= predvidjena_trajektorija_0[j] <= max_trajektorija[i]:\n",
    "        plt.plot(i, predvidjena_trajektorija_0[j], color='black', marker='o', markersize=4)\n",
    "    else:\n",
    "        plt.plot(i, predvidjena_trajektorija_0[j], color='red',marker='o',markersize=4)\n",
    "    i += 1\n",
    "plt.plot(x_command, linewidth = 1)\n",
    "plt.axvline(x = 21150, color = 'b', label = 'axvline - full height')\n",
    "plt.show()"
   ]
  },
  {
   "cell_type": "raw",
   "id": "5ba32c48",
   "metadata": {},
   "source": []
  },
  {
   "cell_type": "markdown",
   "id": "7eb2a730",
   "metadata": {},
   "source": [
    "# NA TEST SKUPU -tri sigma plotovi"
   ]
  },
  {
   "cell_type": "markdown",
   "id": "761a1045",
   "metadata": {},
   "source": [
    "3SIGMA TRAJEKTORIJE"
   ]
  },
  {
   "cell_type": "markdown",
   "id": "c9543acd",
   "metadata": {},
   "source": [
    "pravimo 3 sigma pojas"
   ]
  },
  {
   "cell_type": "code",
   "execution_count": 57,
   "id": "1b0c0c5c",
   "metadata": {},
   "outputs": [],
   "source": [
    "tri_sigma_lower = []\n",
    "tri_sigma_upper = []\n",
    "\n",
    "for i in range(len(x_command)):\n",
    "    tri_sigma_lower.append(sr_vrednost[i] - 3*std_dev[i])\n",
    "    tri_sigma_upper.append(sr_vrednost[i] + 3*std_dev[i])"
   ]
  },
  {
   "cell_type": "code",
   "execution_count": 64,
   "id": "073ff2b4",
   "metadata": {},
   "outputs": [],
   "source": [
    "tri_sigma_lower_trajektorija = []\n",
    "tri_sigma_upper_trajektorija = []\n",
    "\n",
    "for i in range(61000):\n",
    "    tri_sigma_lower_trajektorija.append(x_command[i] + tri_sigma_lower[i])\n",
    "    tri_sigma_upper_trajektorija.append(x_command[i] + tri_sigma_upper[i])"
   ]
  },
  {
   "cell_type": "code",
   "execution_count": 71,
   "id": "92e2ce5d",
   "metadata": {},
   "outputs": [],
   "source": [
    "plt.figure(figsize=(12,7))\n",
    "plt.plot(tri_sigma_lower[time_steps:], 'blue')\n",
    "plt.plot(test_predict_MSE[:61000], 'green')\n",
    "plt.plot(tri_sigma_upper[time_steps:], 'red')\n",
    "plt.show()"
   ]
  },
  {
   "cell_type": "code",
   "execution_count": 78,
   "id": "2f860acb",
   "metadata": {},
   "outputs": [],
   "source": [
    "plt.figure(figsize=(12,7))\n",
    "plt.plot(tri_sigma_lower_trajektorija[time_steps:], 'blue')\n",
    "plt.plot(predvidjena_trajektorija_0, 'green')\n",
    "plt.plot(tri_sigma_upper_trajektorija[time_steps:], 'red')\n",
    "plt.show()"
   ]
  },
  {
   "cell_type": "code",
   "execution_count": null,
   "id": "be75b6f3",
   "metadata": {},
   "outputs": [],
   "source": []
  },
  {
   "cell_type": "markdown",
   "id": "61248537",
   "metadata": {},
   "source": [
    "# NA TEST SKUPU - 3 sigma (upadanje u pojas) plotovi"
   ]
  },
  {
   "cell_type": "code",
   "execution_count": 80,
   "id": "96b277ec",
   "metadata": {
    "scrolled": true
   },
   "outputs": [],
   "source": [
    "tri_sigma_lower = []\n",
    "tri_sigma_upper = []\n",
    "\n",
    "for i in range(len(x_command)):\n",
    "    tri_sigma_lower.append(sr_vrednost[i] - 3*std_dev[i])\n",
    "    tri_sigma_upper.append(sr_vrednost[i] + 3*std_dev[i])"
   ]
  },
  {
   "cell_type": "code",
   "execution_count": 72,
   "id": "c23db023",
   "metadata": {},
   "outputs": [],
   "source": [
    "for j in range(len(test_file_names)):\n",
    "    exec(f'trajektorija_odstupanja_{j} = []')\n",
    "    for i in range(61000 - time_steps):\n",
    "        exec(f'trajektorija_odstupanja_{j}.append(test_predict_MSE[j*(61000-time_steps) + i])')"
   ]
  },
  {
   "cell_type": "code",
   "execution_count": 87,
   "id": "a183c900",
   "metadata": {},
   "outputs": [],
   "source": [
    "plt.figure(figsize=(11,7))\n",
    "plt.plot(tri_sigma_lower[time_steps:], color= 'b')\n",
    "plt.plot(tri_sigma_upper[time_steps:], color = 'r')\n",
    "plt.plot(trajektorija_odstupanja_0, color = 'g')\n",
    "plt.show()"
   ]
  },
  {
   "cell_type": "code",
   "execution_count": 88,
   "id": "0966870d",
   "metadata": {},
   "outputs": [],
   "source": [
    "plt.figure(figsize=(11,7))\n",
    "for i in range(len(trajektorija_odstupanja_0)):\n",
    "    if tri_sigma_lower[time_steps + i] <= trajektorija_odstupanja_0[i] <= tri_sigma_upper[time_steps + i]:\n",
    "        plt.plot(i, trajektorija_odstupanja_0[i], color='black', marker = 'o', markersize = 2)\n",
    "    else:\n",
    "        plt.plot(i, trajektorija_odstupanja_0[i], color='red', marker = 'o', markersize = 2)\n"
   ]
  },
  {
   "cell_type": "code",
   "execution_count": null,
   "id": "4b8328c9",
   "metadata": {},
   "outputs": [],
   "source": []
  },
  {
   "cell_type": "code",
   "execution_count": 45,
   "id": "62038bf6",
   "metadata": {},
   "outputs": [],
   "source": [
    "plt.figure(figsize=(11,7))\n",
    "for i in range(len(trajektorija_odstupanja_1)):\n",
    "    if tri_sigma_lower[time_steps + i] <= trajektorija_odstupanja_1[i] <= tri_sigma_upper[time_steps + i]:\n",
    "        plt.plot(i, trajektorija_odstupanja_1[i], color='black', marker = 'o', markersize = 2)\n",
    "    else:\n",
    "        plt.plot(i, trajektorija_odstupanja_1[i], color='red', marker = 'o', markersize = 2)\n"
   ]
  },
  {
   "cell_type": "code",
   "execution_count": null,
   "id": "67ffc130",
   "metadata": {},
   "outputs": [],
   "source": []
  }
 ],
 "metadata": {
  "colab": {
   "provenance": []
  },
  "kernelspec": {
   "display_name": "Python 3 (ipykernel)",
   "language": "python",
   "name": "python3"
  },
  "language_info": {
   "codemirror_mode": {
    "name": "ipython",
    "version": 3
   },
   "file_extension": ".py",
   "mimetype": "text/x-python",
   "name": "python",
   "nbconvert_exporter": "python",
   "pygments_lexer": "ipython3",
   "version": "3.11.5"
  }
 },
 "nbformat": 4,
 "nbformat_minor": 5
}
