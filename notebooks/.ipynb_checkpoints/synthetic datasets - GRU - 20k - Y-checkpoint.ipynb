{
 "cells": [
  {
   "cell_type": "code",
   "execution_count": 1,
   "id": "6ebe99d5",
   "metadata": {
    "executionInfo": {
     "elapsed": 6834,
     "status": "ok",
     "timestamp": 1710664771017,
     "user": {
      "displayName": "Matija Grulovic",
      "userId": "10099424245028057757"
     },
     "user_tz": -60
    },
    "id": "6ebe99d5"
   },
   "outputs": [
    {
     "name": "stdout",
     "output_type": "stream",
     "text": [
      "WARNING:tensorflow:From D:\\Users\\mata2\\anaconda3\\Lib\\site-packages\\keras\\src\\losses.py:2976: The name tf.losses.sparse_softmax_cross_entropy is deprecated. Please use tf.compat.v1.losses.sparse_softmax_cross_entropy instead.\n",
      "\n"
     ]
    }
   ],
   "source": [
    "import numpy as np\n",
    "import pandas as pd\n",
    "import keras\n",
    "import random\n",
    "import tensorflow as tf\n",
    "from sklearn import preprocessing\n",
    "from sklearn import metrics\n",
    "from keras import backend as K\n",
    "from tensorflow.keras.models import Sequential\n",
    "from tensorflow.keras.models import Model\n",
    "from tensorflow.keras.layers import Dense, SimpleRNN, RNN, LSTM, GRU, SpatialDropout1D, Dropout"
   ]
  },
  {
   "cell_type": "code",
   "execution_count": 2,
   "id": "75f0be5b",
   "metadata": {
    "executionInfo": {
     "elapsed": 4,
     "status": "ok",
     "timestamp": 1710664771018,
     "user": {
      "displayName": "Matija Grulovic",
      "userId": "10099424245028057757"
     },
     "user_tz": -60
    },
    "id": "75f0be5b"
   },
   "outputs": [],
   "source": [
    "import matplotlib.pyplot as plt\n",
    "import os, os.path, sys\n",
    "import copy"
   ]
  },
  {
   "cell_type": "code",
   "execution_count": 35,
   "id": "f8d678cf",
   "metadata": {
    "executionInfo": {
     "elapsed": 9,
     "status": "ok",
     "timestamp": 1710664812972,
     "user": {
      "displayName": "Matija Grulovic",
      "userId": "10099424245028057757"
     },
     "user_tz": -60
    },
    "id": "f8d678cf"
   },
   "outputs": [],
   "source": [
    "path = r\"C:\\Users\\mata2\\Desktop\\master\\podaci\\20k\\X\""
   ]
  },
  {
   "cell_type": "code",
   "execution_count": 36,
   "id": "43cd7520",
   "metadata": {
    "executionInfo": {
     "elapsed": 617,
     "status": "ok",
     "timestamp": 1710664813582,
     "user": {
      "displayName": "Matija Grulovic",
      "userId": "10099424245028057757"
     },
     "user_tz": -60
    },
    "id": "43cd7520"
   },
   "outputs": [],
   "source": [
    "dir = os.listdir(path)"
   ]
  },
  {
   "cell_type": "code",
   "execution_count": 37,
   "id": "88795fa1",
   "metadata": {
    "executionInfo": {
     "elapsed": 3,
     "status": "ok",
     "timestamp": 1710664816406,
     "user": {
      "displayName": "Matija Grulovic",
      "userId": "10099424245028057757"
     },
     "user_tz": -60
    },
    "id": "88795fa1"
   },
   "outputs": [],
   "source": [
    "file_names = []\n",
    "for file in dir:\n",
    "    file_names.append(file)"
   ]
  },
  {
   "cell_type": "code",
   "execution_count": 38,
   "id": "Shl71pSL3QGp",
   "metadata": {
    "executionInfo": {
     "elapsed": 28683,
     "status": "ok",
     "timestamp": 1710674426623,
     "user": {
      "displayName": "Matija Grulovic",
      "userId": "10099424245028057757"
     },
     "user_tz": -60
    },
    "id": "Shl71pSL3QGp"
   },
   "outputs": [],
   "source": [
    "min_kord = [float('inf') for x in range(61000)]\n",
    "max_kord = [float('-inf') for x in range(61000)]\n",
    "\n",
    "for file in file_names:\n",
    "  current_file = pd.read_csv(path+'/'+file, header=None)[:61000].astype('int')\n",
    "\n",
    "  for i in range(len(current_file)):\n",
    "    if current_file[0][i] < min_kord[i]:\n",
    "      min_kord[i] = current_file[0][i]\n",
    "    elif current_file[0][i] > max_kord[i]:\n",
    "      max_kord[i] = current_file[0][i]"
   ]
  },
  {
   "cell_type": "raw",
   "id": "4df078be",
   "metadata": {
    "executionInfo": {
     "elapsed": 614,
     "status": "ok",
     "timestamp": 1710664890143,
     "user": {
      "displayName": "Matija Grulovic",
      "userId": "10099424245028057757"
     },
     "user_tz": -60
    },
    "id": "db9c00ce"
   },
   "source": [
    "train_ = np.concatenate([pd.read_csv(path + \"/\" + file, header=None)[:61000].astype('int')\n",
    "                              for file in train_file_names], axis=0)\n",
    "test_ = np.concatenate([pd.read_csv(path + \"/\" + file, header=None)[:61000].astype('int')\n",
    "                              for file in test_file_names], axis=0)"
   ]
  },
  {
   "cell_type": "code",
   "execution_count": 39,
   "id": "905985b0",
   "metadata": {},
   "outputs": [],
   "source": [
    "kord_sum = [0 for x in range(61000)]\n",
    "\n",
    "for file in file_names:\n",
    "  current_file = pd.read_csv(path+'/'+file, header=None)[:61000].astype('int')\n",
    "\n",
    "  for i in range(len(current_file)):\n",
    "    kord_sum[i] += current_file[0][i]"
   ]
  },
  {
   "cell_type": "markdown",
   "id": "6d0cd0ee",
   "metadata": {},
   "source": [
    "napravljene su prosecne koordinate"
   ]
  },
  {
   "cell_type": "code",
   "execution_count": 40,
   "id": "674e8847",
   "metadata": {},
   "outputs": [],
   "source": [
    "average_kord = [x//len(file_names) for x in kord_sum]"
   ]
  },
  {
   "cell_type": "code",
   "execution_count": 41,
   "id": "b063753e",
   "metadata": {},
   "outputs": [],
   "source": [
    "synth_path = r\"C:\\Users\\mata2\\Desktop\\master\\Axis-projection-RNN\\sinteticki podaci\\20k\\X\""
   ]
  },
  {
   "cell_type": "code",
   "execution_count": 42,
   "id": "1db13895",
   "metadata": {},
   "outputs": [],
   "source": [
    "dir2 = os.listdir(synth_path)"
   ]
  },
  {
   "cell_type": "raw",
   "id": "d17427b8",
   "metadata": {},
   "source": [
    "file_names_synt = []\n",
    "for file in dir2:\n",
    "    file_names_synt.append(file)"
   ]
  },
  {
   "cell_type": "code",
   "execution_count": 61,
   "id": "b59efaa9",
   "metadata": {},
   "outputs": [],
   "source": [
    "file_names_synt = []\n",
    "i = 0\n",
    "for file in dir2:\n",
    "    i += 1\n",
    "    if i > 100:\n",
    "        break       \n",
    "    else:\n",
    "        file_names_synt.append(file)"
   ]
  },
  {
   "cell_type": "code",
   "execution_count": 62,
   "id": "dcd36378",
   "metadata": {},
   "outputs": [],
   "source": [
    "train_synt = np.concatenate([pd.read_csv(synth_path + \"/\" + file, header=None)[:61000].astype('int')\n",
    "                              for file in file_names_synt], axis=0)\n",
    "test_synt = np.concatenate([pd.read_csv(path + \"/\" + file, header=None)[:61000].astype('int')\n",
    "                              for file in file_names], axis=0)"
   ]
  },
  {
   "cell_type": "code",
   "execution_count": 45,
   "id": "03cf8cf6",
   "metadata": {
    "executionInfo": {
     "elapsed": 1,
     "status": "ok",
     "timestamp": 1710681491731,
     "user": {
      "displayName": "Matija Grulovic",
      "userId": "10099424245028057757"
     },
     "user_tz": -60
    },
    "id": "03cf8cf6"
   },
   "outputs": [],
   "source": [
    "def create_timeseries_split(data, time_steps):\n",
    "\n",
    "  # Get the number of samples in the data\n",
    "  num_samples = len(data) - time_steps\n",
    "\n",
    "  # Create empty arrays to store features and target values\n",
    "  x_train = np.zeros((num_samples, time_steps, 1))\n",
    "  y_train = np.zeros((num_samples, 1))\n",
    "\n",
    "  # Loop through the data and create features and target values\n",
    "  for i in range(num_samples):\n",
    "    # Extract a slice of data for the current feature\n",
    "    x_train[i] = data[i:i+time_steps, :]\n",
    "\n",
    "    # The target value is the next value after the feature\n",
    "    y_train[i] = data[i+time_steps, 0]\n",
    "\n",
    "  return x_train, y_train"
   ]
  },
  {
   "cell_type": "code",
   "execution_count": 46,
   "id": "0a745ab2",
   "metadata": {
    "executionInfo": {
     "elapsed": 216,
     "status": "ok",
     "timestamp": 1710681509731,
     "user": {
      "displayName": "Matija Grulovic",
      "userId": "10099424245028057757"
     },
     "user_tz": -60
    },
    "id": "0a745ab2"
   },
   "outputs": [],
   "source": [
    "time_steps = 1"
   ]
  },
  {
   "cell_type": "code",
   "execution_count": 65,
   "id": "19e071e1",
   "metadata": {
    "executionInfo": {
     "elapsed": 2614,
     "status": "ok",
     "timestamp": 1710681513262,
     "user": {
      "displayName": "Matija Grulovic",
      "userId": "10099424245028057757"
     },
     "user_tz": -60
    },
    "id": "19e071e1"
   },
   "outputs": [],
   "source": [
    "train_X, train_y = create_timeseries_split(train_synt, time_steps)"
   ]
  },
  {
   "cell_type": "code",
   "execution_count": 66,
   "id": "09ede67c",
   "metadata": {
    "executionInfo": {
     "elapsed": 590,
     "status": "ok",
     "timestamp": 1710681543874,
     "user": {
      "displayName": "Matija Grulovic",
      "userId": "10099424245028057757"
     },
     "user_tz": -60
    },
    "id": "09ede67c"
   },
   "outputs": [],
   "source": [
    "test_X, test_y = create_timeseries_split(test_synt, time_steps)"
   ]
  },
  {
   "cell_type": "code",
   "execution_count": 49,
   "id": "bc7033aa",
   "metadata": {
    "executionInfo": {
     "elapsed": 2,
     "status": "ok",
     "timestamp": 1710681547336,
     "user": {
      "displayName": "Matija Grulovic",
      "userId": "10099424245028057757"
     },
     "user_tz": -60
    },
    "id": "bc7033aa"
   },
   "outputs": [],
   "source": [
    "input_shape = (time_steps,1)"
   ]
  },
  {
   "cell_type": "code",
   "execution_count": 67,
   "id": "vIDZZWZbk4T4",
   "metadata": {
    "executionInfo": {
     "elapsed": 571,
     "status": "ok",
     "timestamp": 1710681555340,
     "user": {
      "displayName": "Matija Grulovic",
      "userId": "10099424245028057757"
     },
     "user_tz": -60
    },
    "id": "vIDZZWZbk4T4"
   },
   "outputs": [],
   "source": [
    "keras.utils.set_random_seed(7)\n",
    "optimizerMSE = keras.optimizers.Adam(learning_rate=0.0001)\n",
    "modelMSE = Sequential()\n",
    "modelMSE.add(GRU(units = 32, input_shape = input_shape, activation = keras.layers.LeakyReLU()))\n",
    "modelMSE.add(Dense(units = 32, activation=keras.layers.LeakyReLU()))\n",
    "modelMSE.add(Dense(units = 32, activation=keras.layers.LeakyReLU()))\n",
    "#modelMSE.add(Dense(units = 8, activation=keras.layers.LeakyReLU()))\n",
    "modelMSE.add(Dense(units = 1, activation=keras.layers.LeakyReLU(), bias_initializer='zeros', kernel_initializer='normal'))\n",
    "modelMSE.compile(loss='mean_squared_error', optimizer = optimizerMSE)\n"
   ]
  },
  {
   "cell_type": "code",
   "execution_count": 68,
   "id": "f8eb5379",
   "metadata": {
    "colab": {
     "base_uri": "https://localhost:8080/"
    },
    "executionInfo": {
     "elapsed": 15204601,
     "status": "ok",
     "timestamp": 1710696766831,
     "user": {
      "displayName": "Matija Grulovic",
      "userId": "10099424245028057757"
     },
     "user_tz": -60
    },
    "id": "f8eb5379",
    "outputId": "d127f087-79b0-4ce4-e88b-9525560cecba",
    "scrolled": true
   },
   "outputs": [
    {
     "name": "stdout",
     "output_type": "stream",
     "text": [
      "Epoch 1/4\n",
      "1490/1490 - 13s - loss: 2280515328.0000 - 13s/epoch - 9ms/step\n",
      "Epoch 2/4\n",
      "1490/1490 - 10s - loss: 1449.0405 - 10s/epoch - 7ms/step\n",
      "Epoch 3/4\n",
      "1490/1490 - 10s - loss: 1448.9495 - 10s/epoch - 7ms/step\n",
      "Epoch 4/4\n",
      "1490/1490 - 9s - loss: 1448.9950 - 9s/epoch - 6ms/step\n"
     ]
    }
   ],
   "source": [
    "historyMSE = modelMSE.fit(train_X, train_y, epochs=4, batch_size = 4096, verbose = 2)"
   ]
  },
  {
   "cell_type": "code",
   "execution_count": 69,
   "id": "71c1e0df",
   "metadata": {
    "colab": {
     "base_uri": "https://localhost:8080/"
    },
    "executionInfo": {
     "elapsed": 41500,
     "status": "ok",
     "timestamp": 1710679617560,
     "user": {
      "displayName": "Matija Grulovic",
      "userId": "10099424245028057757"
     },
     "user_tz": -60
    },
    "id": "71c1e0df",
    "outputId": "520d3e8b-9bb4-48f2-8a08-9779a27f0d0d",
    "scrolled": true
   },
   "outputs": [
    {
     "name": "stdout",
     "output_type": "stream",
     "text": [
      "57188/57188 [==============================] - 115s 2ms/step - loss: 1448.0469\n"
     ]
    }
   ],
   "source": [
    "train_scores = modelMSE.evaluate(test_X, test_y)"
   ]
  },
  {
   "cell_type": "code",
   "execution_count": 70,
   "id": "510f09f5",
   "metadata": {
    "colab": {
     "base_uri": "https://localhost:8080/"
    },
    "executionInfo": {
     "elapsed": 183330,
     "status": "ok",
     "timestamp": 1710679800888,
     "user": {
      "displayName": "Matija Grulovic",
      "userId": "10099424245028057757"
     },
     "user_tz": -60
    },
    "id": "510f09f5",
    "outputId": "ad1db14d-a815-4530-dc97-1f8675e74b0f"
   },
   "outputs": [
    {
     "name": "stdout",
     "output_type": "stream",
     "text": [
      "57188/57188 [==============================] - 61s 1ms/step\n"
     ]
    }
   ],
   "source": [
    "test_predict_MSE = modelMSE.predict(test_X)"
   ]
  },
  {
   "cell_type": "code",
   "execution_count": 71,
   "id": "0daaa6ff",
   "metadata": {},
   "outputs": [
    {
     "name": "stdout",
     "output_type": "stream",
     "text": [
      "Procenat koliko MSE upada u pojas 0.9834098360655738\n",
      "Koliko je MSE upalo u pojas 59988\n"
     ]
    }
   ],
   "source": [
    "uspeli_indeksiMSE = []\n",
    "num_correct_MSE = 0\n",
    "\n",
    "for i in range(61000):\n",
    "    if(min_kord[i] <= test_predict_MSE[i][0] <= max_kord[i]):\n",
    "        num_correct_MSE += 1\n",
    "        uspeli_indeksiMSE.append(i)\n",
    "\n",
    "print(\"Procenat koliko MSE upada u pojas\", num_correct_MSE/61000)\n",
    "print(\"Koliko je MSE upalo u pojas\", num_correct_MSE)"
   ]
  },
  {
   "cell_type": "code",
   "execution_count": 72,
   "id": "e74dc388",
   "metadata": {},
   "outputs": [
    {
     "name": "stdout",
     "output_type": "stream",
     "text": [
      "-2 6 5\n",
      "403 419 418\n",
      "80446 80458 80457\n",
      "80595 80614 80613\n",
      "81145 81156 81155\n",
      "81194 81208 81207\n",
      "81294 81308 81307\n",
      "82344 82358 82357\n",
      "82594 82612 82611\n",
      "83695 83708 83707\n",
      "84798 84811 84810\n",
      "85400 85410 85408\n",
      "85448 85460 85459\n",
      "85498 85511 85510\n",
      "85548 85563 85562\n",
      "85599 85613 85612\n",
      "85649 85662 85661\n",
      "85699 85711 85710\n",
      "85749 85760 85758\n",
      "117296 117307 117306\n",
      "117349 117358 117356\n",
      "117400 117407 117406\n",
      "117749 117755 117754\n",
      "118148 118157 118156\n",
      "118400 118406 118405\n",
      "118449 118456 118455\n",
      "179926 179997 179994\n",
      "53993 53999 53998\n",
      "27691 27697 27696\n",
      "-8 1 0\n",
      "78437 78447 78446\n",
      "78640 78654 78653\n",
      "78671 78689 78687\n",
      "78921 78934 78932\n",
      "79162 79171 79170\n",
      "79185 79200 79199\n",
      "79708 79731 79730\n",
      "79768 79808 79805\n",
      "79794 79833 79831\n",
      "79997 80025 80024\n",
      "79999 80027 80025\n",
      "79998 80027 80025\n",
      "80001 80027 80026\n",
      "79989 80012 80011\n",
      "80000 80015 80014\n",
      "79997 80013 80011\n",
      "80567 80587 80586\n",
      "80768 80789 80787\n",
      "80799 80821 80819\n",
      "80830 80848 80847\n",
      "80984 80997 80996\n",
      "81014 81028 81026\n",
      "81640 81671 81669\n",
      "82285 82305 82304\n",
      "122795 122806 122804\n",
      "123294 123303 123302\n",
      "123697 123706 123705\n",
      "123847 123856 123855\n",
      "124045 124057 124056\n",
      "124294 124305 124304\n",
      "124346 124357 124356\n",
      "124697 124706 124705\n",
      "124796 124807 124806\n",
      "125296 125304 125303\n",
      "125347 125358 125357\n",
      "125448 125459 125458\n",
      "125847 125858 125857\n",
      "125897 125907 125906\n",
      "126045 126055 126054\n",
      "126346 126355 126354\n",
      "156798 156807 156806\n",
      "156848 156857 156856\n",
      "157296 157305 157304\n",
      "157546 157556 157554\n",
      "157596 157607 157605\n",
      "157647 157656 157655\n",
      "157697 157706 157705\n",
      "157997 158005 158004\n",
      "158247 158254 158253\n",
      "158295 158305 158303\n",
      "158346 158355 158354\n",
      "158545 158557 158554\n",
      "158595 158607 158603\n",
      "158646 158655 158654\n",
      "158795 158805 158804\n",
      "158945 158954 158953\n",
      "168251 168259 168258\n",
      "168292 168301 168300\n",
      "169064 169089 169087\n",
      "169099 169121 169119\n",
      "169871 169898 169897\n",
      "169443 169469 169468\n",
      "168460 168492 168491\n",
      "168416 168451 168449\n",
      "168138 168167 168166\n",
      "98353 98372 98371\n",
      "97344 97356 97355\n",
      "97034 97049 97047\n",
      "96981 97001 96999\n",
      "96633 96648 96647\n",
      "95439 95453 95452\n",
      "95389 95404 95402\n",
      "95042 95052 95051\n",
      "94994 95004 95003\n",
      "94939 94954 94952\n",
      "94888 94903 94901\n",
      "94839 94852 94851\n",
      "94744 94752 94751\n",
      "94693 94703 94701\n",
      "94640 94652 94651\n",
      "94591 94602 94601\n",
      "94543 94553 94551\n",
      "94493 94503 94502\n",
      "94438 94453 94452\n",
      "94387 94402 94401\n",
      "94293 94301 94299\n",
      "94241 94252 94250\n",
      "94189 94201 94200\n",
      "94140 94149 94148\n",
      "94092 94100 94098\n",
      "94043 94052 94049\n",
      "93992 94002 94001\n",
      "93889 93901 93900\n",
      "93840 93851 93850\n",
      "93791 93802 93801\n",
      "93742 93753 93752\n",
      "93690 93702 93701\n",
      "93640 93651 93650\n",
      "93592 93601 93600\n",
      "93543 93552 93551\n",
      "93439 93453 93451\n",
      "93388 93402 93400\n",
      "93339 93352 93351\n",
      "93291 93302 93301\n",
      "93241 93253 93252\n",
      "93140 93150 93149\n",
      "93093 93101 93100\n",
      "92991 93003 93002\n",
      "92940 92953 92952\n",
      "92889 92902 92901\n",
      "92841 92852 92851\n",
      "92793 92803 92802\n",
      "92743 92754 92753\n",
      "92691 92704 92703\n",
      "92190 92202 92201\n",
      "92140 92151 92150\n",
      "90594 90603 90602\n",
      "90488 90505 90503\n",
      "90436 90454 90453\n",
      "90386 90403 90402\n",
      "90338 90353 90351\n",
      "90290 90303 90301\n",
      "90239 90253 90252\n",
      "90189 90203 90200\n",
      "90136 90152 90150\n",
      "90088 90102 90101\n",
      "89938 89953 89952\n",
      "89888 89903 89901\n",
      "89840 89853 89852\n",
      "89791 89804 89803\n",
      "89741 89754 89753\n",
      "89689 89704 89702\n",
      "89640 89652 89651\n",
      "89592 89603 89602\n",
      "89542 89554 89553\n",
      "89489 89505 89503\n",
      "89437 89454 89452\n",
      "89387 89403 89401\n",
      "89339 89353 89351\n",
      "89290 89303 89301\n",
      "89240 89253 89252\n",
      "89188 89203 89201\n",
      "89139 89152 89150\n",
      "89091 89102 89100\n",
      "89040 89052 89051\n",
      "88988 89003 89002\n",
      "88936 88954 88951\n",
      "88887 88903 88901\n",
      "88839 88853 88851\n",
      "88790 88804 88802\n",
      "88740 88754 88752\n",
      "88689 88704 88701\n",
      "88639 88653 88650\n",
      "88591 88603 88601\n",
      "88541 88553 88552\n",
      "88488 88504 88503\n",
      "88436 88454 88451\n",
      "88386 88403 88400\n",
      "88338 88353 88350\n",
      "88289 88303 88301\n",
      "88238 88253 88250\n",
      "88187 88203 88199\n",
      "88136 88151 88149\n",
      "88089 88101 88099\n",
      "88041 88051 88050\n",
      "87988 88003 88001\n",
      "87935 87952 87950\n",
      "87886 87902 87899\n",
      "87839 87852 87850\n",
      "87791 87803 87801\n",
      "87740 87753 87751\n",
      "87688 87702 87700\n",
      "87638 87652 87650\n",
      "87591 87602 87600\n",
      "87542 87553 87551\n",
      "87489 87503 87502\n",
      "87435 87453 87451\n",
      "87387 87402 87400\n",
      "87338 87352 87350\n",
      "87289 87303 87300\n",
      "87238 87253 87251\n",
      "87187 87202 87200\n",
      "87137 87151 87149\n",
      "87089 87101 87099\n",
      "87040 87051 87050\n",
      "86988 87002 87001\n",
      "86935 86953 86949\n",
      "86886 86902 86899\n",
      "86838 86852 86849\n",
      "86789 86803 86800\n",
      "86740 86753 86751\n",
      "86688 86702 86700\n",
      "86638 86652 86649\n",
      "86591 86601 86599\n",
      "86542 86552 86550\n",
      "86489 86503 86501\n",
      "86435 86452 86449\n",
      "86387 86401 86398\n",
      "86338 86351 86349\n",
      "86288 86302 86299\n",
      "86237 86251 86248\n",
      "86187 86201 86197\n",
      "86137 86149 86148\n",
      "86088 86099 86098\n",
      "85934 85951 85949\n",
      "85885 85901 85898\n",
      "85838 85851 85849\n",
      "85790 85802 85800\n",
      "85739 85752 85751\n",
      "85687 85701 85700\n",
      "85636 85650 85648\n",
      "85590 85600 85598\n",
      "85542 85551 85549\n",
      "85490 85501 85500\n",
      "85436 85451 85449\n",
      "85384 85400 85399\n",
      "84937 84953 84952\n",
      "84883 84902 84900\n",
      "84837 84853 84852\n",
      "84791 84803 84802\n",
      "84689 84703 84702\n",
      "84636 84652 84651\n",
      "84441 84454 84453\n",
      "84290 84304 84303\n",
      "84240 84255 84253\n",
      "84189 84204 84201\n",
      "84138 84152 84151\n",
      "83040 83053 83051\n",
      "82688 82701 82700\n",
      "11966 11989 11986\n",
      "12017 12044 12041\n",
      "12064 12087 12084\n",
      "12107 12124 12123\n",
      "12285 12299 12296\n",
      "12335 12356 12354\n",
      "12388 12403 12400\n",
      "12691 12703 12702\n",
      "12740 12753 12751\n",
      "71444 71457 71456\n",
      "71493 71514 71506\n",
      "71542 71567 71559\n",
      "71594 71613 71610\n",
      "71793 71807 71806\n",
      "71844 71861 71857\n",
      "71895 71913 71906\n",
      "71944 71960 71956\n",
      "72194 72209 72207\n",
      "72244 72260 72255\n",
      "72294 72309 72307\n",
      "72696 72709 72708\n",
      "72945 72956 72955\n",
      "87045 87058 87057\n",
      "87397 87407 87406\n",
      "89044 89058 89057\n",
      "92896 92905 92904\n",
      "95042 95054 95053\n",
      "95292 95304 95303\n",
      "97293 97304 97303\n",
      "98206 98216 98215\n",
      "98837 98854 98853\n",
      "99058 99085 99084\n",
      "99095 99117 99116\n",
      "99302 99324 99323\n",
      "99333 99354 99353\n",
      "98787 98818 98817\n",
      "98629 98647 98645\n",
      "98590 98612 98611\n",
      "95340 95353 95352\n",
      "95292 95304 95302\n",
      "95244 95253 95251\n",
      "95190 95201 95200\n",
      "95041 95051 95050\n",
      "94941 94952 94951\n",
      "94892 94902 94901\n",
      "94842 94852 94851\n",
      "94792 94803 94801\n",
      "94743 94753 94752\n",
      "94642 94651 94650\n",
      "94494 94503 94502\n",
      "94442 94453 94451\n",
      "94389 94401 94400\n",
      "94341 94351 94350\n",
      "94292 94301 94300\n",
      "94191 94200 94199\n",
      "94140 94149 94148\n",
      "93992 94002 94001\n",
      "93941 93952 93951\n",
      "93744 93753 93752\n",
      "93692 93703 93702\n",
      "93641 93651 93650\n",
      "93592 93601 93600\n",
      "93442 93452 93451\n",
      "93391 93401 93400\n",
      "93293 93302 93301\n",
      "93193 93201 93200\n",
      "93142 93150 93149\n",
      "93092 93101 93100\n",
      "92994 93004 93002\n",
      "92943 92953 92952\n",
      "92892 92902 92901\n",
      "92843 92853 92852\n",
      "92795 92803 92802\n",
      "92643 92652 92651\n",
      "92544 92553 92552\n",
      "92294 92303 92302\n",
      "92142 92151 92150\n",
      "91944 91954 91952\n",
      "91893 91903 91902\n",
      "91796 91804 91803\n",
      "91746 91755 91754\n",
      "77039 77050 77049\n",
      "76989 77000 76999\n",
      "9993 10001 10000\n",
      "9993 10001 10000\n",
      "9993 10001 10000\n",
      "9993 10002 10000\n",
      "9993 10002 10000\n",
      "9993 10001 10000\n",
      "9993 10001 10000\n",
      "9993 10001 10000\n",
      "9993 10001 10000\n",
      "9993 10001 10000\n",
      "9993 10001 10000\n",
      "9993 10001 10000\n",
      "9993 10001 10000\n",
      "9993 10001 10000\n",
      "9993 10001 10000\n",
      "9993 10001 10000\n",
      "9993 10001 10000\n",
      "9993 10001 10000\n",
      "9993 10001 10000\n",
      "9993 10001 10000\n",
      "9993 10001 10000\n",
      "9993 10001 10000\n",
      "9993 10001 10000\n",
      "9993 10001 10000\n",
      "9993 10001 10000\n",
      "9993 10001 10000\n",
      "9993 10001 10000\n",
      "9993 10001 10000\n",
      "9993 10001 10000\n",
      "9993 10001 10000\n",
      "9993 10001 10000\n",
      "9993 10001 10000\n",
      "9993 10001 10000\n",
      "9993 10001 10000\n",
      "9993 10001 10000\n",
      "9993 10001 10000\n",
      "9993 10001 10000\n",
      "9993 10001 10000\n",
      "9993 10001 10000\n",
      "9993 10001 10000\n",
      "9993 10001 10000\n",
      "9993 10001 10000\n",
      "9993 10001 10000\n",
      "9993 10001 10000\n",
      "9993 10001 10000\n",
      "9993 10001 10000\n",
      "9993 10001 10000\n",
      "9993 10001 10000\n",
      "9993 10001 10000\n",
      "9993 10001 10000\n",
      "9993 10001 10000\n",
      "9993 10001 10000\n",
      "9993 10001 10000\n",
      "9993 10001 10000\n",
      "9993 10001 10000\n",
      "9993 10001 10000\n",
      "7249 7260 7259\n",
      "7195 7209 7208\n",
      "-11 2 1\n",
      "-12 1 0\n",
      "-12 1 0\n",
      "9992 10005 10004\n",
      "17949 17955 17954\n",
      "70542 70566 70563\n",
      "70593 70615 70611\n",
      "70644 70656 70655\n",
      "70894 70912 70910\n",
      "70944 70960 70957\n",
      "71193 71208 71207\n",
      "71242 71259 71257\n",
      "71292 71309 71306\n",
      "71343 71357 71356\n",
      "71644 71660 71659\n",
      "71694 71707 71706\n",
      "71994 72007 72006\n",
      "72043 72059 72058\n",
      "72093 72109 72108\n",
      "72144 72158 72157\n",
      "72194 72207 72206\n",
      "72244 72257 72256\n",
      "72293 72308 72306\n",
      "72344 72359 72358\n",
      "72496 72509 72508\n",
      "72544 72561 72559\n",
      "72646 72660 72659\n",
      "72695 72709 72707\n",
      "72745 72758 72757\n",
      "72794 72808 72807\n",
      "72896 72908 72907\n",
      "72945 72957 72956\n",
      "73044 73060 73059\n",
      "73293 73308 73306\n",
      "73445 73457 73456\n",
      "73594 73611 73609\n",
      "73645 73660 73659\n",
      "73695 73709 73708\n",
      "73795 73808 73806\n",
      "73845 73859 73858\n",
      "73895 73908 73907\n",
      "73945 73957 73955\n",
      "74043 74060 74058\n",
      "74095 74111 74110\n",
      "74145 74159 74158\n",
      "74194 74208 74207\n",
      "74245 74258 74257\n",
      "74295 74309 74308\n",
      "74345 74359 74358\n",
      "74396 74408 74407\n",
      "74446 74458 74457\n",
      "74496 74510 74509\n",
      "74545 74561 74559\n",
      "74595 74611 74610\n",
      "74646 74661 74660\n",
      "74696 74710 74708\n",
      "74794 74809 74808\n",
      "74846 74860 74859\n",
      "74897 74908 74907\n",
      "74947 74958 74957\n",
      "74996 75009 75008\n",
      "75045 75062 75060\n",
      "75095 75111 75110\n",
      "75196 75209 75208\n",
      "75246 75260 75258\n",
      "75295 75310 75307\n",
      "75347 75360 75359\n",
      "37995 38003 38002\n",
      "37990 38003 38001\n",
      "37976 38003 37999\n",
      "37966 38000 37997\n",
      "37933 37969 37966\n",
      "37928 37964 37959\n",
      "37919 37952 37951\n",
      "37860 37890 37886\n",
      "36461 36492 36490\n",
      "36410 36452 36450\n",
      "36183 36206 36205\n",
      "5691 5700 5699\n",
      "5290 5300 5299\n",
      "5241 5250 5249\n",
      "5190 5199 5198\n",
      "-33 -3 -9\n",
      "-28 -1 -8\n",
      "-23 -1 -3\n",
      "-26 -2 -8\n",
      "-23 -1 -6\n",
      "-20 -2 -4\n",
      "-25 -3 -5\n",
      "-24 -2 -7\n",
      "-22 -2 -6\n",
      "-24 -4 -5\n",
      "-23 -3 -7\n",
      "-19 -3 -4\n",
      "-19 -3 -4\n",
      "4397 4409 4408\n",
      "6549 6562 6561\n",
      "6700 6711 6710\n",
      "6946 6960 6959\n",
      "7049 7062 7061\n",
      "7149 7161 7160\n",
      "7450 7460 7459\n",
      "7998 8010 8009\n",
      "8049 8061 8060\n",
      "8099 8112 8111\n",
      "8149 8161 8160\n",
      "8199 8210 8209\n",
      "8450 8460 8459\n",
      "8500 8511 8510\n",
      "8549 8562 8561\n",
      "8601 8613 8611\n",
      "8850 8861 8860\n",
      "9049 9062 9061\n",
      "9551 9563 9562\n",
      "37065 37089 37088\n",
      "37992 38004 38003\n",
      "36270 36283 36282\n",
      "36229 36245 36244\n",
      "-14 1 0\n",
      "-14 1 0\n",
      "5045 5059 5058\n",
      "5096 5110 5109\n",
      "5497 5509 5508\n",
      "6298 6309 6308\n",
      "7450 7460 7459\n",
      "7499 7511 7510\n",
      "7550 7562 7561\n",
      "7700 7711 7710\n",
      "7800 7811 7810\n",
      "7899 7909 7908\n",
      "7998 8010 8009\n",
      "8099 8112 8111\n",
      "8149 8160 8159\n",
      "8199 8210 8209\n",
      "8300 8310 8309\n",
      "8400 8409 8408\n",
      "8450 8460 8459\n",
      "9498 9511 9509\n",
      "9551 9564 9562\n",
      "9801 9812 9810\n",
      "10149 10160 10159\n",
      "82496 82514 82512\n",
      "82545 82568 82567\n",
      "82596 82616 82615\n",
      "82947 82960 82959\n",
      "83545 83560 83559\n",
      "83596 83611 83610\n",
      "83947 83958 83956\n",
      "84248 84258 84256\n",
      "84297 84310 84309\n",
      "85099 85113 85112\n",
      "85449 85460 85459\n",
      "85600 85613 85612\n",
      "85800 85811 85810\n",
      "85850 85861 85860\n",
      "85900 85909 85908\n",
      "85946 85960 85958\n",
      "85995 86010 86009\n",
      "86099 86112 86111\n",
      "86149 86161 86160\n",
      "86349 86361 86360\n",
      "86401 86409 86408\n",
      "86451 86460 86459\n",
      "86500 86511 86510\n",
      "86651 86662 86661\n",
      "86701 86712 86710\n",
      "86799 86810 86809\n",
      "86850 86861 86860\n",
      "89048 89057 89056\n",
      "90899 90905 90904\n",
      "91298 91304 91303\n",
      "91598 91605 91604\n",
      "91648 91655 91654\n",
      "91898 91905 91904\n",
      "91948 91954 91953\n",
      "91996 92003 92002\n",
      "92448 92455 92454\n",
      "92598 92605 92604\n",
      "93198 93204 93203\n",
      "93297 93304 93303\n",
      "93398 93405 93404\n",
      "93448 93455 93454\n",
      "93547 93554 93553\n",
      "94046 94053 94052\n",
      "94096 94103 94102\n",
      "95547 95554 95553\n",
      "97297 97304 97302\n",
      "98196 98203 98202\n",
      "99297 99304 99303\n",
      "99348 99355 99354\n",
      "100098 100105 100104\n",
      "100148 100154 100153\n",
      "101349 101356 101355\n",
      "102899 102905 102904\n",
      "105949 105956 105955\n",
      "106901 106906 106905\n",
      "119547 119553 119552\n",
      "141983 142002 142001\n",
      "141983 142002 142001\n",
      "141983 142002 142001\n",
      "141983 142002 142001\n",
      "141983 142002 142001\n",
      "141983 142002 142001\n",
      "141983 142002 142001\n",
      "141983 142002 142001\n",
      "141983 142002 142001\n",
      "150448 150457 150456\n",
      "150498 150513 150506\n",
      "150547 150564 150558\n",
      "150597 150610 150608\n",
      "150847 150859 150856\n",
      "150897 150909 150907\n",
      "150948 150957 150956\n",
      "151196 151207 151205\n",
      "151246 151256 151255\n",
      "155849 155858 155857\n",
      "155899 155907 155906\n",
      "156047 156060 156059\n",
      "156098 156110 156109\n",
      "156649 156658 156657\n",
      "156898 156906 156905\n",
      "156997 157006 157005\n",
      "157047 157058 157057\n",
      "157198 157206 157205\n",
      "157247 157255 157254\n",
      "157297 157306 157305\n",
      "157546 157558 157557\n",
      "157597 157608 157607\n",
      "179368 179392 179391\n",
      "179971 180001 179999\n",
      "179996 180036 180034\n",
      "180005 180036 180035\n",
      "155792 155808 155807\n",
      "158291 158305 158304\n",
      "179115 179142 179141\n",
      "179075 179112 179111\n",
      "179046 179079 179075\n",
      "179028 179046 179044\n",
      "178912 178929 178928\n",
      "95689 95700 95699\n",
      "43744 43750 43749\n",
      "-23 1 0\n",
      "-23 1 0\n",
      "-19 1 0\n"
     ]
    }
   ],
   "source": [
    "for i in range(61000):\n",
    "    if not(min_kord[i] <= int(np.round(test_predict_MSE[i][0])) <= max_kord[i]):\n",
    "        print(min_kord[i], int(np.round(test_predict_MSE[i][0])), max_kord[i])"
   ]
  },
  {
   "cell_type": "code",
   "execution_count": 73,
   "id": "a59e7bc6",
   "metadata": {},
   "outputs": [
    {
     "name": "stdout",
     "output_type": "stream",
     "text": [
      "INFO:tensorflow:Assets written to: C:\\Users\\mata2\\Desktop\\master\\Axis-projection-RNN\\modeli\\20k\\X\\assets\n"
     ]
    },
    {
     "name": "stderr",
     "output_type": "stream",
     "text": [
      "INFO:tensorflow:Assets written to: C:\\Users\\mata2\\Desktop\\master\\Axis-projection-RNN\\modeli\\20k\\X\\assets\n"
     ]
    }
   ],
   "source": [
    "modelMSE.save(r\"C:\\Users\\mata2\\Desktop\\master\\Axis-projection-RNN\\modeli\\20k\\X\")"
   ]
  }
 ],
 "metadata": {
  "colab": {
   "provenance": []
  },
  "kernelspec": {
   "display_name": "Python 3 (ipykernel)",
   "language": "python",
   "name": "python3"
  },
  "language_info": {
   "codemirror_mode": {
    "name": "ipython",
    "version": 3
   },
   "file_extension": ".py",
   "mimetype": "text/x-python",
   "name": "python",
   "nbconvert_exporter": "python",
   "pygments_lexer": "ipython3",
   "version": "3.11.5"
  }
 },
 "nbformat": 4,
 "nbformat_minor": 5
}
