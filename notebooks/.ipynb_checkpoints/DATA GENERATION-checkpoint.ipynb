{
 "cells": [
  {
   "cell_type": "code",
   "execution_count": 55,
   "id": "1e4c9b98",
   "metadata": {},
   "outputs": [],
   "source": [
    "import numpy as np\n",
    "import os, os.path, sys\n",
    "import pandas as pd"
   ]
  },
  {
   "cell_type": "code",
   "execution_count": 47,
   "id": "6850a6a0",
   "metadata": {},
   "outputs": [],
   "source": [
    "path = r\"C:\\Users\\mata2\\Desktop\\master\\podaci\\20k\\X\""
   ]
  },
  {
   "cell_type": "code",
   "execution_count": 56,
   "id": "5a5e2416",
   "metadata": {},
   "outputs": [],
   "source": [
    "dir = os.listdir(path)"
   ]
  },
  {
   "cell_type": "code",
   "execution_count": 49,
   "id": "5577c3ab",
   "metadata": {},
   "outputs": [],
   "source": [
    "file_names = []\n",
    "for file in dir:\n",
    "    file_names.append(file)"
   ]
  },
  {
   "cell_type": "code",
   "execution_count": 50,
   "id": "f27f7752",
   "metadata": {},
   "outputs": [],
   "source": [
    "min_kord = [float('inf') for x in range(61000)]\n",
    "max_kord = [float('-inf') for x in range(61000)]\n",
    "\n",
    "for file in file_names:\n",
    "  current_file = pd.read_csv(path+'/'+file, header=None)[:61000].astype('int')\n",
    "\n",
    "  for i in range(len(current_file)):\n",
    "    if current_file[0][i] < min_kord[i]:\n",
    "      min_kord[i] = current_file[0][i]\n",
    "    elif current_file[0][i] > max_kord[i]:\n",
    "      max_kord[i] = current_file[0][i]"
   ]
  },
  {
   "cell_type": "code",
   "execution_count": 51,
   "id": "331edf47",
   "metadata": {},
   "outputs": [],
   "source": [
    "kord_sum = [0 for x in range(61000)]\n",
    "\n",
    "for file in file_names:\n",
    "  current_file = pd.read_csv(path+'/'+file, header=None)[:61000].astype('int')\n",
    "\n",
    "  for i in range(len(current_file)):\n",
    "    kord_sum[i] += current_file[0][i]\n",
    "    \n",
    "average_kord = [x//len(file_names) for x in kord_sum]"
   ]
  },
  {
   "cell_type": "markdown",
   "id": "300680ba",
   "metadata": {},
   "source": [
    "Intigeri od -1 do 1 koji se posle koriste u DataGen"
   ]
  },
  {
   "cell_type": "code",
   "execution_count": 57,
   "id": "fe371c2e",
   "metadata": {},
   "outputs": [],
   "source": [
    "def RandomInt01():\n",
    "    while True:\n",
    "        numb = np.random.randn(1)\n",
    "        if abs(numb) < 0.3:\n",
    "            break\n",
    "    return numb"
   ]
  },
  {
   "cell_type": "markdown",
   "id": "84b8a4c3",
   "metadata": {},
   "source": [
    "Koristimo RandomInt01 kako bi generisali podatke, uzmemo vrednosti iz normalne raspodele N(0,1) i u slucaju ako je abs(int)>1 ponovimo sve dok nije. Taj dobijeni int posle koristimo kako bi generisali broj izmedju razlike SREDNJE i MAX(MIN) koordinate koji posle dodamo(oduzmemo) na SREDNJU koordinatu"
   ]
  },
  {
   "cell_type": "code",
   "execution_count": 58,
   "id": "3da897ca",
   "metadata": {},
   "outputs": [],
   "source": [
    "def DataGen(min_kord,average_kord,max_kord):\n",
    "    gendata = [0 for i in range(61000)]\n",
    "    for i in range(61000):\n",
    "        rand_int = RandomInt01()\n",
    "        if rand_int >= 0:\n",
    "            gen_point = average_kord[i] + rand_int*(max_kord[i]-average_kord[i])\n",
    "        else:\n",
    "            gen_point = average_kord[i] + rand_int*(average_kord[i] - min_kord[i])\n",
    "        gendata[i] = int(np.round(gen_point[0],0))\n",
    "    return gendata"
   ]
  },
  {
   "cell_type": "markdown",
   "id": "8ba281a5",
   "metadata": {},
   "source": [
    "Cell koji generise X-broj podataka"
   ]
  },
  {
   "cell_type": "raw",
   "id": "3c7d744c",
   "metadata": {},
   "source": [
    "for i in range(1000):\n",
    "    gendata = DataGen(min_kord,average_kord,max_kord)\n",
    "    f = open(r\"C:\\Users\\mata2\\Desktop\\master\\Axis-projection-RNN\\sinteticki podaci\\20k\\X\\x\"\"_20k_v{}.txt\".format(i),\"w\")\n",
    "    for i in range(len(gendata)):\n",
    "        f.writelines(str(gendata[i])+'\\n')\n",
    "    f.close()    "
   ]
  },
  {
   "cell_type": "code",
   "execution_count": null,
   "id": "6a1ee6d1",
   "metadata": {},
   "outputs": [],
   "source": []
  }
 ],
 "metadata": {
  "kernelspec": {
   "display_name": "Python 3 (ipykernel)",
   "language": "python",
   "name": "python3"
  },
  "language_info": {
   "codemirror_mode": {
    "name": "ipython",
    "version": 3
   },
   "file_extension": ".py",
   "mimetype": "text/x-python",
   "name": "python",
   "nbconvert_exporter": "python",
   "pygments_lexer": "ipython3",
   "version": "3.11.5"
  }
 },
 "nbformat": 4,
 "nbformat_minor": 5
}
