{
 "cells": [
  {
   "cell_type": "code",
   "execution_count": 1,
   "id": "6db05d81",
   "metadata": {},
   "outputs": [
    {
     "name": "stdout",
     "output_type": "stream",
     "text": [
      "WARNING:tensorflow:From D:\\Users\\mata2\\anaconda3\\Lib\\site-packages\\keras\\src\\losses.py:2976: The name tf.losses.sparse_softmax_cross_entropy is deprecated. Please use tf.compat.v1.losses.sparse_softmax_cross_entropy instead.\n",
      "\n"
     ]
    }
   ],
   "source": [
    "import numpy as np\n",
    "import pandas as pd\n",
    "import keras\n",
    "from sklearn import preprocessing\n",
    "from sklearn import metrics\n",
    "from tensorflow.keras.models import Sequential\n",
    "from tensorflow.keras.layers import Dense, SimpleRNN, RNN, LSTM, GRU, SpatialDropout1D, Dropout"
   ]
  },
  {
   "cell_type": "code",
   "execution_count": 2,
   "id": "6ebe99d5",
   "metadata": {},
   "outputs": [],
   "source": [
    "import matplotlib.pyplot as plt\n",
    "import os, os.path, sys\n",
    "import copy"
   ]
  },
  {
   "cell_type": "markdown",
   "id": "036d7c09",
   "metadata": {},
   "source": [
    "# TESTIRANJE SA 15 INSTANCI"
   ]
  },
  {
   "cell_type": "code",
   "execution_count": 3,
   "id": "f8d678cf",
   "metadata": {},
   "outputs": [],
   "source": [
    "path = r\"C:\\Users\\mata2\\Desktop\\master\\Axis-projection-RNN\\podaci\\0k\\X\""
   ]
  },
  {
   "cell_type": "code",
   "execution_count": 4,
   "id": "43cd7520",
   "metadata": {},
   "outputs": [],
   "source": [
    "dir = os.listdir(path)"
   ]
  },
  {
   "cell_type": "markdown",
   "id": "76e4ae0b",
   "metadata": {},
   "source": [
    "Napravljen je pandas DataFrame gde su atributi zasebno pokrenute putanje, dok ce ciljna promenljiva da bude srednja vrednost svih putanja"
   ]
  },
  {
   "cell_type": "code",
   "execution_count": 5,
   "id": "88795fa1",
   "metadata": {},
   "outputs": [],
   "source": [
    "file_names = []\n",
    "for file in dir:\n",
    "    file_names.append(file)"
   ]
  },
  {
   "cell_type": "code",
   "execution_count": null,
   "id": "bca7c714",
   "metadata": {},
   "outputs": [],
   "source": [
    "train_file_names = file_names[:15]\n",
    "test_file_names = file_names[15::]"
   ]
  },
  {
   "cell_type": "code",
   "execution_count": null,
   "id": "d13b1fcd",
   "metadata": {},
   "outputs": [],
   "source": [
    "train_ = np.concatenate([pd.read_csv(path + \"/\" + file, header=None)[:61000].astype('int')\n",
    "                              for file in train_file_names], axis=0)\n",
    "test_ = np.concatenate([pd.read_csv(path + \"/\" + file, header=None)[:61000].astype('int')\n",
    "                              for file in test_file_names], axis=0)"
   ]
  },
  {
   "cell_type": "code",
   "execution_count": null,
   "id": "999ee4fa",
   "metadata": {},
   "outputs": [],
   "source": [
    "train_ = main_df['x-0k_v1.txt']\n",
    "test_ = main_df['x-0k_v10.txt']"
   ]
  },
  {
   "cell_type": "code",
   "execution_count": null,
   "id": "055a201f",
   "metadata": {},
   "outputs": [],
   "source": [
    "train_ = (np.asarray(train_)).reshape(-1,1)\n",
    "test_ = (np.asarray(test_)).reshape(-1,1)"
   ]
  },
  {
   "cell_type": "code",
   "execution_count": 20,
   "id": "22c0faef",
   "metadata": {},
   "outputs": [],
   "source": [
    "def create_timeseries_split(data, time_steps):\n",
    "\n",
    "  # Get the number of samples in the data\n",
    "  num_samples = len(data) - time_steps\n",
    "\n",
    "  # Create empty arrays to store features and target values\n",
    "  x_train = np.zeros((num_samples, time_steps, 1))\n",
    "  y_train = np.zeros((num_samples, 1))\n",
    "\n",
    "  # Loop through the data and create features and target values\n",
    "  for i in range(num_samples):\n",
    "    # Extract a slice of data for the current feature\n",
    "    x_train[i] = data[i:i+time_steps, :]\n",
    "\n",
    "    # The target value is the next value after the feature\n",
    "    y_train[i] = data[i+time_steps, 0]\n",
    "\n",
    "  return x_train, y_train"
   ]
  },
  {
   "cell_type": "code",
   "execution_count": 57,
   "id": "40a09ba9",
   "metadata": {},
   "outputs": [],
   "source": [
    "time_steps = 1"
   ]
  },
  {
   "cell_type": "code",
   "execution_count": 58,
   "id": "fa8a7012",
   "metadata": {},
   "outputs": [],
   "source": [
    "train_X, train_y = create_timeseries_split(train_, time_steps)\n",
    "test_X, test_y = create_timeseries_split(test_, time_steps)"
   ]
  },
  {
   "cell_type": "code",
   "execution_count": 59,
   "id": "b7eacd92",
   "metadata": {},
   "outputs": [],
   "source": [
    "input_shape = (time_steps,1)"
   ]
  },
  {
   "cell_type": "code",
   "execution_count": 13,
   "id": "17c88e10",
   "metadata": {},
   "outputs": [],
   "source": [
    "keras.utils.set_random_seed(7)"
   ]
  },
  {
   "cell_type": "raw",
   "id": "b6840b02",
   "metadata": {},
   "source": [
    "gru_unit = [8,16,32]\n",
    "unit1 = [8,16,32]\n",
    "unit2 = [8,16,32]"
   ]
  },
  {
   "cell_type": "raw",
   "id": "e3c73ed6",
   "metadata": {},
   "source": [
    "best_skor = float('inf')\n",
    "best_gru = None\n",
    "best_unit1 = None\n",
    "best_unit2 = None\n",
    "\n",
    "for gru in gru_unit:\n",
    "    for uni1 in unit1:\n",
    "        for uni2 in unit2:\n",
    "            keras.utils.set_random_seed(7)\n",
    "            model = Sequential()\n",
    "            model.add(GRU(units = gru, input_shape = input_shape, activation = keras.layers.LeakyReLU()))\n",
    "            model.add(Dense(units = uni1, activation=keras.layers.LeakyReLU()))\n",
    "            model.add(Dense(units = uni2, activation=keras.layers.LeakyReLU()))\n",
    "            #model.add(Dense(units = uni3, activation=keras.layers.LeakyReLU()))\n",
    "            model.add(Dense(units = 1, activation=keras.layers.LeakyReLU(), bias_initializer='zeros', kernel_initializer='normal'))\n",
    "            model.compile(loss='mean_squared_error', optimizer = 'adam')\n",
    "\n",
    "            model.fit(train_X, train_y, epochs = 10, batch_size = 64, verbose = 2)\n",
    "            train_scores = model.evaluate(test_X, test_y)\n",
    "\n",
    "            if train_scores < best_skor:\n",
    "                best_skor = train_scores\n",
    "                best_gru = gru\n",
    "                best_unit1 = uni1\n",
    "                best_unit2 = uni2\n",
    "                #best_unit3 = uni3\n",
    "\n",
    "print('best_skor: ', best_skor)                    \n",
    "print('best_gru: ', best_gru)\n",
    "print('best_unit1: ', best_unit1)\n",
    "print('best_unit2: ', best_unit2)\n",
    "#print('best_unit3: ', best_unit3)\n"
   ]
  },
  {
   "cell_type": "raw",
   "id": "94e914a2",
   "metadata": {},
   "source": [
    "MAE:\n",
    "best_skor:  30.323604583740234\n",
    "best_gru:  16\n",
    "best_unit1:  8\n",
    "best_unit2:  16\n",
    "MSE:\n",
    "best_skor:  1508.626220703125\n",
    "best_gru:  16\n",
    "best_unit1:  16\n",
    "best_unit2:  16"
   ]
  },
  {
   "cell_type": "raw",
   "id": "9eb6d621",
   "metadata": {},
   "source": [
    "LR = [0.01,0.001,0.0001,0.00001]"
   ]
  },
  {
   "cell_type": "raw",
   "id": "075db969",
   "metadata": {},
   "source": [
    "best_skor_LR = float('inf')\n",
    "best_LR = None\n",
    "\n",
    "for rate in LR:\n",
    "    keras.utils.set_random_seed(7)\n",
    "    optimizerMSE = keras.optimizers.Adam(learning_rate=rate)\n",
    "    \n",
    "    model = Sequential()\n",
    "    model.add(GRU(units = 16, input_shape = input_shape, activation = keras.layers.LeakyReLU()))\n",
    "    model.add(Dense(units = 16, activation=keras.layers.LeakyReLU()))\n",
    "    model.add(Dense(units = 16, activation=keras.layers.LeakyReLU()))\n",
    "    model.add(Dense(units = 1, activation=keras.layers.LeakyReLU(), bias_initializer='zeros', kernel_initializer='normal'))\n",
    "    model.compile(loss='mean_squared_error', optimizer = optimizerMSE)\n",
    "    \n",
    "    model.fit(train_X, train_y, epochs=10, batch_size = 64, verbose = 2)\n",
    "    train_scores = model.evaluate(test_X, test_y)\n",
    "    \n",
    "    if train_scores < best_skor_LR:\n",
    "        best_skor_LR = train_scores\n",
    "        best_LR = rate\n",
    "print('best_skor: ', best_skor_LR)\n",
    "print('best learning rate: ', best_LR)    "
   ]
  },
  {
   "cell_type": "raw",
   "id": "1e2071e2",
   "metadata": {},
   "source": [
    "mean_absolute_error:\n",
    "best_skor:  59.21725845336914\n",
    "best learning rate:  1e-05"
   ]
  },
  {
   "cell_type": "raw",
   "id": "06161cd7",
   "metadata": {},
   "source": [
    "mean_squred_error:\n",
    "best_skor:  1457.17724609375\n",
    "best learning rate:  0.0001"
   ]
  },
  {
   "cell_type": "code",
   "execution_count": null,
   "id": "1d90b495",
   "metadata": {},
   "outputs": [],
   "source": []
  },
  {
   "cell_type": "code",
   "execution_count": null,
   "id": "14b696ea",
   "metadata": {},
   "outputs": [],
   "source": []
  },
  {
   "cell_type": "code",
   "execution_count": 60,
   "id": "b3f4c1b8",
   "metadata": {},
   "outputs": [],
   "source": [
    "batch_size = [256,512,1024,2048,4096]"
   ]
  },
  {
   "cell_type": "raw",
   "id": "65515e30",
   "metadata": {},
   "source": [
    "best_skor_batch = float('inf')\n",
    "best_batch = None\n",
    "\n",
    "for batch in batch_size:\n",
    "    optimizerMSE = keras.optimizers.Adam(learning_rate=0.0001)\n",
    "    keras.utils.set_random_seed(7)\n",
    "    model = Sequential()\n",
    "    model.add(GRU(units = 16, input_shape = input_shape, activation = keras.layers.LeakyReLU()))\n",
    "    model.add(Dense(units = 16, activation=keras.layers.LeakyReLU()))\n",
    "    model.add(Dense(units = 16, activation=keras.layers.LeakyReLU()))\n",
    "    model.add(Dense(units = 1, activation=keras.layers.LeakyReLU(), bias_initializer='zeros', kernel_initializer='normal'))\n",
    "    model.compile(loss='mean_squared_error', optimizer = optimizerMSE)\n",
    "    \n",
    "    model.fit(train_X, train_y, epochs=10, batch_size = batch, verbose = 2)\n",
    "    train_scores = model.evaluate(test_X, test_y)\n",
    "    \n",
    "    if train_scores < best_skor_batch:\n",
    "        best_skor_batch = train_scores\n",
    "        best_batch = batch\n",
    "print('best_skor: ', best_skor_batch)\n",
    "print('best batch size: ', best_batch)    "
   ]
  },
  {
   "cell_type": "raw",
   "id": "6fb408a7",
   "metadata": {},
   "source": [
    "MAE:\n",
    "best_skor:  57.40455627441406\n",
    "best batch size:  16\n",
    "MSE:\n",
    "best_skor:  1463.4017333984375\n",
    "best batch size:  1024"
   ]
  },
  {
   "cell_type": "raw",
   "id": "c16aac79",
   "metadata": {},
   "source": [
    "optimizerMAE = keras.optimizers.Adam(learning_rate=0.00001)\n",
    "modelMAE = Sequential()\n",
    "modelMAE.add(GRU(units = 16, input_shape = input_shape, activation = keras.layers.LeakyReLU()))\n",
    "modelMAE.add(Dense(units = 8, activation=keras.layers.LeakyReLU()))\n",
    "modelMAE.add(Dense(units = 16, activation=keras.layers.LeakyReLU()))\n",
    "#modelMAE.add(Dense(units = 8, activation=keras.layers.LeakyReLU()))\n",
    "modelMAE.add(Dense(units = 1, activation=keras.layers.LeakyReLU(), bias_initializer='zeros', kernel_initializer='normal'))\n",
    "modelMAE.compile(loss='mean_absolute_error', optimizer = 'adam')"
   ]
  },
  {
   "cell_type": "code",
   "execution_count": 67,
   "id": "5ceb74af",
   "metadata": {},
   "outputs": [],
   "source": [
    "keras.utils.set_random_seed(7)\n",
    "optimizerMSE = keras.optimizers.Adam(learning_rate=0.0001)\n",
    "modelMSE = Sequential()\n",
    "modelMSE.add(GRU(units = 16, input_shape = input_shape, activation = keras.layers.LeakyReLU()))\n",
    "modelMSE.add(Dense(units = 16, activation=keras.layers.LeakyReLU()))\n",
    "modelMSE.add(Dense(units = 16, activation=keras.layers.LeakyReLU()))\n",
    "#modelMSE.add(Dense(units = 8, activation=keras.layers.LeakyReLU()))\n",
    "modelMSE.add(Dense(units = 1, activation=keras.layers.LeakyReLU(), bias_initializer='zeros', kernel_initializer='normal'))\n",
    "modelMSE.compile(loss='mean_squared_error', optimizer = optimizerMSE)"
   ]
  },
  {
   "cell_type": "code",
   "execution_count": 40,
   "id": "68b8acb1",
   "metadata": {
    "scrolled": false
   },
   "outputs": [
    {
     "ename": "NameError",
     "evalue": "name 'modelMAE' is not defined",
     "output_type": "error",
     "traceback": [
      "\u001b[1;31m---------------------------------------------------------------------------\u001b[0m",
      "\u001b[1;31mNameError\u001b[0m                                 Traceback (most recent call last)",
      "Cell \u001b[1;32mIn[40], line 1\u001b[0m\n\u001b[1;32m----> 1\u001b[0m historyMAE \u001b[38;5;241m=\u001b[39m modelMAE\u001b[38;5;241m.\u001b[39mfit(train_X, train_y, epochs\u001b[38;5;241m=\u001b[39m\u001b[38;5;241m10\u001b[39m, batch_size \u001b[38;5;241m=\u001b[39m \u001b[38;5;241m16\u001b[39m, verbose \u001b[38;5;241m=\u001b[39m \u001b[38;5;241m2\u001b[39m)\n",
      "\u001b[1;31mNameError\u001b[0m: name 'modelMAE' is not defined"
     ]
    }
   ],
   "source": [
    "historyMAE = modelMAE.fit(train_X, train_y, epochs=10, batch_size = 16, verbose = 2)"
   ]
  },
  {
   "cell_type": "code",
   "execution_count": 68,
   "id": "8282cb32",
   "metadata": {
    "scrolled": true
   },
   "outputs": [
    {
     "name": "stdout",
     "output_type": "stream",
     "text": [
      "Epoch 1/10\n",
      "894/894 - 9s - loss: 7173579776.0000 - 9s/epoch - 10ms/step\n",
      "Epoch 2/10\n",
      "894/894 - 2s - loss: 48031884.0000 - 2s/epoch - 3ms/step\n",
      "Epoch 3/10\n",
      "894/894 - 2s - loss: 1464.7377 - 2s/epoch - 2ms/step\n",
      "Epoch 4/10\n",
      "894/894 - 2s - loss: 1464.3621 - 2s/epoch - 2ms/step\n",
      "Epoch 5/10\n",
      "894/894 - 2s - loss: 1464.1544 - 2s/epoch - 2ms/step\n",
      "Epoch 6/10\n",
      "894/894 - 2s - loss: 1464.0243 - 2s/epoch - 2ms/step\n",
      "Epoch 7/10\n",
      "894/894 - 2s - loss: 1463.9316 - 2s/epoch - 3ms/step\n",
      "Epoch 8/10\n",
      "894/894 - 2s - loss: 1463.8832 - 2s/epoch - 3ms/step\n",
      "Epoch 9/10\n",
      "894/894 - 2s - loss: 1463.6785 - 2s/epoch - 2ms/step\n",
      "Epoch 10/10\n",
      "894/894 - 2s - loss: 1463.3251 - 2s/epoch - 2ms/step\n"
     ]
    }
   ],
   "source": [
    "historyMSE = modelMSE.fit(train_X, train_y, epochs=10, batch_size = 1024, verbose = 2)"
   ]
  },
  {
   "cell_type": "code",
   "execution_count": 69,
   "id": "454b9424",
   "metadata": {},
   "outputs": [
    {
     "name": "stdout",
     "output_type": "stream",
     "text": [
      "28594/28594 [==============================] - 37s 1ms/step - loss: 1463.4017\n"
     ]
    }
   ],
   "source": [
    "#train_scores_MAE = modelMAE.evaluate(test_X, test_y)\n",
    "train_scores_MSE = modelMSE.evaluate(test_X,test_y)"
   ]
  },
  {
   "cell_type": "code",
   "execution_count": 70,
   "id": "3ce84951",
   "metadata": {},
   "outputs": [
    {
     "name": "stdout",
     "output_type": "stream",
     "text": [
      "28594/28594 [==============================] - 36s 1ms/step\n"
     ]
    }
   ],
   "source": [
    "test_predict_MSE = modelMSE.predict(test_X)\n",
    "#test_predict_MAE = modelMAE.predict(test_X)"
   ]
  },
  {
   "cell_type": "code",
   "execution_count": null,
   "id": "f321747b",
   "metadata": {},
   "outputs": [],
   "source": []
  },
  {
   "cell_type": "code",
   "execution_count": 25,
   "id": "86670699",
   "metadata": {},
   "outputs": [],
   "source": [
    "min_kord = [float('inf') for x in range(61000)]\n",
    "max_kord = [float('-inf') for x in range(61000)]\n",
    "\n",
    "for file in file_names:\n",
    "  current_file = pd.read_csv(path+'/'+file, header=None)[:61000].astype('int')\n",
    "\n",
    "  for i in range(len(current_file)):\n",
    "    if current_file[0][i] < min_kord[i]:\n",
    "      min_kord[i] = current_file[0][i]\n",
    "    elif current_file[0][i] > max_kord[i]:\n",
    "      max_kord[i] = current_file[0][i]"
   ]
  },
  {
   "cell_type": "code",
   "execution_count": 71,
   "id": "b94f0aac",
   "metadata": {},
   "outputs": [
    {
     "name": "stdout",
     "output_type": "stream",
     "text": [
      "Procenat koliko MSE upada u pojas 0.9515737704918033\n",
      "Koliko je MSE upalo u pojas 58046\n"
     ]
    }
   ],
   "source": [
    "uspeli_indeksiMSE = []\n",
    "num_correct_MSE = 0\n",
    "\n",
    "for i in range(61000-1):\n",
    "    if(min_kord[i] <= test_predict_MSE[i][0] <= max_kord[i]):\n",
    "        num_correct_MSE += 1\n",
    "        uspeli_indeksiMSE.append(i)\n",
    "\n",
    "print(\"Procenat koliko MSE upada u pojas\", num_correct_MSE/61000)\n",
    "print(\"Koliko je MSE upalo u pojas\", num_correct_MSE)"
   ]
  },
  {
   "cell_type": "raw",
   "id": "2bc59c88",
   "metadata": {},
   "source": [
    "uspeli_indeksiMAE = []\n",
    "upslei_indeksiMSE = []\n",
    "num_correct_MAE = 0\n",
    "num_correct_MSE = 0\n",
    "for i in range(61000-2):\n",
    "    if(min_kord[i] <= test_predict_MAE[i][0] <= max_kord[i]):\n",
    "        num_correct_MAE += 1\n",
    "        uspeli_indeksiMAE.append(i)\n",
    "        \n",
    "for i in range(61000-2):\n",
    "    if(min_kord[i] <= test_predict_MSE[i][0] <= max_kord[i]):\n",
    "        num_correct_MSE += 1\n",
    "        upslei_indeksiMSE.append(i)\n",
    "        \n",
    "print(\"Procenat koliko MAE upada u pojas\", num_correct_MAE/61000)\n",
    "print(\"Koliko je MAE upalo u pojas\", num_correct_MAE)\n",
    "\n",
    "print(\"Procenat koliko MSE upada u pojas\", num_correct_MSE/61000)\n",
    "print(\"Koliko je MSE upalo u pojas\", num_correct_MSE)"
   ]
  },
  {
   "cell_type": "markdown",
   "id": "ecc50b1d",
   "metadata": {},
   "source": [
    "# TESTIRANJE SA VISE INSTANCI"
   ]
  },
  {
   "cell_type": "code",
   "execution_count": 9,
   "id": "5525bd33",
   "metadata": {},
   "outputs": [],
   "source": [
    "path = r\"C:\\Users\\mata2\\Desktop\\master\\podaci\\20k\\X\""
   ]
  },
  {
   "cell_type": "code",
   "execution_count": 10,
   "id": "621d563e",
   "metadata": {},
   "outputs": [],
   "source": [
    "dir = os.listdir(path)"
   ]
  },
  {
   "cell_type": "code",
   "execution_count": 11,
   "id": "e38fa827",
   "metadata": {},
   "outputs": [],
   "source": [
    "file_names = []\n",
    "for file in dir:\n",
    "    file_names.append(file)"
   ]
  },
  {
   "cell_type": "code",
   "execution_count": null,
   "id": "a0efcd0b",
   "metadata": {},
   "outputs": [],
   "source": [
    "min_kord = [float('inf') for x in range(61000)]\n",
    "max_kord = [float('-inf') for x in range(61000)]\n",
    "\n",
    "for file in file_names:\n",
    "  current_file = pd.read_csv(path+'/'+file, header=None)[:61000].astype('int')\n",
    "\n",
    "  for i in range(len(current_file)):\n",
    "    if current_file[0][i] < min_kord[i]:\n",
    "      min_kord[i] = current_file[0][i]\n",
    "    elif current_file[0][i] > max_kord[i]:\n",
    "      max_kord[i] = current_file[0][i]"
   ]
  },
  {
   "cell_type": "code",
   "execution_count": 12,
   "id": "a4e80929",
   "metadata": {},
   "outputs": [],
   "source": [
    "synth_path = r\"C:\\Users\\mata2\\Desktop\\master\\Axis-projection-RNN\\sinteticki podaci\\20k\\X\""
   ]
  },
  {
   "cell_type": "code",
   "execution_count": 14,
   "id": "2c16d0ca",
   "metadata": {},
   "outputs": [],
   "source": [
    "dir2 = os.listdir(synth_path)"
   ]
  },
  {
   "cell_type": "raw",
   "id": "7aebf2ce",
   "metadata": {},
   "source": [
    "file_names_synt = []\n",
    "for file in dir2:\n",
    "    file_names_synt.append(file)"
   ]
  },
  {
   "cell_type": "code",
   "execution_count": 15,
   "id": "4e787780",
   "metadata": {},
   "outputs": [],
   "source": [
    "file_names_synt = []\n",
    "i = 0\n",
    "for file in dir2:\n",
    "    i += 1\n",
    "    if i > 100:\n",
    "        break       \n",
    "    else:\n",
    "        file_names_synt.append(file)"
   ]
  },
  {
   "cell_type": "code",
   "execution_count": 17,
   "id": "b0989881",
   "metadata": {},
   "outputs": [],
   "source": [
    "train_synt = np.concatenate([pd.read_csv(synth_path + \"/\" + file, header=None)[:61000].astype('int')\n",
    "                              for file in file_names_synt], axis=0)\n",
    "test_synt = np.concatenate([pd.read_csv(path + \"/\" + file, header=None)[:61000].astype('int')\n",
    "                              for file in file_names], axis=0)"
   ]
  },
  {
   "cell_type": "code",
   "execution_count": 18,
   "id": "43573a92",
   "metadata": {},
   "outputs": [],
   "source": [
    "time_steps = 1\n",
    "input_shape = (time_steps,1)"
   ]
  },
  {
   "cell_type": "code",
   "execution_count": 21,
   "id": "c96175b2",
   "metadata": {
    "scrolled": true
   },
   "outputs": [],
   "source": [
    "train_X, train_y = create_timeseries_split(train_synt, time_steps)\n",
    "test_X, test_y = create_timeseries_split(test_synt, time_steps)"
   ]
  },
  {
   "cell_type": "code",
   "execution_count": null,
   "id": "38a26332",
   "metadata": {},
   "outputs": [],
   "source": []
  },
  {
   "cell_type": "code",
   "execution_count": 23,
   "id": "85224779",
   "metadata": {},
   "outputs": [],
   "source": [
    "gru_unit = [32,64]\n",
    "unit1 = [32,64]\n",
    "unit2 = [32,64]\n",
    "\n",
    "\n",
    "batch_size = [1024,2048,4096]"
   ]
  },
  {
   "cell_type": "code",
   "execution_count": null,
   "id": "cc736a24",
   "metadata": {
    "scrolled": true
   },
   "outputs": [
    {
     "name": "stdout",
     "output_type": "stream",
     "text": [
      "Epoch 1/4\n",
      "5958/5958 - 20s - loss: 572607488.0000 - 20s/epoch - 3ms/step\n",
      "Epoch 2/4\n",
      "5958/5958 - 17s - loss: 1452.7467 - 17s/epoch - 3ms/step\n",
      "Epoch 3/4\n",
      "5958/5958 - 17s - loss: 1521.9426 - 17s/epoch - 3ms/step\n",
      "Epoch 4/4\n",
      "5958/5958 - 17s - loss: 1580.0419 - 17s/epoch - 3ms/step\n",
      "57188/57188 [==============================] - 58s 1ms/step\n",
      "best_skor:  26462 best_gru:  32 best_unit1:  32 best_unit2:  32 best batch size:  1024\n",
      "Epoch 1/4\n",
      "2979/2979 - 15s - loss: 1142568064.0000 - 15s/epoch - 5ms/step\n",
      "Epoch 2/4\n",
      "2979/2979 - 12s - loss: 1449.0580 - 12s/epoch - 4ms/step\n",
      "Epoch 3/4\n",
      "2979/2979 - 12s - loss: 1449.3497 - 12s/epoch - 4ms/step\n",
      "Epoch 4/4\n",
      "2979/2979 - 11s - loss: 1451.2780 - 11s/epoch - 4ms/step\n",
      "57188/57188 [==============================] - 56s 979us/step\n",
      "best_skor:  59936 best_gru:  32 best_unit1:  32 best_unit2:  32 best batch size:  2048\n",
      "Epoch 1/4\n",
      "1490/1490 - 11s - loss: 2280515328.0000 - 11s/epoch - 8ms/step\n",
      "Epoch 2/4\n",
      "1490/1490 - 9s - loss: 1449.0405 - 9s/epoch - 6ms/step\n",
      "Epoch 3/4\n",
      "1490/1490 - 8s - loss: 1448.9495 - 8s/epoch - 6ms/step\n",
      "Epoch 4/4\n",
      "1490/1490 - 8s - loss: 1448.9950 - 8s/epoch - 6ms/step\n",
      "57188/57188 [==============================] - 55s 961us/step\n",
      "best_skor:  59988 best_gru:  32 best_unit1:  32 best_unit2:  32 best batch size:  4096\n",
      "Epoch 1/4\n",
      "5958/5958 - 20s - loss: 400431168.0000 - 20s/epoch - 3ms/step\n",
      "Epoch 2/4\n",
      "5958/5958 - 17s - loss: 1452.2648 - 17s/epoch - 3ms/step\n",
      "Epoch 3/4\n",
      "5958/5958 - 17s - loss: 1594.4646 - 17s/epoch - 3ms/step\n",
      "Epoch 4/4\n",
      "5958/5958 - 18s - loss: 1647.2390 - 18s/epoch - 3ms/step\n",
      "57188/57188 [==============================] - 55s 964us/step\n",
      "Epoch 1/4\n",
      "2979/2979 - 14s - loss: 800106176.0000 - 14s/epoch - 5ms/step\n",
      "Epoch 2/4\n",
      "2979/2979 - 12s - loss: 1449.1338 - 12s/epoch - 4ms/step\n",
      "Epoch 3/4\n",
      "2979/2979 - 12s - loss: 1449.4237 - 12s/epoch - 4ms/step\n",
      "Epoch 4/4\n",
      "2979/2979 - 11s - loss: 1451.5024 - 11s/epoch - 4ms/step\n",
      "57188/57188 [==============================] - 56s 983us/step\n",
      "Epoch 1/4\n",
      "1490/1490 - 12s - loss: 1601973760.0000 - 12s/epoch - 8ms/step\n",
      "Epoch 2/4\n",
      "1490/1490 - 9s - loss: 1449.1390 - 9s/epoch - 6ms/step\n",
      "Epoch 3/4\n",
      "1490/1490 - 9s - loss: 1449.0251 - 9s/epoch - 6ms/step\n",
      "Epoch 4/4\n",
      "1490/1490 - 9s - loss: 1449.0778 - 9s/epoch - 6ms/step\n",
      "57188/57188 [==============================] - 55s 958us/step\n",
      "Epoch 1/4\n",
      "5958/5958 - 21s - loss: 424646912.0000 - 21s/epoch - 3ms/step\n",
      "Epoch 2/4\n",
      "5958/5958 - 18s - loss: 1455.1199 - 18s/epoch - 3ms/step\n",
      "Epoch 3/4\n",
      "5958/5958 - 18s - loss: 1585.1575 - 18s/epoch - 3ms/step\n",
      "Epoch 4/4\n",
      "5958/5958 - 18s - loss: 1650.1046 - 18s/epoch - 3ms/step\n",
      "57188/57188 [==============================] - 56s 970us/step\n",
      "Epoch 1/4\n",
      "2979/2979 - 14s - loss: 845026624.0000 - 14s/epoch - 5ms/step\n",
      "Epoch 2/4\n",
      "2979/2979 - 11s - loss: 1449.1697 - 11s/epoch - 4ms/step\n",
      "Epoch 3/4\n",
      "2979/2979 - 11s - loss: 1449.7336 - 11s/epoch - 4ms/step\n",
      "Epoch 4/4\n",
      "2979/2979 - 11s - loss: 1453.2188 - 11s/epoch - 4ms/step\n",
      "57188/57188 [==============================] - 55s 953us/step\n",
      "Epoch 1/4\n",
      "1490/1490 - 12s - loss: 1686190208.0000 - 12s/epoch - 8ms/step\n",
      "Epoch 2/4\n",
      "1490/1490 - 10s - loss: 1449.0863 - 10s/epoch - 7ms/step\n",
      "Epoch 3/4\n",
      "1490/1490 - 10s - loss: 1449.0231 - 10s/epoch - 7ms/step\n",
      "Epoch 4/4\n",
      "1490/1490 - 10s - loss: 1449.1077 - 10s/epoch - 7ms/step\n",
      "57188/57188 [==============================] - 98s 2ms/step\n",
      "Epoch 1/4\n",
      "5958/5958 - 44s - loss: 315388864.0000 - 44s/epoch - 7ms/step\n",
      "Epoch 2/4\n",
      "5958/5958 - 40s - loss: 1453.1293 - 40s/epoch - 7ms/step\n",
      "Epoch 3/4\n",
      "5958/5958 - 40s - loss: 1638.5321 - 40s/epoch - 7ms/step\n",
      "Epoch 4/4\n",
      "5958/5958 - 40s - loss: 1712.8770 - 40s/epoch - 7ms/step\n",
      "57188/57188 [==============================] - 128s 2ms/step\n",
      "Epoch 1/4\n",
      "2979/2979 - 30s - loss: 629926208.0000 - 30s/epoch - 10ms/step\n",
      "Epoch 2/4\n",
      "2979/2979 - 25s - loss: 1449.0903 - 25s/epoch - 9ms/step\n",
      "Epoch 3/4\n",
      "2979/2979 - 24s - loss: 1449.5311 - 24s/epoch - 8ms/step\n",
      "Epoch 4/4\n",
      "2979/2979 - 24s - loss: 1452.7828 - 24s/epoch - 8ms/step\n",
      "57188/57188 [==============================] - 133s 2ms/step\n",
      "Epoch 1/4\n",
      "1490/1490 - 24s - loss: 1261085184.0000 - 24s/epoch - 16ms/step\n",
      "Epoch 2/4\n",
      "1490/1490 - 19s - loss: 1448.8949 - 19s/epoch - 13ms/step\n",
      "Epoch 3/4\n",
      "1490/1490 - 19s - loss: 1448.8966 - 19s/epoch - 13ms/step\n",
      "Epoch 4/4\n",
      "1490/1490 - 19s - loss: 1448.9777 - 19s/epoch - 13ms/step\n",
      "57188/57188 [==============================] - 135s 2ms/step\n",
      "Epoch 1/4\n",
      "5958/5958 - 50s - loss: 420850816.0000 - 50s/epoch - 8ms/step\n",
      "Epoch 2/4\n",
      "5958/5958 - 46s - loss: 1452.5945 - 46s/epoch - 8ms/step\n",
      "Epoch 3/4\n",
      "5958/5958 - 39s - loss: 1564.1729 - 39s/epoch - 6ms/step\n",
      "Epoch 4/4\n",
      "5958/5958 - 28s - loss: 1630.7092 - 28s/epoch - 5ms/step\n",
      "57188/57188 [==============================] - 67s 1ms/step\n",
      "Epoch 1/4\n",
      "2979/2979 - 23s - loss: 841739264.0000 - 23s/epoch - 8ms/step\n",
      "Epoch 2/4\n",
      "2979/2979 - 19s - loss: 1449.2004 - 19s/epoch - 6ms/step\n",
      "Epoch 3/4\n",
      "2979/2979 - 18s - loss: 1449.6376 - 18s/epoch - 6ms/step\n",
      "Epoch 4/4\n",
      "2979/2979 - 17s - loss: 1451.8115 - 17s/epoch - 6ms/step\n",
      "57188/57188 [==============================] - 71s 1ms/step\n",
      "Epoch 1/4\n",
      "1490/1490 - 22s - loss: 1683517440.0000 - 22s/epoch - 15ms/step\n",
      "Epoch 2/4\n",
      "1490/1490 - 18s - loss: 1449.2603 - 18s/epoch - 12ms/step\n",
      "Epoch 3/4\n",
      "1490/1490 - 18s - loss: 1449.0927 - 18s/epoch - 12ms/step\n",
      "Epoch 4/4\n",
      "1490/1490 - 19s - loss: 1449.1812 - 19s/epoch - 12ms/step\n",
      "57188/57188 [==============================] - 64s 1ms/step\n",
      "Epoch 1/4\n",
      "5958/5958 - 28s - loss: 352587072.0000 - 28s/epoch - 5ms/step\n",
      "Epoch 2/4\n",
      "5958/5958 - 25s - loss: 1453.3763 - 25s/epoch - 4ms/step\n",
      "Epoch 3/4\n",
      "5958/5958 - 25s - loss: 1624.5302 - 25s/epoch - 4ms/step\n",
      "Epoch 4/4\n",
      "5958/5958 - 25s - loss: 1692.1598 - 25s/epoch - 4ms/step\n",
      "57188/57188 [==============================] - 59s 1ms/step\n",
      "Epoch 1/4\n",
      "2979/2979 - 21s - loss: 704854912.0000 - 21s/epoch - 7ms/step\n",
      "Epoch 2/4\n",
      "2979/2979 - 20s - loss: 1449.4331 - 20s/epoch - 7ms/step\n",
      "Epoch 3/4\n",
      "2979/2979 - 19s - loss: 1449.8120 - 19s/epoch - 6ms/step\n",
      "Epoch 4/4\n",
      "2979/2979 - 19s - loss: 1452.8506 - 19s/epoch - 6ms/step\n",
      "57188/57188 [==============================] - 57s 986us/step\n",
      "Epoch 1/4\n",
      "1490/1490 - 18s - loss: 1410231936.0000 - 18s/epoch - 12ms/step\n",
      "Epoch 2/4\n",
      "1490/1490 - 16s - loss: 1449.1664 - 16s/epoch - 11ms/step\n",
      "Epoch 3/4\n",
      "1490/1490 - 16s - loss: 1449.0630 - 16s/epoch - 11ms/step\n",
      "Epoch 4/4\n",
      "1490/1490 - 16s - loss: 1449.1467 - 16s/epoch - 10ms/step\n",
      "57188/57188 [==============================] - 56s 974us/step\n",
      "Epoch 1/4\n",
      "5958/5958 - 28s - loss: 359868928.0000 - 28s/epoch - 5ms/step\n",
      "Epoch 2/4\n",
      "5958/5958 - 25s - loss: 1453.1735 - 25s/epoch - 4ms/step\n",
      "Epoch 3/4\n",
      "5958/5958 - 25s - loss: 1637.6213 - 25s/epoch - 4ms/step\n",
      "Epoch 4/4\n",
      "5958/5958 - 26s - loss: 1713.0294 - 26s/epoch - 4ms/step\n",
      "57188/57188 [==============================] - 61s 1ms/step\n",
      "Epoch 1/4\n",
      "2979/2979 - 22s - loss: 719892800.0000 - 22s/epoch - 7ms/step\n",
      "Epoch 2/4\n",
      "2979/2979 - 19s - loss: 1449.0551 - 19s/epoch - 6ms/step\n",
      "Epoch 3/4\n",
      "2979/2979 - 19s - loss: 1449.5033 - 19s/epoch - 6ms/step\n",
      "Epoch 4/4\n",
      "2979/2979 - 18s - loss: 1452.7227 - 18s/epoch - 6ms/step\n",
      "57188/57188 [==============================] - 60s 1ms/step\n",
      "Epoch 1/4\n",
      "1490/1490 - 19s - loss: 1442065024.0000 - 19s/epoch - 13ms/step\n",
      "Epoch 2/4\n",
      "1490/1490 - 17s - loss: 1449.0088 - 17s/epoch - 12ms/step\n",
      "Epoch 3/4\n",
      "1490/1490 - 18s - loss: 1448.9283 - 18s/epoch - 12ms/step\n",
      "Epoch 4/4\n",
      "1490/1490 - 17s - loss: 1449.0128 - 17s/epoch - 11ms/step\n",
      "57188/57188 [==============================] - 58s 1ms/step\n",
      "best_skor:  59999 best_gru:  64 best_unit1:  64 best_unit2:  32 best batch size:  4096\n",
      "Epoch 1/4\n",
      "5958/5958 - 27s - loss: 272038080.0000 - 27s/epoch - 5ms/step\n",
      "Epoch 2/4\n",
      "5958/5958 - 25s - loss: 1455.1263 - 25s/epoch - 4ms/step\n",
      "Epoch 3/4\n",
      "5958/5958 - 24s - loss: 1738.0820 - 24s/epoch - 4ms/step\n",
      "Epoch 4/4\n",
      "5958/5958 - 24s - loss: 1819.3741 - 24s/epoch - 4ms/step\n",
      "57188/57188 [==============================] - 59s 1ms/step\n",
      "Epoch 1/4\n",
      "2979/2979 - 21s - loss: 544788416.0000 - 21s/epoch - 7ms/step\n",
      "Epoch 2/4\n",
      "2979/2979 - 19s - loss: 1449.0851 - 19s/epoch - 6ms/step\n",
      "Epoch 3/4\n",
      "2979/2979 - 20s - loss: 1449.7412 - 20s/epoch - 7ms/step\n",
      "Epoch 4/4\n",
      "2979/2979 - 22s - loss: 1453.8835 - 22s/epoch - 7ms/step\n",
      "57188/57188 [==============================] - 64s 1ms/step\n"
     ]
    }
   ],
   "source": [
    "best_skor = float('-inf')\n",
    "best_gru = None\n",
    "best_unit1 = None\n",
    "best_unit2 = None\n",
    "best_batch = None\n",
    "best_LR = None\n",
    "\n",
    "for gru in gru_unit:\n",
    "    for uni1 in unit1:\n",
    "        for uni2 in unit2:\n",
    "            for batch in batch_size:\n",
    "\n",
    "                keras.utils.set_random_seed(7)\n",
    "                optimizerMSE = keras.optimizers.Adam(learning_rate=0.0001)\n",
    "\n",
    "                model = Sequential()\n",
    "                model.add(GRU(units = gru, input_shape = input_shape, activation = keras.layers.LeakyReLU()))\n",
    "                model.add(Dense(units = uni1, activation=keras.layers.LeakyReLU()))\n",
    "                model.add(Dense(units = uni2, activation=keras.layers.LeakyReLU()))\n",
    "                model.add(Dense(units = 1, activation=keras.layers.LeakyReLU(), bias_initializer='zeros', kernel_initializer='normal'))\n",
    "                model.compile(loss='mean_squared_error', optimizer = optimizerMSE)\n",
    "\n",
    "                model.fit(train_X, train_y, epochs = 4, batch_size = batch, verbose = 2)\n",
    "                predict = model.predict(test_X)\n",
    "                \n",
    "                train_scores = 0\n",
    "                \n",
    "                for i in range(61000):\n",
    "                    if (min_kord[i] <= predict[i][0] <= max_kord[i]):\n",
    "                        train_scores +=1\n",
    "\n",
    "                if train_scores > best_skor:\n",
    "                    best_skor = train_scores\n",
    "                    best_gru = gru\n",
    "                    best_unit1 = uni1\n",
    "                    best_unit2 = uni2\n",
    "                    best_batch = batch\n",
    "\n",
    "                    print('best_skor: ', best_skor,'best_gru: ', best_gru,'best_unit1: ', best_unit1,'best_unit2: ', best_unit2,'best batch size: ', best_batch)\n",
    "print('best_skor: ', best_skor)                    \n",
    "print('best_gru: ', best_gru)\n",
    "print('best_unit1: ', best_unit1)\n",
    "print('best_unit2: ', best_unit2)\n",
    "#print('best learning rate: ', best_LR)    \n",
    "print('best batch size: ', best_batch)    \n"
   ]
  },
  {
   "cell_type": "raw",
   "id": "79027a7b",
   "metadata": {},
   "source": [
    "best_skor:  1448.070556640625\n",
    "best_gru:  32\n",
    "best_unit1:  32\n",
    "best_unit2:  32\n",
    "best learning rate:  0.0001\n",
    "best batch size:  2048\n",
    "\n",
    "best_skor:  1448.0474853515625\n",
    "best_gru:  64\n",
    "best_unit1:  64\n",
    "best_unit2:  64\n",
    "best learning rate:  0.0001\n",
    "best batch size:  4096"
   ]
  },
  {
   "cell_type": "code",
   "execution_count": null,
   "id": "5db00ec0",
   "metadata": {},
   "outputs": [],
   "source": []
  }
 ],
 "metadata": {
  "kernelspec": {
   "display_name": "Python 3 (ipykernel)",
   "language": "python",
   "name": "python3"
  },
  "language_info": {
   "codemirror_mode": {
    "name": "ipython",
    "version": 3
   },
   "file_extension": ".py",
   "mimetype": "text/x-python",
   "name": "python",
   "nbconvert_exporter": "python",
   "pygments_lexer": "ipython3",
   "version": "3.11.5"
  }
 },
 "nbformat": 4,
 "nbformat_minor": 5
}
