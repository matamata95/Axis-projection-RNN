{
 "cells": [
  {
   "cell_type": "code",
   "execution_count": 1,
   "id": "6ebe99d5",
   "metadata": {
    "executionInfo": {
     "elapsed": 6834,
     "status": "ok",
     "timestamp": 1710664771017,
     "user": {
      "displayName": "Matija Grulovic",
      "userId": "10099424245028057757"
     },
     "user_tz": -60
    },
    "id": "6ebe99d5"
   },
   "outputs": [],
   "source": [
    "import numpy as np\n",
    "import pandas as pd"
   ]
  },
  {
   "cell_type": "code",
   "execution_count": 4,
   "id": "9156e9a2",
   "metadata": {},
   "outputs": [],
   "source": [
    "import matplotlib\n",
    "matplotlib.use('nbagg')\n",
    "import matplotlib.pyplot as plt\n",
    "%matplotlib tk"
   ]
  },
  {
   "cell_type": "code",
   "execution_count": 5,
   "id": "75f0be5b",
   "metadata": {
    "executionInfo": {
     "elapsed": 4,
     "status": "ok",
     "timestamp": 1710664771018,
     "user": {
      "displayName": "Matija Grulovic",
      "userId": "10099424245028057757"
     },
     "user_tz": -60
    },
    "id": "75f0be5b"
   },
   "outputs": [],
   "source": [
    "import os, os.path, sys"
   ]
  },
  {
   "cell_type": "code",
   "execution_count": 6,
   "id": "f8d678cf",
   "metadata": {
    "executionInfo": {
     "elapsed": 9,
     "status": "ok",
     "timestamp": 1710664812972,
     "user": {
      "displayName": "Matija Grulovic",
      "userId": "10099424245028057757"
     },
     "user_tz": -60
    },
    "id": "f8d678cf"
   },
   "outputs": [],
   "source": [
    "path = r\"C:\\Users\\mata2\\Desktop\\master\\podaci\\0k\\X\""
   ]
  },
  {
   "cell_type": "code",
   "execution_count": 7,
   "id": "43cd7520",
   "metadata": {
    "executionInfo": {
     "elapsed": 617,
     "status": "ok",
     "timestamp": 1710664813582,
     "user": {
      "displayName": "Matija Grulovic",
      "userId": "10099424245028057757"
     },
     "user_tz": -60
    },
    "id": "43cd7520"
   },
   "outputs": [],
   "source": [
    "dir = os.listdir(path)"
   ]
  },
  {
   "cell_type": "markdown",
   "id": "44938455",
   "metadata": {},
   "source": [
    "Ucitavanje fajlova"
   ]
  },
  {
   "cell_type": "code",
   "execution_count": 8,
   "id": "88795fa1",
   "metadata": {
    "executionInfo": {
     "elapsed": 3,
     "status": "ok",
     "timestamp": 1710664816406,
     "user": {
      "displayName": "Matija Grulovic",
      "userId": "10099424245028057757"
     },
     "user_tz": -60
    },
    "id": "88795fa1"
   },
   "outputs": [],
   "source": [
    "file_names = []\n",
    "for file in dir:\n",
    "    file_names.append(file)"
   ]
  },
  {
   "cell_type": "code",
   "execution_count": 9,
   "id": "0fe53353",
   "metadata": {},
   "outputs": [],
   "source": [
    "percent_train = 0.8"
   ]
  },
  {
   "cell_type": "code",
   "execution_count": 10,
   "id": "02dbbaa6",
   "metadata": {},
   "outputs": [],
   "source": [
    "train_files_names = file_names[:int(percent_train*len(file_names))]\n",
    "test_file_names = file_names[int(percent_train*len(file_names))::]"
   ]
  },
  {
   "cell_type": "markdown",
   "id": "cf786828",
   "metadata": {},
   "source": [
    "Ucitavanje zadate trajektorije"
   ]
  },
  {
   "cell_type": "code",
   "execution_count": 17,
   "id": "0ab0bc4a",
   "metadata": {},
   "outputs": [],
   "source": [
    "x_command = np.asarray(pd.read_csv(r\"C:\\Users\\mata2\\Desktop\\master\\podaci\\xCmd.txt\",header=None).astype('int'))\n",
    "y_command = np.asarray(pd.read_csv(r\"C:\\Users\\mata2\\Desktop\\master\\podaci\\yCmd.txt\",header=None).astype('int'))"
   ]
  },
  {
   "cell_type": "code",
   "execution_count": 19,
   "id": "aff3c059",
   "metadata": {},
   "outputs": [],
   "source": [
    "x_command_new = np.asarray(pd.read_csv(r\"C:\\Users\\mata2\\Desktop\\master\\podaci\\novi_deo\\xCmd_novi_deo.txt\",header=None).astype('int'))\n",
    "y_command_new = np.asarray(pd.read_csv(r\"C:\\Users\\mata2\\Desktop\\master\\podaci\\novi_deo\\yCmd_novi_deo.txt\",header=None).astype('int'))"
   ]
  },
  {
   "cell_type": "code",
   "execution_count": 38,
   "id": "36677458",
   "metadata": {},
   "outputs": [
    {
     "data": {
      "text/plain": [
       "array([180000])"
      ]
     },
     "execution_count": 38,
     "metadata": {},
     "output_type": "execute_result"
    }
   ],
   "source": [
    "max(x_command)"
   ]
  },
  {
   "cell_type": "code",
   "execution_count": 45,
   "id": "e4bf7586",
   "metadata": {},
   "outputs": [],
   "source": [
    "plt.figure(figsize=(15,7))\n",
    "plt.subplot(121)\n",
    "plt.plot(x_command, y_command)\n",
    "plt.axis([min(x_command), max(x_command), min(x_command), max(x_command)])\n",
    "\n",
    "plt.subplot(122)\n",
    "plt.plot(x_command_new, y_command_new)\n",
    "plt.axis([min(x_command), max(x_command), min(x_command), max(x_command)])\n",
    "plt.show()"
   ]
  },
  {
   "cell_type": "markdown",
   "id": "f89a2bad",
   "metadata": {},
   "source": [
    "Konkatenacija fajlova koji se posle pravilno rasporedjuju na adekvatne train/test skupove"
   ]
  },
  {
   "cell_type": "code",
   "execution_count": 12,
   "id": "df895f0a",
   "metadata": {},
   "outputs": [],
   "source": [
    "train_ = np.concatenate([pd.read_csv(path + \"/\" + file, header=None)[:61000].astype('int')\n",
    "                              for file in train_files_names], axis=0)\n",
    "test_ = np.concatenate([pd.read_csv(path + \"/\" + file, header=None)[:61000].astype('int')\n",
    "                              for file in test_file_names], axis=0)"
   ]
  },
  {
   "cell_type": "markdown",
   "id": "26336f39",
   "metadata": {},
   "source": [
    "Prethodno konkatenizovani podaci se adekvatno dele kako bi se izbeglo fiktivno stanje (stanje pri kraju rada i pocetku novog ako su konkatenizovani podaci)"
   ]
  },
  {
   "cell_type": "code",
   "execution_count": 13,
   "id": "9b22f963",
   "metadata": {},
   "outputs": [],
   "source": [
    "for j in range(len(train_files_names)):\n",
    "    exec(f\"razlika_trening_{j} = []\")\n",
    "    for i in range(61000):\n",
    "        exec(f\"razlika_trening_{j}.append(x_command[i] - train_[j*61000+i])\")\n",
    "    exec(f'razlika_trening_{j} = np.asarray(razlika_trening_{j})')        "
   ]
  },
  {
   "cell_type": "code",
   "execution_count": 15,
   "id": "fcadc02d",
   "metadata": {},
   "outputs": [],
   "source": [
    "for j in range(len(test_file_names)):\n",
    "    exec(f\"razlika_test_{j} = []\")\n",
    "    for i in range(61000):\n",
    "        exec(f\"razlika_test_{j}.append(x_command[i] - test_[j*61000+i])\")\n",
    "    exec(f'razlika_test_{j} = np.asarray(razlika_test_{j})')    "
   ]
  },
  {
   "cell_type": "markdown",
   "id": "a1171a89",
   "metadata": {},
   "source": [
    "Funkcija koja deli podatke na \"sliding window\""
   ]
  },
  {
   "cell_type": "code",
   "execution_count": 14,
   "id": "03cf8cf6",
   "metadata": {
    "executionInfo": {
     "elapsed": 1,
     "status": "ok",
     "timestamp": 1710681491731,
     "user": {
      "displayName": "Matija Grulovic",
      "userId": "10099424245028057757"
     },
     "user_tz": -60
    },
    "id": "03cf8cf6"
   },
   "outputs": [],
   "source": [
    "def create_timeseries_split(data, time_steps):\n",
    "\n",
    "  # Get the number of samples in the data\n",
    "  num_samples = len(data) - time_steps\n",
    "\n",
    "  # Create empty arrays to store features and target values\n",
    "  x_train = np.zeros((num_samples, time_steps, 1))\n",
    "  y_train = np.zeros((num_samples, 1))\n",
    "\n",
    "  # Loop through the data and create features and target values\n",
    "  for i in range(num_samples):\n",
    "    # Extract a slice of data for the current feature\n",
    "    x_train[i] = data[i:i+time_steps, :]\n",
    "\n",
    "    # The target value is the next value after the feature\n",
    "    y_train[i] = data[i+time_steps, 0]\n",
    "\n",
    "  return x_train, y_train"
   ]
  },
  {
   "cell_type": "markdown",
   "id": "46b0df5c",
   "metadata": {},
   "source": [
    "Velicina buffera"
   ]
  },
  {
   "cell_type": "code",
   "execution_count": 16,
   "id": "0a745ab2",
   "metadata": {
    "executionInfo": {
     "elapsed": 216,
     "status": "ok",
     "timestamp": 1710681509731,
     "user": {
      "displayName": "Matija Grulovic",
      "userId": "10099424245028057757"
     },
     "user_tz": -60
    },
    "id": "0a745ab2"
   },
   "outputs": [],
   "source": [
    "time_steps = 8"
   ]
  },
  {
   "cell_type": "markdown",
   "id": "e5f849fe",
   "metadata": {},
   "source": [
    "Deljenje podataka na train i test skup"
   ]
  },
  {
   "cell_type": "code",
   "execution_count": 17,
   "id": "dba421d0",
   "metadata": {},
   "outputs": [],
   "source": [
    "for i in range(len(train_files_names)):\n",
    "    exec(f'train_X_{i}, train_y_{i} = create_timeseries_split(razlika_trening_{i}, time_steps)')"
   ]
  },
  {
   "cell_type": "code",
   "execution_count": 18,
   "id": "95faf0cd",
   "metadata": {},
   "outputs": [],
   "source": [
    "for i in range(len(test_file_names)):\n",
    "    exec(f'test_X_{i}, test_y_{i} = create_timeseries_split(razlika_test_{i}, time_steps)')"
   ]
  },
  {
   "cell_type": "code",
   "execution_count": 19,
   "id": "fbd2c013",
   "metadata": {},
   "outputs": [],
   "source": [
    "train_X = np.asarray(train_X_0)\n",
    "for i in range(1,len(train_files_names)):\n",
    "    exec(f'train_X = np.append(train_X, train_X_{i}, axis=0)')"
   ]
  },
  {
   "cell_type": "code",
   "execution_count": 20,
   "id": "c2026ada",
   "metadata": {},
   "outputs": [],
   "source": [
    "train_y = np.asarray(train_y_0)\n",
    "for i in range(1,len(train_files_names)):\n",
    "    exec(f'train_y = np.append(train_y, train_y_{i}, axis=0)')"
   ]
  },
  {
   "cell_type": "code",
   "execution_count": 21,
   "id": "c15e3dc7",
   "metadata": {},
   "outputs": [],
   "source": [
    "test_X = np.asarray(test_X_0)\n",
    "for i in range(1,len(test_file_names)):\n",
    "    exec(f'test_X = np.append(test_X, test_X_{i}, axis=0)')"
   ]
  },
  {
   "cell_type": "code",
   "execution_count": 22,
   "id": "b87cce75",
   "metadata": {},
   "outputs": [],
   "source": [
    "test_y = np.asarray(test_y_0)\n",
    "for i in range(1,len(test_file_names)):\n",
    "    exec(f'test_y = np.append(test_y, test_y_{i}, axis=0)')"
   ]
  },
  {
   "cell_type": "code",
   "execution_count": 45,
   "id": "5942fe35",
   "metadata": {},
   "outputs": [],
   "source": [
    "i = time_steps\n",
    "plt.figure(figsize=(11,7))\n",
    "for j in range(len(predvidjena_trajektorija_0)):\n",
    "    if i%61000 == 0:\n",
    "        i = time_steps    \n",
    "    if min_trajektorija[i] <= predvidjena_trajektorija_0[j] <= max_trajektorija[i]:\n",
    "        plt.plot(i, predvidjena_trajektorija_0[j], color='black', marker='o', markersize=2)\n",
    "    else:\n",
    "        plt.plot(i, predvidjena_trajektorija_0[j], color='red',marker='o',markersize=2)\n",
    "    i += 1\n",
    "plt.plot(x_command, linewidth = 1)\n",
    "plt.show()"
   ]
  },
  {
   "cell_type": "raw",
   "id": "845c9c5e",
   "metadata": {},
   "source": []
  },
  {
   "cell_type": "code",
   "execution_count": 43,
   "id": "cd5800d1",
   "metadata": {},
   "outputs": [],
   "source": [
    "i = time_steps\n",
    "plt.figure(figsize=(11,7))\n",
    "for j in range(len(predvidjena_trajektorija_4)):\n",
    "    if i%61000 == 0:\n",
    "        i = time_steps    \n",
    "    if min_trajektorija[i] <= predvidjena_trajektorija_4[j] <= max_trajektorija[i]:\n",
    "        plt.plot(i, predvidjena_trajektorija_4[j], color='black', marker='o', markersize=2)\n",
    "    else:\n",
    "        plt.plot(i, predvidjena_trajektorija_4[j], color='red',marker='o',markersize=2)\n",
    "    i += 1\n",
    "plt.plot(x_command, linewidth = 1)\n",
    "plt.show()"
   ]
  },
  {
   "cell_type": "raw",
   "id": "d5e6dc58",
   "metadata": {},
   "source": []
  },
  {
   "cell_type": "code",
   "execution_count": 41,
   "id": "0cdbfd87",
   "metadata": {},
   "outputs": [],
   "source": [
    "i = time_steps\n",
    "plt.figure(figsize=(11,7))\n",
    "for j in range(len(predvidjena_trajektorija_3)):\n",
    "    if i%61000 == 0:\n",
    "        i = time_steps    \n",
    "    if min_trajektorija[i] <= predvidjena_trajektorija_3[j] <= max_trajektorija[i]:\n",
    "        plt.plot(i, predvidjena_trajektorija_3[j], color='black', marker='o', markersize=2)\n",
    "    else:\n",
    "        plt.plot(i, predvidjena_trajektorija_3[j], color='red',marker='o',markersize=2)\n",
    "    i += 1\n",
    "plt.plot(x_command, linewidth = 1)\n",
    "plt.show()"
   ]
  },
  {
   "cell_type": "raw",
   "id": "139e18f5",
   "metadata": {},
   "source": []
  },
  {
   "cell_type": "code",
   "execution_count": 213,
   "id": "b80a189a",
   "metadata": {},
   "outputs": [],
   "source": [
    "i = time_steps\n",
    "plt.figure(figsize=(11,7))\n",
    "for j in range(len(predvidjena_trajektorija_2)):\n",
    "    if i%61000 == 0:\n",
    "        i = time_steps    \n",
    "    if min_trajektorija[i] <= predvidjena_trajektorija_2[j] <= max_trajektorija[i]:\n",
    "        plt.plot(i, predvidjena_trajektorija_2[j], color='black', marker='o', markersize=2)\n",
    "    else:\n",
    "        plt.plot(i, predvidjena_trajektorija_2[j], color='red',marker='o',markersize=2)\n",
    "    i += 1\n",
    "plt.plot(x_command, linewidth = 1)\n",
    "plt.show()"
   ]
  },
  {
   "cell_type": "raw",
   "id": "77a7e1fc",
   "metadata": {},
   "source": []
  },
  {
   "cell_type": "code",
   "execution_count": 212,
   "id": "81d97099",
   "metadata": {},
   "outputs": [],
   "source": [
    "i = time_steps\n",
    "plt.figure(figsize=(11,7))\n",
    "for j in range(len(predvidjena_trajektorija_1)):\n",
    "    if i%61000 == 0:\n",
    "        i = time_steps    \n",
    "    if min_trajektorija[i] <= predvidjena_trajektorija_1[j] <= max_trajektorija[i]:\n",
    "        plt.plot(i, predvidjena_trajektorija_1[j], color='black', marker='o', markersize=2)\n",
    "    else:\n",
    "        plt.plot(i, predvidjena_trajektorija_1[j], color='red',marker='o',markersize=2)\n",
    "    i += 1\n",
    "plt.plot(x_command, linewidth = 1)\n",
    "plt.show()"
   ]
  },
  {
   "cell_type": "raw",
   "id": "5ba32c48",
   "metadata": {},
   "source": []
  },
  {
   "cell_type": "code",
   "execution_count": 39,
   "id": "a99d2c71",
   "metadata": {},
   "outputs": [],
   "source": [
    "i = time_steps\n",
    "plt.figure(figsize=(11,7))\n",
    "for j in range(len(predvidjena_trajektorija_0)):\n",
    "    if i%61000 == 0:\n",
    "        i = time_steps    \n",
    "    if min_trajektorija[i] <= predvidjena_trajektorija_0[j] <= max_trajektorija[i]:\n",
    "        plt.plot(i, predvidjena_trajektorija_0[j], color='black', marker='o', markersize=2)\n",
    "    else:\n",
    "        plt.plot(i, predvidjena_trajektorija_0[j], color='red',marker='o',markersize=2)\n",
    "    i += 1\n",
    "plt.plot(x_command, linewidth = 1)\n",
    "plt.show()"
   ]
  },
  {
   "cell_type": "code",
   "execution_count": 38,
   "id": "fbd8aefc",
   "metadata": {
    "scrolled": true
   },
   "outputs": [],
   "source": [
    "min_trajektorija = []\n",
    "max_trajektorija = []\n",
    "for i in range(61000):\n",
    "    min_trajektorija.append(x_command[i] + min_kord[i])\n",
    "    max_trajektorija.append(x_command[i] + max_kord[i])"
   ]
  },
  {
   "cell_type": "markdown",
   "id": "d7470507",
   "metadata": {},
   "source": [
    "MIN MAX TRAJEKTORIJE"
   ]
  },
  {
   "cell_type": "markdown",
   "id": "6769fed2",
   "metadata": {},
   "source": [
    "# NA TEST SKUPU - min/max plotovi"
   ]
  },
  {
   "cell_type": "code",
   "execution_count": null,
   "id": "68cfab49",
   "metadata": {},
   "outputs": [],
   "source": []
  },
  {
   "cell_type": "code",
   "execution_count": 63,
   "id": "d4f0151b",
   "metadata": {},
   "outputs": [],
   "source": [
    "plt.plot(x_command[10::],'r')\n",
    "plt.plot(predvidjena_trajektorija_2,'b')\n",
    "plt.plot(test_[10:61000], 'g')\n",
    "plt.show()"
   ]
  },
  {
   "cell_type": "code",
   "execution_count": 62,
   "id": "eaa3e45c",
   "metadata": {},
   "outputs": [],
   "source": [
    "plt.subplot(211)\n",
    "plt.plot(x_command[10::],'r')\n",
    "plt.plot(predvidjena_trajektorija_5,'b')\n",
    "plt.plot(test_[10:61000], 'g')\n",
    "plt.show()\n",
    "\n",
    "plt.subplot(212)\n",
    "plt.plot(x_command[10::],'r')\n",
    "plt.plot(predvidjena_trajektorija_5,'b')\n",
    "plt.plot(test_[10:61000], 'g')\n",
    "plt.show()"
   ]
  },
  {
   "cell_type": "markdown",
   "id": "85b5722e",
   "metadata": {},
   "source": []
  },
  {
   "cell_type": "code",
   "execution_count": 60,
   "id": "61138e07",
   "metadata": {},
   "outputs": [],
   "source": [
    "plt.plot(x_command[10::],'r')\n",
    "plt.plot(predvidjena_trajektorija_4,'b')\n",
    "plt.plot(test_[10:61000], 'g')\n",
    "plt.show()"
   ]
  },
  {
   "cell_type": "code",
   "execution_count": 59,
   "id": "87d732d2",
   "metadata": {},
   "outputs": [],
   "source": [
    "plt.subplot(211)\n",
    "plt.plot(x_command[10::],'r')\n",
    "plt.plot(predvidjena_trajektorija_4,'b')\n",
    "plt.plot(test_[10:61000], 'g')\n",
    "plt.show()\n",
    "\n",
    "plt.subplot(212)\n",
    "plt.plot(x_command[10::],'r')\n",
    "plt.plot(predvidjena_trajektorija_4,'b')\n",
    "plt.plot(test_[10:61000], 'g')\n",
    "plt.show()"
   ]
  },
  {
   "cell_type": "markdown",
   "id": "7e19c77f",
   "metadata": {},
   "source": []
  },
  {
   "cell_type": "code",
   "execution_count": 58,
   "id": "8f975d3d",
   "metadata": {},
   "outputs": [],
   "source": [
    "plt.plot(x_command[10::],'r')\n",
    "plt.plot(predvidjena_trajektorija_3,'b')\n",
    "plt.plot(test_[10:61000], 'g')\n",
    "plt.show()"
   ]
  },
  {
   "cell_type": "code",
   "execution_count": 56,
   "id": "1225d478",
   "metadata": {},
   "outputs": [],
   "source": [
    "plt.subplot(211)\n",
    "plt.plot(x_command[10::],'r')\n",
    "plt.plot(predvidjena_trajektorija_3,'b')\n",
    "plt.plot(test_[10:61000], 'g')\n",
    "plt.show()\n",
    "\n",
    "plt.subplot(212)\n",
    "plt.plot(x_command[10::],'r')\n",
    "plt.plot(predvidjena_trajektorija_3,'b')\n",
    "plt.plot(test_[10:61000], 'g')\n",
    "plt.show()"
   ]
  },
  {
   "cell_type": "markdown",
   "id": "8851427f",
   "metadata": {},
   "source": []
  },
  {
   "cell_type": "code",
   "execution_count": 54,
   "id": "570c5846",
   "metadata": {},
   "outputs": [],
   "source": [
    "plt.plot(x_command[10::],'r')\n",
    "plt.plot(predvidjena_trajektorija_2,'b')\n",
    "plt.plot(test_[10:61000], 'g')\n",
    "plt.show()"
   ]
  },
  {
   "cell_type": "code",
   "execution_count": 52,
   "id": "6ed8b7e8",
   "metadata": {},
   "outputs": [
    {
     "data": {
      "text/plain": [
       "[<matplotlib.lines.Line2D at 0x29b3ca786d0>]"
      ]
     },
     "execution_count": 52,
     "metadata": {},
     "output_type": "execute_result"
    }
   ],
   "source": [
    "plt.subplot(211)\n",
    "plt.plot(x_command[10::],'r')\n",
    "plt.plot(predvidjena_trajektorija_2,'b')\n",
    "plt.plot(test_[10:61000], 'g')\n",
    "plt.show()\n",
    "\n",
    "plt.subplot(212)\n",
    "plt.plot(x_command[10::],'r')\n",
    "plt.plot(predvidjena_trajektorija_2,'b')\n",
    "plt.plot(test_[10:61000], 'g')\n",
    "plt.show()"
   ]
  },
  {
   "cell_type": "markdown",
   "id": "45e106a5",
   "metadata": {},
   "source": []
  }
 ],
 "metadata": {
  "colab": {
   "provenance": []
  },
  "kernelspec": {
   "display_name": "Python 3 (ipykernel)",
   "language": "python",
   "name": "python3"
  },
  "language_info": {
   "codemirror_mode": {
    "name": "ipython",
    "version": 3
   },
   "file_extension": ".py",
   "mimetype": "text/x-python",
   "name": "python",
   "nbconvert_exporter": "python",
   "pygments_lexer": "ipython3",
   "version": "3.11.5"
  }
 },
 "nbformat": 4,
 "nbformat_minor": 5
}
