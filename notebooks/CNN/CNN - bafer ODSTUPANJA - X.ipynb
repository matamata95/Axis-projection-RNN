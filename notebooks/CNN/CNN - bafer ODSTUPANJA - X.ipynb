{
 "cells": [
  {
   "cell_type": "code",
   "execution_count": 1,
   "id": "6ebe99d5",
   "metadata": {
    "executionInfo": {
     "elapsed": 6834,
     "status": "ok",
     "timestamp": 1710664771017,
     "user": {
      "displayName": "Matija Grulovic",
      "userId": "10099424245028057757"
     },
     "user_tz": -60
    },
    "id": "6ebe99d5"
   },
   "outputs": [
    {
     "name": "stdout",
     "output_type": "stream",
     "text": [
      "WARNING:tensorflow:From D:\\Users\\mata2\\anaconda3\\Lib\\site-packages\\keras\\src\\losses.py:2976: The name tf.losses.sparse_softmax_cross_entropy is deprecated. Please use tf.compat.v1.losses.sparse_softmax_cross_entropy instead.\n",
      "\n"
     ]
    }
   ],
   "source": [
    "import numpy as np\n",
    "import pandas as pd\n",
    "import keras\n",
    "import tensorflow as tf\n",
    "from tensorflow.keras.models import Sequential\n",
    "from tensorflow.keras.models import Model\n",
    "from tensorflow.keras.layers import LeakyReLU, Input, Flatten, MaxPooling1D, Conv1D, MaxPool1D, GlobalMaxPool1D, Dense, AveragePooling1D, GlobalAveragePooling1D"
   ]
  },
  {
   "cell_type": "code",
   "execution_count": 2,
   "id": "9156e9a2",
   "metadata": {},
   "outputs": [],
   "source": [
    "import matplotlib.pyplot as plt\n",
    "%matplotlib tk"
   ]
  },
  {
   "cell_type": "code",
   "execution_count": 3,
   "id": "75f0be5b",
   "metadata": {
    "executionInfo": {
     "elapsed": 4,
     "status": "ok",
     "timestamp": 1710664771018,
     "user": {
      "displayName": "Matija Grulovic",
      "userId": "10099424245028057757"
     },
     "user_tz": -60
    },
    "id": "75f0be5b"
   },
   "outputs": [],
   "source": [
    "import os"
   ]
  },
  {
   "cell_type": "code",
   "execution_count": 4,
   "id": "f8d678cf",
   "metadata": {
    "executionInfo": {
     "elapsed": 9,
     "status": "ok",
     "timestamp": 1710664812972,
     "user": {
      "displayName": "Matija Grulovic",
      "userId": "10099424245028057757"
     },
     "user_tz": -60
    },
    "id": "f8d678cf"
   },
   "outputs": [],
   "source": [
    "path = r\"C:\\Users\\mata2\\Desktop\\master\\podaci\\0k\\X\""
   ]
  },
  {
   "cell_type": "code",
   "execution_count": 5,
   "id": "43cd7520",
   "metadata": {
    "executionInfo": {
     "elapsed": 617,
     "status": "ok",
     "timestamp": 1710664813582,
     "user": {
      "displayName": "Matija Grulovic",
      "userId": "10099424245028057757"
     },
     "user_tz": -60
    },
    "id": "43cd7520"
   },
   "outputs": [],
   "source": [
    "dir = os.listdir(path)"
   ]
  },
  {
   "cell_type": "markdown",
   "id": "44938455",
   "metadata": {},
   "source": [
    "Ucitavanje fajlova"
   ]
  },
  {
   "cell_type": "code",
   "execution_count": 6,
   "id": "88795fa1",
   "metadata": {
    "executionInfo": {
     "elapsed": 3,
     "status": "ok",
     "timestamp": 1710664816406,
     "user": {
      "displayName": "Matija Grulovic",
      "userId": "10099424245028057757"
     },
     "user_tz": -60
    },
    "id": "88795fa1"
   },
   "outputs": [],
   "source": [
    "file_names = []\n",
    "for file in dir:\n",
    "    file_names.append(file)"
   ]
  },
  {
   "cell_type": "code",
   "execution_count": 7,
   "id": "0fe53353",
   "metadata": {},
   "outputs": [],
   "source": [
    "percent_train = 0.8"
   ]
  },
  {
   "cell_type": "code",
   "execution_count": 8,
   "id": "02dbbaa6",
   "metadata": {},
   "outputs": [],
   "source": [
    "train_files_names = file_names[:int(percent_train*len(file_names))]\n",
    "test_file_names = file_names[int(percent_train*len(file_names))::]"
   ]
  },
  {
   "cell_type": "markdown",
   "id": "cf786828",
   "metadata": {},
   "source": [
    "Ucitavanje zadate trajektorije"
   ]
  },
  {
   "cell_type": "code",
   "execution_count": 9,
   "id": "0ab0bc4a",
   "metadata": {},
   "outputs": [],
   "source": [
    "x_command = np.asarray(pd.read_csv(r\"C:\\Users\\mata2\\Desktop\\master\\podaci\\xCmd.txt\",header=None).astype('int'))"
   ]
  },
  {
   "cell_type": "markdown",
   "id": "f89a2bad",
   "metadata": {},
   "source": [
    "Konkatenacija fajlova koji se posle pravilno rasporedjuju na adekvatne train/test skupove"
   ]
  },
  {
   "cell_type": "code",
   "execution_count": 10,
   "id": "df895f0a",
   "metadata": {},
   "outputs": [],
   "source": [
    "train_ = np.concatenate([pd.read_csv(path + \"/\" + file, header=None)[:61000].astype('int')\n",
    "                              for file in train_files_names], axis=0)\n",
    "test_ = np.concatenate([pd.read_csv(path + \"/\" + file, header=None)[:61000].astype('int')\n",
    "                              for file in test_file_names], axis=0)"
   ]
  },
  {
   "cell_type": "markdown",
   "id": "26336f39",
   "metadata": {},
   "source": [
    "Prethodno konkatenizovani podaci se adekvatno dele kako bi se izbeglo fiktivno stanje (stanje pri kraju rada i pocetku novog ako su konkatenizovani podaci)"
   ]
  },
  {
   "cell_type": "code",
   "execution_count": 12,
   "id": "9b22f963",
   "metadata": {},
   "outputs": [],
   "source": [
    "for j in range(len(train_files_names)):\n",
    "    exec(f\"razlika_trening_{j} = []\")\n",
    "    for i in range(61000):\n",
    "        exec(f\"razlika_trening_{j}.append(x_command[i] - train_[j*61000+i])\")\n",
    "    exec(f'razlika_trening_{j} = np.asarray(razlika_trening_{j})')        "
   ]
  },
  {
   "cell_type": "code",
   "execution_count": 11,
   "id": "fcadc02d",
   "metadata": {},
   "outputs": [],
   "source": [
    "for j in range(len(test_file_names)):\n",
    "    exec(f\"razlika_test_{j} = []\")\n",
    "    for i in range(61000):\n",
    "        exec(f\"razlika_test_{j}.append(x_command[i] - test_[j*61000+i])\")\n",
    "    exec(f'razlika_test_{j} = np.asarray(razlika_test_{j})')    "
   ]
  },
  {
   "cell_type": "markdown",
   "id": "a1171a89",
   "metadata": {},
   "source": [
    "Funkcija koja deli podatke na \"sliding window\""
   ]
  },
  {
   "cell_type": "code",
   "execution_count": 14,
   "id": "03cf8cf6",
   "metadata": {
    "executionInfo": {
     "elapsed": 1,
     "status": "ok",
     "timestamp": 1710681491731,
     "user": {
      "displayName": "Matija Grulovic",
      "userId": "10099424245028057757"
     },
     "user_tz": -60
    },
    "id": "03cf8cf6"
   },
   "outputs": [],
   "source": [
    "def create_timeseries_split(data, time_steps):\n",
    "\n",
    "    # Get the number of samples in the data\n",
    "    num_samples = len(data) - time_steps\n",
    "\n",
    "    # Create empty arrays to store features and target values\n",
    "    x_train = np.zeros((num_samples, time_steps, 1))\n",
    "    y_train = np.zeros((num_samples, 1))\n",
    "\n",
    "    # Loop through the data and create features and target values\n",
    "    for i in range(num_samples):\n",
    "        # Extract a slice of data for the current feature\n",
    "        x_train[i] = data[i:i+time_steps, :]\n",
    "\n",
    "        # The target value is the next value after the feature\n",
    "        y_train[i] = data[i+time_steps, 0]\n",
    "\n",
    "    return x_train, y_train"
   ]
  },
  {
   "cell_type": "markdown",
   "id": "46b0df5c",
   "metadata": {},
   "source": [
    "Velicina buffera"
   ]
  },
  {
   "cell_type": "code",
   "execution_count": 13,
   "id": "0a745ab2",
   "metadata": {
    "executionInfo": {
     "elapsed": 216,
     "status": "ok",
     "timestamp": 1710681509731,
     "user": {
      "displayName": "Matija Grulovic",
      "userId": "10099424245028057757"
     },
     "user_tz": -60
    },
    "id": "0a745ab2"
   },
   "outputs": [],
   "source": [
    "time_steps = 8"
   ]
  },
  {
   "cell_type": "markdown",
   "id": "e5f849fe",
   "metadata": {},
   "source": [
    "Deljenje podataka na train i test skup"
   ]
  },
  {
   "cell_type": "code",
   "execution_count": 15,
   "id": "dba421d0",
   "metadata": {},
   "outputs": [],
   "source": [
    "for i in range(len(train_files_names)):\n",
    "    exec(f'train_X_{i}, train_y_{i} = create_timeseries_split(razlika_trening_{i}, time_steps)')\n",
    "\n",
    "for i in range(len(test_file_names)):\n",
    "    exec(f'test_X_{i}, test_y_{i} = create_timeseries_split(razlika_test_{i}, time_steps)')\n",
    "\n",
    "train_X = np.asarray(train_X_0)\n",
    "for i in range(1,len(train_files_names)):\n",
    "    exec(f'train_X = np.append(train_X, train_X_{i}, axis=0)')\n",
    "\n",
    "train_y = np.asarray(train_y_0)\n",
    "for i in range(1,len(train_files_names)):\n",
    "    exec(f'train_y = np.append(train_y, train_y_{i}, axis=0)')\n",
    "\n",
    "test_X = np.asarray(test_X_0)\n",
    "for i in range(1,len(test_file_names)):\n",
    "    exec(f'test_X = np.append(test_X, test_X_{i}, axis=0)')\n",
    "\n",
    "test_y = np.asarray(test_y_0)\n",
    "for i in range(1,len(test_file_names)):\n",
    "    exec(f'test_y = np.append(test_y, test_y_{i}, axis=0)')"
   ]
  },
  {
   "cell_type": "code",
   "execution_count": 16,
   "id": "bc7033aa",
   "metadata": {
    "executionInfo": {
     "elapsed": 2,
     "status": "ok",
     "timestamp": 1710681547336,
     "user": {
      "displayName": "Matija Grulovic",
      "userId": "10099424245028057757"
     },
     "user_tz": -60
    },
    "id": "bc7033aa"
   },
   "outputs": [
    {
     "data": {
      "text/plain": [
       "(8, 1)"
      ]
     },
     "execution_count": 16,
     "metadata": {},
     "output_type": "execute_result"
    }
   ],
   "source": [
    "input_shape = (time_steps, 1)\n",
    "input_shape"
   ]
  },
  {
   "cell_type": "code",
   "execution_count": 33,
   "id": "b1d653db",
   "metadata": {},
   "outputs": [],
   "source": [
    "keras.utils.set_random_seed(7)\n",
    "optimizerMSE = keras.optimizers.Adam(learning_rate=0.0001)\n",
    "\n",
    "modelMSE = Sequential()\n",
    "modelMSE.add(Input(shape=input_shape))\n",
    "modelMSE.add(Conv1D(filters=8, kernel_size=3,padding='same', activation=LeakyReLU()))\n",
    "modelMSE.add(MaxPooling1D(pool_size=3))\n",
    "modelMSE.add(Flatten())\n",
    "modelMSE.add(Dense(8, activation=LeakyReLU()))\n",
    "modelMSE.add(Dense(units = 1, activation=LeakyReLU()))\n",
    "modelMSE.compile(loss='mean_squared_error', optimizer = optimizerMSE)"
   ]
  },
  {
   "cell_type": "code",
   "execution_count": 34,
   "id": "f8eb5379",
   "metadata": {
    "colab": {
     "base_uri": "https://localhost:8080/"
    },
    "executionInfo": {
     "elapsed": 15204601,
     "status": "ok",
     "timestamp": 1710696766831,
     "user": {
      "displayName": "Matija Grulovic",
      "userId": "10099424245028057757"
     },
     "user_tz": -60
    },
    "id": "f8eb5379",
    "outputId": "d127f087-79b0-4ce4-e88b-9525560cecba",
    "scrolled": true
   },
   "outputs": [
    {
     "name": "stdout",
     "output_type": "stream",
     "text": [
      "Epoch 1/100\n",
      "5718/5718 - 10s - loss: 19.5658 - 10s/epoch - 2ms/step\n",
      "Epoch 2/100\n",
      "5718/5718 - 8s - loss: 12.5449 - 8s/epoch - 1ms/step\n",
      "Epoch 3/100\n",
      "5718/5718 - 8s - loss: 11.0034 - 8s/epoch - 1ms/step\n",
      "Epoch 4/100\n",
      "5718/5718 - 8s - loss: 10.2403 - 8s/epoch - 1ms/step\n",
      "Epoch 5/100\n",
      "5718/5718 - 8s - loss: 9.7164 - 8s/epoch - 1ms/step\n",
      "Epoch 6/100\n",
      "5718/5718 - 8s - loss: 9.2421 - 8s/epoch - 1ms/step\n",
      "Epoch 7/100\n",
      "5718/5718 - 8s - loss: 8.8336 - 8s/epoch - 1ms/step\n",
      "Epoch 8/100\n",
      "5718/5718 - 8s - loss: 8.5530 - 8s/epoch - 1ms/step\n",
      "Epoch 9/100\n",
      "5718/5718 - 8s - loss: 8.3746 - 8s/epoch - 1ms/step\n",
      "Epoch 10/100\n",
      "5718/5718 - 8s - loss: 8.2441 - 8s/epoch - 1ms/step\n",
      "Epoch 11/100\n",
      "5718/5718 - 8s - loss: 8.1341 - 8s/epoch - 1ms/step\n",
      "Epoch 12/100\n",
      "5718/5718 - 8s - loss: 8.0282 - 8s/epoch - 1ms/step\n",
      "Epoch 13/100\n",
      "5718/5718 - 8s - loss: 7.9153 - 8s/epoch - 1ms/step\n",
      "Epoch 14/100\n",
      "5718/5718 - 8s - loss: 7.7893 - 8s/epoch - 1ms/step\n",
      "Epoch 15/100\n",
      "5718/5718 - 8s - loss: 7.6614 - 8s/epoch - 1ms/step\n",
      "Epoch 16/100\n",
      "5718/5718 - 8s - loss: 7.5582 - 8s/epoch - 1ms/step\n",
      "Epoch 17/100\n",
      "5718/5718 - 8s - loss: 7.4728 - 8s/epoch - 1ms/step\n",
      "Epoch 18/100\n",
      "5718/5718 - 8s - loss: 7.4022 - 8s/epoch - 1ms/step\n",
      "Epoch 19/100\n",
      "5718/5718 - 8s - loss: 7.3408 - 8s/epoch - 1ms/step\n",
      "Epoch 20/100\n",
      "5718/5718 - 8s - loss: 7.2857 - 8s/epoch - 1ms/step\n",
      "Epoch 21/100\n",
      "5718/5718 - 8s - loss: 7.2330 - 8s/epoch - 1ms/step\n",
      "Epoch 22/100\n",
      "5718/5718 - 8s - loss: 7.1843 - 8s/epoch - 1ms/step\n",
      "Epoch 23/100\n",
      "5718/5718 - 8s - loss: 7.1417 - 8s/epoch - 1ms/step\n",
      "Epoch 24/100\n",
      "5718/5718 - 8s - loss: 7.1034 - 8s/epoch - 1ms/step\n",
      "Epoch 25/100\n",
      "5718/5718 - 8s - loss: 7.0674 - 8s/epoch - 1ms/step\n",
      "Epoch 26/100\n",
      "5718/5718 - 8s - loss: 7.0339 - 8s/epoch - 1ms/step\n",
      "Epoch 27/100\n",
      "5718/5718 - 8s - loss: 7.0023 - 8s/epoch - 1ms/step\n",
      "Epoch 28/100\n",
      "5718/5718 - 8s - loss: 6.9723 - 8s/epoch - 1ms/step\n",
      "Epoch 29/100\n",
      "5718/5718 - 8s - loss: 6.9441 - 8s/epoch - 1ms/step\n",
      "Epoch 30/100\n",
      "5718/5718 - 8s - loss: 6.9171 - 8s/epoch - 1ms/step\n",
      "Epoch 31/100\n",
      "5718/5718 - 8s - loss: 6.8914 - 8s/epoch - 1ms/step\n",
      "Epoch 32/100\n",
      "5718/5718 - 8s - loss: 6.8671 - 8s/epoch - 1ms/step\n",
      "Epoch 33/100\n",
      "5718/5718 - 8s - loss: 6.8439 - 8s/epoch - 1ms/step\n",
      "Epoch 34/100\n",
      "5718/5718 - 8s - loss: 6.8218 - 8s/epoch - 1ms/step\n",
      "Epoch 35/100\n",
      "5718/5718 - 8s - loss: 6.8004 - 8s/epoch - 1ms/step\n",
      "Epoch 36/100\n",
      "5718/5718 - 8s - loss: 6.7799 - 8s/epoch - 1ms/step\n",
      "Epoch 37/100\n",
      "5718/5718 - 8s - loss: 6.7601 - 8s/epoch - 1ms/step\n",
      "Epoch 38/100\n",
      "5718/5718 - 8s - loss: 6.7410 - 8s/epoch - 1ms/step\n",
      "Epoch 39/100\n",
      "5718/5718 - 8s - loss: 6.7227 - 8s/epoch - 1ms/step\n",
      "Epoch 40/100\n",
      "5718/5718 - 8s - loss: 6.7049 - 8s/epoch - 1ms/step\n",
      "Epoch 41/100\n",
      "5718/5718 - 8s - loss: 6.6875 - 8s/epoch - 1ms/step\n",
      "Epoch 42/100\n",
      "5718/5718 - 8s - loss: 6.6708 - 8s/epoch - 1ms/step\n",
      "Epoch 43/100\n",
      "5718/5718 - 8s - loss: 6.6546 - 8s/epoch - 1ms/step\n",
      "Epoch 44/100\n",
      "5718/5718 - 8s - loss: 6.6390 - 8s/epoch - 1ms/step\n",
      "Epoch 45/100\n",
      "5718/5718 - 8s - loss: 6.6240 - 8s/epoch - 1ms/step\n",
      "Epoch 46/100\n",
      "5718/5718 - 8s - loss: 6.6095 - 8s/epoch - 1ms/step\n",
      "Epoch 47/100\n",
      "5718/5718 - 8s - loss: 6.5955 - 8s/epoch - 1ms/step\n",
      "Epoch 48/100\n",
      "5718/5718 - 8s - loss: 6.5821 - 8s/epoch - 1ms/step\n",
      "Epoch 49/100\n",
      "5718/5718 - 8s - loss: 6.5691 - 8s/epoch - 1ms/step\n",
      "Epoch 50/100\n",
      "5718/5718 - 8s - loss: 6.5565 - 8s/epoch - 1ms/step\n",
      "Epoch 51/100\n",
      "5718/5718 - 8s - loss: 6.5444 - 8s/epoch - 1ms/step\n",
      "Epoch 52/100\n",
      "5718/5718 - 8s - loss: 6.5327 - 8s/epoch - 1ms/step\n",
      "Epoch 53/100\n",
      "5718/5718 - 8s - loss: 6.5213 - 8s/epoch - 1ms/step\n",
      "Epoch 54/100\n",
      "5718/5718 - 8s - loss: 6.5106 - 8s/epoch - 1ms/step\n",
      "Epoch 55/100\n",
      "5718/5718 - 8s - loss: 6.5001 - 8s/epoch - 1ms/step\n",
      "Epoch 56/100\n",
      "5718/5718 - 8s - loss: 6.4899 - 8s/epoch - 1ms/step\n",
      "Epoch 57/100\n",
      "5718/5718 - 8s - loss: 6.4801 - 8s/epoch - 1ms/step\n",
      "Epoch 58/100\n",
      "5718/5718 - 8s - loss: 6.4707 - 8s/epoch - 1ms/step\n",
      "Epoch 59/100\n",
      "5718/5718 - 8s - loss: 6.4617 - 8s/epoch - 1ms/step\n",
      "Epoch 60/100\n",
      "5718/5718 - 8s - loss: 6.4531 - 8s/epoch - 1ms/step\n",
      "Epoch 61/100\n",
      "5718/5718 - 8s - loss: 6.4447 - 8s/epoch - 1ms/step\n",
      "Epoch 62/100\n",
      "5718/5718 - 8s - loss: 6.4365 - 8s/epoch - 1ms/step\n",
      "Epoch 63/100\n",
      "5718/5718 - 8s - loss: 6.4285 - 8s/epoch - 1ms/step\n",
      "Epoch 64/100\n",
      "5718/5718 - 8s - loss: 6.4208 - 8s/epoch - 1ms/step\n",
      "Epoch 65/100\n",
      "5718/5718 - 8s - loss: 6.4133 - 8s/epoch - 1ms/step\n",
      "Epoch 66/100\n",
      "5718/5718 - 8s - loss: 6.4059 - 8s/epoch - 1ms/step\n",
      "Epoch 67/100\n",
      "5718/5718 - 8s - loss: 6.3990 - 8s/epoch - 1ms/step\n",
      "Epoch 68/100\n",
      "5718/5718 - 8s - loss: 6.3923 - 8s/epoch - 1ms/step\n",
      "Epoch 69/100\n",
      "5718/5718 - 8s - loss: 6.3857 - 8s/epoch - 1ms/step\n",
      "Epoch 70/100\n",
      "5718/5718 - 8s - loss: 6.3795 - 8s/epoch - 1ms/step\n",
      "Epoch 71/100\n",
      "5718/5718 - 8s - loss: 6.3733 - 8s/epoch - 1ms/step\n",
      "Epoch 72/100\n",
      "5718/5718 - 8s - loss: 6.3675 - 8s/epoch - 1ms/step\n",
      "Epoch 73/100\n",
      "5718/5718 - 8s - loss: 6.3620 - 8s/epoch - 1ms/step\n",
      "Epoch 74/100\n",
      "5718/5718 - 8s - loss: 6.3565 - 8s/epoch - 1ms/step\n",
      "Epoch 75/100\n",
      "5718/5718 - 8s - loss: 6.3512 - 8s/epoch - 1ms/step\n",
      "Epoch 76/100\n",
      "5718/5718 - 8s - loss: 6.3461 - 8s/epoch - 1ms/step\n",
      "Epoch 77/100\n",
      "5718/5718 - 8s - loss: 6.3410 - 8s/epoch - 1ms/step\n",
      "Epoch 78/100\n",
      "5718/5718 - 8s - loss: 6.3361 - 8s/epoch - 1ms/step\n",
      "Epoch 79/100\n",
      "5718/5718 - 8s - loss: 6.3313 - 8s/epoch - 1ms/step\n",
      "Epoch 80/100\n",
      "5718/5718 - 8s - loss: 6.3265 - 8s/epoch - 1ms/step\n",
      "Epoch 81/100\n",
      "5718/5718 - 8s - loss: 6.3214 - 8s/epoch - 1ms/step\n",
      "Epoch 82/100\n",
      "5718/5718 - 8s - loss: 6.3163 - 8s/epoch - 1ms/step\n",
      "Epoch 83/100\n",
      "5718/5718 - 8s - loss: 6.3113 - 8s/epoch - 1ms/step\n",
      "Epoch 84/100\n",
      "5718/5718 - 8s - loss: 6.3063 - 8s/epoch - 1ms/step\n",
      "Epoch 85/100\n",
      "5718/5718 - 8s - loss: 6.3012 - 8s/epoch - 1ms/step\n",
      "Epoch 86/100\n",
      "5718/5718 - 8s - loss: 6.2961 - 8s/epoch - 1ms/step\n",
      "Epoch 87/100\n",
      "5718/5718 - 9s - loss: 6.2909 - 9s/epoch - 2ms/step\n",
      "Epoch 88/100\n",
      "5718/5718 - 9s - loss: 6.2859 - 9s/epoch - 2ms/step\n",
      "Epoch 89/100\n",
      "5718/5718 - 8s - loss: 6.2811 - 8s/epoch - 1ms/step\n",
      "Epoch 90/100\n",
      "5718/5718 - 8s - loss: 6.2764 - 8s/epoch - 1ms/step\n",
      "Epoch 91/100\n",
      "5718/5718 - 8s - loss: 6.2717 - 8s/epoch - 1ms/step\n",
      "Epoch 92/100\n",
      "5718/5718 - 8s - loss: 6.2667 - 8s/epoch - 1ms/step\n",
      "Epoch 93/100\n",
      "5718/5718 - 8s - loss: 6.2616 - 8s/epoch - 1ms/step\n",
      "Epoch 94/100\n",
      "5718/5718 - 8s - loss: 6.2568 - 8s/epoch - 1ms/step\n",
      "Epoch 95/100\n",
      "5718/5718 - 8s - loss: 6.2524 - 8s/epoch - 1ms/step\n",
      "Epoch 96/100\n",
      "5718/5718 - 8s - loss: 6.2483 - 8s/epoch - 1ms/step\n",
      "Epoch 97/100\n",
      "5718/5718 - 8s - loss: 6.2444 - 8s/epoch - 1ms/step\n",
      "Epoch 98/100\n",
      "5718/5718 - 8s - loss: 6.2408 - 8s/epoch - 1ms/step\n",
      "Epoch 99/100\n",
      "5718/5718 - 8s - loss: 6.2371 - 8s/epoch - 1ms/step\n",
      "Epoch 100/100\n",
      "5718/5718 - 8s - loss: 6.2337 - 8s/epoch - 1ms/step\n"
     ]
    }
   ],
   "source": [
    "historyMSE = modelMSE.fit(train_X, train_y, epochs=100, batch_size = 256, shuffle=False, verbose = 2)"
   ]
  },
  {
   "cell_type": "code",
   "execution_count": 35,
   "id": "71c1e0df",
   "metadata": {
    "colab": {
     "base_uri": "https://localhost:8080/"
    },
    "executionInfo": {
     "elapsed": 41500,
     "status": "ok",
     "timestamp": 1710679617560,
     "user": {
      "displayName": "Matija Grulovic",
      "userId": "10099424245028057757"
     },
     "user_tz": -60
    },
    "id": "71c1e0df",
    "outputId": "520d3e8b-9bb4-48f2-8a08-9779a27f0d0d",
    "scrolled": true
   },
   "outputs": [
    {
     "name": "stdout",
     "output_type": "stream",
     "text": [
      "11436/11436 [==============================] - 12s 1ms/step - loss: 6.1375\n"
     ]
    }
   ],
   "source": [
    "train_scores = modelMSE.evaluate(test_X, test_y)"
   ]
  },
  {
   "cell_type": "code",
   "execution_count": 21,
   "id": "510f09f5",
   "metadata": {
    "colab": {
     "base_uri": "https://localhost:8080/"
    },
    "executionInfo": {
     "elapsed": 183330,
     "status": "ok",
     "timestamp": 1710679800888,
     "user": {
      "displayName": "Matija Grulovic",
      "userId": "10099424245028057757"
     },
     "user_tz": -60
    },
    "id": "510f09f5",
    "outputId": "ad1db14d-a815-4530-dc97-1f8675e74b0f"
   },
   "outputs": [
    {
     "name": "stdout",
     "output_type": "stream",
     "text": [
      "11436/11436 [==============================] - 14s 1ms/step\n"
     ]
    }
   ],
   "source": [
    "#train_predict_MSE = modelMSE.predict(train_X)\n",
    "test_predict_MSE = modelMSE.predict(test_X)"
   ]
  },
  {
   "cell_type": "code",
   "execution_count": 20,
   "id": "25bbc368",
   "metadata": {
    "scrolled": false
   },
   "outputs": [
    {
     "name": "stdout",
     "output_type": "stream",
     "text": [
      "Model: \"sequential_1\"\n",
      "_________________________________________________________________\n",
      " Layer (type)                Output Shape              Param #   \n",
      "=================================================================\n",
      " conv1d_1 (Conv1D)           (None, 8, 8)              32        \n",
      "                                                                 \n",
      " max_pooling1d_1 (MaxPoolin  (None, 2, 8)              0         \n",
      " g1D)                                                            \n",
      "                                                                 \n",
      " flatten_1 (Flatten)         (None, 16)                0         \n",
      "                                                                 \n",
      " dense_2 (Dense)             (None, 8)                 136       \n",
      "                                                                 \n",
      " dense_3 (Dense)             (None, 1)                 9         \n",
      "                                                                 \n",
      "=================================================================\n",
      "Total params: 177 (708.00 Byte)\n",
      "Trainable params: 177 (708.00 Byte)\n",
      "Non-trainable params: 0 (0.00 Byte)\n",
      "_________________________________________________________________\n"
     ]
    }
   ],
   "source": [
    "modelMSE.summary()"
   ]
  },
  {
   "cell_type": "raw",
   "id": "df8a3717-a3da-424e-b357-7cfbba366602",
   "metadata": {},
   "source": [
    "plt.plot(historyMSE.epoch, historyMSE.history['loss'])\n",
    "plt.plot(historyMSE.epoch, historyMSE.history['val_loss'])\n",
    "plt.show()"
   ]
  },
  {
   "cell_type": "markdown",
   "id": "31265c0f",
   "metadata": {},
   "source": [
    "Ucitavamo standardne devijacije i srednje vrednosti"
   ]
  },
  {
   "cell_type": "code",
   "execution_count": 19,
   "id": "0a64c969",
   "metadata": {},
   "outputs": [],
   "source": [
    "std_dev = []\n",
    "with open(r\"C:\\Users\\mata2\\Desktop\\master\\Axis-projection-RNN\\odstupanja\\0k\\std_dev.txt\", 'r') as lines:\n",
    "    for line in lines:\n",
    "        std_dev.append(float(line.strip('\\n')))"
   ]
  },
  {
   "cell_type": "code",
   "execution_count": 20,
   "id": "f9dc7509",
   "metadata": {},
   "outputs": [],
   "source": [
    "sr_vrednost = []\n",
    "with open(r\"C:\\Users\\mata2\\Desktop\\master\\Axis-projection-RNN\\odstupanja\\0k\\sr_vrednost.txt\", 'r') as lines:\n",
    "    for line in lines:\n",
    "        sr_vrednost.append(float(line.strip('\\n')))"
   ]
  },
  {
   "cell_type": "markdown",
   "id": "8137f5cd",
   "metadata": {},
   "source": [
    "mean 3 sigma"
   ]
  },
  {
   "cell_type": "code",
   "execution_count": 23,
   "id": "bca1d441",
   "metadata": {},
   "outputs": [
    {
     "name": "stdout",
     "output_type": "stream",
     "text": [
      "361829 0.988733495103183\n"
     ]
    }
   ],
   "source": [
    "i = time_steps\n",
    "mean_3std = 0\n",
    "for j in range(len(test_predict_MSE)):\n",
    "    if i%len(x_command) == 0:\n",
    "        i = time_steps\n",
    "    if sr_vrednost[i] - 3*std_dev[i] <= test_predict_MSE[j] <= sr_vrednost[i] + 3*std_dev[i]:\n",
    "            mean_3std += 1\n",
    "    i += 1\n",
    "print(mean_3std, mean_3std/len(test_predict_MSE))"
   ]
  },
  {
   "cell_type": "raw",
   "id": "8ad5c63e",
   "metadata": {},
   "source": [
    "0.988733495103183"
   ]
  },
  {
   "cell_type": "markdown",
   "id": "d64fd3d3",
   "metadata": {},
   "source": [
    "pravljenje min/max koord, posle se koriste za plot"
   ]
  },
  {
   "cell_type": "code",
   "execution_count": 17,
   "id": "798a0090",
   "metadata": {},
   "outputs": [],
   "source": [
    "min_kord = [float('inf') for x in range(61000)]\n",
    "max_kord = [float('-inf') for x in range(61000)]\n",
    "\n",
    "for i in range(len(x_command)):    \n",
    "    for j in range(len(train_files_names)):\n",
    "        exec(f'current_file = razlika_trening_{j}')\n",
    "        if current_file[i][0] < min_kord[i]:\n",
    "            min_kord[i] = current_file[i][0]\n",
    "        if current_file[i][0] > max_kord[i]:\n",
    "            max_kord[i] = current_file[i][0]"
   ]
  },
  {
   "cell_type": "markdown",
   "id": "52b817e2",
   "metadata": {},
   "source": [
    "min max pojas ZA KOORDINATE"
   ]
  },
  {
   "cell_type": "raw",
   "id": "bc472ff9",
   "metadata": {},
   "source": [
    "min_kord = [float('inf') for x in range(61000)]\n",
    "max_kord = [float('-inf') for x in range(61000)]\n",
    "\n",
    "for i in range(len(train_)):    \n",
    "    if train_[i] < min_kord[i%61000]:\n",
    "        min_kord[i%61000] = train_[i]\n",
    "    if train_[i] > max_kord[i%61000]:\n",
    "        max_kord[i%61000] = train_[i]"
   ]
  },
  {
   "cell_type": "code",
   "execution_count": 54,
   "id": "d9da63bc",
   "metadata": {},
   "outputs": [
    {
     "data": {
      "text/plain": [
       "0.8905293590416229"
      ]
     },
     "execution_count": 54,
     "metadata": {},
     "output_type": "execute_result"
    }
   ],
   "source": [
    "i = time_steps\n",
    "uspeli_minmax = 0\n",
    "for j in range(len(test_predict_MSE)):\n",
    "    if i%len(x_command) == 0:\n",
    "        i = time_steps\n",
    "    if min_kord[i] <= (test_predict_MSE[j]) <= max_kord[i]:\n",
    "        uspeli_minmax += 1\n",
    "    i += 1\n",
    "uspeli_minmax/len(test_predict_MSE)"
   ]
  },
  {
   "cell_type": "raw",
   "id": "eb31e29a",
   "metadata": {},
   "source": [
    "0.8905293590416229"
   ]
  },
  {
   "cell_type": "raw",
   "id": "49b46019",
   "metadata": {},
   "source": [
    "i = time_steps\n",
    "uspeli_minmax = 0\n",
    "for j in range(len(test_predict_MSE)):\n",
    "    if i%len(x_command) == 0:\n",
    "        i = time_steps\n",
    "    if min_kord[i] <= np.round(test_predict_MSE[j],0) <= max_kord[i]:\n",
    "        uspeli_minmax += 1\n",
    "    i += 1\n",
    "uspeli_minmax/len(test_predict_MSE)"
   ]
  },
  {
   "cell_type": "raw",
   "id": "fb6cb309",
   "metadata": {},
   "source": [
    "0.9180193030779993"
   ]
  },
  {
   "cell_type": "markdown",
   "id": "4a14bf93",
   "metadata": {},
   "source": [
    "cuvamo/ucitavamo model"
   ]
  },
  {
   "cell_type": "raw",
   "id": "f26333b5",
   "metadata": {},
   "source": [
    "modelMSE.save(r\"C:\\Users\\mata2\\Desktop\\master\\Axis-projection-RNN\\modeli\\Difference predictions\\X - CNN\")"
   ]
  },
  {
   "cell_type": "raw",
   "id": "ccfbdbf1",
   "metadata": {},
   "source": [
    "modelMSE = keras.saving.load_model(r\"C:\\Users\\mata2\\Desktop\\master\\Axis-projection-RNN\\modeli\\Difference predictions\\X - CNN\")"
   ]
  },
  {
   "cell_type": "markdown",
   "id": "8f0c1587",
   "metadata": {},
   "source": [
    "# NA TEST SKUPU - plotovi trajektorija"
   ]
  },
  {
   "cell_type": "markdown",
   "id": "96d0cb2c",
   "metadata": {},
   "source": [
    "test_ = realizovana trajektorija\n",
    "\n",
    "test_predict_MSE = predvidjena RAZLIKA koordinata od x_command\n",
    "\n",
    "razlika_test_{} = realizovana RAZLIKA od test podataka od x_command - CELA TRAJEKTORIJA\n",
    "\n",
    "test_y_{} = REALIZOVANA y koordinata od razlika_test_{}"
   ]
  },
  {
   "cell_type": "markdown",
   "id": "c638ea40",
   "metadata": {},
   "source": [
    "X_COMMAND - TEST_ = ODSTUPANJE/RAZLIKA_TEST_\n",
    "\n",
    "X_COMMAND[TIME_STEPS] + test_predict_MSE[0] = PRVU KOORDINATU TRAJEKTORIJE PREDVIDJENE VREDNOSTI"
   ]
  },
  {
   "cell_type": "code",
   "execution_count": 22,
   "id": "c1027460",
   "metadata": {},
   "outputs": [],
   "source": [
    "command_length = len(x_command)"
   ]
  },
  {
   "cell_type": "code",
   "execution_count": 23,
   "id": "b5ecd7da",
   "metadata": {},
   "outputs": [],
   "source": [
    "for j in range(len(test_file_names)):\n",
    "    exec(f'predvidjena_trajektorija_{j} = []')\n",
    "    for i in range(61000 - time_steps):\n",
    "        exec(f'predvidjena_trajektorija_{j}.append(x_command[i + time_steps] + test_predict_MSE[j*(61000-time_steps) + i])')"
   ]
  },
  {
   "cell_type": "code",
   "execution_count": 24,
   "id": "b806f161",
   "metadata": {},
   "outputs": [],
   "source": [
    "for j in range(len(test_file_names)):\n",
    "    exec(f'realizovana_trajektorija_{j} = []')\n",
    "    for i in range(61000 - time_steps):\n",
    "        exec(f'realizovana_trajektorija_{j}.append(test_[j*61000 + i])')"
   ]
  },
  {
   "cell_type": "code",
   "execution_count": 71,
   "id": "822aebcc",
   "metadata": {},
   "outputs": [
    {
     "name": "stderr",
     "output_type": "stream",
     "text": [
      "C:\\Users\\mata2\\AppData\\Local\\Temp\\ipykernel_11548\\1984467602.py:18: UserWarning: The label '_HiddenLabel' of <matplotlib.lines.Line2D object at 0x0000023EC5781ED0> starts with '_'. It is thus excluded from the legend.\n",
      "  plt.legend([\"_HiddenLabel\",\"задата трајекторија\", \"предвиђена трајекторија 1\", \"реализована трајекторија 1\"])\n"
     ]
    }
   ],
   "source": [
    "plt.figure(figsize=(12,7))\n",
    "plt.subplot(211)\n",
    "plt.axvline(x = 4795, color = 'b', label = 'axvline - full height')\n",
    "plt.plot(x_command[time_steps::],'r')\n",
    "plt.plot(predvidjena_trajektorija_0,'b')\n",
    "plt.plot(realizovana_trajektorija_0[time_steps::], 'g')\n",
    "plt.xlabel('време (ms)', fontsize=12)\n",
    "plt.ylabel('растојање Х осе машине (μm)', fontsize=12)\n",
    "plt.show()\n",
    "\n",
    "plt.subplot(212)\n",
    "plt.axvline(x = 4795, color = 'b', label = 'axvline - full height')\n",
    "plt.plot(x_command[time_steps::],'r')\n",
    "plt.plot(predvidjena_trajektorija_0,'b')\n",
    "plt.plot(realizovana_trajektorija_0[time_steps::], 'g')\n",
    "plt.xlabel('време (ms)', fontsize=12)\n",
    "plt.ylabel('растојање Х осе машине (μm)', fontsize=12)\n",
    "plt.legend([\"_HiddenLabel\",\"задата трајекторија\", \"предвиђена трајекторија 1\", \"реализована трајекторија 1\"])\n",
    "plt.show()"
   ]
  },
  {
   "cell_type": "markdown",
   "id": "98b19774",
   "metadata": {},
   "source": []
  },
  {
   "cell_type": "code",
   "execution_count": 72,
   "id": "0f608988",
   "metadata": {},
   "outputs": [
    {
     "name": "stderr",
     "output_type": "stream",
     "text": [
      "C:\\Users\\mata2\\AppData\\Local\\Temp\\ipykernel_11548\\2067760657.py:18: UserWarning: The label '_HiddenLabel' of <matplotlib.lines.Line2D object at 0x0000023EC5974BD0> starts with '_'. It is thus excluded from the legend.\n",
      "  plt.legend([\"_HiddenLabel\",\"задата трајекторија\", \"предвиђена трајекторија 2\", \"реализована трајекторија 2\"])\n"
     ]
    }
   ],
   "source": [
    "plt.figure(figsize=(12,7))\n",
    "plt.subplot(211)\n",
    "plt.axvline(x = 8400, color = 'b', label = 'axvline - full height')\n",
    "plt.plot(x_command[time_steps::],'r')\n",
    "plt.plot(predvidjena_trajektorija_1,'b')\n",
    "plt.plot(realizovana_trajektorija_1[time_steps::], 'g')\n",
    "plt.xlabel('време (ms)', fontsize=12)\n",
    "plt.ylabel('растојање Х осе машине (μm)', fontsize=12)\n",
    "plt.show()\n",
    "\n",
    "plt.subplot(212)\n",
    "plt.axvline(x = 8400, color = 'b', label = 'axvline - full height')\n",
    "plt.plot(x_command[time_steps::],'r')\n",
    "plt.plot(predvidjena_trajektorija_1,'b')\n",
    "plt.plot(realizovana_trajektorija_1[time_steps::], 'g')\n",
    "plt.xlabel('време (ms)', fontsize=12)\n",
    "plt.ylabel('растојање Х осе машине (μm)', fontsize=12)\n",
    "plt.legend([\"_HiddenLabel\",\"задата трајекторија\", \"предвиђена трајекторија 2\", \"реализована трајекторија 2\"])\n",
    "plt.show()"
   ]
  },
  {
   "cell_type": "code",
   "execution_count": 73,
   "id": "6ed8b7e8",
   "metadata": {},
   "outputs": [],
   "source": [
    "plt.figure(figsize=(12,7))\n",
    "plt.subplot(211)\n",
    "plt.axvline(x = 17000, color = 'b', label = 'axvline - full height')\n",
    "plt.plot(x_command[time_steps::],'r')\n",
    "plt.plot(predvidjena_trajektorija_2,'b')\n",
    "plt.plot(realizovana_trajektorija_2[time_steps::], 'g')\n",
    "plt.xlabel('време (ms)', fontsize=12)\n",
    "plt.ylabel('растојање Х осе машине (μm)', fontsize=12)\n",
    "plt.show()\n",
    "\n",
    "plt.subplot(212)\n",
    "plt.axvline(x = 17000, color = 'b', label = 'axvline - full height')\n",
    "plt.plot(x_command[time_steps::],'r')\n",
    "plt.plot(predvidjena_trajektorija_2,'b')\n",
    "plt.plot(realizovana_trajektorija_2[time_steps::], 'g')\n",
    "plt.xlabel('време (ms)', fontsize=12)\n",
    "plt.ylabel('растојање Х осе машине (μm)', fontsize=12)\n",
    "plt.legend([\"Вертикална линија на индексу 17000\",\"задата трајекторија\", \"предвиђена трајекторија 3\", \"реализована трајекторија 3\"])\n",
    "plt.show()"
   ]
  },
  {
   "cell_type": "code",
   "execution_count": 74,
   "id": "1225d478",
   "metadata": {},
   "outputs": [
    {
     "name": "stderr",
     "output_type": "stream",
     "text": [
      "C:\\Users\\mata2\\AppData\\Local\\Temp\\ipykernel_11548\\2521727846.py:18: UserWarning: The label '_HiddenLabel' of <matplotlib.lines.Line2D object at 0x0000023ECC39CBD0> starts with '_'. It is thus excluded from the legend.\n",
      "  plt.legend([\"_HiddenLabel\",\"задата трајекторија\", \"предвиђена трајекторија 4\", \"реализована трајекторија 4\"])\n"
     ]
    }
   ],
   "source": [
    "plt.figure(figsize=(12,7))\n",
    "plt.subplot(211)\n",
    "plt.axvline(x = 24250, color = 'b', label = 'axvline - full height')\n",
    "plt.plot(x_command[time_steps::],'r')\n",
    "plt.plot(predvidjena_trajektorija_3,'b')\n",
    "plt.plot(realizovana_trajektorija_3[time_steps::], 'g')\n",
    "plt.xlabel('време (ms)', fontsize=12)\n",
    "plt.ylabel('растојање Х осе машине (μm)', fontsize=12)\n",
    "plt.show()\n",
    "\n",
    "plt.subplot(212)\n",
    "plt.axvline(x = 24250, color = 'b', label = 'axvline - full height')\n",
    "plt.plot(x_command[time_steps::],'r')\n",
    "plt.plot(predvidjena_trajektorija_3,'b')\n",
    "plt.plot(realizovana_trajektorija_3[time_steps::], 'g')\n",
    "plt.xlabel('време (ms)', fontsize=12)\n",
    "plt.ylabel('растојање Х осе машине (μm)', fontsize=12)\n",
    "plt.legend([\"_HiddenLabel\",\"задата трајекторија\", \"предвиђена трајекторија 4\", \"реализована трајекторија 4\"])\n",
    "plt.show()"
   ]
  },
  {
   "cell_type": "code",
   "execution_count": 75,
   "id": "87d732d2",
   "metadata": {},
   "outputs": [
    {
     "name": "stderr",
     "output_type": "stream",
     "text": [
      "C:\\Users\\mata2\\AppData\\Local\\Temp\\ipykernel_11548\\1523716765.py:18: UserWarning: The label '_HiddenLabel' of <matplotlib.lines.Line2D object at 0x0000023EAC9C7F10> starts with '_'. It is thus excluded from the legend.\n",
      "  plt.legend([\"_HiddenLabel\",\"задата трајекторија\", \"предвиђена трајекторија 5\", \"реализована трајекторија 5\"])\n"
     ]
    }
   ],
   "source": [
    "plt.figure(figsize=(12,7))\n",
    "plt.subplot(211)\n",
    "plt.axvline(x = 32420, color = 'b', label = 'axvline - full height')\n",
    "plt.plot(x_command[time_steps::],'r')\n",
    "plt.plot(predvidjena_trajektorija_4,'b')\n",
    "plt.plot(realizovana_trajektorija_4[time_steps::], 'g')\n",
    "plt.xlabel('време (ms)', fontsize=12)\n",
    "plt.ylabel('растојање Х осе машине (μm)', fontsize=12)\n",
    "plt.show()\n",
    "\n",
    "plt.subplot(212)\n",
    "plt.axvline(x = 32420, color = 'b', label = 'axvline - full height')\n",
    "plt.plot(x_command[time_steps::],'r')\n",
    "plt.plot(predvidjena_trajektorija_4,'b')\n",
    "plt.plot(realizovana_trajektorija_4[time_steps::], 'g')\n",
    "plt.xlabel('време (ms)', fontsize=12)\n",
    "plt.ylabel('растојање Х осе машине (μm)', fontsize=12)\n",
    "plt.legend([\"_HiddenLabel\",\"задата трајекторија\", \"предвиђена трајекторија 5\", \"реализована трајекторија 5\"])\n",
    "plt.show()"
   ]
  },
  {
   "cell_type": "code",
   "execution_count": 76,
   "id": "eaa3e45c",
   "metadata": {},
   "outputs": [],
   "source": [
    "plt.figure(figsize=(12,7))\n",
    "plt.subplot(211)\n",
    "plt.axvline(x = 36300, color = 'b', label = 'axvline - full height')\n",
    "plt.plot(x_command[time_steps::],'r')\n",
    "plt.plot(predvidjena_trajektorija_5,'b')\n",
    "plt.plot(realizovana_trajektorija_5[time_steps::], 'g')\n",
    "plt.xlabel('време (ms)', fontsize=12)\n",
    "plt.ylabel('растојање Х осе машине (μm)', fontsize=12)\n",
    "plt.show()\n",
    "\n",
    "plt.subplot(212)\n",
    "plt.axvline(x = 36300, color = 'b', label = 'axvline - full height')\n",
    "plt.plot(x_command[time_steps::],'r')\n",
    "plt.plot(predvidjena_trajektorija_5,'b')\n",
    "plt.plot(realizovana_trajektorija_5[time_steps::], 'g')\n",
    "plt.xlabel('време (ms)', fontsize=12)\n",
    "plt.ylabel('растојање Х осе машине (μm)', fontsize=12)\n",
    "plt.legend([\"Вертикална линија на индексу 36300\",\"задата трајекторија\", \"предвиђена трајекторија 6\", \"реализована трајекторија 6\"])\n",
    "plt.show()"
   ]
  },
  {
   "cell_type": "markdown",
   "id": "6769fed2",
   "metadata": {},
   "source": [
    "# NA TEST SKUPU - min/max plotovi"
   ]
  },
  {
   "cell_type": "markdown",
   "id": "d7470507",
   "metadata": {},
   "source": [
    "MIN MAX TRAJEKTORIJE"
   ]
  },
  {
   "cell_type": "code",
   "execution_count": 48,
   "id": "fbd8aefc",
   "metadata": {
    "scrolled": true
   },
   "outputs": [],
   "source": [
    "min_trajektorija = []\n",
    "max_trajektorija = []\n",
    "for i in range(61000):\n",
    "    min_trajektorija.append(x_command[i] + min_kord[i])\n",
    "    max_trajektorija.append(x_command[i] + max_kord[i])"
   ]
  },
  {
   "cell_type": "code",
   "execution_count": 49,
   "id": "8b9fa0e3",
   "metadata": {},
   "outputs": [
    {
     "name": "stdout",
     "output_type": "stream",
     "text": [
      "trajektorija  1  sadrzi  52829  tacaka , procenat tri sigma iznosi:  86.6 %\n",
      "trajektorija  2  sadrzi  54386  tacaka , procenat tri sigma iznosi:  89.16 %\n",
      "trajektorija  3  sadrzi  58091  tacaka , procenat tri sigma iznosi:  95.23 %\n",
      "trajektorija  4  sadrzi  56040  tacaka , procenat tri sigma iznosi:  91.87 %\n",
      "trajektorija  5  sadrzi  53268  tacaka , procenat tri sigma iznosi:  87.32 %\n",
      "trajektorija  6  sadrzi  51277  tacaka , procenat tri sigma iznosi:  84.06 %\n"
     ]
    }
   ],
   "source": [
    "trajektorija_koord = 1\n",
    "i = time_steps\n",
    "mean_3std_koord = 0\n",
    "for j in range(len(test_predict_MSE)):\n",
    "    if i%len(x_command) == 0:\n",
    "        print(\"trajektorija \",trajektorija_koord, \" sadrzi \", mean_3std_koord , \" tacaka\", \", procenat tri sigma iznosi: \",round(mean_3std_koord/61000*100,2), \"%\")\n",
    "        exec(f\"trajektorija_koord_{trajektorija_koord} = mean_3std_koord\")\n",
    "        trajektorija_koord += 1\n",
    "        mean_3std_koord = 0\n",
    "        i = time_steps\n",
    "    if min_kord[i] <= (test_predict_MSE[j]) <= max_kord[i]:\n",
    "            mean_3std_koord += 1\n",
    "    i += 1\n",
    "trajektorija_koord_6 = mean_3std_koord\n",
    "print(\"trajektorija \",trajektorija_koord, \" sadrzi \", mean_3std_koord , \" tacaka\", \", procenat tri sigma iznosi: \",round(mean_3std_koord/61000*100,2),\"%\")"
   ]
  },
  {
   "cell_type": "code",
   "execution_count": 52,
   "id": "d5321d65",
   "metadata": {},
   "outputs": [],
   "source": [
    "plt.figure(figsize=(11,7))\n",
    "plt.xlabel('време (ms)', fontsize=18)\n",
    "plt.ylabel('растојање Х осе машине (μm)', fontsize=18)\n",
    "plt.plot(min_trajektorija, color = 'b')\n",
    "plt.plot(max_trajektorija, color = 'r')\n",
    "for i in range(len(test_file_names)):\n",
    "    exec(f'plt.plot(realizovana_trajektorija_{i})')\n",
    "plt.legend(['мин трајекторија', \"макс трајекторија\", \"реализована трајекторија 1\",\"реализована трајекторија 2\",\"реализована трајекторија 3\",\"реализована трајекторија 4\",\"реализована трајекторија 5\",\"реализована трајекторија 6\"])\n",
    "plt.show()"
   ]
  },
  {
   "cell_type": "code",
   "execution_count": 50,
   "id": "5e5f5698",
   "metadata": {},
   "outputs": [],
   "source": [
    "plt.figure(figsize=(11,7))\n",
    "plt.xlabel('време (ms)', fontsize=18)\n",
    "plt.ylabel('растојање Х осе машине (μm)', fontsize=18)\n",
    "plt.plot(min_trajektorija, color = 'b')\n",
    "plt.plot(max_trajektorija, color = 'r')\n",
    "for i in range(len(test_file_names)):\n",
    "    exec(f'plt.plot(predvidjena_trajektorija_{i})')\n",
    "plt.legend(['мин трајекторија', \"макс трајекторија\", \"предвиђена трајекторија 1\",\"предвиђена трајекторија 2\",\"предвиђена трајекторија 3\",\"предвиђена трајекторија 4\",\"предвиђена трајекторија 5\",\"предвиђена трајекторија 6\"])\n",
    "plt.show()"
   ]
  },
  {
   "cell_type": "code",
   "execution_count": 38,
   "id": "a99d2c71",
   "metadata": {},
   "outputs": [],
   "source": [
    "i = time_steps\n",
    "plt.figure(figsize=(11,7))\n",
    "for j in range(len(predvidjena_trajektorija_0)):\n",
    "    if i%61000 == 0:\n",
    "        i = time_steps    \n",
    "    if min_trajektorija[i] <= predvidjena_trajektorija_0[j] <= max_trajektorija[i]:\n",
    "        plt.plot(i, predvidjena_trajektorija_0[j], color='black', marker='o', markersize=2)\n",
    "    else:\n",
    "        plt.plot(i, predvidjena_trajektorija_0[j], color='red',marker='o',markersize=2)\n",
    "    i += 1\n",
    "plt.xlabel('време (ms)', fontsize=12)\n",
    "plt.ylabel('растојање Х осе машине (μm)', fontsize=12)\n",
    "plt.title('Количина тачака која упада у мин макс појас износи: {}%'.format(round((trajektorija_koord_1/61000)*100,2)) , fontsize=18)\n",
    "plt.show()"
   ]
  },
  {
   "cell_type": "code",
   "execution_count": 37,
   "id": "7e5b549d",
   "metadata": {},
   "outputs": [],
   "source": [
    "i = time_steps\n",
    "plt.figure(figsize=(12,7))\n",
    "plt.subplot(211)\n",
    "for j in range(len(predvidjena_trajektorija_0)):\n",
    "    if i%61000 == 0:\n",
    "        i = time_steps    \n",
    "    if min_trajektorija[i] <= predvidjena_trajektorija_0[j] <= max_trajektorija[i]:\n",
    "        plt.plot(i, predvidjena_trajektorija_0[j], color='black', marker='o', markersize=4)\n",
    "    else:\n",
    "        plt.plot(i, predvidjena_trajektorija_0[j], color='red',marker='o',markersize=4)\n",
    "    i += 1\n",
    "plt.xlabel('време (ms)', fontsize=12)\n",
    "plt.ylabel('растојање Х осе машине (μm)', fontsize=12)\n",
    "plt.title('Количина тачака која упада у мин/макс појас износи: {}%'.format(round((trajektorija_koord_1/61000)*100,2)) , fontsize=18)\n",
    "plt.axvline(x = 21150, color = 'b', label = 'axvline - full height')\n",
    "\n",
    "i = time_steps\n",
    "plt.subplot(212)\n",
    "for j in range(len(predvidjena_trajektorija_0)):\n",
    "    if i%61000 == 0:\n",
    "        i = time_steps    \n",
    "    if min_trajektorija[i] <= predvidjena_trajektorija_0[j] <= max_trajektorija[i]:\n",
    "        plt.plot(i, predvidjena_trajektorija_0[j], color='black', marker='o', markersize=4)\n",
    "    else:\n",
    "        plt.plot(i, predvidjena_trajektorija_0[j], color='red',marker='o',markersize=4)\n",
    "    i += 1\n",
    "plt.xlabel('време (ms)', fontsize=12)\n",
    "plt.ylabel('растојање Х осе машине (μm)', fontsize=12)\n",
    "plt.axvline(x = 21150, color = 'b', label = 'axvline - full height')\n",
    "plt.show()"
   ]
  },
  {
   "cell_type": "code",
   "execution_count": 108,
   "id": "248dc4c1",
   "metadata": {},
   "outputs": [],
   "source": [
    "i = time_steps\n",
    "plt.figure(figsize=(12,7))\n",
    "plt.subplot(211)\n",
    "for j in range(len(predvidjena_trajektorija_1)):\n",
    "    if i%61000 == 0:\n",
    "        i = time_steps    \n",
    "    if min_trajektorija[i] <= predvidjena_trajektorija_1[j] <= max_trajektorija[i]:\n",
    "        plt.plot(i, predvidjena_trajektorija_1[j], color='black', marker='o', markersize=4)\n",
    "    else:\n",
    "        plt.plot(i, predvidjena_trajektorija_1[j], color='red',marker='o',markersize=4)\n",
    "    i += 1\n",
    "plt.xlabel('време (ms)', fontsize=12)\n",
    "plt.ylabel('растојање Х осе машине (μm)', fontsize=12)\n",
    "plt.title('Количина тачака која упада у мин/макс појас износи: {}%'.format(round((trajektorija_koord_2/61000)*100,2)) , fontsize=18)\n",
    "plt.axvline(x = 36110, color = 'b', label = 'axvline - full height')\n",
    "\n",
    "i = time_steps\n",
    "plt.subplot(212)\n",
    "for j in range(len(predvidjena_trajektorija_1)):\n",
    "    if i%61000 == 0:\n",
    "        i = time_steps    \n",
    "    if min_trajektorija[i] <= predvidjena_trajektorija_1[j] <= max_trajektorija[i]:\n",
    "        plt.plot(i, predvidjena_trajektorija_1[j], color='black', marker='o', markersize=4)\n",
    "    else:\n",
    "        plt.plot(i, predvidjena_trajektorija_1[j], color='red',marker='o',markersize=4)\n",
    "    i += 1\n",
    "plt.xlabel('време (ms)', fontsize=12)\n",
    "plt.ylabel('растојање Х осе машине (μm)', fontsize=12)\n",
    "plt.axvline(x = 36110, color = 'b', label = 'axvline - full height')\n",
    "plt.show()"
   ]
  },
  {
   "cell_type": "code",
   "execution_count": 109,
   "id": "091aa058",
   "metadata": {},
   "outputs": [],
   "source": [
    "i = time_steps\n",
    "plt.figure(figsize=(12,7))\n",
    "plt.subplot(211)\n",
    "for j in range(len(predvidjena_trajektorija_2)):\n",
    "    if i%61000 == 0:\n",
    "        i = time_steps    \n",
    "    if min_trajektorija[i] <= predvidjena_trajektorija_2[j] <= max_trajektorija[i]:\n",
    "        plt.plot(i, predvidjena_trajektorija_2[j], color='black', marker='o', markersize=4)\n",
    "    else:\n",
    "        plt.plot(i, predvidjena_trajektorija_2[j], color='red',marker='o',markersize=4)\n",
    "    i += 1\n",
    "plt.xlabel('време (ms)', fontsize=12)\n",
    "plt.ylabel('растојање Х осе машине (μm)', fontsize=12)\n",
    "plt.title('Количина тачака која упада у мин/макс појас износи: {}%'.format(round((trajektorija_koord_3/61000)*100,2)) , fontsize=18)\n",
    "plt.axvline(x = 36110, color = 'b', label = 'axvline - full height')\n",
    "\n",
    "i = time_steps\n",
    "plt.subplot(212)\n",
    "for j in range(len(predvidjena_trajektorija_2)):\n",
    "    if i%61000 == 0:\n",
    "        i = time_steps    \n",
    "    if min_trajektorija[i] <= predvidjena_trajektorija_2[j] <= max_trajektorija[i]:\n",
    "        plt.plot(i, predvidjena_trajektorija_2[j], color='black', marker='o', markersize=4)\n",
    "    else:\n",
    "        plt.plot(i, predvidjena_trajektorija_2[j], color='red',marker='o',markersize=4)\n",
    "    i += 1\n",
    "plt.xlabel('време (ms)', fontsize=12)\n",
    "plt.ylabel('растојање Х осе машине (μm)', fontsize=12)\n",
    "plt.axvline(x = 36110, color = 'b', label = 'axvline - full height')\n",
    "plt.show()"
   ]
  },
  {
   "cell_type": "code",
   "execution_count": 110,
   "id": "a1559e23",
   "metadata": {},
   "outputs": [],
   "source": [
    "i = time_steps\n",
    "plt.figure(figsize=(12,7))\n",
    "plt.subplot(211)\n",
    "for j in range(len(predvidjena_trajektorija_3)):\n",
    "    if i%61000 == 0:\n",
    "        i = time_steps    \n",
    "    if min_trajektorija[i] <= predvidjena_trajektorija_3[j] <= max_trajektorija[i]:\n",
    "        plt.plot(i, predvidjena_trajektorija_3[j], color='black', marker='o', markersize=4)\n",
    "    else:\n",
    "        plt.plot(i, predvidjena_trajektorija_3[j], color='red',marker='o',markersize=4)\n",
    "    i += 1\n",
    "plt.xlabel('време (ms)', fontsize=12)\n",
    "plt.ylabel('растојање Х осе машине (μm)', fontsize=12)\n",
    "plt.title('Количина тачака која упада у мин/макс појас износи: {}%'.format(round((trajektorija_koord_4/61000)*100,2)) , fontsize=18)\n",
    "plt.axvline(x = 38200, color = 'b', label = 'axvline - full height')\n",
    "\n",
    "i = time_steps\n",
    "plt.subplot(212)\n",
    "for j in range(len(predvidjena_trajektorija_3)):\n",
    "    if i%61000 == 0:\n",
    "        i = time_steps    \n",
    "    if min_trajektorija[i] <= predvidjena_trajektorija_3[j] <= max_trajektorija[i]:\n",
    "        plt.plot(i, predvidjena_trajektorija_3[j], color='black', marker='o', markersize=4)\n",
    "    else:\n",
    "        plt.plot(i, predvidjena_trajektorija_3[j], color='red',marker='o',markersize=4)\n",
    "    i += 1\n",
    "plt.xlabel('време (ms)', fontsize=12)\n",
    "plt.ylabel('растојање Х осе машине (μm)', fontsize=12)\n",
    "plt.axvline(x = 38200, color = 'b', label = 'axvline - full height')\n",
    "plt.show()"
   ]
  },
  {
   "cell_type": "code",
   "execution_count": 29,
   "id": "f730116e",
   "metadata": {},
   "outputs": [],
   "source": [
    "i = time_steps\n",
    "plt.figure(figsize=(12,7))\n",
    "plt.subplot(211)\n",
    "for j in range(len(predvidjena_trajektorija_4)):\n",
    "    if i%61000 == 0:\n",
    "        i = time_steps    \n",
    "    if min_trajektorija[i] <= predvidjena_trajektorija_4[j] <= max_trajektorija[i]:\n",
    "        plt.plot(i, predvidjena_trajektorija_4[j], color='black', marker='o', markersize=4)\n",
    "    else:\n",
    "        plt.plot(i, predvidjena_trajektorija_4[j], color='red',marker='o',markersize=4)\n",
    "    i += 1\n",
    "plt.xlabel('време (ms)', fontsize=12)\n",
    "plt.ylabel('растојање Х осе машине (μm)', fontsize=12)\n",
    "plt.title('Количина тачака која упада у мин/макс појас износи: {}%'.format(round((trajektorija_koord_5/61000)*100,2)) , fontsize=18)\n",
    "plt.axvline(x = 40000, color = 'b', label = 'axvline - full height')\n",
    "\n",
    "i = time_steps\n",
    "plt.subplot(212)\n",
    "for j in range(len(predvidjena_trajektorija_4)):\n",
    "    if i%61000 == 0:\n",
    "        i = time_steps    \n",
    "    if min_trajektorija[i] <= predvidjena_trajektorija_4[j] <= max_trajektorija[i]:\n",
    "        plt.plot(i, predvidjena_trajektorija_4[j], color='black', marker='o', markersize=4)\n",
    "    else:\n",
    "        plt.plot(i, predvidjena_trajektorija_4[j], color='red',marker='o',markersize=4)\n",
    "    i += 1\n",
    "plt.xlabel('време (ms)', fontsize=12)\n",
    "plt.ylabel('растојање Х осе машине (μm)', fontsize=12)\n",
    "plt.axvline(x = 40000, color = 'b', label = 'axvline - full height')\n",
    "plt.show()"
   ]
  },
  {
   "cell_type": "code",
   "execution_count": 30,
   "id": "29fdbae2",
   "metadata": {},
   "outputs": [],
   "source": [
    "i = time_steps\n",
    "plt.figure(figsize=(12,7))\n",
    "plt.subplot(211)\n",
    "for j in range(len(predvidjena_trajektorija_5)):\n",
    "    if i%61000 == 0:\n",
    "        i = time_steps    \n",
    "    if min_trajektorija[i] <= predvidjena_trajektorija_5[j] <= max_trajektorija[i]:\n",
    "        plt.plot(i, predvidjena_trajektorija_5[j], color='black', marker='o', markersize=4)\n",
    "    else:\n",
    "        plt.plot(i, predvidjena_trajektorija_5[j], color='red',marker='o',markersize=4)\n",
    "    i += 1\n",
    "plt.xlabel('време (ms)', fontsize=12)\n",
    "plt.ylabel('растојање Х осе машине (μm)', fontsize=12)\n",
    "plt.title('Количина тачака која упада у мин/макс појас износи: {}%'.format(round((trajektorija_koord_6/61000)*100,2)) , fontsize=18)\n",
    "plt.axvline(x = 22100, color = 'b', label = 'axvline - full height')\n",
    "\n",
    "i = time_steps\n",
    "plt.subplot(212)\n",
    "for j in range(len(predvidjena_trajektorija_5)):\n",
    "    if i%61000 == 0:\n",
    "        i = time_steps    \n",
    "    if min_trajektorija[i] <= predvidjena_trajektorija_5[j] <= max_trajektorija[i]:\n",
    "        plt.plot(i, predvidjena_trajektorija_5[j], color='black', marker='o', markersize=4)\n",
    "    else:\n",
    "        plt.plot(i, predvidjena_trajektorija_5[j], color='red',marker='o',markersize=4)\n",
    "    i += 1\n",
    "plt.xlabel('време (ms)', fontsize=12)\n",
    "plt.ylabel('растојање Х осе машине (μm)', fontsize=12)\n",
    "plt.axvline(x = 22100, color = 'b', label = 'axvline - full height')\n",
    "plt.show()"
   ]
  },
  {
   "cell_type": "markdown",
   "id": "7eb2a730",
   "metadata": {},
   "source": [
    "# NA TEST SKUPU -tri sigma plotovi\n",
    "\n",
    "3SIGMA TRAJEKTORIJE\n",
    "\n",
    "pravimo 3 sigma pojas"
   ]
  },
  {
   "cell_type": "code",
   "execution_count": 29,
   "id": "1b0c0c5c",
   "metadata": {},
   "outputs": [],
   "source": [
    "tri_sigma_lower = []\n",
    "tri_sigma_upper = []\n",
    "\n",
    "for i in range(len(x_command)):\n",
    "    tri_sigma_lower.append(sr_vrednost[i] - 3*std_dev[i])\n",
    "    tri_sigma_upper.append(sr_vrednost[i] + 3*std_dev[i])"
   ]
  },
  {
   "cell_type": "code",
   "execution_count": 63,
   "id": "073ff2b4",
   "metadata": {},
   "outputs": [],
   "source": [
    "tri_sigma_lower_trajektorija = []\n",
    "tri_sigma_upper_trajektorija = []\n",
    "\n",
    "for i in range(61000):\n",
    "    tri_sigma_lower_trajektorija.append(x_command[i] + tri_sigma_lower[i])\n",
    "    tri_sigma_upper_trajektorija.append(x_command[i] + tri_sigma_upper[i])"
   ]
  },
  {
   "cell_type": "code",
   "execution_count": 32,
   "id": "92e2ce5d",
   "metadata": {},
   "outputs": [],
   "source": [
    "plt.figure(figsize=(12,7))\n",
    "plt.plot(tri_sigma_lower[time_steps:], 'blue')\n",
    "plt.plot(test_predict_MSE[:61000], 'green')\n",
    "plt.plot(tri_sigma_upper[time_steps:], 'red')\n",
    "plt.show()"
   ]
  },
  {
   "cell_type": "code",
   "execution_count": 65,
   "id": "2f860acb",
   "metadata": {},
   "outputs": [],
   "source": [
    "plt.figure(figsize=(12,7))\n",
    "plt.plot(tri_sigma_lower_trajektorija[time_steps:], 'blue')\n",
    "plt.plot(predvidjena_trajektorija_0, 'green')\n",
    "plt.plot(tri_sigma_upper_trajektorija[time_steps:], 'red')\n",
    "plt.show()"
   ]
  },
  {
   "cell_type": "markdown",
   "id": "61248537",
   "metadata": {},
   "source": [
    "# NA TEST SKUPU - 3 sigma (upadanje u pojas) plotovi"
   ]
  },
  {
   "cell_type": "code",
   "execution_count": 25,
   "id": "96b277ec",
   "metadata": {
    "scrolled": true
   },
   "outputs": [],
   "source": [
    "tri_sigma_lower = []\n",
    "tri_sigma_upper = []\n",
    "\n",
    "for i in range(len(x_command)):\n",
    "    tri_sigma_lower.append(sr_vrednost[i] - 3*std_dev[i])\n",
    "    tri_sigma_upper.append(sr_vrednost[i] + 3*std_dev[i])"
   ]
  },
  {
   "cell_type": "code",
   "execution_count": 45,
   "id": "c23db023",
   "metadata": {},
   "outputs": [],
   "source": [
    "for j in range(len(test_file_names)):\n",
    "    exec(f'trajektorija_odstupanja_{j} = []')\n",
    "    for i in range(61000 - time_steps):\n",
    "        exec(f'trajektorija_odstupanja_{j}.append(test_predict_MSE[j*(61000-time_steps) + i])')"
   ]
  },
  {
   "cell_type": "markdown",
   "id": "b8c1d1c1",
   "metadata": {},
   "source": [
    "plotovanje realizovanih odstupanja"
   ]
  },
  {
   "cell_type": "code",
   "execution_count": 47,
   "id": "9cdf945c",
   "metadata": {},
   "outputs": [],
   "source": [
    "plt.figure(figsize=(11,7))\n",
    "plt.plot(tri_sigma_lower[time_steps:], color= 'b')\n",
    "plt.plot(tri_sigma_upper[time_steps:], color = 'r')\n",
    "for i in range(len(test_file_names)):    \n",
    "    exec(f'plt.plot(razlika_test_{i}[time_steps::])')\n",
    "plt.xlabel('време (ms)', fontsize=18)\n",
    "plt.ylabel('одступање (μm)', fontsize=18)\n",
    "plt.legend(['три сигма доња граница',\"три сигма горња граница\", \"одступање трајекторије 1\",\"одступање трајекторије 2\",\"одступање трајекторије 3\",\"одступање трајекторије 4\",\"одступање трајекторије 5\",\"одступање трајекторије 6\"],loc = 'best')\n",
    "plt.show()"
   ]
  },
  {
   "cell_type": "markdown",
   "id": "aee71a75",
   "metadata": {},
   "source": [
    "plotovanje predvidjenih odstupanja"
   ]
  },
  {
   "cell_type": "code",
   "execution_count": 46,
   "id": "d49ac34e",
   "metadata": {},
   "outputs": [],
   "source": [
    "plt.figure(figsize=(11,7))\n",
    "plt.plot(tri_sigma_lower[time_steps:], color= 'b')\n",
    "plt.plot(tri_sigma_upper[time_steps:], color = 'r')\n",
    "for i in range(len(test_file_names)):    \n",
    "    exec(f'plt.plot(trajektorija_odstupanja_{i})')\n",
    "plt.xlabel('време (ms)', fontsize=18)\n",
    "plt.ylabel('одступање (μm)', fontsize=18)\n",
    "plt.legend(['три сигма доња граница',\"три сигма горња граница\", \"одступање трајекторије 1\",\"одступање трајекторије 2\",\"одступање трајекторије 3\",\"одступање трајекторије 4\",\"одступање трајекторије 5\",\"одступање трајекторије 6\"],loc = 'best')\n",
    "plt.show()"
   ]
  },
  {
   "cell_type": "code",
   "execution_count": 75,
   "id": "a183c900",
   "metadata": {},
   "outputs": [],
   "source": [
    "plt.figure(figsize=(11,7))\n",
    "plt.plot(tri_sigma_lower[time_steps:], color= 'b')\n",
    "plt.plot(tri_sigma_upper[time_steps:], color = 'r')\n",
    "plt.plot(trajektorija_odstupanja_0, color = 'g')\n",
    "plt.xlabel('време (ms)', fontsize=18)\n",
    "plt.ylabel('одступање (μm)', fontsize=18)\n",
    "plt.legend(['три сигма доња граница',\"три сигма горња граница\", \"одступање трајекторије 1\"],loc = 'best')\n",
    "plt.show()"
   ]
  },
  {
   "cell_type": "code",
   "execution_count": 92,
   "id": "68d841d1",
   "metadata": {},
   "outputs": [
    {
     "name": "stdout",
     "output_type": "stream",
     "text": [
      "trajektorija  1  sadrzi  60044  tacaka , procenat tri sigma iznosi:  0.984327868852459\n",
      "trajektorija  2  sadrzi  60254  tacaka , procenat tri sigma iznosi:  0.9877704918032787\n",
      "trajektorija  3  sadrzi  60623  tacaka , procenat tri sigma iznosi:  0.9938196721311475\n",
      "trajektorija  4  sadrzi  60479  tacaka , procenat tri sigma iznosi:  0.9914590163934426\n",
      "trajektorija  5  sadrzi  60387  tacaka , procenat tri sigma iznosi:  0.9899508196721312\n",
      "trajektorija  6  sadrzi  60042  tacaka , procenat tri sigma iznosi:  0.9842950819672132\n"
     ]
    }
   ],
   "source": [
    "trajektorija = 1\n",
    "i = time_steps\n",
    "mean_3std = 0\n",
    "for j in range(len(test_predict_MSE)):\n",
    "    if i%len(x_command) == 0:\n",
    "        print(\"trajektorija \",trajektorija, \" sadrzi \", mean_3std , \" tacaka\", \", procenat tri sigma iznosi: \",mean_3std/61000)\n",
    "        exec(f\"trajektorija_{trajektorija} = mean_3std\")\n",
    "        trajektorija += 1\n",
    "        mean_3std = 0\n",
    "        i = time_steps\n",
    "    if sr_vrednost[i] - 3*std_dev[i] <= test_predict_MSE[j] <= sr_vrednost[i] + 3*std_dev[i]:\n",
    "            mean_3std += 1\n",
    "    i += 1\n",
    "trajektorija_6 = mean_3std\n",
    "print(\"trajektorija \",trajektorija, \" sadrzi \", mean_3std , \" tacaka\", \", procenat tri sigma iznosi: \",mean_3std/61000)"
   ]
  },
  {
   "cell_type": "code",
   "execution_count": 84,
   "id": "0966870d",
   "metadata": {},
   "outputs": [],
   "source": [
    "plt.figure(figsize=(11,7))\n",
    "for i in range(len(trajektorija_odstupanja_0)):\n",
    "    if tri_sigma_lower[time_steps + i] <= trajektorija_odstupanja_0[i] <= tri_sigma_upper[time_steps + i]:\n",
    "        plt.plot(i, trajektorija_odstupanja_0[i], color='black', marker = 'o', markersize = 2)\n",
    "    else:\n",
    "        plt.plot(i, trajektorija_odstupanja_0[i], color='red', marker = 'o', markersize = 2)\n",
    "plt.title('Количина тачака која упада у три сигма појас износи: {}%'.format(round((trajektorija_1/61000)*100,2)) , fontsize=18)\n",
    "plt.xlabel('време (ms)', fontsize=18)\n",
    "plt.ylabel('одступање (μm)', fontsize=18)\n",
    "plt.show()"
   ]
  },
  {
   "cell_type": "code",
   "execution_count": 85,
   "id": "62038bf6",
   "metadata": {},
   "outputs": [],
   "source": [
    "plt.figure(figsize=(11,7))\n",
    "for i in range(len(trajektorija_odstupanja_1)):\n",
    "    if tri_sigma_lower[time_steps + i] <= trajektorija_odstupanja_1[i] <= tri_sigma_upper[time_steps + i]:\n",
    "        plt.plot(i, trajektorija_odstupanja_1[i], color='black', marker = 'o', markersize = 2)\n",
    "    else:\n",
    "        plt.plot(i, trajektorija_odstupanja_1[i], color='red', marker = 'o', markersize = 2)\n",
    "plt.title('Количина тачака која упада у три сигма појас износи: {}%'.format(round((trajektorija_2/61000)*100,2)) , fontsize=18)\n",
    "plt.xlabel('време (ms)', fontsize=18)\n",
    "plt.ylabel('одступање (μm)', fontsize=18)\n",
    "plt.show()"
   ]
  },
  {
   "cell_type": "code",
   "execution_count": 86,
   "id": "06c4e1af",
   "metadata": {},
   "outputs": [],
   "source": [
    "plt.figure(figsize=(11,7))\n",
    "for i in range(len(trajektorija_odstupanja_2)):\n",
    "    if tri_sigma_lower[time_steps + i] <= trajektorija_odstupanja_2[i] <= tri_sigma_upper[time_steps + i]:\n",
    "        plt.plot(i, trajektorija_odstupanja_2[i], color='black', marker = 'o', markersize = 2)\n",
    "    else:\n",
    "        plt.plot(i, trajektorija_odstupanja_2[i], color='red', marker = 'o', markersize = 2)\n",
    "plt.title('Количина тачака која упада у три сигма појас износи: {}%'.format(round((trajektorija_3/61000)*100,2)) , fontsize=18)\n",
    "plt.xlabel('време (ms)', fontsize=18)\n",
    "plt.ylabel('одступање (μm)', fontsize=18)\n",
    "plt.show()"
   ]
  },
  {
   "cell_type": "code",
   "execution_count": 87,
   "id": "268e4ed6",
   "metadata": {},
   "outputs": [],
   "source": [
    "plt.figure(figsize=(11,7))\n",
    "for i in range(len(trajektorija_odstupanja_3)):\n",
    "    if tri_sigma_lower[time_steps + i] <= trajektorija_odstupanja_3[i] <= tri_sigma_upper[time_steps + i]:\n",
    "        plt.plot(i, trajektorija_odstupanja_3[i], color='black', marker = 'o', markersize = 2)\n",
    "    else:\n",
    "        plt.plot(i, trajektorija_odstupanja_3[i], color='red', marker = 'o', markersize = 2)\n",
    "plt.title('Количина тачака која упада у три сигма појас износи: {}%'.format(round((trajektorija_4/61000)*100,2)) , fontsize=18)\n",
    "plt.xlabel('време (ms)', fontsize=18)\n",
    "plt.ylabel('одступање (μm)', fontsize=18)\n",
    "plt.show()"
   ]
  },
  {
   "cell_type": "code",
   "execution_count": 88,
   "id": "0794153e",
   "metadata": {},
   "outputs": [],
   "source": [
    "plt.figure(figsize=(11,7))\n",
    "for i in range(len(trajektorija_odstupanja_4)):\n",
    "    if tri_sigma_lower[time_steps + i] <= trajektorija_odstupanja_4[i] <= tri_sigma_upper[time_steps + i]:\n",
    "        plt.plot(i, trajektorija_odstupanja_4[i], color='black', marker = 'o', markersize = 2)\n",
    "    else:\n",
    "        plt.plot(i, trajektorija_odstupanja_4[i], color='red', marker = 'o', markersize = 2)\n",
    "plt.title('Количина тачака која упада у три сигма појас износи: {}%'.format(round((trajektorija_5/61000)*100,2)) , fontsize=18)\n",
    "plt.xlabel('време (ms)', fontsize=18)\n",
    "plt.ylabel('одступање (μm)', fontsize=18)\n",
    "plt.show()"
   ]
  },
  {
   "cell_type": "code",
   "execution_count": 94,
   "id": "515ff5b9",
   "metadata": {},
   "outputs": [],
   "source": [
    "plt.figure(figsize=(11,7))\n",
    "for i in range(len(trajektorija_odstupanja_5)):\n",
    "    if tri_sigma_lower[time_steps + i] <= trajektorija_odstupanja_5[i] <= tri_sigma_upper[time_steps + i]:\n",
    "        plt.plot(i, trajektorija_odstupanja_5[i], color='black', marker = 'o', markersize = 2)\n",
    "    else:\n",
    "        plt.plot(i, trajektorija_odstupanja_5[i], color='red', marker = 'o', markersize = 2)\n",
    "plt.title('Количина тачака која упада у три сигма појас износи: {}%'.format(round((trajektorija_6/61000)*100,2)) , fontsize=18)\n",
    "plt.xlabel('време (ms)', fontsize=18)\n",
    "plt.ylabel('одступање (μm)', fontsize=18)\n",
    "plt.show()"
   ]
  }
 ],
 "metadata": {
  "colab": {
   "provenance": []
  },
  "kernelspec": {
   "display_name": "Python 3 (ipykernel)",
   "language": "python",
   "name": "python3"
  },
  "language_info": {
   "codemirror_mode": {
    "name": "ipython",
    "version": 3
   },
   "file_extension": ".py",
   "mimetype": "text/x-python",
   "name": "python",
   "nbconvert_exporter": "python",
   "pygments_lexer": "ipython3",
   "version": "3.11.5"
  }
 },
 "nbformat": 4,
 "nbformat_minor": 5
}
