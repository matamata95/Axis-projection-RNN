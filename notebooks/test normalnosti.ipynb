{
 "cells": [
  {
   "cell_type": "code",
   "execution_count": 115,
   "id": "ba8274c9",
   "metadata": {},
   "outputs": [],
   "source": [
    "import numpy as np\n",
    "import scipy\n",
    "from scipy.stats import lognorm\n",
    "import statistics\n",
    "matplotlib.use('nbagg')\n",
    "import matplotlib.pyplot as plt\n",
    "%matplotlib tk"
   ]
  },
  {
   "cell_type": "code",
   "execution_count": 19,
   "id": "754253da",
   "metadata": {},
   "outputs": [],
   "source": [
    "import pandas as pd\n",
    "import os, os.path, sys"
   ]
  },
  {
   "cell_type": "code",
   "execution_count": 20,
   "id": "cfbaaf1f",
   "metadata": {},
   "outputs": [],
   "source": [
    "path = r\"C:\\Users\\mata2\\Desktop\\master\\podaci\\0k\\X\"\n",
    "dir = os.listdir(path)"
   ]
  },
  {
   "cell_type": "code",
   "execution_count": 21,
   "id": "26ea8e37",
   "metadata": {},
   "outputs": [],
   "source": [
    "file_names = []\n",
    "for file in dir:\n",
    "    file_names.append(file)"
   ]
  },
  {
   "cell_type": "code",
   "execution_count": 89,
   "id": "813a9e61",
   "metadata": {},
   "outputs": [],
   "source": [
    "percent_train = 1\n",
    "train_files_names = file_names[:int(percent_train*len(file_names))]"
   ]
  },
  {
   "cell_type": "code",
   "execution_count": 90,
   "id": "3178512a",
   "metadata": {},
   "outputs": [],
   "source": [
    "x_command = np.asarray(pd.read_csv(r\"C:\\Users\\mata2\\Desktop\\master\\podaci\\xCmd.txt\",header=None).astype('int'))"
   ]
  },
  {
   "cell_type": "code",
   "execution_count": 91,
   "id": "0d81521a",
   "metadata": {},
   "outputs": [],
   "source": [
    "train_ = np.concatenate([pd.read_csv(path + \"/\" + file, header=None)[:61000].astype('int')\n",
    "                              for file in train_files_names], axis=0)"
   ]
  },
  {
   "cell_type": "code",
   "execution_count": 92,
   "id": "5ed3be19",
   "metadata": {},
   "outputs": [],
   "source": [
    "for j in range(len(train_files_names)):\n",
    "    exec(f\"razlika_trening_{j} = []\")\n",
    "    for i in range(61000):\n",
    "        exec(f\"razlika_trening_{j}.append(x_command[i] - train_[j*61000+i])\")\n",
    "    exec(f'razlika_trening_{j} = np.asarray(razlika_trening_{j})')        "
   ]
  },
  {
   "cell_type": "code",
   "execution_count": 93,
   "id": "e11cb20f",
   "metadata": {},
   "outputs": [],
   "source": [
    "columns = []\n",
    "for i in range(61000):\n",
    "    temp_columns = []\n",
    "    for j in range(len(train_files_names)):\n",
    "        exec(f\"temp_columns.append(razlika_trening_{j}[i])\")\n",
    "    columns.append(temp_columns)"
   ]
  },
  {
   "cell_type": "code",
   "execution_count": 94,
   "id": "44d4298a",
   "metadata": {},
   "outputs": [],
   "source": [
    "columns_all = []\n",
    "for i in range(61000):\n",
    "    columns_all.append(np.asarray(columns[i]).flatten().tolist())"
   ]
  },
  {
   "cell_type": "code",
   "execution_count": 95,
   "id": "0e350354",
   "metadata": {},
   "outputs": [],
   "source": [
    "std_dev = []\n",
    "for i in range(61000):\n",
    "    std_dev.append(statistics.stdev(columns_all[i]))"
   ]
  },
  {
   "cell_type": "code",
   "execution_count": 96,
   "id": "f603bfea",
   "metadata": {},
   "outputs": [],
   "source": [
    "sr_vrednost = []\n",
    "for i in range(61000):\n",
    "    sr_vrednost.append(np.mean(columns_all[i]))"
   ]
  },
  {
   "cell_type": "code",
   "execution_count": 106,
   "id": "26b2a3d7",
   "metadata": {},
   "outputs": [],
   "source": [
    "normal_ind = []"
   ]
  },
  {
   "cell_type": "code",
   "execution_count": 111,
   "id": "8708226f",
   "metadata": {},
   "outputs": [],
   "source": [
    "non_normal_ind = []"
   ]
  },
  {
   "cell_type": "code",
   "execution_count": 107,
   "id": "5075b739",
   "metadata": {},
   "outputs": [],
   "source": [
    "for i in range(61000):\n",
    "    if scipy.stats.normaltest(columns_all[i])[1] > 0.05:\n",
    "        normal_ind.append(i)"
   ]
  },
  {
   "cell_type": "code",
   "execution_count": 112,
   "id": "504e7eb7",
   "metadata": {},
   "outputs": [],
   "source": [
    "for i in range(61000):\n",
    "    if i not in normal_ind:\n",
    "        non_normal_ind.append(i)"
   ]
  },
  {
   "cell_type": "code",
   "execution_count": 120,
   "id": "6b2b3591",
   "metadata": {},
   "outputs": [],
   "source": [
    "plt.figure(figsize=(12,7))\n",
    "for i in range(61000):\n",
    "    if i in non_normal_ind:\n",
    "        plt.plot(i, x_command[i], color = 'red', marker = 'o', markersize = 4)\n",
    "    else:\n",
    "        plt.plot(i, x_command[i], color = 'black',marker = 'o', markersize = 4)\n",
    "plt.show()"
   ]
  },
  {
   "cell_type": "code",
   "execution_count": 122,
   "id": "15189105",
   "metadata": {},
   "outputs": [],
   "source": [
    "normal_ind_shapiro = []"
   ]
  },
  {
   "cell_type": "code",
   "execution_count": 127,
   "id": "548a6b2b",
   "metadata": {},
   "outputs": [],
   "source": [
    "for i in range(61000):\n",
    "    if scipy.stats.shapiro(columns_all[i])[1] > 0.05:\n",
    "        normal_ind_shapiro.append(i)"
   ]
  },
  {
   "cell_type": "code",
   "execution_count": 131,
   "id": "7f9dc016",
   "metadata": {},
   "outputs": [],
   "source": [
    "plt.figure(figsize=(12,7))\n",
    "for i in range(61000):\n",
    "    if i not in normal_ind_shapiro:\n",
    "        plt.plot(i, x_command[i], color = 'red', marker = 'o', markersize = 4)\n",
    "    else:\n",
    "        plt.plot(i, x_command[i], color = 'black',marker = 'o', markersize = 4)\n",
    "plt.show()"
   ]
  },
  {
   "cell_type": "code",
   "execution_count": 134,
   "id": "7c3aede0",
   "metadata": {},
   "outputs": [
    {
     "data": {
      "text/plain": [
       "0.7432950819672132"
      ]
     },
     "execution_count": 134,
     "metadata": {},
     "output_type": "execute_result"
    }
   ],
   "source": [
    "len(normal_ind_shapiro)/61000"
   ]
  }
 ],
 "metadata": {
  "kernelspec": {
   "display_name": "Python 3 (ipykernel)",
   "language": "python",
   "name": "python3"
  },
  "language_info": {
   "codemirror_mode": {
    "name": "ipython",
    "version": 3
   },
   "file_extension": ".py",
   "mimetype": "text/x-python",
   "name": "python",
   "nbconvert_exporter": "python",
   "pygments_lexer": "ipython3",
   "version": "3.11.5"
  }
 },
 "nbformat": 4,
 "nbformat_minor": 5
}
