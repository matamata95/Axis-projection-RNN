{
 "cells": [
  {
   "cell_type": "code",
   "execution_count": 1,
   "id": "6ebe99d5",
   "metadata": {
    "executionInfo": {
     "elapsed": 6834,
     "status": "ok",
     "timestamp": 1710664771017,
     "user": {
      "displayName": "Matija Grulovic",
      "userId": "10099424245028057757"
     },
     "user_tz": -60
    },
    "id": "6ebe99d5"
   },
   "outputs": [
    {
     "name": "stdout",
     "output_type": "stream",
     "text": [
      "WARNING:tensorflow:From D:\\Users\\mata2\\anaconda3\\Lib\\site-packages\\keras\\src\\losses.py:2976: The name tf.losses.sparse_softmax_cross_entropy is deprecated. Please use tf.compat.v1.losses.sparse_softmax_cross_entropy instead.\n",
      "\n"
     ]
    }
   ],
   "source": [
    "import numpy as np\n",
    "import pandas as pd\n",
    "import keras"
   ]
  },
  {
   "cell_type": "code",
   "execution_count": 2,
   "id": "9156e9a2",
   "metadata": {},
   "outputs": [],
   "source": [
    "import matplotlib.pyplot as plt\n",
    "%matplotlib tk"
   ]
  },
  {
   "cell_type": "code",
   "execution_count": 3,
   "id": "75f0be5b",
   "metadata": {
    "executionInfo": {
     "elapsed": 4,
     "status": "ok",
     "timestamp": 1710664771018,
     "user": {
      "displayName": "Matija Grulovic",
      "userId": "10099424245028057757"
     },
     "user_tz": -60
    },
    "id": "75f0be5b"
   },
   "outputs": [],
   "source": [
    "import os"
   ]
  },
  {
   "cell_type": "code",
   "execution_count": 4,
   "id": "6ec562fd",
   "metadata": {},
   "outputs": [
    {
     "name": "stdout",
     "output_type": "stream",
     "text": [
      "WARNING:tensorflow:From D:\\Users\\mata2\\anaconda3\\Lib\\site-packages\\keras\\src\\saving\\legacy\\saved_model\\load.py:107: The name tf.gfile.Exists is deprecated. Please use tf.io.gfile.exists instead.\n",
      "\n",
      "WARNING:tensorflow:From D:\\Users\\mata2\\anaconda3\\Lib\\site-packages\\keras\\src\\layers\\rnn\\gru.py:144: The name tf.executing_eagerly_outside_functions is deprecated. Please use tf.compat.v1.executing_eagerly_outside_functions instead.\n",
      "\n"
     ]
    }
   ],
   "source": [
    "modelMSE = keras.saving.load_model(r\"C:\\Users\\mata2\\Desktop\\master\\Axis-projection-RNN\\modeli\\Difference predictions\\X - GRU\")"
   ]
  },
  {
   "cell_type": "code",
   "execution_count": 5,
   "id": "f8d678cf",
   "metadata": {
    "executionInfo": {
     "elapsed": 9,
     "status": "ok",
     "timestamp": 1710664812972,
     "user": {
      "displayName": "Matija Grulovic",
      "userId": "10099424245028057757"
     },
     "user_tz": -60
    },
    "id": "f8d678cf"
   },
   "outputs": [],
   "source": [
    "path = r\"C:\\Users\\mata2\\Desktop\\master\\podaci\\novi_deo\\x-0k\""
   ]
  },
  {
   "cell_type": "code",
   "execution_count": 6,
   "id": "43cd7520",
   "metadata": {
    "executionInfo": {
     "elapsed": 617,
     "status": "ok",
     "timestamp": 1710664813582,
     "user": {
      "displayName": "Matija Grulovic",
      "userId": "10099424245028057757"
     },
     "user_tz": -60
    },
    "id": "43cd7520"
   },
   "outputs": [],
   "source": [
    "dir = os.listdir(path)"
   ]
  },
  {
   "cell_type": "markdown",
   "id": "99adbe0c",
   "metadata": {},
   "source": [
    "Ucitavanje fajlova"
   ]
  },
  {
   "cell_type": "code",
   "execution_count": 7,
   "id": "88795fa1",
   "metadata": {
    "executionInfo": {
     "elapsed": 3,
     "status": "ok",
     "timestamp": 1710664816406,
     "user": {
      "displayName": "Matija Grulovic",
      "userId": "10099424245028057757"
     },
     "user_tz": -60
    },
    "id": "88795fa1"
   },
   "outputs": [],
   "source": [
    "file_names = []\n",
    "for file in dir:\n",
    "    file_names.append(file)"
   ]
  },
  {
   "cell_type": "code",
   "execution_count": 8,
   "id": "02dbbaa6",
   "metadata": {},
   "outputs": [],
   "source": [
    "test_file_names = file_names"
   ]
  },
  {
   "cell_type": "markdown",
   "id": "65b9580b",
   "metadata": {},
   "source": [
    "Ucitavanje zadate trajektorije"
   ]
  },
  {
   "cell_type": "code",
   "execution_count": 9,
   "id": "0ab0bc4a",
   "metadata": {},
   "outputs": [],
   "source": [
    "x_command = np.asarray(pd.read_csv(r\"C:\\Users\\mata2\\Desktop\\master\\podaci\\novi_deo\\xCmd_novi_deo.txt\",header=None).astype('int'))"
   ]
  },
  {
   "cell_type": "markdown",
   "id": "1506d998",
   "metadata": {},
   "source": [
    "Konkatenacija fajlova koji se posle pravilno rasporedjuju na adekvatne train/test skupove"
   ]
  },
  {
   "cell_type": "code",
   "execution_count": 10,
   "id": "df895f0a",
   "metadata": {},
   "outputs": [],
   "source": [
    "test_ = np.concatenate([pd.read_csv(path + \"/\" + file, header=None)[:len(x_command)].astype('int')\n",
    "                              for file in test_file_names], axis=0)"
   ]
  },
  {
   "cell_type": "markdown",
   "id": "3ab71351",
   "metadata": {},
   "source": [
    "Prethodno konkatenizovani podaci se adekvatno dele kako bi se izbeglo fiktivno stanje (stanje pri kraju rada i pocetku novog ako su konkatenizovani podaci)"
   ]
  },
  {
   "cell_type": "code",
   "execution_count": 11,
   "id": "fcadc02d",
   "metadata": {},
   "outputs": [],
   "source": [
    "for j in range(len(test_file_names)):\n",
    "    exec(f\"razlika_test_{j} = []\")\n",
    "    for i in range(len(x_command)):\n",
    "        exec(f\"razlika_test_{j}.append(x_command[i] - test_[j*len(x_command)+i])\")\n",
    "    exec(f'razlika_test_{j} = np.asarray(razlika_test_{j})')    "
   ]
  },
  {
   "cell_type": "markdown",
   "id": "04028a15",
   "metadata": {},
   "source": [
    "Funkcija koja deli podatke na \"sliding window\""
   ]
  },
  {
   "cell_type": "code",
   "execution_count": 13,
   "id": "03cf8cf6",
   "metadata": {
    "executionInfo": {
     "elapsed": 1,
     "status": "ok",
     "timestamp": 1710681491731,
     "user": {
      "displayName": "Matija Grulovic",
      "userId": "10099424245028057757"
     },
     "user_tz": -60
    },
    "id": "03cf8cf6"
   },
   "outputs": [],
   "source": [
    "def create_timeseries_split(data, time_steps):\n",
    "\n",
    "  # Get the number of samples in the data\n",
    "  num_samples = len(data) - time_steps\n",
    "\n",
    "  # Create empty arrays to store features and target values\n",
    "  x_train = np.zeros((num_samples, time_steps, 1))\n",
    "  y_train = np.zeros((num_samples, 1))\n",
    "\n",
    "  # Loop through the data and create features and target values\n",
    "  for i in range(num_samples):\n",
    "    # Extract a slice of data for the current feature\n",
    "    x_train[i] = data[i:i+time_steps, :]\n",
    "\n",
    "    # The target value is the next value after the feature\n",
    "    y_train[i] = data[i+time_steps, 0]\n",
    "\n",
    "  return x_train, y_train"
   ]
  },
  {
   "cell_type": "markdown",
   "id": "3abfa80b",
   "metadata": {},
   "source": [
    "Buffer"
   ]
  },
  {
   "cell_type": "code",
   "execution_count": 12,
   "id": "0a745ab2",
   "metadata": {
    "executionInfo": {
     "elapsed": 216,
     "status": "ok",
     "timestamp": 1710681509731,
     "user": {
      "displayName": "Matija Grulovic",
      "userId": "10099424245028057757"
     },
     "user_tz": -60
    },
    "id": "0a745ab2"
   },
   "outputs": [],
   "source": [
    "time_steps = 8"
   ]
  },
  {
   "cell_type": "markdown",
   "id": "f16a6cf6",
   "metadata": {},
   "source": [
    "Deljenje podataka na train i test skup"
   ]
  },
  {
   "cell_type": "code",
   "execution_count": 14,
   "id": "95faf0cd",
   "metadata": {},
   "outputs": [],
   "source": [
    "for i in range(len(test_file_names)):\n",
    "    exec(f'test_X_{i}, test_y_{i} = create_timeseries_split(razlika_test_{i}, time_steps)')\n",
    "\n",
    "test_X = np.asarray(test_X_0)\n",
    "for i in range(1,len(test_file_names)):\n",
    "    exec(f'test_X = np.append(test_X, test_X_{i}, axis=0)')\n",
    "\n",
    "test_y = np.asarray(test_y_0)\n",
    "for i in range(1,len(test_file_names)):\n",
    "    exec(f'test_y = np.append(test_y, test_y_{i}, axis=0)')"
   ]
  },
  {
   "cell_type": "code",
   "execution_count": 15,
   "id": "bc7033aa",
   "metadata": {
    "executionInfo": {
     "elapsed": 2,
     "status": "ok",
     "timestamp": 1710681547336,
     "user": {
      "displayName": "Matija Grulovic",
      "userId": "10099424245028057757"
     },
     "user_tz": -60
    },
    "id": "bc7033aa"
   },
   "outputs": [],
   "source": [
    "input_shape = (time_steps,1)"
   ]
  },
  {
   "cell_type": "code",
   "execution_count": 16,
   "id": "510f09f5",
   "metadata": {
    "colab": {
     "base_uri": "https://localhost:8080/"
    },
    "executionInfo": {
     "elapsed": 183330,
     "status": "ok",
     "timestamp": 1710679800888,
     "user": {
      "displayName": "Matija Grulovic",
      "userId": "10099424245028057757"
     },
     "user_tz": -60
    },
    "id": "510f09f5",
    "outputId": "ad1db14d-a815-4530-dc97-1f8675e74b0f"
   },
   "outputs": [
    {
     "name": "stdout",
     "output_type": "stream",
     "text": [
      "16872/16872 [==============================] - 26s 2ms/step\n"
     ]
    }
   ],
   "source": [
    "test_predict_MSE = modelMSE.predict(test_X)"
   ]
  },
  {
   "cell_type": "markdown",
   "id": "a265e8b2",
   "metadata": {},
   "source": [
    "Ucitavamo standardne devijacije i srednje vrednosti"
   ]
  },
  {
   "cell_type": "code",
   "execution_count": 18,
   "id": "0a64c969",
   "metadata": {},
   "outputs": [],
   "source": [
    "std_dev = []\n",
    "with open(r\"C:\\Users\\mata2\\Desktop\\master\\Axis-projection-RNN\\odstupanja\\0k - x novi podaci\\0k - x novi podaciX_std_dev.txt\", 'r') as lines:\n",
    "    for line in lines:\n",
    "        std_dev.append(float(line.strip('\\n')))"
   ]
  },
  {
   "cell_type": "code",
   "execution_count": 17,
   "id": "f9dc7509",
   "metadata": {},
   "outputs": [],
   "source": [
    "sr_vrednost = []\n",
    "with open(r\"C:\\Users\\mata2\\Desktop\\master\\Axis-projection-RNN\\odstupanja\\0k - x novi podaci\\0k - x novi podaciX_sr_vrednost.txt\", 'r') as lines:\n",
    "    for line in lines:\n",
    "        sr_vrednost.append(float(line.strip('\\n')))"
   ]
  },
  {
   "cell_type": "code",
   "execution_count": 19,
   "id": "8b6ea37f",
   "metadata": {},
   "outputs": [],
   "source": [
    "sig_len = int(len(test_)/len(test_file_names))"
   ]
  },
  {
   "cell_type": "code",
   "execution_count": 21,
   "id": "fbd683a2",
   "metadata": {},
   "outputs": [
    {
     "data": {
      "text/plain": [
       "0.6829591761132103"
      ]
     },
     "execution_count": 21,
     "metadata": {},
     "output_type": "execute_result"
    }
   ],
   "source": [
    "mean_1std = 0\n",
    "for j in range(len(test_file_names)):\n",
    "    for i in range(int(len(test_predict_MSE)/len(test_file_names))):\n",
    "        if sr_vrednost[i+time_steps] - std_dev[i+time_steps] <= test_predict_MSE[int(len(test_predict_MSE)/len(test_file_names))*j + i] <= sr_vrednost[i+time_steps] + std_dev[i+time_steps]:\n",
    "            mean_1std += 1\n",
    "        #else:\n",
    "            #print(sr_vrednost[i+8], std_dev[i+8], test_predict_MSE[60992*j + i], 'index:',j*60992 + i)\n",
    "mean_1std/len(test_predict_MSE)"
   ]
  },
  {
   "cell_type": "raw",
   "id": "d6ba2f2c",
   "metadata": {},
   "source": [
    "0.6829591761132103"
   ]
  },
  {
   "cell_type": "markdown",
   "id": "4735a9a6",
   "metadata": {},
   "source": [
    "Mean 3 sigma"
   ]
  },
  {
   "cell_type": "code",
   "execution_count": 22,
   "id": "b1674839",
   "metadata": {},
   "outputs": [
    {
     "data": {
      "text/plain": [
       "0.9961565533081426"
      ]
     },
     "execution_count": 22,
     "metadata": {},
     "output_type": "execute_result"
    }
   ],
   "source": [
    "i = time_steps\n",
    "mean_3std = 0\n",
    "for j in range(len(test_predict_MSE)):\n",
    "    if i%len(x_command) == 0:\n",
    "        i = time_steps\n",
    "    if sr_vrednost[i] - 3*std_dev[i] <= test_predict_MSE[j] <= sr_vrednost[i] + 3*std_dev[i]:\n",
    "            mean_3std += 1\n",
    "    i += 1\n",
    "mean_3std/len(test_predict_MSE)"
   ]
  },
  {
   "cell_type": "raw",
   "id": "8ad5c63e",
   "metadata": {},
   "source": [
    "0.9961565533081426"
   ]
  },
  {
   "cell_type": "code",
   "execution_count": 20,
   "id": "5a108ae1",
   "metadata": {},
   "outputs": [],
   "source": [
    "min_kord = [float('inf') for x in range(sig_len)]\n",
    "max_kord = [float('-inf') for x in range(sig_len)]\n",
    "\n",
    "for i in range(sig_len):    \n",
    "    for j in range(len(test_file_names)):\n",
    "        exec(f'current_file = razlika_test_{j}')\n",
    "        if current_file[i][0] < min_kord[i]:\n",
    "            min_kord[i] = current_file[i][0]\n",
    "        if current_file[i][0] > max_kord[i]:\n",
    "            max_kord[i] = current_file[i][0]"
   ]
  },
  {
   "cell_type": "code",
   "execution_count": 62,
   "id": "66a809d2",
   "metadata": {},
   "outputs": [
    {
     "data": {
      "text/plain": [
       "0.8896884492850263"
      ]
     },
     "execution_count": 62,
     "metadata": {},
     "output_type": "execute_result"
    }
   ],
   "source": [
    "i = time_steps\n",
    "uspeli_minmax = 0\n",
    "for j in range(len(test_predict_MSE)):\n",
    "    if i%sig_len == 0:\n",
    "        i = time_steps\n",
    "    if min_kord[i] <= (test_predict_MSE[j]) <= max_kord[i]:\n",
    "        uspeli_minmax += 1\n",
    "    i += 1\n",
    "uspeli_minmax/len(test_predict_MSE)"
   ]
  },
  {
   "cell_type": "markdown",
   "id": "370a275a",
   "metadata": {},
   "source": [
    "# NA TEST SKUPU - plotovi trajektorija"
   ]
  },
  {
   "cell_type": "markdown",
   "id": "59e49456",
   "metadata": {},
   "source": [
    "test_ = realizovana trajektorija\n",
    "\n",
    "test_predict_MSE = predvidjena RAZLIKA koordinata od x_command\n",
    "\n",
    "razlika_test_{} = realizovana RAZLIKA od test podataka od x_command - CELA TRAJEKTORIJA\n",
    "\n",
    "test_y_{} = REALIZOVANA y koordinata od razlika_test_{}\n",
    "\n",
    "X_COMMAND - TEST_ = ODSTUPANJE/RAZLIKA_TEST_\n",
    "\n",
    "X_COMMAND[TIME_STEPS] + test_predict_MSE[0] = PRVU KOORDINATU TRAJEKTORIJE PREDVIDJENE VREDNOSTI"
   ]
  },
  {
   "cell_type": "markdown",
   "id": "13fa6196",
   "metadata": {},
   "source": [
    "# tri sigma plotovi"
   ]
  },
  {
   "cell_type": "code",
   "execution_count": 21,
   "id": "25aff3cc",
   "metadata": {},
   "outputs": [],
   "source": [
    "tri_sigma_lower = []\n",
    "tri_sigma_upper = []\n",
    "\n",
    "for i in range(len(x_command)):\n",
    "    tri_sigma_lower.append(sr_vrednost[i] - 3*std_dev[i])\n",
    "    tri_sigma_upper.append(sr_vrednost[i] + 3*std_dev[i])"
   ]
  },
  {
   "cell_type": "code",
   "execution_count": 22,
   "id": "c4c73a33",
   "metadata": {},
   "outputs": [],
   "source": [
    "for j in range(len(test_file_names)):\n",
    "    exec(f'trajektorija_odstupanja_{j} = []')\n",
    "    for i in range(sig_len - time_steps):\n",
    "        exec(f'trajektorija_odstupanja_{j}.append(test_predict_MSE[j*(sig_len-time_steps) + i])')"
   ]
  },
  {
   "cell_type": "code",
   "execution_count": 23,
   "id": "8340f333",
   "metadata": {},
   "outputs": [
    {
     "name": "stdout",
     "output_type": "stream",
     "text": [
      "trajektorija  1  sadrzi  35930  tacaka , procenat tri sigma iznosi:  99.81 %\n",
      "trajektorija  2  sadrzi  35750  tacaka , procenat tri sigma iznosi:  99.31 %\n",
      "trajektorija  3  sadrzi  35895  tacaka , procenat tri sigma iznosi:  99.71 %\n",
      "trajektorija  4  sadrzi  35814  tacaka , procenat tri sigma iznosi:  99.48 %\n",
      "trajektorija  5  sadrzi  35839  tacaka , procenat tri sigma iznosi:  99.55 %\n",
      "trajektorija  6  sadrzi  35860  tacaka , procenat tri sigma iznosi:  99.61 %\n",
      "trajektorija  7  sadrzi  35930  tacaka , procenat tri sigma iznosi:  99.81 %\n",
      "trajektorija  8  sadrzi  35834  tacaka , procenat tri sigma iznosi:  99.54 %\n",
      "trajektorija  9  sadrzi  35831  tacaka , procenat tri sigma iznosi:  99.53 %\n",
      "trajektorija  10  sadrzi  35875  tacaka , procenat tri sigma iznosi:  99.65 %\n",
      "trajektorija  11  sadrzi  35885  tacaka , procenat tri sigma iznosi:  99.68 %\n",
      "trajektorija  12  sadrzi  35882  tacaka , procenat tri sigma iznosi:  99.67 %\n",
      "trajektorija  13  sadrzi  35796  tacaka , procenat tri sigma iznosi:  99.43 %\n",
      "trajektorija  14  sadrzi  35843  tacaka , procenat tri sigma iznosi:  99.56 %\n",
      "trajektorija  15  sadrzi  35841  tacaka , procenat tri sigma iznosi:  99.56 %\n"
     ]
    }
   ],
   "source": [
    "trajektorija = 1\n",
    "i = time_steps\n",
    "mean_3std = 0\n",
    "for j in range(len(test_predict_MSE)):\n",
    "    if i%len(x_command) == 0:\n",
    "        print(\"trajektorija \",trajektorija, \" sadrzi \", mean_3std , \" tacaka\", \", procenat tri sigma iznosi: \",round(mean_3std/36000*100,2),\"%\")\n",
    "        exec(f\"trajektorija_{trajektorija} = mean_3std\")\n",
    "        trajektorija += 1\n",
    "        mean_3std = 0\n",
    "        i = time_steps\n",
    "    if sr_vrednost[i] - 3*std_dev[i] <= test_predict_MSE[j] <= sr_vrednost[i] + 3*std_dev[i]:\n",
    "            mean_3std += 1\n",
    "    i += 1\n",
    "trajektorija_15 = mean_3std\n",
    "print(\"trajektorija \",trajektorija, \" sadrzi \", mean_3std , \" tacaka\", \", procenat tri sigma iznosi: \",round(mean_3std/36000*100,2),\"%\")"
   ]
  },
  {
   "cell_type": "code",
   "execution_count": 25,
   "id": "d2e99a63",
   "metadata": {},
   "outputs": [],
   "source": [
    "plt.figure(figsize=(11,7))\n",
    "plt.plot(tri_sigma_lower[time_steps:], color= 'b')\n",
    "plt.plot(tri_sigma_upper[time_steps:], color = 'r')\n",
    "plt.plot(trajektorija_odstupanja_0, color = 'g')\n",
    "plt.xlabel('време (ms)', fontsize=18)\n",
    "plt.ylabel('одступање (μm)', fontsize=18)\n",
    "plt.legend(['три сигма доња граница',\"три сигма горња граница\", \"одступање трајекторије 1\"],loc = 'best')\n",
    "plt.show()"
   ]
  },
  {
   "cell_type": "code",
   "execution_count": 26,
   "id": "75c41a25",
   "metadata": {},
   "outputs": [],
   "source": [
    "plt.figure(figsize=(11,7))\n",
    "for i in range(len(trajektorija_odstupanja_0)):\n",
    "    if tri_sigma_lower[time_steps + i] <= trajektorija_odstupanja_0[i] <= tri_sigma_upper[time_steps + i]:\n",
    "        plt.plot(i, trajektorija_odstupanja_0[i], color='black', marker = 'o', markersize = 2)\n",
    "    else:\n",
    "        plt.plot(i, trajektorija_odstupanja_0[i], color='red', marker = 'o', markersize = 2)\n",
    "plt.title('Количина тачака која упада у три сигма појас износи: {}%'.format(round((trajektorija_1/36000)*100,2)) , fontsize=18)\n",
    "plt.xlabel('време (ms)', fontsize=18)\n",
    "plt.ylabel('одступање (μm)', fontsize=18)\n",
    "plt.show()"
   ]
  },
  {
   "cell_type": "code",
   "execution_count": 27,
   "id": "dbdf08a8",
   "metadata": {},
   "outputs": [],
   "source": [
    "plt.figure(figsize=(11,7))\n",
    "for i in range(len(trajektorija_odstupanja_1)):\n",
    "    if tri_sigma_lower[time_steps + i] <= trajektorija_odstupanja_1[i] <= tri_sigma_upper[time_steps + i]:\n",
    "        plt.plot(i, trajektorija_odstupanja_1[i], color='black', marker = 'o', markersize = 2)\n",
    "    else:\n",
    "        plt.plot(i, trajektorija_odstupanja_1[i], color='red', marker = 'o', markersize = 2)\n",
    "plt.title('Количина тачака која упада у три сигма појас износи: {}%'.format(round((trajektorija_2/36000)*100,2)) , fontsize=18)\n",
    "plt.xlabel('време (ms)', fontsize=18)\n",
    "plt.ylabel('одступање (μm)', fontsize=18)\n",
    "plt.show()"
   ]
  },
  {
   "cell_type": "code",
   "execution_count": 40,
   "id": "5a1a0dac",
   "metadata": {},
   "outputs": [],
   "source": [
    "plt.figure(figsize=(11,7))\n",
    "for i in range(len(trajektorija_odstupanja_2)):\n",
    "    if tri_sigma_lower[time_steps + i] <= trajektorija_odstupanja_2[i] <= tri_sigma_upper[time_steps + i]:\n",
    "        plt.plot(i, trajektorija_odstupanja_2[i], color='black', marker = 'o', markersize = 2)\n",
    "    else:\n",
    "        plt.plot(i, trajektorija_odstupanja_2[i], color='red', marker = 'o', markersize = 2)\n"
   ]
  },
  {
   "cell_type": "markdown",
   "id": "2460ab6b",
   "metadata": {},
   "source": [
    "# min maks plotovi"
   ]
  },
  {
   "cell_type": "code",
   "execution_count": 28,
   "id": "62a2c9f8",
   "metadata": {},
   "outputs": [],
   "source": [
    "min_kord = [float('inf') for x in range(sig_len)]\n",
    "max_kord = [float('-inf') for x in range(sig_len)]\n",
    "\n",
    "for i in range(sig_len):    \n",
    "    for j in range(len(test_file_names)):\n",
    "        exec(f'current_file = razlika_test_{j}')\n",
    "        if current_file[i][0] < min_kord[i]:\n",
    "            min_kord[i] = current_file[i][0]\n",
    "        if current_file[i][0] > max_kord[i]:\n",
    "            max_kord[i] = current_file[i][0]"
   ]
  },
  {
   "cell_type": "code",
   "execution_count": 29,
   "id": "3df1507d",
   "metadata": {},
   "outputs": [],
   "source": [
    "min_trajektorija = []\n",
    "max_trajektorija = []\n",
    "for i in range(sig_len):\n",
    "    min_trajektorija.append(x_command[i] + min_kord[i])\n",
    "    max_trajektorija.append(x_command[i] + max_kord[i])"
   ]
  },
  {
   "cell_type": "code",
   "execution_count": 30,
   "id": "7ef25eb0",
   "metadata": {},
   "outputs": [],
   "source": [
    "for j in range(len(test_file_names)):\n",
    "    exec(f'predvidjena_trajektorija_{j} = []')\n",
    "    for i in range(len(x_command) - time_steps):\n",
    "        exec(f'predvidjena_trajektorija_{j}.append(x_command[i + time_steps] + test_predict_MSE[j*(len(x_command)-time_steps) + i])')"
   ]
  },
  {
   "cell_type": "code",
   "execution_count": 32,
   "id": "deb5bb70",
   "metadata": {},
   "outputs": [
    {
     "name": "stdout",
     "output_type": "stream",
     "text": [
      "trajektorija  1  sadrzi  31393  tacaka , procenat tri sigma iznosi:  87.2 %\n",
      "trajektorija  2  sadrzi  28751  tacaka , procenat tri sigma iznosi:  79.86 %\n",
      "trajektorija  3  sadrzi  31525  tacaka , procenat tri sigma iznosi:  87.57 %\n",
      "trajektorija  4  sadrzi  32540  tacaka , procenat tri sigma iznosi:  90.39 %\n",
      "trajektorija  5  sadrzi  31514  tacaka , procenat tri sigma iznosi:  87.54 %\n",
      "trajektorija  6  sadrzi  33978  tacaka , procenat tri sigma iznosi:  94.38 %\n",
      "trajektorija  7  sadrzi  31393  tacaka , procenat tri sigma iznosi:  87.2 %\n",
      "trajektorija  8  sadrzi  33434  tacaka , procenat tri sigma iznosi:  92.87 %\n",
      "trajektorija  9  sadrzi  32991  tacaka , procenat tri sigma iznosi:  91.64 %\n",
      "trajektorija  10  sadrzi  33093  tacaka , procenat tri sigma iznosi:  91.92 %\n",
      "trajektorija  11  sadrzi  31820  tacaka , procenat tri sigma iznosi:  88.39 %\n",
      "trajektorija  12  sadrzi  33190  tacaka , procenat tri sigma iznosi:  92.19 %\n",
      "trajektorija  13  sadrzi  30632  tacaka , procenat tri sigma iznosi:  85.09 %\n",
      "trajektorija  14  sadrzi  31216  tacaka , procenat tri sigma iznosi:  86.71 %\n",
      "trajektorija  15  sadrzi  32855  tacaka , procenat tri sigma iznosi:  91.26 %\n"
     ]
    }
   ],
   "source": [
    "trajektorija_koord = 1\n",
    "i = time_steps\n",
    "mean_3std_koord = 0\n",
    "for j in range(len(test_predict_MSE)):\n",
    "    if i%len(x_command) == 0:\n",
    "        print(\"trajektorija \",trajektorija_koord, \" sadrzi \", mean_3std_koord , \" tacaka\", \", procenat tri sigma iznosi: \",round(mean_3std_koord/36000*100,2), \"%\")\n",
    "        exec(f\"trajektorija_koord_{trajektorija_koord} = mean_3std_koord\")\n",
    "        trajektorija_koord += 1\n",
    "        mean_3std_koord = 0\n",
    "        i = time_steps\n",
    "    if min_kord[i] <= (test_predict_MSE[j]) <= max_kord[i]:\n",
    "            mean_3std_koord += 1\n",
    "    i += 1\n",
    "trajektorija_koord_15 = mean_3std_koord\n",
    "print(\"trajektorija \",trajektorija_koord, \" sadrzi \", mean_3std_koord , \" tacaka\", \", procenat tri sigma iznosi: \",round(mean_3std_koord/36000*100,2),\"%\")"
   ]
  },
  {
   "cell_type": "code",
   "execution_count": 33,
   "id": "415ee8d5",
   "metadata": {},
   "outputs": [],
   "source": [
    "i = time_steps\n",
    "plt.figure(figsize=(11,7))\n",
    "for j in range(len(predvidjena_trajektorija_0)):\n",
    "    if i%36000 == 0:\n",
    "        i = time_steps    \n",
    "    if min_trajektorija[i] <= predvidjena_trajektorija_0[j] <= max_trajektorija[i]:\n",
    "        plt.plot(i, predvidjena_trajektorija_0[j], color='black', marker='o', markersize=2)\n",
    "    else:\n",
    "        plt.plot(i, predvidjena_trajektorija_0[j], color='red',marker='o',markersize=2)\n",
    "    i += 1\n",
    "plt.xlabel('време (ms)', fontsize=12)\n",
    "plt.ylabel('растојање X осе машине (μm)', fontsize=12)\n",
    "plt.title('Количина тачака која упада у мин макс појас износи: {}%'.format(round((trajektorija_koord_1/36000)*100,2)) , fontsize=18)\n",
    "plt.show()"
   ]
  },
  {
   "cell_type": "code",
   "execution_count": 34,
   "id": "fe47e227",
   "metadata": {},
   "outputs": [],
   "source": [
    "i = time_steps\n",
    "plt.figure(figsize=(11,7))\n",
    "for j in range(len(predvidjena_trajektorija_1)):\n",
    "    if i%36000 == 0:\n",
    "        i = time_steps    \n",
    "    if min_trajektorija[i] <= predvidjena_trajektorija_1[j] <= max_trajektorija[i]:\n",
    "        plt.plot(i, predvidjena_trajektorija_1[j], color='black', marker='o', markersize=2)\n",
    "    else:\n",
    "        plt.plot(i, predvidjena_trajektorija_1[j], color='red',marker='o',markersize=2)\n",
    "    i += 1\n",
    "plt.xlabel('време (ms)', fontsize=12)\n",
    "plt.ylabel('растојање X осе машине (μm)', fontsize=12)\n",
    "plt.title('Количина тачака која упада у мин макс појас износи: {}%'.format(round((trajektorija_koord_2/36000)*100,2)) , fontsize=18)\n",
    "plt.show()"
   ]
  }
 ],
 "metadata": {
  "colab": {
   "provenance": []
  },
  "kernelspec": {
   "display_name": "Python 3 (ipykernel)",
   "language": "python",
   "name": "python3"
  },
  "language_info": {
   "codemirror_mode": {
    "name": "ipython",
    "version": 3
   },
   "file_extension": ".py",
   "mimetype": "text/x-python",
   "name": "python",
   "nbconvert_exporter": "python",
   "pygments_lexer": "ipython3",
   "version": "3.11.5"
  }
 },
 "nbformat": 4,
 "nbformat_minor": 5
}
