{
 "cells": [
  {
   "cell_type": "code",
   "execution_count": null,
   "id": "775ee11f",
   "metadata": {
    "scrolled": false
   },
   "outputs": [],
   "source": [
    "import numpy as np\n",
    "import pandas as pd\n",
    "import statistics"
   ]
  },
  {
   "cell_type": "code",
   "execution_count": null,
   "id": "ee7b7d90",
   "metadata": {},
   "outputs": [],
   "source": [
    "import matplotlib\n",
    "import matplotlib.pyplot as plt\n",
    "%matplotlib tk"
   ]
  },
  {
   "cell_type": "code",
   "execution_count": null,
   "id": "2df56ac2",
   "metadata": {},
   "outputs": [],
   "source": [
    "import os"
   ]
  },
  {
   "cell_type": "markdown",
   "id": "23ae2fa9",
   "metadata": {},
   "source": [
    "apsolutna putanja do podataka"
   ]
  },
  {
   "cell_type": "code",
   "execution_count": null,
   "id": "0e0931af",
   "metadata": {},
   "outputs": [],
   "source": [
    "path = r\"C:\\Users\\mata2\\Desktop\\master\\podaci\\novi_deo\\y-0k\""
   ]
  },
  {
   "cell_type": "code",
   "execution_count": null,
   "id": "b04c62da",
   "metadata": {},
   "outputs": [],
   "source": [
    "dir = os.listdir(path)"
   ]
  },
  {
   "cell_type": "code",
   "execution_count": null,
   "id": "a0cfa39a",
   "metadata": {},
   "outputs": [],
   "source": [
    "file_names = []\n",
    "for file in dir:\n",
    "    file_names.append(file)"
   ]
  },
  {
   "cell_type": "markdown",
   "id": "a9752a11",
   "metadata": {},
   "source": [
    "uzete su standardne devijacije i srednje vrednosti podataka za testiranje"
   ]
  },
  {
   "cell_type": "code",
   "execution_count": null,
   "id": "b41fd9f5",
   "metadata": {},
   "outputs": [],
   "source": [
    "train_files_names = file_names\n",
    "#test_file_names = file_names[int(percent_train*len(file_names))::]"
   ]
  },
  {
   "cell_type": "markdown",
   "id": "a5cb2088",
   "metadata": {},
   "source": [
    "ucitana je x_command zadata trajektorija (potrebno je dodati apsolutnu putanju)"
   ]
  },
  {
   "cell_type": "code",
   "execution_count": null,
   "id": "6f444e71",
   "metadata": {},
   "outputs": [],
   "source": [
    "y_command = np.asarray(pd.read_csv(r\"C:\\Users\\mata2\\Desktop\\master\\podaci\\novi_deo\\yCmd_novi_deo.txt\",header=None).astype('int'))"
   ]
  },
  {
   "cell_type": "markdown",
   "id": "225f2c89",
   "metadata": {},
   "source": [
    "uradjena je konkatenacija podataka na osnovu koga je napravljena jedna promenljiva koja sadrzi SVE podatke za treniranje"
   ]
  },
  {
   "cell_type": "code",
   "execution_count": null,
   "id": "13cb9143",
   "metadata": {},
   "outputs": [],
   "source": [
    "train_ = np.concatenate([pd.read_csv(path + \"/\" + file, header=None)[:len(y_command)].astype('int')\n",
    "                              for file in train_files_names], axis=0)"
   ]
  },
  {
   "cell_type": "markdown",
   "id": "1a9cc4b8",
   "metadata": {},
   "source": [
    "Izracunavamo odstupanja za svako pokretanje masine"
   ]
  },
  {
   "cell_type": "code",
   "execution_count": null,
   "id": "a3fec7a3",
   "metadata": {},
   "outputs": [],
   "source": [
    "for j in range(len(train_files_names)):\n",
    "    exec(f\"razlika_trening_{j} = []\")\n",
    "    for i in range(len(y_command)):\n",
    "        exec(f\"razlika_trening_{j}.append(y_command[i] - train_[j*len(y_command)+i])\")\n",
    "    exec(f'razlika_trening_{j} = np.asarray(razlika_trening_{j})')        "
   ]
  },
  {
   "cell_type": "markdown",
   "id": "a756aade",
   "metadata": {},
   "source": [
    "Napravljena je lista listi, gde je konacni oblik liste 61000x24, tj svi prvi odbirci trening fajlova (24) su smesteni kao prvi clan liste"
   ]
  },
  {
   "cell_type": "code",
   "execution_count": null,
   "id": "6d52dc01",
   "metadata": {},
   "outputs": [],
   "source": [
    "columns = []\n",
    "for i in range(len(y_command)):\n",
    "    temp_columns = []\n",
    "    for j in range(len(train_files_names)):\n",
    "        exec(f\"temp_columns.append(razlika_trening_{j}[i])\")\n",
    "    columns.append(temp_columns)"
   ]
  },
  {
   "cell_type": "markdown",
   "id": "3c8acb3d",
   "metadata": {},
   "source": [
    "Moramo da flattenujemo kako bi mogli da iskoristimo stdev funkciju"
   ]
  },
  {
   "cell_type": "code",
   "execution_count": null,
   "id": "be697077",
   "metadata": {},
   "outputs": [],
   "source": [
    "columns_all = []\n",
    "for i in range(len(y_command)):\n",
    "    columns_all.append(np.asarray(columns[i]).flatten().tolist())"
   ]
  },
  {
   "cell_type": "markdown",
   "id": "01b67b57",
   "metadata": {},
   "source": [
    "racunamo standardne devijacije i srednje vrednosti "
   ]
  },
  {
   "cell_type": "code",
   "execution_count": null,
   "id": "dc4aee28",
   "metadata": {},
   "outputs": [],
   "source": [
    "std_dev = []\n",
    "for i in range(len(y_command)):\n",
    "    std_dev.append(statistics.stdev(columns_all[i]))"
   ]
  },
  {
   "cell_type": "code",
   "execution_count": null,
   "id": "59ab2829",
   "metadata": {},
   "outputs": [],
   "source": [
    "sr_vrednost = []\n",
    "for i in range(len(y_command)):\n",
    "    sr_vrednost.append(np.mean(columns_all[i]))"
   ]
  },
  {
   "cell_type": "markdown",
   "id": "e7c1621d",
   "metadata": {},
   "source": [
    "plotujemo izracunate razlike prve trajektorije (zelena boja), standardne devijacije (plava boja) i skaliranu zadatu trajektorije (crvena boja)\n"
   ]
  },
  {
   "cell_type": "code",
   "execution_count": null,
   "id": "78844603",
   "metadata": {
    "scrolled": false
   },
   "outputs": [],
   "source": [
    "plt.plot(razlika_trening_0, 'g', alpha = 0.5)\n",
    "plt.plot(std_dev,'b', alpha = 0.7)\n",
    "plt.plot(y_command/10000, 'r')\n",
    "plt.legend(['razlike prve trajektorije','standardne devijacije','zadata trajektorija'])\n",
    "plt.show()"
   ]
  },
  {
   "cell_type": "markdown",
   "id": "dd0ab4a6",
   "metadata": {},
   "source": [
    "standardne devijacije i srednje vrednosti su sacuvane na sledecim adresama (celije su prebacene u \"raw NBConvert\" kako se ne bi slucajno pokretale)"
   ]
  },
  {
   "cell_type": "raw",
   "id": "53cd45f2",
   "metadata": {},
   "source": [
    "f = open(r\"C:\\Users\\mata2\\Desktop\\master\\Axis-projection-RNN\\odstupanja\\0k - y novi podaci\"\"Y_std_dev.txt\",\"w\")\n",
    "for i in range(len(std_dev)):\n",
    "    f.writelines(str(std_dev[i])+'\\n')\n",
    "f.close()"
   ]
  },
  {
   "cell_type": "raw",
   "id": "22e97a24",
   "metadata": {},
   "source": [
    "f = open(r\"C:\\Users\\mata2\\Desktop\\master\\Axis-projection-RNN\\odstupanja\\0k - y novi podaci\"\"Y_sr_vrednost.txt\",\"w\")\n",
    "for i in range(len(sr_vrednost)):\n",
    "    f.writelines(str(sr_vrednost[i])+'\\n')\n",
    "f.close()"
   ]
  }
 ],
 "metadata": {
  "kernelspec": {
   "display_name": "Python 3 (ipykernel)",
   "language": "python",
   "name": "python3"
  },
  "language_info": {
   "codemirror_mode": {
    "name": "ipython",
    "version": 3
   },
   "file_extension": ".py",
   "mimetype": "text/x-python",
   "name": "python",
   "nbconvert_exporter": "python",
   "pygments_lexer": "ipython3",
   "version": "3.11.5"
  }
 },
 "nbformat": 4,
 "nbformat_minor": 5
}
