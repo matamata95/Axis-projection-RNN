{
 "cells": [
  {
   "cell_type": "code",
   "execution_count": 1,
   "id": "ba8274c9",
   "metadata": {},
   "outputs": [],
   "source": [
    "import numpy as np\n",
    "import scipy\n",
    "import statistics\n",
    "import matplotlib.pyplot as plt\n",
    "%matplotlib tk\n",
    "import pandas as pd\n",
    "import os"
   ]
  },
  {
   "cell_type": "markdown",
   "id": "24635719",
   "metadata": {},
   "source": [
    "path predstavlja apsolutnu putanju do podataka"
   ]
  },
  {
   "cell_type": "code",
   "execution_count": 2,
   "id": "cfbaaf1f",
   "metadata": {},
   "outputs": [],
   "source": [
    "path = r\"C:\\Users\\mata2\\Desktop\\master\\podaci\\0k\\X\"\n",
    "dir = os.listdir(path)"
   ]
  },
  {
   "cell_type": "code",
   "execution_count": 3,
   "id": "26ea8e37",
   "metadata": {},
   "outputs": [],
   "source": [
    "file_names = []\n",
    "for file in dir:\n",
    "    file_names.append(file)"
   ]
  },
  {
   "cell_type": "markdown",
   "id": "8d0a438c",
   "metadata": {},
   "source": [
    "korisceni su svi podaci za testiranje normalne raspodele podataka"
   ]
  },
  {
   "cell_type": "code",
   "execution_count": 4,
   "id": "813a9e61",
   "metadata": {},
   "outputs": [],
   "source": [
    "percent_train = 1\n",
    "train_files_names = file_names[:int(percent_train*len(file_names))]"
   ]
  },
  {
   "cell_type": "markdown",
   "id": "4a853658",
   "metadata": {},
   "source": [
    "x_command predstavlja zadatu trajektoriju - potrebno je ubaciti apsolutnu putanju do text fajla"
   ]
  },
  {
   "cell_type": "code",
   "execution_count": 5,
   "id": "3178512a",
   "metadata": {},
   "outputs": [],
   "source": [
    "x_command = np.asarray(pd.read_csv(r\"C:\\Users\\mata2\\Desktop\\master\\podaci\\xCmd.txt\",header=None).astype('int'))"
   ]
  },
  {
   "cell_type": "code",
   "execution_count": 6,
   "id": "0d81521a",
   "metadata": {},
   "outputs": [],
   "source": [
    "train_ = np.concatenate([pd.read_csv(path + \"/\" + file, header=None)[:61000].astype('int')\n",
    "                              for file in train_files_names], axis=0)"
   ]
  },
  {
   "cell_type": "markdown",
   "id": "26d6c55a",
   "metadata": {},
   "source": [
    "izracunavanje vrednosti odstupanja podataka"
   ]
  },
  {
   "cell_type": "code",
   "execution_count": 7,
   "id": "5ed3be19",
   "metadata": {},
   "outputs": [],
   "source": [
    "for j in range(len(train_files_names)):\n",
    "    exec(f\"razlika_trening_{j} = []\")\n",
    "    for i in range(61000):\n",
    "        exec(f\"razlika_trening_{j}.append(x_command[i] - train_[j*61000+i])\")\n",
    "    exec(f'razlika_trening_{j} = np.asarray(razlika_trening_{j})')        "
   ]
  },
  {
   "cell_type": "code",
   "execution_count": 8,
   "id": "e11cb20f",
   "metadata": {},
   "outputs": [],
   "source": [
    "columns = []\n",
    "for i in range(61000):\n",
    "    temp_columns = []\n",
    "    for j in range(len(train_files_names)):\n",
    "        exec(f\"temp_columns.append(razlika_trening_{j}[i])\")\n",
    "    columns.append(temp_columns)"
   ]
  },
  {
   "cell_type": "code",
   "execution_count": 9,
   "id": "44d4298a",
   "metadata": {},
   "outputs": [],
   "source": [
    "columns_all = []\n",
    "for i in range(61000):\n",
    "    columns_all.append(np.asarray(columns[i]).flatten().tolist())"
   ]
  },
  {
   "cell_type": "markdown",
   "id": "f0bc529a",
   "metadata": {},
   "source": [
    "izracunavanje standardnih devijacija"
   ]
  },
  {
   "cell_type": "code",
   "execution_count": 10,
   "id": "0e350354",
   "metadata": {},
   "outputs": [],
   "source": [
    "std_dev = []\n",
    "for i in range(61000):\n",
    "    std_dev.append(statistics.stdev(columns_all[i]))"
   ]
  },
  {
   "cell_type": "markdown",
   "id": "989410c1",
   "metadata": {},
   "source": [
    "izracunavanje srednjih vrednost"
   ]
  },
  {
   "cell_type": "code",
   "execution_count": 11,
   "id": "f603bfea",
   "metadata": {},
   "outputs": [],
   "source": [
    "sr_vrednost = []\n",
    "for i in range(61000):\n",
    "    sr_vrednost.append(np.mean(columns_all[i]))"
   ]
  },
  {
   "cell_type": "code",
   "execution_count": 12,
   "id": "26b2a3d7",
   "metadata": {},
   "outputs": [],
   "source": [
    "normal_ind = []\n",
    "non_normal_ind = []"
   ]
  },
  {
   "cell_type": "markdown",
   "id": "c9fa395f",
   "metadata": {},
   "source": [
    "testiranje normalnosti preko scipy statistickog testa"
   ]
  },
  {
   "cell_type": "code",
   "execution_count": 13,
   "id": "5075b739",
   "metadata": {},
   "outputs": [],
   "source": [
    "for i in range(61000):\n",
    "    if scipy.stats.normaltest(columns_all[i])[1] > 0.05:\n",
    "        normal_ind.append(i)\n",
    "    else:\n",
    "        non_normal_ind.append(i)"
   ]
  },
  {
   "cell_type": "code",
   "execution_count": 120,
   "id": "6b2b3591",
   "metadata": {},
   "outputs": [],
   "source": [
    "plt.figure(figsize=(12,7))\n",
    "for i in range(61000):\n",
    "    if i in non_normal_ind:\n",
    "        plt.plot(i, x_command[i], color = 'red', marker = 'o', markersize = 4)\n",
    "    else:\n",
    "        plt.plot(i, x_command[i], color = 'black',marker = 'o', markersize = 4)\n",
    "\n",
    "plt.ylabel('растојање Х осе машине (μm)', fontsize = 18)\n",
    "plt.xlabel('време (ms)', fontsize = 18)\n",
    "plt.show()"
   ]
  },
  {
   "cell_type": "code",
   "execution_count": 122,
   "id": "15189105",
   "metadata": {},
   "outputs": [],
   "source": [
    "normal_ind_shapiro = []"
   ]
  },
  {
   "cell_type": "markdown",
   "id": "ef67929f",
   "metadata": {},
   "source": [
    "testiranje normalnost preko shapiro testa"
   ]
  },
  {
   "cell_type": "code",
   "execution_count": 127,
   "id": "548a6b2b",
   "metadata": {},
   "outputs": [],
   "source": [
    "for i in range(61000):\n",
    "    if scipy.stats.shapiro(columns_all[i])[1] > 0.05:\n",
    "        normal_ind_shapiro.append(i)"
   ]
  },
  {
   "cell_type": "code",
   "execution_count": 131,
   "id": "7f9dc016",
   "metadata": {},
   "outputs": [],
   "source": [
    "plt.figure(figsize=(12,7))\n",
    "for i in range(61000):\n",
    "    if i not in normal_ind_shapiro:\n",
    "        plt.plot(i, x_command[i], color = 'red', marker = 'o', markersize = 4)\n",
    "    else:\n",
    "        plt.plot(i, x_command[i], color = 'black',marker = 'o', markersize = 4)\n",
    "plt.ylabel('растојање Х осе машине (μm)', fontsize = 18)\n",
    "plt.xlabel('време (ms)', fontsize = 18)\n",
    "plt.show()"
   ]
  }
 ],
 "metadata": {
  "kernelspec": {
   "display_name": "Python 3 (ipykernel)",
   "language": "python",
   "name": "python3"
  },
  "language_info": {
   "codemirror_mode": {
    "name": "ipython",
    "version": 3
   },
   "file_extension": ".py",
   "mimetype": "text/x-python",
   "name": "python",
   "nbconvert_exporter": "python",
   "pygments_lexer": "ipython3",
   "version": "3.11.5"
  }
 },
 "nbformat": 4,
 "nbformat_minor": 5
}
