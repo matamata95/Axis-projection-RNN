{
 "cells": [
  {
   "cell_type": "code",
   "execution_count": 1,
   "id": "6ebe99d5",
   "metadata": {
    "executionInfo": {
     "elapsed": 6834,
     "status": "ok",
     "timestamp": 1710664771017,
     "user": {
      "displayName": "Matija Grulovic",
      "userId": "10099424245028057757"
     },
     "user_tz": -60
    },
    "id": "6ebe99d5"
   },
   "outputs": [
    {
     "name": "stdout",
     "output_type": "stream",
     "text": [
      "WARNING:tensorflow:From D:\\Users\\mata2\\anaconda3\\Lib\\site-packages\\keras\\src\\losses.py:2976: The name tf.losses.sparse_softmax_cross_entropy is deprecated. Please use tf.compat.v1.losses.sparse_softmax_cross_entropy instead.\n",
      "\n"
     ]
    }
   ],
   "source": [
    "import numpy as np\n",
    "import pandas as pd\n",
    "import keras\n",
    "import random\n",
    "import tensorflow as tf\n",
    "from sklearn import preprocessing\n",
    "from sklearn import metrics\n",
    "from keras import backend as K\n",
    "from tensorflow.keras.models import Sequential\n",
    "from tensorflow.keras.models import Model\n",
    "from tensorflow.keras.layers import Dense, SimpleRNN, RNN, LSTM, GRU, SpatialDropout1D, Dropout"
   ]
  },
  {
   "cell_type": "code",
   "execution_count": 2,
   "id": "75f0be5b",
   "metadata": {
    "executionInfo": {
     "elapsed": 4,
     "status": "ok",
     "timestamp": 1710664771018,
     "user": {
      "displayName": "Matija Grulovic",
      "userId": "10099424245028057757"
     },
     "user_tz": -60
    },
    "id": "75f0be5b"
   },
   "outputs": [],
   "source": [
    "import matplotlib.pyplot as plt\n",
    "import os, os.path, sys\n",
    "import copy"
   ]
  },
  {
   "cell_type": "code",
   "execution_count": 3,
   "id": "0973716c",
   "metadata": {
    "executionInfo": {
     "elapsed": 192,
     "status": "ok",
     "timestamp": 1710681546741,
     "user": {
      "displayName": "Matija Grulovic",
      "userId": "10099424245028057757"
     },
     "user_tz": -60
    },
    "id": "1b817ab0"
   },
   "outputs": [],
   "source": [
    "#random.seed(7)\n",
    "#np.random.seed(7)\n",
    "#tf.random.set_seed(7)\n",
    "keras.utils.set_random_seed(7)"
   ]
  },
  {
   "cell_type": "code",
   "execution_count": 4,
   "id": "f8d678cf",
   "metadata": {
    "executionInfo": {
     "elapsed": 9,
     "status": "ok",
     "timestamp": 1710664812972,
     "user": {
      "displayName": "Matija Grulovic",
      "userId": "10099424245028057757"
     },
     "user_tz": -60
    },
    "id": "f8d678cf"
   },
   "outputs": [],
   "source": [
    "path = r\"C:\\Users\\mata2\\Desktop\\master\\Axis-projection-RNN\\podaci\\0k\\Y\""
   ]
  },
  {
   "cell_type": "code",
   "execution_count": 5,
   "id": "43cd7520",
   "metadata": {
    "executionInfo": {
     "elapsed": 617,
     "status": "ok",
     "timestamp": 1710664813582,
     "user": {
      "displayName": "Matija Grulovic",
      "userId": "10099424245028057757"
     },
     "user_tz": -60
    },
    "id": "43cd7520"
   },
   "outputs": [],
   "source": [
    "dir = os.listdir(path)"
   ]
  },
  {
   "cell_type": "code",
   "execution_count": 6,
   "id": "88795fa1",
   "metadata": {
    "executionInfo": {
     "elapsed": 3,
     "status": "ok",
     "timestamp": 1710664816406,
     "user": {
      "displayName": "Matija Grulovic",
      "userId": "10099424245028057757"
     },
     "user_tz": -60
    },
    "id": "88795fa1"
   },
   "outputs": [],
   "source": [
    "file_names = []\n",
    "for file in dir:\n",
    "    file_names.append(file)"
   ]
  },
  {
   "cell_type": "code",
   "execution_count": 7,
   "id": "Shl71pSL3QGp",
   "metadata": {
    "executionInfo": {
     "elapsed": 28683,
     "status": "ok",
     "timestamp": 1710674426623,
     "user": {
      "displayName": "Matija Grulovic",
      "userId": "10099424245028057757"
     },
     "user_tz": -60
    },
    "id": "Shl71pSL3QGp"
   },
   "outputs": [],
   "source": [
    "min_kord = [float('inf') for x in range(61000)]\n",
    "max_kord = [float('-inf') for x in range(61000)]\n",
    "\n",
    "for file in file_names:\n",
    "  current_file = pd.read_csv(path+'/'+file, header=None)[:61000].astype('int')\n",
    "\n",
    "  for i in range(len(current_file)):\n",
    "    if current_file[0][i] < min_kord[i]:\n",
    "      min_kord[i] = current_file[0][i]\n",
    "    elif current_file[0][i] > max_kord[i]:\n",
    "      max_kord[i] = current_file[0][i]"
   ]
  },
  {
   "cell_type": "code",
   "execution_count": 8,
   "id": "905985b0",
   "metadata": {},
   "outputs": [],
   "source": [
    "kord_sum = [0 for x in range(61000)]\n",
    "\n",
    "for file in file_names:\n",
    "  current_file = pd.read_csv(path+'/'+file, header=None)[:61000].astype('int')\n",
    "\n",
    "  for i in range(len(current_file)):\n",
    "    kord_sum[i] += current_file[0][i]"
   ]
  },
  {
   "cell_type": "markdown",
   "id": "6d0cd0ee",
   "metadata": {},
   "source": [
    "napravljene su prosecne koordinate"
   ]
  },
  {
   "cell_type": "code",
   "execution_count": 9,
   "id": "674e8847",
   "metadata": {},
   "outputs": [],
   "source": [
    "average_kord = [x//len(file_names) for x in kord_sum]"
   ]
  },
  {
   "cell_type": "code",
   "execution_count": 10,
   "id": "b063753e",
   "metadata": {},
   "outputs": [],
   "source": [
    "synth_path = r\"C:\\Users\\mata2\\Desktop\\master\\Axis-projection-RNN\\sinteticki podaci\\0k\\Y\""
   ]
  },
  {
   "cell_type": "code",
   "execution_count": 11,
   "id": "1db13895",
   "metadata": {},
   "outputs": [],
   "source": [
    "dir2 = os.listdir(synth_path)"
   ]
  },
  {
   "cell_type": "code",
   "execution_count": 12,
   "id": "a849f69c",
   "metadata": {},
   "outputs": [],
   "source": [
    "file_names_synt = []\n",
    "for file in dir2:\n",
    "    file_names_synt.append(file)"
   ]
  },
  {
   "cell_type": "code",
   "execution_count": 13,
   "id": "dcd36378",
   "metadata": {},
   "outputs": [],
   "source": [
    "train_synt = np.concatenate([pd.read_csv(synth_path + \"/\" + file, header=None)[:61000].astype('int')\n",
    "                              for file in file_names_synt], axis=0)\n",
    "test_synt = np.concatenate([pd.read_csv(path + \"/\" + file, header=None)[:61000].astype('int')\n",
    "                              for file in file_names], axis=0)"
   ]
  },
  {
   "cell_type": "code",
   "execution_count": null,
   "id": "f295328f",
   "metadata": {},
   "outputs": [],
   "source": []
  },
  {
   "cell_type": "code",
   "execution_count": null,
   "id": "4b9db282",
   "metadata": {},
   "outputs": [],
   "source": []
  },
  {
   "cell_type": "raw",
   "id": "8fbdb425",
   "metadata": {
    "executionInfo": {
     "elapsed": 276,
     "status": "ok",
     "timestamp": 1710681483279,
     "user": {
      "displayName": "Matija Grulovic",
      "userId": "10099424245028057757"
     },
     "user_tz": -60
    },
    "id": "90413aad"
   },
   "source": [
    "scaler = preprocessing.MinMaxScaler(feature_range=(0,100))"
   ]
  },
  {
   "cell_type": "raw",
   "id": "7fa9d7df",
   "metadata": {
    "executionInfo": {
     "elapsed": 229,
     "status": "ok",
     "timestamp": 1710668559420,
     "user": {
      "displayName": "Matija Grulovic",
      "userId": "10099424245028057757"
     },
     "user_tz": -60
    },
    "id": "TvJRQntiypcC"
   },
   "source": [
    "#scaler = preprocessing.StandardScaler()"
   ]
  },
  {
   "cell_type": "raw",
   "id": "377087de",
   "metadata": {
    "colab": {
     "base_uri": "https://localhost:8080/",
     "height": 75
    },
    "executionInfo": {
     "elapsed": 229,
     "status": "ok",
     "timestamp": 1710681485425,
     "user": {
      "displayName": "Matija Grulovic",
      "userId": "10099424245028057757"
     },
     "user_tz": -60
    },
    "id": "d610434c",
    "outputId": "4e28aebd-47aa-4fb4-a7dd-86bd2f6397f1"
   },
   "source": [
    "scaler.fit(train_synt)"
   ]
  },
  {
   "cell_type": "raw",
   "id": "a48f2397",
   "metadata": {
    "executionInfo": {
     "elapsed": 202,
     "status": "ok",
     "timestamp": 1710681486915,
     "user": {
      "displayName": "Matija Grulovic",
      "userId": "10099424245028057757"
     },
     "user_tz": -60
    },
    "id": "82c91f08"
   },
   "source": [
    "train_synt = scaler.transform(train_synt)\n",
    "test_synt = scaler.transform(test_synt)"
   ]
  },
  {
   "cell_type": "raw",
   "id": "690e5a55",
   "metadata": {
    "executionInfo": {
     "elapsed": 201,
     "status": "ok",
     "timestamp": 1710681489119,
     "user": {
      "displayName": "Matija Grulovic",
      "userId": "10099424245028057757"
     },
     "user_tz": -60
    },
    "id": "NCrg7bh09bGl"
   },
   "source": [
    "min_kord_scaled = scaler.transform(np.array(min_kord).reshape(-1,1))\n",
    "max_kord_scaled = scaler.transform(np.array(max_kord).reshape(-1,1))"
   ]
  },
  {
   "cell_type": "markdown",
   "id": "5b4bcc42",
   "metadata": {
    "id": "5b4bcc42"
   },
   "source": [
    "best step = 1"
   ]
  },
  {
   "cell_type": "code",
   "execution_count": 14,
   "id": "03cf8cf6",
   "metadata": {
    "executionInfo": {
     "elapsed": 1,
     "status": "ok",
     "timestamp": 1710681491731,
     "user": {
      "displayName": "Matija Grulovic",
      "userId": "10099424245028057757"
     },
     "user_tz": -60
    },
    "id": "03cf8cf6"
   },
   "outputs": [],
   "source": [
    "def create_timeseries_split(data, time_steps):\n",
    "\n",
    "  # Get the number of samples in the data\n",
    "  num_samples = len(data) - time_steps\n",
    "\n",
    "  # Create empty arrays to store features and target values\n",
    "  x_train = np.zeros((num_samples, time_steps, 1))\n",
    "  y_train = np.zeros((num_samples, 1))\n",
    "\n",
    "  # Loop through the data and create features and target values\n",
    "  for i in range(num_samples):\n",
    "    # Extract a slice of data for the current feature\n",
    "    x_train[i] = data[i:i+time_steps, :]\n",
    "\n",
    "    # The target value is the next value after the feature\n",
    "    y_train[i] = data[i+time_steps, 0]\n",
    "\n",
    "  return x_train, y_train"
   ]
  },
  {
   "cell_type": "code",
   "execution_count": 15,
   "id": "0a745ab2",
   "metadata": {
    "executionInfo": {
     "elapsed": 216,
     "status": "ok",
     "timestamp": 1710681509731,
     "user": {
      "displayName": "Matija Grulovic",
      "userId": "10099424245028057757"
     },
     "user_tz": -60
    },
    "id": "0a745ab2"
   },
   "outputs": [],
   "source": [
    "time_steps = 1"
   ]
  },
  {
   "cell_type": "code",
   "execution_count": 16,
   "id": "19e071e1",
   "metadata": {
    "executionInfo": {
     "elapsed": 2614,
     "status": "ok",
     "timestamp": 1710681513262,
     "user": {
      "displayName": "Matija Grulovic",
      "userId": "10099424245028057757"
     },
     "user_tz": -60
    },
    "id": "19e071e1"
   },
   "outputs": [],
   "source": [
    "train_X, train_y = create_timeseries_split(train_synt, time_steps)"
   ]
  },
  {
   "cell_type": "code",
   "execution_count": 17,
   "id": "09ede67c",
   "metadata": {
    "executionInfo": {
     "elapsed": 590,
     "status": "ok",
     "timestamp": 1710681543874,
     "user": {
      "displayName": "Matija Grulovic",
      "userId": "10099424245028057757"
     },
     "user_tz": -60
    },
    "id": "09ede67c"
   },
   "outputs": [],
   "source": [
    "test_X, test_y = create_timeseries_split(test_synt, time_steps)"
   ]
  },
  {
   "cell_type": "code",
   "execution_count": 18,
   "id": "bc7033aa",
   "metadata": {
    "executionInfo": {
     "elapsed": 2,
     "status": "ok",
     "timestamp": 1710681547336,
     "user": {
      "displayName": "Matija Grulovic",
      "userId": "10099424245028057757"
     },
     "user_tz": -60
    },
    "id": "bc7033aa"
   },
   "outputs": [],
   "source": [
    "input_shape = (time_steps,1)"
   ]
  },
  {
   "cell_type": "code",
   "execution_count": 19,
   "id": "vIDZZWZbk4T4",
   "metadata": {
    "executionInfo": {
     "elapsed": 571,
     "status": "ok",
     "timestamp": 1710681555340,
     "user": {
      "displayName": "Matija Grulovic",
      "userId": "10099424245028057757"
     },
     "user_tz": -60
    },
    "id": "vIDZZWZbk4T4"
   },
   "outputs": [
    {
     "name": "stdout",
     "output_type": "stream",
     "text": [
      "WARNING:tensorflow:From D:\\Users\\mata2\\anaconda3\\Lib\\site-packages\\keras\\src\\backend.py:873: The name tf.get_default_graph is deprecated. Please use tf.compat.v1.get_default_graph instead.\n",
      "\n"
     ]
    }
   ],
   "source": [
    "keras.utils.set_random_seed(7)\n",
    "optimizerMSE = keras.optimizers.Adam(learning_rate=0.0001)\n",
    "modelMSE = Sequential()\n",
    "modelMSE.add(GRU(units = 32, input_shape = input_shape, activation = keras.layers.LeakyReLU()))\n",
    "modelMSE.add(Dense(units = 32, activation=keras.layers.LeakyReLU()))\n",
    "modelMSE.add(Dense(units = 32, activation=keras.layers.LeakyReLU()))\n",
    "#modelMSE.add(Dense(units = 8, activation=keras.layers.LeakyReLU()))\n",
    "modelMSE.add(Dense(units = 1, activation=keras.layers.LeakyReLU(), bias_initializer='zeros', kernel_initializer='normal'))\n",
    "modelMSE.compile(loss='mean_squared_error', optimizer = optimizerMSE)\n"
   ]
  },
  {
   "cell_type": "code",
   "execution_count": 20,
   "id": "f8eb5379",
   "metadata": {
    "colab": {
     "base_uri": "https://localhost:8080/"
    },
    "executionInfo": {
     "elapsed": 15204601,
     "status": "ok",
     "timestamp": 1710696766831,
     "user": {
      "displayName": "Matija Grulovic",
      "userId": "10099424245028057757"
     },
     "user_tz": -60
    },
    "id": "f8eb5379",
    "outputId": "d127f087-79b0-4ce4-e88b-9525560cecba",
    "scrolled": true
   },
   "outputs": [
    {
     "name": "stdout",
     "output_type": "stream",
     "text": [
      "Epoch 1/10\n",
      "WARNING:tensorflow:From D:\\Users\\mata2\\anaconda3\\Lib\\site-packages\\keras\\src\\utils\\tf_utils.py:492: The name tf.ragged.RaggedTensorValue is deprecated. Please use tf.compat.v1.ragged.RaggedTensorValue instead.\n",
      "\n",
      "59571/59571 - 225s - loss: 56837376.0000 - 225s/epoch - 4ms/step\n",
      "Epoch 2/10\n",
      "59571/59571 - 223s - loss: 1472.6884 - 223s/epoch - 4ms/step\n",
      "Epoch 3/10\n",
      "59571/59571 - 209s - loss: 1471.7441 - 209s/epoch - 4ms/step\n",
      "Epoch 4/10\n",
      "59571/59571 - 199s - loss: 1471.8834 - 199s/epoch - 3ms/step\n",
      "Epoch 5/10\n",
      "59571/59571 - 197s - loss: 1471.0702 - 197s/epoch - 3ms/step\n",
      "Epoch 6/10\n",
      "59571/59571 - 223s - loss: 1470.9867 - 223s/epoch - 4ms/step\n",
      "Epoch 7/10\n",
      "59571/59571 - 224s - loss: 1470.9348 - 224s/epoch - 4ms/step\n",
      "Epoch 8/10\n",
      "59571/59571 - 224s - loss: 1469.6018 - 224s/epoch - 4ms/step\n",
      "Epoch 9/10\n",
      "59571/59571 - 213s - loss: 1470.6823 - 213s/epoch - 4ms/step\n",
      "Epoch 10/10\n",
      "59571/59571 - 190s - loss: 1469.0378 - 190s/epoch - 3ms/step\n"
     ]
    }
   ],
   "source": [
    "historyMSE = modelMSE.fit(train_X, train_y, epochs=10, batch_size = 1024, verbose = 2)"
   ]
  },
  {
   "cell_type": "code",
   "execution_count": 21,
   "id": "71c1e0df",
   "metadata": {
    "colab": {
     "base_uri": "https://localhost:8080/"
    },
    "executionInfo": {
     "elapsed": 41500,
     "status": "ok",
     "timestamp": 1710679617560,
     "user": {
      "displayName": "Matija Grulovic",
      "userId": "10099424245028057757"
     },
     "user_tz": -60
    },
    "id": "71c1e0df",
    "outputId": "520d3e8b-9bb4-48f2-8a08-9779a27f0d0d",
    "scrolled": true
   },
   "outputs": [
    {
     "name": "stdout",
     "output_type": "stream",
     "text": [
      "57188/57188 [==============================] - 70s 1ms/step - loss: 1338.6993\n"
     ]
    }
   ],
   "source": [
    "train_scores = modelMSE.evaluate(test_X, test_y)"
   ]
  },
  {
   "cell_type": "code",
   "execution_count": 22,
   "id": "510f09f5",
   "metadata": {
    "colab": {
     "base_uri": "https://localhost:8080/"
    },
    "executionInfo": {
     "elapsed": 183330,
     "status": "ok",
     "timestamp": 1710679800888,
     "user": {
      "displayName": "Matija Grulovic",
      "userId": "10099424245028057757"
     },
     "user_tz": -60
    },
    "id": "510f09f5",
    "outputId": "ad1db14d-a815-4530-dc97-1f8675e74b0f"
   },
   "outputs": [
    {
     "name": "stdout",
     "output_type": "stream",
     "text": [
      "57188/57188 [==============================] - 68s 1ms/step\n"
     ]
    }
   ],
   "source": [
    "test_predict_MSE = modelMSE.predict(test_X)"
   ]
  },
  {
   "cell_type": "code",
   "execution_count": 23,
   "id": "0daaa6ff",
   "metadata": {},
   "outputs": [
    {
     "name": "stdout",
     "output_type": "stream",
     "text": [
      "Procenat koliko MSE upada u pojas 0.9068852459016393\n",
      "Koliko je MSE upalo u pojas 55320\n"
     ]
    }
   ],
   "source": [
    "uspeli_indeksiMSE = []\n",
    "num_correct_MSE = 0\n",
    "\n",
    "for i in range(61000):\n",
    "    if(min_kord[i] <= test_predict_MSE[i][0] <= max_kord[i]):\n",
    "        num_correct_MSE += 1\n",
    "        uspeli_indeksiMSE.append(i)\n",
    "\n",
    "print(\"Procenat koliko MSE upada u pojas\", num_correct_MSE/61000)\n",
    "print(\"Koliko je MSE upalo u pojas\", num_correct_MSE)"
   ]
  },
  {
   "cell_type": "raw",
   "id": "607cb9bc",
   "metadata": {
    "id": "607cb9bc",
    "scrolled": false
   },
   "source": [
    "# Plot the result\n",
    "def plot_result(trainY, testY, x_predict, test_predict):\n",
    "    actual = np.append(trainY, testY)\n",
    "    predictions = np.append(x_predict, test_predict)\n",
    "    rows = len(actual)\n",
    "    plt.figure(figsize=(15, 6), dpi=80)\n",
    "    plt.plot(range(rows), actual)\n",
    "    plt.plot(range(rows), predictions)\n",
    "    plt.axvline(x=len(train_y), color='r')\n",
    "    plt.legend(['Actual', 'Predictions'])\n",
    "    plt.title('Actual and Predicted Values. The Red Line Separates The Training And Test Examples')\n",
    "plot_result(train_y, test_y, train_predict, test_predict)"
   ]
  },
  {
   "cell_type": "raw",
   "id": "d411d93d",
   "metadata": {},
   "source": [
    "modelMSE.save(r\"C:\\Users\\mata2\\Desktop\\master\\Axis-projection-RNN\\modeli\\0k\\Y\")"
   ]
  },
  {
   "cell_type": "code",
   "execution_count": null,
   "id": "e5a642f0",
   "metadata": {},
   "outputs": [],
   "source": []
  },
  {
   "cell_type": "code",
   "execution_count": null,
   "id": "00b38b18",
   "metadata": {},
   "outputs": [],
   "source": []
  },
  {
   "cell_type": "code",
   "execution_count": null,
   "id": "170a0c4e",
   "metadata": {},
   "outputs": [],
   "source": []
  },
  {
   "cell_type": "code",
   "execution_count": null,
   "id": "f4d1b7aa",
   "metadata": {},
   "outputs": [],
   "source": []
  }
 ],
 "metadata": {
  "colab": {
   "provenance": []
  },
  "kernelspec": {
   "display_name": "Python 3 (ipykernel)",
   "language": "python",
   "name": "python3"
  },
  "language_info": {
   "codemirror_mode": {
    "name": "ipython",
    "version": 3
   },
   "file_extension": ".py",
   "mimetype": "text/x-python",
   "name": "python",
   "nbconvert_exporter": "python",
   "pygments_lexer": "ipython3",
   "version": "3.11.5"
  }
 },
 "nbformat": 4,
 "nbformat_minor": 5
}
