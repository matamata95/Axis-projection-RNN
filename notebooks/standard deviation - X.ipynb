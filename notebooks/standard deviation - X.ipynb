{
 "cells": [
  {
   "cell_type": "code",
   "execution_count": 1,
   "id": "775ee11f",
   "metadata": {},
   "outputs": [],
   "source": [
    "import numpy as np\n",
    "import pandas as pd\n",
    "import statistics"
   ]
  },
  {
   "cell_type": "code",
   "execution_count": 2,
   "id": "26b5c4ac",
   "metadata": {},
   "outputs": [],
   "source": [
    "import matplotlib\n",
    "matplotlib.use('nbagg')\n",
    "import matplotlib.pyplot as plt\n",
    "%matplotlib tk"
   ]
  },
  {
   "cell_type": "code",
   "execution_count": 3,
   "id": "2df56ac2",
   "metadata": {},
   "outputs": [],
   "source": [
    "import os, os.path, sys"
   ]
  },
  {
   "cell_type": "code",
   "execution_count": 4,
   "id": "0e0931af",
   "metadata": {},
   "outputs": [],
   "source": [
    "path = r\"C:\\Users\\mata2\\Desktop\\master\\podaci\\0k\\X\""
   ]
  },
  {
   "cell_type": "code",
   "execution_count": 5,
   "id": "b04c62da",
   "metadata": {},
   "outputs": [],
   "source": [
    "dir = os.listdir(path)"
   ]
  },
  {
   "cell_type": "code",
   "execution_count": 6,
   "id": "a0cfa39a",
   "metadata": {},
   "outputs": [],
   "source": [
    "file_names = []\n",
    "for file in dir:\n",
    "    file_names.append(file)"
   ]
  },
  {
   "cell_type": "code",
   "execution_count": 7,
   "id": "04c29bfc",
   "metadata": {},
   "outputs": [],
   "source": [
    "percent_train = 0.8"
   ]
  },
  {
   "cell_type": "code",
   "execution_count": 8,
   "id": "b41fd9f5",
   "metadata": {},
   "outputs": [],
   "source": [
    "train_files_names = file_names[:int(percent_train*len(file_names))]\n",
    "#test_file_names = file_names[int(percent_train*len(file_names))::]"
   ]
  },
  {
   "cell_type": "markdown",
   "id": "b3ca18d1",
   "metadata": {},
   "source": [
    "Ucitavamo x zadatu i vrsimo konkatenaciju fajlova"
   ]
  },
  {
   "cell_type": "code",
   "execution_count": 9,
   "id": "6f444e71",
   "metadata": {},
   "outputs": [],
   "source": [
    "x_command = np.asarray(pd.read_csv(r\"C:\\Users\\mata2\\Desktop\\master\\podaci\\xCmd.txt\",header=None).astype('int'))"
   ]
  },
  {
   "cell_type": "code",
   "execution_count": 11,
   "id": "13cb9143",
   "metadata": {},
   "outputs": [],
   "source": [
    "train_ = np.concatenate([pd.read_csv(path + \"/\" + file, header=None)[:61000].astype('int')\n",
    "                              for file in train_files_names], axis=0)"
   ]
  },
  {
   "cell_type": "markdown",
   "id": "d3f2ef47",
   "metadata": {},
   "source": [
    "Izracunavamo odstupanja za svako pokretanje masine"
   ]
  },
  {
   "cell_type": "code",
   "execution_count": 12,
   "id": "a3fec7a3",
   "metadata": {},
   "outputs": [],
   "source": [
    "for j in range(len(train_files_names)):\n",
    "    exec(f\"razlika_trening_{j} = []\")\n",
    "    for i in range(61000):\n",
    "        exec(f\"razlika_trening_{j}.append(x_command[i] - train_[j*61000+i])\")\n",
    "    exec(f'razlika_trening_{j} = np.asarray(razlika_trening_{j})')        "
   ]
  },
  {
   "cell_type": "code",
   "execution_count": 14,
   "id": "6d52dc01",
   "metadata": {},
   "outputs": [],
   "source": [
    "columns = []\n",
    "for i in range(61000):\n",
    "    temp_columns = []\n",
    "    for j in range(len(train_files_names)):\n",
    "        exec(f\"temp_columns.append(razlika_trening_{j}[i])\")\n",
    "    columns.append(temp_columns)"
   ]
  },
  {
   "cell_type": "code",
   "execution_count": 16,
   "id": "be697077",
   "metadata": {},
   "outputs": [],
   "source": [
    "columns_all = []\n",
    "for i in range(61000):\n",
    "    columns_all.append(np.asarray(columns[i]).flatten().tolist())"
   ]
  },
  {
   "cell_type": "code",
   "execution_count": 17,
   "id": "dc4aee28",
   "metadata": {},
   "outputs": [],
   "source": [
    "std_dev = []\n",
    "for i in range(61000):\n",
    "    std_dev.append(statistics.stdev(columns_all[i]))"
   ]
  },
  {
   "cell_type": "code",
   "execution_count": 18,
   "id": "59ab2829",
   "metadata": {},
   "outputs": [],
   "source": [
    "sr_vrednost = []\n",
    "for i in range(61000):\n",
    "    sr_vrednost.append(np.mean(columns_all[i]))"
   ]
  },
  {
   "cell_type": "code",
   "execution_count": 21,
   "id": "a31c42cc",
   "metadata": {},
   "outputs": [],
   "source": [
    "plt.plot(sr_vrednost)\n",
    "plt.show()"
   ]
  },
  {
   "cell_type": "code",
   "execution_count": 22,
   "id": "cffaf547",
   "metadata": {},
   "outputs": [],
   "source": [
    "plt.plot(std_dev)\n",
    "plt.show()"
   ]
  },
  {
   "cell_type": "code",
   "execution_count": null,
   "id": "1b9f728e",
   "metadata": {},
   "outputs": [],
   "source": [
    "plt.plot(std_dev)\n",
    "plt.plot(sr_vrednost, alpha = 0.5)\n",
    "plt.show()"
   ]
  },
  {
   "cell_type": "code",
   "execution_count": null,
   "id": "d5350cff",
   "metadata": {},
   "outputs": [],
   "source": [
    "plt.plot(razlika_trening_0, 'g', alpha = 0.5)\n",
    "plt.plot(std_dev,'b', alpha = 0.7)\n",
    "plt.plot(x_command/10000, 'r')\n",
    "plt.show()"
   ]
  },
  {
   "cell_type": "raw",
   "id": "02583517",
   "metadata": {},
   "source": [
    "f = open(r\"C:\\Users\\mata2\\Desktop\\master\\Axis-projection-RNN\\odstupanja\\0k\\X\"\"std_dev.txt\",\"w\")\n",
    "for i in range(len(std_dev)):\n",
    "    f.writelines(str(std_dev[i])+'\\n')\n",
    "f.close()"
   ]
  },
  {
   "cell_type": "raw",
   "id": "bbaead5c",
   "metadata": {},
   "source": [
    "f = open(r\"C:\\Users\\mata2\\Desktop\\master\\Axis-projection-RNN\\odstupanja\\0k\\X\"\"sr_vrednost.txt\",\"w\")\n",
    "for i in range(len(sr_vrednost)):\n",
    "    f.writelines(str(sr_vrednost[i])+'\\n')\n",
    "f.close()"
   ]
  }
 ],
 "metadata": {
  "kernelspec": {
   "display_name": "Python 3 (ipykernel)",
   "language": "python",
   "name": "python3"
  },
  "language_info": {
   "codemirror_mode": {
    "name": "ipython",
    "version": 3
   },
   "file_extension": ".py",
   "mimetype": "text/x-python",
   "name": "python",
   "nbconvert_exporter": "python",
   "pygments_lexer": "ipython3",
   "version": "3.11.5"
  }
 },
 "nbformat": 4,
 "nbformat_minor": 5
}
