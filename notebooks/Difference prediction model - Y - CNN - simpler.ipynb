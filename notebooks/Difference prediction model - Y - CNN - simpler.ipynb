{
 "cells": [
  {
   "cell_type": "code",
   "execution_count": 1,
   "id": "6ebe99d5",
   "metadata": {
    "executionInfo": {
     "elapsed": 6834,
     "status": "ok",
     "timestamp": 1710664771017,
     "user": {
      "displayName": "Matija Grulovic",
      "userId": "10099424245028057757"
     },
     "user_tz": -60
    },
    "id": "6ebe99d5"
   },
   "outputs": [
    {
     "name": "stdout",
     "output_type": "stream",
     "text": [
      "WARNING:tensorflow:From D:\\Users\\mata2\\anaconda3\\Lib\\site-packages\\keras\\src\\losses.py:2976: The name tf.losses.sparse_softmax_cross_entropy is deprecated. Please use tf.compat.v1.losses.sparse_softmax_cross_entropy instead.\n",
      "\n"
     ]
    }
   ],
   "source": [
    "import numpy as np\n",
    "import pandas as pd\n",
    "import keras\n",
    "import tensorflow as tf\n",
    "from sklearn import metrics\n",
    "from tensorflow.keras.models import Sequential\n",
    "from tensorflow.keras.models import Model\n",
    "from tensorflow.keras.layers import LeakyReLU, Input, Flatten, MaxPooling1D, Conv1D, MaxPool1D, GlobalMaxPool1D, Dense, AveragePooling1D, GlobalAveragePooling1D"
   ]
  },
  {
   "cell_type": "code",
   "execution_count": 2,
   "id": "9156e9a2",
   "metadata": {},
   "outputs": [],
   "source": [
    "import matplotlib\n",
    "matplotlib.use('nbagg')\n",
    "import matplotlib.pyplot as plt\n",
    "%matplotlib tk"
   ]
  },
  {
   "cell_type": "code",
   "execution_count": 3,
   "id": "75f0be5b",
   "metadata": {
    "executionInfo": {
     "elapsed": 4,
     "status": "ok",
     "timestamp": 1710664771018,
     "user": {
      "displayName": "Matija Grulovic",
      "userId": "10099424245028057757"
     },
     "user_tz": -60
    },
    "id": "75f0be5b"
   },
   "outputs": [],
   "source": [
    "import os, os.path, sys"
   ]
  },
  {
   "cell_type": "code",
   "execution_count": 4,
   "id": "f8d678cf",
   "metadata": {
    "executionInfo": {
     "elapsed": 9,
     "status": "ok",
     "timestamp": 1710664812972,
     "user": {
      "displayName": "Matija Grulovic",
      "userId": "10099424245028057757"
     },
     "user_tz": -60
    },
    "id": "f8d678cf"
   },
   "outputs": [],
   "source": [
    "path = r\"C:\\Users\\mata2\\Desktop\\master\\podaci\\0k\\Y\""
   ]
  },
  {
   "cell_type": "code",
   "execution_count": 5,
   "id": "43cd7520",
   "metadata": {
    "executionInfo": {
     "elapsed": 617,
     "status": "ok",
     "timestamp": 1710664813582,
     "user": {
      "displayName": "Matija Grulovic",
      "userId": "10099424245028057757"
     },
     "user_tz": -60
    },
    "id": "43cd7520"
   },
   "outputs": [],
   "source": [
    "dir = os.listdir(path)"
   ]
  },
  {
   "cell_type": "markdown",
   "id": "44938455",
   "metadata": {},
   "source": [
    "Ucitavanje fajlova"
   ]
  },
  {
   "cell_type": "code",
   "execution_count": 6,
   "id": "88795fa1",
   "metadata": {
    "executionInfo": {
     "elapsed": 3,
     "status": "ok",
     "timestamp": 1710664816406,
     "user": {
      "displayName": "Matija Grulovic",
      "userId": "10099424245028057757"
     },
     "user_tz": -60
    },
    "id": "88795fa1"
   },
   "outputs": [],
   "source": [
    "file_names = []\n",
    "for file in dir:\n",
    "    file_names.append(file)"
   ]
  },
  {
   "cell_type": "code",
   "execution_count": 7,
   "id": "0fe53353",
   "metadata": {},
   "outputs": [],
   "source": [
    "percent_train = 0.8"
   ]
  },
  {
   "cell_type": "code",
   "execution_count": 8,
   "id": "02dbbaa6",
   "metadata": {},
   "outputs": [],
   "source": [
    "train_files_names = file_names[:int(percent_train*len(file_names))]\n",
    "test_file_names = file_names[int(percent_train*len(file_names))::]"
   ]
  },
  {
   "cell_type": "markdown",
   "id": "cf786828",
   "metadata": {},
   "source": [
    "Ucitavanje zadate trajektorije"
   ]
  },
  {
   "cell_type": "code",
   "execution_count": 9,
   "id": "0ab0bc4a",
   "metadata": {},
   "outputs": [],
   "source": [
    "y_command = np.asarray(pd.read_csv(r\"C:\\Users\\mata2\\Desktop\\master\\podaci\\yCmd.txt\",header=None).astype('int'))"
   ]
  },
  {
   "cell_type": "code",
   "execution_count": 10,
   "id": "4eee92d8",
   "metadata": {},
   "outputs": [],
   "source": [
    "command_length = len(y_command)"
   ]
  },
  {
   "cell_type": "markdown",
   "id": "f89a2bad",
   "metadata": {},
   "source": [
    "Konkatenacija fajlova koji se posle pravilno rasporedjuju na adekvatne train/test skupove"
   ]
  },
  {
   "cell_type": "code",
   "execution_count": 11,
   "id": "df895f0a",
   "metadata": {},
   "outputs": [],
   "source": [
    "train_ = np.concatenate([pd.read_csv(path + \"/\" + file, header=None)[:61000].astype('int')\n",
    "                              for file in train_files_names], axis=0)\n",
    "test_ = np.concatenate([pd.read_csv(path + \"/\" + file, header=None)[:61000].astype('int')\n",
    "                              for file in test_file_names], axis=0)"
   ]
  },
  {
   "cell_type": "markdown",
   "id": "26336f39",
   "metadata": {},
   "source": [
    "Prethodno konkatenizovani podaci se adekvatno dele kako bi se izbeglo fiktivno stanje (stanje pri kraju rada i pocetku novog ako su konkatenizovani podaci)"
   ]
  },
  {
   "cell_type": "code",
   "execution_count": 12,
   "id": "9b22f963",
   "metadata": {},
   "outputs": [],
   "source": [
    "for j in range(len(train_files_names)):\n",
    "    exec(f\"razlika_trening_{j} = []\")\n",
    "    for i in range(61000):\n",
    "        exec(f\"razlika_trening_{j}.append(y_command[i] - train_[j*61000+i])\")\n",
    "    exec(f'razlika_trening_{j} = np.asarray(razlika_trening_{j})')        "
   ]
  },
  {
   "cell_type": "code",
   "execution_count": 14,
   "id": "fcadc02d",
   "metadata": {},
   "outputs": [],
   "source": [
    "for j in range(len(test_file_names)):\n",
    "    exec(f\"razlika_test_{j} = []\")\n",
    "    for i in range(61000):\n",
    "        exec(f\"razlika_test_{j}.append(y_command[i] - test_[j*61000+i])\")\n",
    "    exec(f'razlika_test_{j} = np.asarray(razlika_test_{j})')    "
   ]
  },
  {
   "cell_type": "markdown",
   "id": "a1171a89",
   "metadata": {},
   "source": [
    "Funkcija koja deli podatke na \"sliding window\""
   ]
  },
  {
   "cell_type": "code",
   "execution_count": 13,
   "id": "03cf8cf6",
   "metadata": {
    "executionInfo": {
     "elapsed": 1,
     "status": "ok",
     "timestamp": 1710681491731,
     "user": {
      "displayName": "Matija Grulovic",
      "userId": "10099424245028057757"
     },
     "user_tz": -60
    },
    "id": "03cf8cf6"
   },
   "outputs": [],
   "source": [
    "def create_timeseries_split(data, time_steps):\n",
    "\n",
    "    # Get the number of samples in the data\n",
    "    num_samples = len(data) - time_steps\n",
    "\n",
    "    # Create empty arrays to store features and target values\n",
    "    x_train = np.zeros((num_samples, time_steps, 1))\n",
    "    y_train = np.zeros((num_samples, 1))\n",
    "\n",
    "    # Loop through the data and create features and target values\n",
    "    for i in range(num_samples):\n",
    "        # Extract a slice of data for the current feature\n",
    "        x_train[i] = data[i:i+time_steps, :]\n",
    "\n",
    "        # The target value is the next value after the feature\n",
    "        y_train[i] = data[i+time_steps, 0]\n",
    "\n",
    "    return x_train, y_train"
   ]
  },
  {
   "cell_type": "markdown",
   "id": "46b0df5c",
   "metadata": {},
   "source": [
    "Velicina buffera"
   ]
  },
  {
   "cell_type": "code",
   "execution_count": 15,
   "id": "0a745ab2",
   "metadata": {
    "executionInfo": {
     "elapsed": 216,
     "status": "ok",
     "timestamp": 1710681509731,
     "user": {
      "displayName": "Matija Grulovic",
      "userId": "10099424245028057757"
     },
     "user_tz": -60
    },
    "id": "0a745ab2"
   },
   "outputs": [],
   "source": [
    "time_steps = 10"
   ]
  },
  {
   "cell_type": "markdown",
   "id": "e5f849fe",
   "metadata": {},
   "source": [
    "Deljenje podataka na train i test skup"
   ]
  },
  {
   "cell_type": "code",
   "execution_count": 16,
   "id": "dba421d0",
   "metadata": {},
   "outputs": [],
   "source": [
    "for i in range(len(train_files_names)):\n",
    "    exec(f'train_X_{i}, train_y_{i} = create_timeseries_split(razlika_trening_{i}, time_steps)')"
   ]
  },
  {
   "cell_type": "code",
   "execution_count": 17,
   "id": "95faf0cd",
   "metadata": {},
   "outputs": [],
   "source": [
    "for i in range(len(test_file_names)):\n",
    "    exec(f'test_X_{i}, test_y_{i} = create_timeseries_split(razlika_test_{i}, time_steps)')"
   ]
  },
  {
   "cell_type": "code",
   "execution_count": 18,
   "id": "fbd2c013",
   "metadata": {},
   "outputs": [],
   "source": [
    "train_X = np.asarray(train_X_0)\n",
    "for i in range(1,len(train_files_names)):\n",
    "    exec(f'train_X = np.append(train_X, train_X_{i}, axis=0)')"
   ]
  },
  {
   "cell_type": "code",
   "execution_count": 19,
   "id": "c2026ada",
   "metadata": {},
   "outputs": [],
   "source": [
    "train_y = np.asarray(train_y_0)\n",
    "for i in range(1,len(train_files_names)):\n",
    "    exec(f'train_y = np.append(train_y, train_y_{i}, axis=0)')"
   ]
  },
  {
   "cell_type": "code",
   "execution_count": 20,
   "id": "c15e3dc7",
   "metadata": {},
   "outputs": [],
   "source": [
    "test_X = np.asarray(test_X_0)\n",
    "for i in range(1,len(test_file_names)):\n",
    "    exec(f'test_X = np.append(test_X, test_X_{i}, axis=0)')"
   ]
  },
  {
   "cell_type": "code",
   "execution_count": 21,
   "id": "b87cce75",
   "metadata": {},
   "outputs": [],
   "source": [
    "test_y = np.asarray(test_y_0)\n",
    "for i in range(1,len(test_file_names)):\n",
    "    exec(f'test_y = np.append(test_y, test_y_{i}, axis=0)')"
   ]
  },
  {
   "cell_type": "code",
   "execution_count": 22,
   "id": "bc7033aa",
   "metadata": {
    "executionInfo": {
     "elapsed": 2,
     "status": "ok",
     "timestamp": 1710681547336,
     "user": {
      "displayName": "Matija Grulovic",
      "userId": "10099424245028057757"
     },
     "user_tz": -60
    },
    "id": "bc7033aa"
   },
   "outputs": [
    {
     "data": {
      "text/plain": [
       "(10, 1)"
      ]
     },
     "execution_count": 22,
     "metadata": {},
     "output_type": "execute_result"
    }
   ],
   "source": [
    "input_shape = (time_steps, 1)\n",
    "input_shape"
   ]
  },
  {
   "cell_type": "code",
   "execution_count": 23,
   "id": "b1d653db",
   "metadata": {},
   "outputs": [
    {
     "name": "stdout",
     "output_type": "stream",
     "text": [
      "WARNING:tensorflow:From D:\\Users\\mata2\\anaconda3\\Lib\\site-packages\\keras\\src\\backend.py:873: The name tf.get_default_graph is deprecated. Please use tf.compat.v1.get_default_graph instead.\n",
      "\n",
      "WARNING:tensorflow:From D:\\Users\\mata2\\anaconda3\\Lib\\site-packages\\keras\\src\\backend.py:6642: The name tf.nn.max_pool is deprecated. Please use tf.nn.max_pool2d instead.\n",
      "\n"
     ]
    }
   ],
   "source": [
    "keras.utils.set_random_seed(7)\n",
    "optimizerMSE = keras.optimizers.Adam(learning_rate=0.0001)\n",
    "\n",
    "modelMSE = Sequential()\n",
    "modelMSE.add(Input(shape=input_shape))\n",
    "modelMSE.add(Conv1D(filters=16, kernel_size=3,padding='same', activation=LeakyReLU()))\n",
    "modelMSE.add(MaxPooling1D(pool_size=4))\n",
    "modelMSE.add(Flatten())\n",
    "modelMSE.add(Dense(8, activation=LeakyReLU()))\n",
    "modelMSE.add(Dense(units = 1, activation=LeakyReLU()))\n",
    "modelMSE.compile(loss='mean_squared_error', optimizer = optimizerMSE)"
   ]
  },
  {
   "cell_type": "code",
   "execution_count": 24,
   "id": "f8eb5379",
   "metadata": {
    "colab": {
     "base_uri": "https://localhost:8080/"
    },
    "executionInfo": {
     "elapsed": 15204601,
     "status": "ok",
     "timestamp": 1710696766831,
     "user": {
      "displayName": "Matija Grulovic",
      "userId": "10099424245028057757"
     },
     "user_tz": -60
    },
    "id": "f8eb5379",
    "outputId": "d127f087-79b0-4ce4-e88b-9525560cecba",
    "scrolled": true
   },
   "outputs": [
    {
     "name": "stdout",
     "output_type": "stream",
     "text": [
      "Epoch 1/100\n",
      "WARNING:tensorflow:From D:\\Users\\mata2\\anaconda3\\Lib\\site-packages\\keras\\src\\utils\\tf_utils.py:492: The name tf.ragged.RaggedTensorValue is deprecated. Please use tf.compat.v1.ragged.RaggedTensorValue instead.\n",
      "\n",
      "5718/5718 - 10s - loss: 20.3215 - 10s/epoch - 2ms/step\n",
      "Epoch 2/100\n",
      "5718/5718 - 10s - loss: 8.8391 - 10s/epoch - 2ms/step\n",
      "Epoch 3/100\n",
      "5718/5718 - 9s - loss: 7.5137 - 9s/epoch - 2ms/step\n",
      "Epoch 4/100\n",
      "5718/5718 - 9s - loss: 6.9288 - 9s/epoch - 2ms/step\n",
      "Epoch 5/100\n",
      "5718/5718 - 9s - loss: 6.4938 - 9s/epoch - 2ms/step\n",
      "Epoch 6/100\n",
      "5718/5718 - 9s - loss: 6.1281 - 9s/epoch - 2ms/step\n",
      "Epoch 7/100\n",
      "5718/5718 - 9s - loss: 5.7701 - 9s/epoch - 2ms/step\n",
      "Epoch 8/100\n",
      "5718/5718 - 9s - loss: 5.4557 - 9s/epoch - 2ms/step\n",
      "Epoch 9/100\n",
      "5718/5718 - 9s - loss: 5.2410 - 9s/epoch - 2ms/step\n",
      "Epoch 10/100\n",
      "5718/5718 - 9s - loss: 5.0886 - 9s/epoch - 2ms/step\n",
      "Epoch 11/100\n",
      "5718/5718 - 9s - loss: 4.9708 - 9s/epoch - 2ms/step\n",
      "Epoch 12/100\n",
      "5718/5718 - 9s - loss: 4.8766 - 9s/epoch - 2ms/step\n",
      "Epoch 13/100\n",
      "5718/5718 - 9s - loss: 4.7986 - 9s/epoch - 2ms/step\n",
      "Epoch 14/100\n",
      "5718/5718 - 9s - loss: 4.7295 - 9s/epoch - 2ms/step\n",
      "Epoch 15/100\n",
      "5718/5718 - 9s - loss: 4.6600 - 9s/epoch - 2ms/step\n",
      "Epoch 16/100\n",
      "5718/5718 - 9s - loss: 4.6094 - 9s/epoch - 2ms/step\n",
      "Epoch 17/100\n",
      "5718/5718 - 9s - loss: 4.5673 - 9s/epoch - 2ms/step\n",
      "Epoch 18/100\n",
      "5718/5718 - 9s - loss: 4.5311 - 9s/epoch - 2ms/step\n",
      "Epoch 19/100\n",
      "5718/5718 - 9s - loss: 4.4986 - 9s/epoch - 2ms/step\n",
      "Epoch 20/100\n",
      "5718/5718 - 9s - loss: 4.4686 - 9s/epoch - 2ms/step\n",
      "Epoch 21/100\n",
      "5718/5718 - 9s - loss: 4.4408 - 9s/epoch - 2ms/step\n",
      "Epoch 22/100\n",
      "5718/5718 - 9s - loss: 4.4146 - 9s/epoch - 2ms/step\n",
      "Epoch 23/100\n",
      "5718/5718 - 9s - loss: 4.3898 - 9s/epoch - 2ms/step\n",
      "Epoch 24/100\n",
      "5718/5718 - 9s - loss: 4.3665 - 9s/epoch - 2ms/step\n",
      "Epoch 25/100\n",
      "5718/5718 - 9s - loss: 4.3443 - 9s/epoch - 2ms/step\n",
      "Epoch 26/100\n",
      "5718/5718 - 9s - loss: 4.3231 - 9s/epoch - 2ms/step\n",
      "Epoch 27/100\n",
      "5718/5718 - 9s - loss: 4.3025 - 9s/epoch - 2ms/step\n",
      "Epoch 28/100\n",
      "5718/5718 - 9s - loss: 4.2827 - 9s/epoch - 2ms/step\n",
      "Epoch 29/100\n",
      "5718/5718 - 9s - loss: 4.2632 - 9s/epoch - 2ms/step\n",
      "Epoch 30/100\n",
      "5718/5718 - 9s - loss: 4.2446 - 9s/epoch - 2ms/step\n",
      "Epoch 31/100\n",
      "5718/5718 - 9s - loss: 4.2269 - 9s/epoch - 2ms/step\n",
      "Epoch 32/100\n",
      "5718/5718 - 9s - loss: 4.2094 - 9s/epoch - 2ms/step\n",
      "Epoch 33/100\n",
      "5718/5718 - 9s - loss: 4.1919 - 9s/epoch - 2ms/step\n",
      "Epoch 34/100\n",
      "5718/5718 - 9s - loss: 4.1750 - 9s/epoch - 2ms/step\n",
      "Epoch 35/100\n",
      "5718/5718 - 9s - loss: 4.1582 - 9s/epoch - 2ms/step\n",
      "Epoch 36/100\n",
      "5718/5718 - 9s - loss: 4.1422 - 9s/epoch - 2ms/step\n",
      "Epoch 37/100\n",
      "5718/5718 - 9s - loss: 4.1273 - 9s/epoch - 2ms/step\n",
      "Epoch 38/100\n",
      "5718/5718 - 9s - loss: 4.1132 - 9s/epoch - 2ms/step\n",
      "Epoch 39/100\n",
      "5718/5718 - 9s - loss: 4.1000 - 9s/epoch - 2ms/step\n",
      "Epoch 40/100\n",
      "5718/5718 - 9s - loss: 4.0875 - 9s/epoch - 2ms/step\n",
      "Epoch 41/100\n",
      "5718/5718 - 9s - loss: 4.0758 - 9s/epoch - 2ms/step\n",
      "Epoch 42/100\n",
      "5718/5718 - 9s - loss: 4.0647 - 9s/epoch - 2ms/step\n",
      "Epoch 43/100\n",
      "5718/5718 - 9s - loss: 4.0542 - 9s/epoch - 2ms/step\n",
      "Epoch 44/100\n",
      "5718/5718 - 9s - loss: 4.0439 - 9s/epoch - 2ms/step\n",
      "Epoch 45/100\n",
      "5718/5718 - 9s - loss: 4.0340 - 9s/epoch - 2ms/step\n",
      "Epoch 46/100\n",
      "5718/5718 - 9s - loss: 4.0244 - 9s/epoch - 2ms/step\n",
      "Epoch 47/100\n",
      "5718/5718 - 9s - loss: 4.0149 - 9s/epoch - 2ms/step\n",
      "Epoch 48/100\n",
      "5718/5718 - 9s - loss: 4.0058 - 9s/epoch - 2ms/step\n",
      "Epoch 49/100\n",
      "5718/5718 - 9s - loss: 3.9968 - 9s/epoch - 2ms/step\n",
      "Epoch 50/100\n",
      "5718/5718 - 9s - loss: 3.9878 - 9s/epoch - 2ms/step\n",
      "Epoch 51/100\n",
      "5718/5718 - 10s - loss: 3.9788 - 10s/epoch - 2ms/step\n",
      "Epoch 52/100\n",
      "5718/5718 - 9s - loss: 3.9697 - 9s/epoch - 2ms/step\n",
      "Epoch 53/100\n",
      "5718/5718 - 9s - loss: 3.9608 - 9s/epoch - 2ms/step\n",
      "Epoch 54/100\n",
      "5718/5718 - 9s - loss: 3.9521 - 9s/epoch - 2ms/step\n",
      "Epoch 55/100\n",
      "5718/5718 - 9s - loss: 3.9437 - 9s/epoch - 2ms/step\n",
      "Epoch 56/100\n",
      "5718/5718 - 9s - loss: 3.9357 - 9s/epoch - 2ms/step\n",
      "Epoch 57/100\n",
      "5718/5718 - 9s - loss: 3.9277 - 9s/epoch - 2ms/step\n",
      "Epoch 58/100\n",
      "5718/5718 - 9s - loss: 3.9200 - 9s/epoch - 2ms/step\n",
      "Epoch 59/100\n",
      "5718/5718 - 9s - loss: 3.9124 - 9s/epoch - 2ms/step\n",
      "Epoch 60/100\n",
      "5718/5718 - 9s - loss: 3.9052 - 9s/epoch - 2ms/step\n",
      "Epoch 61/100\n",
      "5718/5718 - 9s - loss: 3.8982 - 9s/epoch - 2ms/step\n",
      "Epoch 62/100\n",
      "5718/5718 - 9s - loss: 3.8911 - 9s/epoch - 2ms/step\n",
      "Epoch 63/100\n",
      "5718/5718 - 9s - loss: 3.8842 - 9s/epoch - 2ms/step\n",
      "Epoch 64/100\n",
      "5718/5718 - 9s - loss: 3.8773 - 9s/epoch - 2ms/step\n",
      "Epoch 65/100\n",
      "5718/5718 - 9s - loss: 3.8706 - 9s/epoch - 2ms/step\n",
      "Epoch 66/100\n",
      "5718/5718 - 9s - loss: 3.8640 - 9s/epoch - 2ms/step\n",
      "Epoch 67/100\n",
      "5718/5718 - 9s - loss: 3.8575 - 9s/epoch - 2ms/step\n",
      "Epoch 68/100\n",
      "5718/5718 - 9s - loss: 3.8511 - 9s/epoch - 2ms/step\n",
      "Epoch 69/100\n",
      "5718/5718 - 9s - loss: 3.8447 - 9s/epoch - 2ms/step\n",
      "Epoch 70/100\n",
      "5718/5718 - 9s - loss: 3.8384 - 9s/epoch - 2ms/step\n",
      "Epoch 71/100\n",
      "5718/5718 - 9s - loss: 3.8321 - 9s/epoch - 2ms/step\n",
      "Epoch 72/100\n",
      "5718/5718 - 9s - loss: 3.8259 - 9s/epoch - 2ms/step\n",
      "Epoch 73/100\n",
      "5718/5718 - 9s - loss: 3.8195 - 9s/epoch - 2ms/step\n",
      "Epoch 74/100\n",
      "5718/5718 - 9s - loss: 3.8131 - 9s/epoch - 2ms/step\n",
      "Epoch 75/100\n",
      "5718/5718 - 9s - loss: 3.8065 - 9s/epoch - 2ms/step\n",
      "Epoch 76/100\n",
      "5718/5718 - 9s - loss: 3.7999 - 9s/epoch - 2ms/step\n",
      "Epoch 77/100\n",
      "5718/5718 - 9s - loss: 3.7930 - 9s/epoch - 2ms/step\n",
      "Epoch 78/100\n",
      "5718/5718 - 9s - loss: 3.7860 - 9s/epoch - 2ms/step\n",
      "Epoch 79/100\n",
      "5718/5718 - 9s - loss: 3.7788 - 9s/epoch - 2ms/step\n",
      "Epoch 80/100\n",
      "5718/5718 - 9s - loss: 3.7716 - 9s/epoch - 2ms/step\n",
      "Epoch 81/100\n",
      "5718/5718 - 9s - loss: 3.7647 - 9s/epoch - 2ms/step\n",
      "Epoch 82/100\n",
      "5718/5718 - 9s - loss: 3.7579 - 9s/epoch - 2ms/step\n",
      "Epoch 83/100\n",
      "5718/5718 - 9s - loss: 3.7514 - 9s/epoch - 2ms/step\n",
      "Epoch 84/100\n",
      "5718/5718 - 10s - loss: 3.7451 - 10s/epoch - 2ms/step\n",
      "Epoch 85/100\n",
      "5718/5718 - 9s - loss: 3.7392 - 9s/epoch - 2ms/step\n",
      "Epoch 86/100\n",
      "5718/5718 - 9s - loss: 3.7333 - 9s/epoch - 2ms/step\n",
      "Epoch 87/100\n",
      "5718/5718 - 9s - loss: 3.7277 - 9s/epoch - 2ms/step\n",
      "Epoch 88/100\n",
      "5718/5718 - 9s - loss: 3.7224 - 9s/epoch - 2ms/step\n",
      "Epoch 89/100\n",
      "5718/5718 - 9s - loss: 3.7173 - 9s/epoch - 2ms/step\n",
      "Epoch 90/100\n",
      "5718/5718 - 9s - loss: 3.7123 - 9s/epoch - 2ms/step\n",
      "Epoch 91/100\n",
      "5718/5718 - 9s - loss: 3.7076 - 9s/epoch - 2ms/step\n",
      "Epoch 92/100\n",
      "5718/5718 - 9s - loss: 3.7031 - 9s/epoch - 2ms/step\n",
      "Epoch 93/100\n",
      "5718/5718 - 9s - loss: 3.6985 - 9s/epoch - 2ms/step\n",
      "Epoch 94/100\n",
      "5718/5718 - 9s - loss: 3.6940 - 9s/epoch - 2ms/step\n",
      "Epoch 95/100\n",
      "5718/5718 - 9s - loss: 3.6896 - 9s/epoch - 2ms/step\n",
      "Epoch 96/100\n",
      "5718/5718 - 9s - loss: 3.6854 - 9s/epoch - 2ms/step\n",
      "Epoch 97/100\n",
      "5718/5718 - 9s - loss: 3.6811 - 9s/epoch - 2ms/step\n",
      "Epoch 98/100\n",
      "5718/5718 - 9s - loss: 3.6768 - 9s/epoch - 2ms/step\n",
      "Epoch 99/100\n",
      "5718/5718 - 10s - loss: 3.6728 - 10s/epoch - 2ms/step\n",
      "Epoch 100/100\n",
      "5718/5718 - 9s - loss: 3.6688 - 9s/epoch - 2ms/step\n"
     ]
    }
   ],
   "source": [
    "historyMSE = modelMSE.fit(train_X, train_y, epochs=100, batch_size = 256, shuffle=False, verbose = 2)"
   ]
  },
  {
   "cell_type": "code",
   "execution_count": 26,
   "id": "71c1e0df",
   "metadata": {
    "colab": {
     "base_uri": "https://localhost:8080/"
    },
    "executionInfo": {
     "elapsed": 41500,
     "status": "ok",
     "timestamp": 1710679617560,
     "user": {
      "displayName": "Matija Grulovic",
      "userId": "10099424245028057757"
     },
     "user_tz": -60
    },
    "id": "71c1e0df",
    "outputId": "520d3e8b-9bb4-48f2-8a08-9779a27f0d0d",
    "scrolled": true
   },
   "outputs": [
    {
     "name": "stdout",
     "output_type": "stream",
     "text": [
      "11436/11436 [==============================] - 12s 1ms/step - loss: 3.7042\n"
     ]
    }
   ],
   "source": [
    "train_scores = modelMSE.evaluate(test_X, test_y)"
   ]
  },
  {
   "cell_type": "code",
   "execution_count": 26,
   "id": "510f09f5",
   "metadata": {
    "colab": {
     "base_uri": "https://localhost:8080/"
    },
    "executionInfo": {
     "elapsed": 183330,
     "status": "ok",
     "timestamp": 1710679800888,
     "user": {
      "displayName": "Matija Grulovic",
      "userId": "10099424245028057757"
     },
     "user_tz": -60
    },
    "id": "510f09f5",
    "outputId": "ad1db14d-a815-4530-dc97-1f8675e74b0f"
   },
   "outputs": [
    {
     "name": "stdout",
     "output_type": "stream",
     "text": [
      "11436/11436 [==============================] - 18s 1ms/step\n"
     ]
    }
   ],
   "source": [
    "#train_predict_MSE = modelMSE.predict(train_X)\n",
    "test_predict_MSE = modelMSE.predict(test_X)"
   ]
  },
  {
   "cell_type": "code",
   "execution_count": 27,
   "id": "25bbc368",
   "metadata": {},
   "outputs": [
    {
     "name": "stdout",
     "output_type": "stream",
     "text": [
      "Model: \"sequential\"\n",
      "_________________________________________________________________\n",
      " Layer (type)                Output Shape              Param #   \n",
      "=================================================================\n",
      " conv1d (Conv1D)             (None, 10, 16)            64        \n",
      "                                                                 \n",
      " max_pooling1d (MaxPooling1  (None, 2, 16)             0         \n",
      " D)                                                              \n",
      "                                                                 \n",
      " flatten (Flatten)           (None, 32)                0         \n",
      "                                                                 \n",
      " dense (Dense)               (None, 8)                 264       \n",
      "                                                                 \n",
      " dense_1 (Dense)             (None, 1)                 9         \n",
      "                                                                 \n",
      "=================================================================\n",
      "Total params: 337 (1.32 KB)\n",
      "Trainable params: 337 (1.32 KB)\n",
      "Non-trainable params: 0 (0.00 Byte)\n",
      "_________________________________________________________________\n"
     ]
    }
   ],
   "source": [
    "modelMSE.summary()"
   ]
  },
  {
   "cell_type": "raw",
   "id": "df8a3717-a3da-424e-b357-7cfbba366602",
   "metadata": {},
   "source": [
    "plt.plot(historyMSE.epoch, historyMSE.history['loss'])\n",
    "plt.plot(historyMSE.epoch, historyMSE.history['val_loss'])\n",
    "plt.show()"
   ]
  },
  {
   "cell_type": "markdown",
   "id": "31265c0f",
   "metadata": {},
   "source": [
    "Ucitavamo standardne devijacije i srednje vrednosti"
   ]
  },
  {
   "cell_type": "code",
   "execution_count": 23,
   "id": "0a64c969",
   "metadata": {},
   "outputs": [],
   "source": [
    "std_dev = []\n",
    "with open(r\"C:\\Users\\mata2\\Desktop\\master\\Axis-projection-RNN\\odstupanja\\0k Y\\Y_std_dev.txt\", 'r') as lines:\n",
    "    for line in lines:\n",
    "        std_dev.append(float(line.strip('\\n')))"
   ]
  },
  {
   "cell_type": "code",
   "execution_count": 24,
   "id": "f9dc7509",
   "metadata": {},
   "outputs": [],
   "source": [
    "sr_vrednost = []\n",
    "with open(r\"C:\\Users\\mata2\\Desktop\\master\\Axis-projection-RNN\\odstupanja\\0k Y\\Y_sr_vrednost.txt\", 'r') as lines:\n",
    "    for line in lines:\n",
    "        sr_vrednost.append(float(line.strip('\\n')))"
   ]
  },
  {
   "cell_type": "markdown",
   "id": "8137f5cd",
   "metadata": {},
   "source": [
    "mean 3 sigma"
   ]
  },
  {
   "cell_type": "code",
   "execution_count": 30,
   "id": "bca1d441",
   "metadata": {},
   "outputs": [
    {
     "data": {
      "text/plain": [
       "0.9862682406951959"
      ]
     },
     "execution_count": 30,
     "metadata": {},
     "output_type": "execute_result"
    }
   ],
   "source": [
    "i = time_steps\n",
    "mean_3std = 0\n",
    "for j in range(len(test_predict_MSE)):\n",
    "    if i%command_length == 0:\n",
    "        i = time_steps\n",
    "    if sr_vrednost[i] - 3*std_dev[i] <= test_predict_MSE[j] <= sr_vrednost[i] + 3*std_dev[i]:\n",
    "            mean_3std += 1\n",
    "    i += 1\n",
    "mean_3std/len(test_predict_MSE)"
   ]
  },
  {
   "cell_type": "raw",
   "id": "8ad5c63e",
   "metadata": {},
   "source": [
    "0.9862682406951959"
   ]
  },
  {
   "cell_type": "markdown",
   "id": "d64fd3d3",
   "metadata": {},
   "source": [
    "pravljenje min/max koord, posle se koriste za plot"
   ]
  },
  {
   "cell_type": "code",
   "execution_count": 45,
   "id": "798a0090",
   "metadata": {},
   "outputs": [],
   "source": [
    "min_kord = [float('inf') for x in range(61000)]\n",
    "max_kord = [float('-inf') for x in range(61000)]\n",
    "\n",
    "for i in range(command_length):    \n",
    "    for j in range(len(train_files_names)):\n",
    "        exec(f'current_file = razlika_trening_{j}')\n",
    "        if current_file[i][0] < min_kord[i]:\n",
    "            min_kord[i] = current_file[i][0]\n",
    "        if current_file[i][0] > max_kord[i]:\n",
    "            max_kord[i] = current_file[i][0]"
   ]
  },
  {
   "cell_type": "raw",
   "id": "5db9a1c7",
   "metadata": {},
   "source": [
    "i = time_steps\n",
    "uspeli_minmax = 0\n",
    "for j in range(len(test_predict_MSE)):\n",
    "    if i%command_length == 0:\n",
    "        i = time_steps\n",
    "    if min_kord[i] <= (test_predict_MSE[j]) <= max_kord[i]:\n",
    "        uspeli_minmax += 1\n",
    "    i += 1\n",
    "uspeli_minmax/len(test_predict_MSE)"
   ]
  },
  {
   "cell_type": "raw",
   "id": "eb31e29a",
   "metadata": {},
   "source": [
    "0.8943406022845275"
   ]
  },
  {
   "cell_type": "raw",
   "id": "868ccb46",
   "metadata": {},
   "source": [
    "i = time_steps\n",
    "uspeli_minmax = 0\n",
    "for j in range(len(test_predict_MSE)):\n",
    "    if i%command_length == 0:\n",
    "        i = time_steps\n",
    "    if min_kord[i] <= np.round(test_predict_MSE[j],0) <= max_kord[i]:\n",
    "        uspeli_minmax += 1\n",
    "    i += 1\n",
    "uspeli_minmax/len(test_predict_MSE)"
   ]
  },
  {
   "cell_type": "raw",
   "id": "fb6cb309",
   "metadata": {},
   "source": [
    "0.9310706673225119"
   ]
  },
  {
   "cell_type": "markdown",
   "id": "4a14bf93",
   "metadata": {},
   "source": [
    "cuvamo/ucitavamo model"
   ]
  },
  {
   "cell_type": "raw",
   "id": "1fb301e0",
   "metadata": {},
   "source": [
    "modelMSE.save(r\"C:\\Users\\mata2\\Desktop\\master\\Axis-projection-RNN\\modeli\\Difference predictions\\Y - CNN - simple\")"
   ]
  },
  {
   "cell_type": "raw",
   "id": "d596554d",
   "metadata": {},
   "source": [
    "modelMSE = keras.saving.load_model(r\"C:\\Users\\mata2\\Desktop\\master\\Axis-projection-RNN\\modeli\\Difference predictions\\Y - CNN - simple\")"
   ]
  },
  {
   "cell_type": "markdown",
   "id": "8f0c1587",
   "metadata": {},
   "source": [
    "# NA TEST SKUPU - plotovi trajektorija"
   ]
  },
  {
   "cell_type": "markdown",
   "id": "96d0cb2c",
   "metadata": {},
   "source": [
    "test_ = realizovana trajektorija\n",
    "\n",
    "test_predict_MSE = predvidjena RAZLIKA koordinata od y_command\n",
    "\n",
    "razlika_test_{} = realizovana RAZLIKA od test podataka od y_command - CELA TRAJEKTORIJA\n",
    "\n",
    "test_y_{} = REALIZOVANA y koordinata od razlika_test_{}"
   ]
  },
  {
   "cell_type": "markdown",
   "id": "c638ea40",
   "metadata": {},
   "source": [
    "Y_COMMAND - TEST_ = ODSTUPANJE/RAZLIKA_TEST_\n",
    "\n",
    "Y_COMMAND[TIME_STEPS] + test_predict_MSE[0] = PRVU KOORDINATU TRAJEKTORIJE PREDVIDJENE VREDNOSTI"
   ]
  },
  {
   "cell_type": "code",
   "execution_count": 27,
   "id": "b5ecd7da",
   "metadata": {},
   "outputs": [],
   "source": [
    "for j in range(len(test_file_names)):\n",
    "    exec(f'predvidjena_trajektorija_{j} = []')\n",
    "    for i in range(61000 - time_steps):\n",
    "        exec(f'predvidjena_trajektorija_{j}.append(y_command[i + time_steps] + test_predict_MSE[j*(61000-time_steps) + i])')"
   ]
  },
  {
   "cell_type": "code",
   "execution_count": 37,
   "id": "822aebcc",
   "metadata": {},
   "outputs": [],
   "source": [
    "plt.figure(figsize=(12,7))\n",
    "plt.subplot(211)\n",
    "plt.axvline(x = 17676, color = 'b', label = 'axvline - full height')\n",
    "plt.plot(y_command[time_steps::],'r')\n",
    "plt.plot(predvidjena_trajektorija_0,'b')\n",
    "plt.plot(test_[time_steps:command_length], 'g')\n",
    "plt.show()\n",
    "\n",
    "plt.subplot(212)\n",
    "plt.axvline(x = 17676, color = 'b', label = 'axvline - full height')\n",
    "plt.plot(y_command[time_steps::],'r')\n",
    "plt.plot(predvidjena_trajektorija_0,'b')\n",
    "plt.plot(test_[time_steps:command_length], 'g')\n",
    "plt.show()"
   ]
  },
  {
   "cell_type": "markdown",
   "id": "98b19774",
   "metadata": {},
   "source": []
  },
  {
   "cell_type": "code",
   "execution_count": 38,
   "id": "0f608988",
   "metadata": {},
   "outputs": [],
   "source": [
    "plt.figure(figsize=(12,7))\n",
    "plt.subplot(211)\n",
    "plt.axvline(x = 24260, color = 'b', label = 'axvline - full height')\n",
    "plt.plot(y_command[time_steps::],'r')\n",
    "plt.plot(predvidjena_trajektorija_1,'b')\n",
    "plt.plot(test_[time_steps:command_length], 'g')\n",
    "plt.show()\n",
    "\n",
    "plt.subplot(212)\n",
    "plt.axvline(x = 24260, color = 'b', label = 'axvline - full height')\n",
    "plt.plot(y_command[time_steps::],'r')\n",
    "plt.plot(predvidjena_trajektorija_1,'b')\n",
    "plt.plot(test_[time_steps:command_length], 'g')\n",
    "plt.show()"
   ]
  },
  {
   "cell_type": "markdown",
   "id": "45e106a5",
   "metadata": {},
   "source": []
  },
  {
   "cell_type": "code",
   "execution_count": 39,
   "id": "6ed8b7e8",
   "metadata": {},
   "outputs": [],
   "source": [
    "plt.figure(figsize=(12,7))\n",
    "plt.subplot(211)\n",
    "plt.axvline(x = 27240, color = 'b', label = 'axvline - full height')\n",
    "plt.plot(y_command[time_steps::],'r')\n",
    "plt.plot(predvidjena_trajektorija_2,'b')\n",
    "plt.plot(test_[time_steps:command_length], 'g')\n",
    "plt.show()\n",
    "\n",
    "plt.subplot(212)\n",
    "plt.axvline(x = 27240, color = 'b', label = 'axvline - full height')\n",
    "plt.plot(y_command[time_steps::],'r')\n",
    "plt.plot(predvidjena_trajektorija_2,'b')\n",
    "plt.plot(test_[time_steps:command_length], 'g')\n",
    "plt.show()"
   ]
  },
  {
   "cell_type": "markdown",
   "id": "8851427f",
   "metadata": {},
   "source": []
  },
  {
   "cell_type": "code",
   "execution_count": 40,
   "id": "1225d478",
   "metadata": {},
   "outputs": [],
   "source": [
    "plt.figure(figsize=(12,7))\n",
    "plt.subplot(211)\n",
    "plt.axvline(x = 8620, color = 'b', label = 'axvline - full height')\n",
    "plt.plot(y_command[time_steps::],'r')\n",
    "plt.plot(predvidjena_trajektorija_3,'b')\n",
    "plt.plot(test_[time_steps:command_length], 'g')\n",
    "plt.show()\n",
    "\n",
    "plt.subplot(212)\n",
    "plt.axvline(x = 8620, color = 'b', label = 'axvline - full height')\n",
    "plt.plot(y_command[time_steps::],'r')\n",
    "plt.plot(predvidjena_trajektorija_3,'b')\n",
    "plt.plot(test_[time_steps:command_length], 'g')\n",
    "plt.show()"
   ]
  },
  {
   "cell_type": "markdown",
   "id": "7e19c77f",
   "metadata": {},
   "source": []
  },
  {
   "cell_type": "code",
   "execution_count": 43,
   "id": "87d732d2",
   "metadata": {},
   "outputs": [],
   "source": [
    "plt.figure(figsize=(12,7))\n",
    "plt.subplot(211)\n",
    "plt.axvline(x = 43400, color = 'b', label = 'axvline - full height')\n",
    "plt.plot(y_command[time_steps::],'r')\n",
    "plt.plot(predvidjena_trajektorija_4,'b')\n",
    "plt.plot(test_[time_steps:command_length], 'g')\n",
    "plt.show()\n",
    "\n",
    "plt.subplot(212)\n",
    "plt.axvline(x = 43400, color = 'b', label = 'axvline - full height')\n",
    "plt.plot(y_command[time_steps::],'r')\n",
    "plt.plot(predvidjena_trajektorija_4,'b')\n",
    "plt.plot(test_[time_steps:command_length], 'g')\n",
    "plt.show()"
   ]
  },
  {
   "cell_type": "markdown",
   "id": "85b5722e",
   "metadata": {},
   "source": []
  },
  {
   "cell_type": "code",
   "execution_count": 42,
   "id": "eaa3e45c",
   "metadata": {},
   "outputs": [],
   "source": [
    "plt.figure(figsize=(12,7))\n",
    "plt.subplot(211)\n",
    "plt.axvline(x = 55900, color = 'b', label = 'axvline - full height')\n",
    "plt.plot(y_command[time_steps::],'r')\n",
    "plt.plot(predvidjena_trajektorija_5,'b')\n",
    "plt.plot(test_[time_steps:command_length], 'g')\n",
    "plt.show()\n",
    "\n",
    "plt.subplot(212)\n",
    "plt.axvline(x = 55900, color = 'b', label = 'axvline - full height')\n",
    "plt.plot(y_command[time_steps::],'r')\n",
    "plt.plot(predvidjena_trajektorija_5,'b')\n",
    "plt.plot(test_[time_steps:command_length], 'g')\n",
    "plt.show()"
   ]
  },
  {
   "cell_type": "code",
   "execution_count": null,
   "id": "68cfab49",
   "metadata": {},
   "outputs": [],
   "source": []
  },
  {
   "cell_type": "markdown",
   "id": "6769fed2",
   "metadata": {},
   "source": [
    "# NA TEST SKUPU - min/max plotovi"
   ]
  },
  {
   "cell_type": "markdown",
   "id": "d7470507",
   "metadata": {},
   "source": [
    "MIN MAX TRAJEKTORIJE"
   ]
  },
  {
   "cell_type": "code",
   "execution_count": 46,
   "id": "fbd8aefc",
   "metadata": {
    "scrolled": true
   },
   "outputs": [],
   "source": [
    "min_trajektorija = []\n",
    "max_trajektorija = []\n",
    "for i in range(command_length):\n",
    "    min_trajektorija.append(y_command[i] + min_kord[i])\n",
    "    max_trajektorija.append(y_command[i] + max_kord[i])"
   ]
  },
  {
   "cell_type": "code",
   "execution_count": 53,
   "id": "a99d2c71",
   "metadata": {},
   "outputs": [],
   "source": [
    "i = time_steps\n",
    "plt.figure(figsize=(12,7))\n",
    "plt.subplot(211)\n",
    "for j in range(len(predvidjena_trajektorija_0)):\n",
    "    if i%61000 == 0:\n",
    "        i = time_steps    \n",
    "    if min_trajektorija[i] <= predvidjena_trajektorija_0[j] <= max_trajektorija[i]:\n",
    "        plt.plot(i, predvidjena_trajektorija_0[j], color='black', marker='o', markersize=4)\n",
    "    else:\n",
    "        plt.plot(i, predvidjena_trajektorija_0[j], color='red',marker='o',markersize=4)\n",
    "    i += 1\n",
    "plt.plot(y_command, linewidth = 1)\n",
    "plt.axvline(x = 12800, color = 'b', label = 'axvline - full height')\n",
    "\n",
    "i = time_steps\n",
    "plt.subplot(212)\n",
    "for j in range(len(predvidjena_trajektorija_0)):\n",
    "    if i%61000 == 0:\n",
    "        i = time_steps    \n",
    "    if min_trajektorija[i] <= predvidjena_trajektorija_0[j] <= max_trajektorija[i]:\n",
    "        plt.plot(i, predvidjena_trajektorija_0[j], color='black', marker='o', markersize=4)\n",
    "    else:\n",
    "        plt.plot(i, predvidjena_trajektorija_0[j], color='red',marker='o',markersize=4)\n",
    "    i += 1\n",
    "plt.plot(y_command, linewidth = 1)\n",
    "plt.axvline(x = 12800, color = 'b', label = 'axvline - full height')\n",
    "plt.show()"
   ]
  },
  {
   "cell_type": "raw",
   "id": "5ba32c48",
   "metadata": {},
   "source": []
  },
  {
   "cell_type": "code",
   "execution_count": 58,
   "id": "81d97099",
   "metadata": {},
   "outputs": [],
   "source": [
    "i = time_steps\n",
    "plt.figure(figsize=(12,7))\n",
    "plt.subplot(211)\n",
    "for j in range(len(predvidjena_trajektorija_1)):\n",
    "    if i%61000 == 0:\n",
    "        i = time_steps    \n",
    "    if min_trajektorija[i] <= predvidjena_trajektorija_1[j] <= max_trajektorija[i]:\n",
    "        plt.plot(i, predvidjena_trajektorija_1[j], color='black', marker='o', markersize=4)\n",
    "    else:\n",
    "        plt.plot(i, predvidjena_trajektorija_1[j], color='red',marker='o',markersize=4)\n",
    "    i += 1\n",
    "plt.plot(y_command, linewidth = 1)\n",
    "plt.axvline(x = 45800, color = 'b', label = 'axvline - full height')\n",
    "\n",
    "i = time_steps\n",
    "plt.subplot(212)\n",
    "for j in range(len(predvidjena_trajektorija_1)):\n",
    "    if i%61000 == 0:\n",
    "        i = time_steps    \n",
    "    if min_trajektorija[i] <= predvidjena_trajektorija_1[j] <= max_trajektorija[i]:\n",
    "        plt.plot(i, predvidjena_trajektorija_1[j], color='black', marker='o', markersize=4)\n",
    "    else:\n",
    "        plt.plot(i, predvidjena_trajektorija_1[j], color='red',marker='o',markersize=4)\n",
    "    i += 1\n",
    "plt.plot(y_command, linewidth = 1)\n",
    "plt.axvline(x = 45800, color = 'b', label = 'axvline - full height')\n",
    "plt.show()"
   ]
  },
  {
   "cell_type": "raw",
   "id": "6482b351",
   "metadata": {},
   "source": []
  },
  {
   "cell_type": "code",
   "execution_count": 60,
   "id": "b80a189a",
   "metadata": {},
   "outputs": [],
   "source": [
    "i = time_steps\n",
    "plt.figure(figsize=(12,7))\n",
    "plt.subplot(211)\n",
    "for j in range(len(predvidjena_trajektorija_2)):\n",
    "    if i%61000 == 0:\n",
    "        i = time_steps    \n",
    "    if min_trajektorija[i] <= predvidjena_trajektorija_2[j] <= max_trajektorija[i]:\n",
    "        plt.plot(i, predvidjena_trajektorija_2[j], color='black', marker='o', markersize=4)\n",
    "    else:\n",
    "        plt.plot(i, predvidjena_trajektorija_2[j], color='red',marker='o',markersize=4)\n",
    "    i += 1\n",
    "plt.plot(y_command, linewidth = 1)\n",
    "plt.axvline(x = 13000, color = 'b', label = 'axvline - full height')\n",
    "\n",
    "i = time_steps\n",
    "plt.subplot(212)\n",
    "for j in range(len(predvidjena_trajektorija_2)):\n",
    "    if i%61000 == 0:\n",
    "        i = time_steps    \n",
    "    if min_trajektorija[i] <= predvidjena_trajektorija_2[j] <= max_trajektorija[i]:\n",
    "        plt.plot(i, predvidjena_trajektorija_2[j], color='black', marker='o', markersize=4)\n",
    "    else:\n",
    "        plt.plot(i, predvidjena_trajektorija_2[j], color='red',marker='o',markersize=4)\n",
    "    i += 1\n",
    "plt.plot(y_command, linewidth = 1)\n",
    "plt.axvline(x = 13000, color = 'b', label = 'axvline - full height')\n",
    "plt.show()"
   ]
  },
  {
   "cell_type": "raw",
   "id": "139e18f5",
   "metadata": {},
   "source": []
  },
  {
   "cell_type": "code",
   "execution_count": 62,
   "id": "0cdbfd87",
   "metadata": {},
   "outputs": [],
   "source": [
    "i = time_steps\n",
    "plt.figure(figsize=(12,7))\n",
    "plt.subplot(211)\n",
    "for j in range(len(predvidjena_trajektorija_3)):\n",
    "    if i%61000 == 0:\n",
    "        i = time_steps    \n",
    "    if min_trajektorija[i] <= predvidjena_trajektorija_3[j] <= max_trajektorija[i]:\n",
    "        plt.plot(i, predvidjena_trajektorija_3[j], color='black', marker='o', markersize=4)\n",
    "    else:\n",
    "        plt.plot(i, predvidjena_trajektorija_3[j], color='red',marker='o',markersize=4)\n",
    "    i += 1\n",
    "plt.plot(y_command, linewidth = 1)\n",
    "plt.axvline(x = 26000, color = 'b', label = 'axvline - full height')\n",
    "\n",
    "i = time_steps\n",
    "plt.subplot(212)\n",
    "for j in range(len(predvidjena_trajektorija_3)):\n",
    "    if i%61000 == 0:\n",
    "        i = time_steps    \n",
    "    if min_trajektorija[i] <= predvidjena_trajektorija_3[j] <= max_trajektorija[i]:\n",
    "        plt.plot(i, predvidjena_trajektorija_3[j], color='black', marker='o', markersize=4)\n",
    "    else:\n",
    "        plt.plot(i, predvidjena_trajektorija_3[j], color='red',marker='o',markersize=4)\n",
    "    i += 1\n",
    "plt.plot(y_command, linewidth = 1)\n",
    "plt.axvline(x = 26000, color = 'b', label = 'axvline - full height')\n",
    "plt.show()"
   ]
  },
  {
   "cell_type": "raw",
   "id": "d5e6dc58",
   "metadata": {},
   "source": []
  },
  {
   "cell_type": "code",
   "execution_count": 64,
   "id": "cd5800d1",
   "metadata": {},
   "outputs": [],
   "source": [
    "i = time_steps\n",
    "plt.figure(figsize=(12,7))\n",
    "plt.subplot(211)\n",
    "for j in range(len(predvidjena_trajektorija_4)):\n",
    "    if i%61000 == 0:\n",
    "        i = time_steps    \n",
    "    if min_trajektorija[i] <= predvidjena_trajektorija_4[j] <= max_trajektorija[i]:\n",
    "        plt.plot(i, predvidjena_trajektorija_4[j], color='black', marker='o', markersize=4)\n",
    "    else:\n",
    "        plt.plot(i, predvidjena_trajektorija_4[j], color='red',marker='o',markersize=4)\n",
    "    i += 1\n",
    "plt.plot(y_command, linewidth = 1)\n",
    "plt.axvline(x = 6500, color = 'b', label = 'axvline - full height')\n",
    "\n",
    "i = time_steps\n",
    "plt.subplot(212)\n",
    "for j in range(len(predvidjena_trajektorija_4)):\n",
    "    if i%61000 == 0:\n",
    "        i = time_steps    \n",
    "    if min_trajektorija[i] <= predvidjena_trajektorija_4[j] <= max_trajektorija[i]:\n",
    "        plt.plot(i, predvidjena_trajektorija_4[j], color='black', marker='o', markersize=4)\n",
    "    else:\n",
    "        plt.plot(i, predvidjena_trajektorija_4[j], color='red',marker='o',markersize=4)\n",
    "    i += 1\n",
    "plt.plot(y_command, linewidth = 1)\n",
    "plt.axvline(x = 6500, color = 'b', label = 'axvline - full height')\n",
    "plt.show()"
   ]
  },
  {
   "cell_type": "raw",
   "id": "845c9c5e",
   "metadata": {},
   "source": []
  },
  {
   "cell_type": "code",
   "execution_count": 66,
   "id": "5942fe35",
   "metadata": {},
   "outputs": [],
   "source": [
    "i = time_steps\n",
    "plt.figure(figsize=(12,7))\n",
    "plt.subplot(211)\n",
    "for j in range(len(predvidjena_trajektorija_5)):\n",
    "    if i%61000 == 0:\n",
    "        i = time_steps    \n",
    "    if min_trajektorija[i] <= predvidjena_trajektorija_5[j] <= max_trajektorija[i]:\n",
    "        plt.plot(i, predvidjena_trajektorija_5[j], color='black', marker='o', markersize=4)\n",
    "    else:\n",
    "        plt.plot(i, predvidjena_trajektorija_5[j], color='red',marker='o',markersize=4)\n",
    "    i += 1\n",
    "plt.plot(y_command, linewidth = 1)\n",
    "plt.axvline(x = 39500, color = 'b', label = 'axvline - full height')\n",
    "\n",
    "i = time_steps\n",
    "plt.subplot(212)\n",
    "for j in range(len(predvidjena_trajektorija_5)):\n",
    "    if i%61000 == 0:\n",
    "        i = time_steps    \n",
    "    if min_trajektorija[i] <= predvidjena_trajektorija_5[j] <= max_trajektorija[i]:\n",
    "        plt.plot(i, predvidjena_trajektorija_5[j], color='black', marker='o', markersize=4)\n",
    "    else:\n",
    "        plt.plot(i, predvidjena_trajektorija_5[j], color='red',marker='o',markersize=4)\n",
    "    i += 1\n",
    "plt.plot(y_command, linewidth = 1)\n",
    "plt.axvline(x = 39500, color = 'b', label = 'axvline - full height')\n",
    "plt.show()"
   ]
  }
 ],
 "metadata": {
  "colab": {
   "provenance": []
  },
  "kernelspec": {
   "display_name": "Python 3 (ipykernel)",
   "language": "python",
   "name": "python3"
  },
  "language_info": {
   "codemirror_mode": {
    "name": "ipython",
    "version": 3
   },
   "file_extension": ".py",
   "mimetype": "text/x-python",
   "name": "python",
   "nbconvert_exporter": "python",
   "pygments_lexer": "ipython3",
   "version": "3.11.5"
  }
 },
 "nbformat": 4,
 "nbformat_minor": 5
}
